{
 "cells": [
  {
   "cell_type": "markdown",
   "id": "f35c9398-b584-4767-b262-08bc0bf6e2ee",
   "metadata": {},
   "source": [
    "    "
   ]
  },
  {
   "cell_type": "markdown",
   "id": "e262fc77-a267-43fa-bca8-5ff2be0036b5",
   "metadata": {},
   "source": [
    "## String Slicing & Operations on String\n",
    "---\n",
    "#### Length of a String\n",
    "We can find the length of a string using len() function."
   ]
  },
  {
   "cell_type": "code",
   "execution_count": 3,
   "id": "39ddc4a7-7955-407b-947a-76a620d714f2",
   "metadata": {},
   "outputs": [
    {
     "name": "stdout",
     "output_type": "stream",
     "text": [
      "Pineapple is a 9 letter word.\n"
     ]
    }
   ],
   "source": [
    "fruit='Pineapple'\n",
    "len1=len(fruit)\n",
    "print(\"Pineapple is a\",len1,\"letter word.\")\n"
   ]
  },
  {
   "cell_type": "markdown",
   "id": "4bfac396-3521-42f8-ba99-f38713fb6b7d",
   "metadata": {},
   "source": [
    "#### String as an array\r\n",
    "A string is essentially a sequence of characters also called an array. Thus we can access the elements of this array."
   ]
  },
  {
   "cell_type": "markdown",
   "id": "a72d6277-e4a8-4bad-a7e4-7ab2b7ea7906",
   "metadata": {},
   "source": [
    "#### syntax\n",
    "```python\n",
    "substring = string[start:end:step]\n",
    "\n",
    "start: The starting index of the slice (inclusive). Defaults to 0.\n",
    "end: The ending index of the slice (exclusive). Defaults to the length of the string.\n",
    "step: The step size for slicing. Defaults to 1."
   ]
  },
  {
   "cell_type": "code",
   "execution_count": 6,
   "id": "cd3012d9-f491-41cd-a478-b91caa25f842",
   "metadata": {},
   "outputs": [
    {
     "name": "stdout",
     "output_type": "stream",
     "text": [
      "Apple\n",
      "i\n"
     ]
    }
   ],
   "source": [
    "pie = \"ApplePie\"\n",
    "print(pie[:5])  #returns all character till the specified index\n",
    "print(pie[6])\t#returns character at specified index"
   ]
  },
  {
   "cell_type": "markdown",
   "id": "0a535e69-fa30-4423-ba9e-596de21a92c6",
   "metadata": {},
   "source": [
    "**Note:** This method of specifying the start and end index to specify a part of a string is called slicing."
   ]
  },
  {
   "cell_type": "markdown",
   "id": "0a44157e-e969-44a3-b39f-e9185db19ab2",
   "metadata": {},
   "source": [
    "##### Slicing Example :"
   ]
  },
  {
   "cell_type": "code",
   "execution_count": 9,
   "id": "f8651b28-537d-4a9a-b143-f818617ba10d",
   "metadata": {},
   "outputs": [
    {
     "name": "stdout",
     "output_type": "stream",
     "text": [
      "Apple\n",
      "Pie\n",
      "pleP\n",
      "ApplePie\n"
     ]
    }
   ],
   "source": [
    "pie = \"ApplePie\"\n",
    "print(pie[:5])      #Slicing from Start excluding 5th index\n",
    "print(pie[5:])      #Slicing till End including 5th index\n",
    "print(pie[2:6])     #Slicing in between includin 2nd index and excluding 6th index\n",
    "print(pie[-8:])     #Slicing using negative index"
   ]
  },
  {
   "cell_type": "markdown",
   "id": "e46c30f5-161a-4a17-ab54-bf6a5918bd42",
   "metadata": {},
   "source": [
    "#### Loop through a String:\r\n",
    "Strings are arrays and arrays are iterable. Thus we can loop through strings."
   ]
  },
  {
   "cell_type": "code",
   "execution_count": 11,
   "id": "664fff16-803c-4faa-8290-1953293f311d",
   "metadata": {},
   "outputs": [
    {
     "name": "stdout",
     "output_type": "stream",
     "text": [
      "A\n",
      "B\n",
      "C\n",
      "D\n",
      "E\n"
     ]
    }
   ],
   "source": [
    "alphabets = \"ABCDE\"\n",
    "for i in alphabets:\n",
    "    print(i)"
   ]
  },
  {
   "cell_type": "code",
   "execution_count": 12,
   "id": "bce35e93-8810-4524-a7d2-9990fe0a00bb",
   "metadata": {},
   "outputs": [
    {
     "name": "stdout",
     "output_type": "stream",
     "text": [
      "ng\n"
     ]
    }
   ],
   "source": [
    "fru='Mango'\n",
    "print(fru[-3:len(fru)-1])"
   ]
  },
  {
   "cell_type": "code",
   "execution_count": 13,
   "id": "8f8b5f32-416f-4232-9765-0b9039b589f9",
   "metadata": {},
   "outputs": [
    {
     "name": "stdout",
     "output_type": "stream",
     "text": [
      "Ma\n"
     ]
    }
   ],
   "source": [
    "print(fru[-5:2])      # COmbining negative and positive slicing"
   ]
  },
  {
   "cell_type": "markdown",
   "id": "e0e91038-49ab-4ec3-88c3-1803552d78f7",
   "metadata": {},
   "source": [
    "    "
   ]
  }
 ],
 "metadata": {
  "kernelspec": {
   "display_name": "Python 3 (ipykernel)",
   "language": "python",
   "name": "python3"
  },
  "language_info": {
   "codemirror_mode": {
    "name": "ipython",
    "version": 3
   },
   "file_extension": ".py",
   "mimetype": "text/x-python",
   "name": "python",
   "nbconvert_exporter": "python",
   "pygments_lexer": "ipython3",
   "version": "3.12.4"
  }
 },
 "nbformat": 4,
 "nbformat_minor": 5
}
