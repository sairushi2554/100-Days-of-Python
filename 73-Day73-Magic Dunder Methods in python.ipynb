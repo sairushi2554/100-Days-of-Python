{
 "cells": [
  {
   "cell_type": "markdown",
   "id": "43c220aa",
   "metadata": {},
   "source": [
    "# Magic (Dunder) Methods in Python\n",
    "\n",
    "Magic methods (also called dunder methods, short for \"double underscore\") are special methods that you can define to add \"magic\" to your classes. They enable operator overloading and customization of class behavior. They are always surrounded by double underscores (e.g., `__init__`, `__str__`).\n"
   ]
  },
  {
   "cell_type": "code",
   "execution_count": 2,
   "id": "e996c4cf",
   "metadata": {},
   "outputs": [
    {
     "name": "stdout",
     "output_type": "stream",
     "text": [
      "Alice 30\n"
     ]
    }
   ],
   "source": [
    "# __init__: Constructor method\n",
    "class Person:\n",
    "    def __init__(self, name, age):\n",
    "        self.name = name\n",
    "        self.age = age\n",
    "\n",
    "p = Person(\"Alice\", 30)\n",
    "print(p.name, p.age)  # Output: Alice 30\n"
   ]
  },
  {
   "cell_type": "code",
   "execution_count": 3,
   "id": "a829e802",
   "metadata": {},
   "outputs": [
    {
     "name": "stdout",
     "output_type": "stream",
     "text": [
      "Person(name=Bob)\n",
      "Person('Bob')\n"
     ]
    }
   ],
   "source": [
    "# __str__ and __repr__: String representations\n",
    "class Person:\n",
    "    def __init__(self, name):\n",
    "        self.name = name\n",
    "\n",
    "    def __str__(self):\n",
    "        return f\"Person(name={self.name})\"\n",
    "\n",
    "    def __repr__(self):\n",
    "        return f\"Person('{self.name}')\"\n",
    "\n",
    "p = Person(\"Bob\")\n",
    "print(str(p))     # Person(name=Bob)\n",
    "print(repr(p))    # Person('Bob')\n"
   ]
  },
  {
   "cell_type": "code",
   "execution_count": 4,
   "id": "9d073cbc",
   "metadata": {},
   "outputs": [
    {
     "name": "stdout",
     "output_type": "stream",
     "text": [
      "350\n"
     ]
    }
   ],
   "source": [
    "# __len__: Length of an object\n",
    "class Book:\n",
    "    def __init__(self, pages):\n",
    "        self.pages = pages\n",
    "\n",
    "    def __len__(self):\n",
    "        return self.pages\n",
    "\n",
    "b = Book(350)\n",
    "print(len(b))  # Output: 350\n"
   ]
  },
  {
   "cell_type": "code",
   "execution_count": 5,
   "id": "7afd0c56",
   "metadata": {},
   "outputs": [
    {
     "name": "stdout",
     "output_type": "stream",
     "text": [
      "Vector(4, 6)\n"
     ]
    }
   ],
   "source": [
    "# __add__: Operator overloading for +\n",
    "class Vector:\n",
    "    def __init__(self, x, y):\n",
    "        self.x = x\n",
    "        self.y = y\n",
    "\n",
    "    def __add__(self, other):\n",
    "        return Vector(self.x + other.x, self.y + other.y)\n",
    "\n",
    "    def __repr__(self):\n",
    "        return f\"Vector({self.x}, {self.y})\"\n",
    "\n",
    "v1 = Vector(1, 2)\n",
    "v2 = Vector(3, 4)\n",
    "print(v1 + v2)  # Vector(4, 6)\n"
   ]
  },
  {
   "cell_type": "code",
   "execution_count": 6,
   "id": "7574862b",
   "metadata": {},
   "outputs": [
    {
     "name": "stdout",
     "output_type": "stream",
     "text": [
      "False\n",
      "True\n",
      "False\n"
     ]
    }
   ],
   "source": [
    "# __eq__, __lt__, __gt__ for comparisons\n",
    "class Box:\n",
    "    def __init__(self, volume):\n",
    "        self.volume = volume\n",
    "\n",
    "    def __eq__(self, other):\n",
    "        return self.volume == other.volume\n",
    "\n",
    "    def __lt__(self, other):\n",
    "        return self.volume < other.volume\n",
    "\n",
    "    def __gt__(self, other):\n",
    "        return self.volume > other.volume\n",
    "\n",
    "b1 = Box(100)\n",
    "b2 = Box(150)\n",
    "print(b1 == b2)  # False\n",
    "print(b1 < b2)   # True\n",
    "print(b1 > b2)   # False\n"
   ]
  },
  {
   "cell_type": "code",
   "execution_count": 7,
   "id": "e10485c6",
   "metadata": {},
   "outputs": [
    {
     "name": "stdout",
     "output_type": "stream",
     "text": [
      "100\n",
      "100\n",
      "Not Found\n"
     ]
    }
   ],
   "source": [
    "# __call__, __getitem__, __setitem__\n",
    "class CallableDict:\n",
    "    def __init__(self):\n",
    "        self.data = {}\n",
    "\n",
    "    def __call__(self, key):\n",
    "        return self.data.get(key, \"Not Found\")\n",
    "\n",
    "    def __getitem__(self, key):\n",
    "        return self.data[key]\n",
    "\n",
    "    def __setitem__(self, key, value):\n",
    "        self.data[key] = value\n",
    "\n",
    "cd = CallableDict()\n",
    "cd[\"a\"] = 100\n",
    "print(cd[\"a\"])    # 100\n",
    "print(cd(\"a\"))    # 100\n",
    "print(cd(\"b\"))    # Not Found\n"
   ]
  },
  {
   "cell_type": "code",
   "execution_count": 8,
   "id": "7b54cb0a",
   "metadata": {},
   "outputs": [
    {
     "name": "stdout",
     "output_type": "stream",
     "text": [
      "Entering the context\n",
      "Inside context\n",
      "Exiting the context\n"
     ]
    }
   ],
   "source": [
    "# __enter__ and __exit__: Context Managers\n",
    "class MyContext:\n",
    "    def __enter__(self):\n",
    "        print(\"Entering the context\")\n",
    "        return self\n",
    "\n",
    "    def __exit__(self, exc_type, exc_val, exc_tb):\n",
    "        print(\"Exiting the context\")\n",
    "\n",
    "with MyContext():\n",
    "    print(\"Inside context\")\n"
   ]
  },
  {
   "cell_type": "markdown",
   "id": "cbd960de",
   "metadata": {},
   "source": [
    "## Summary\n",
    "\n",
    "Magic methods allow classes in Python to implement and customize built-in behavior such as arithmetic operations, comparisons, string representations, and more.\n",
    "\n",
    "- Basic: `__init__`, `__str__`, `__repr__`\n",
    "- Intermediate: `__len__`, `__add__`, comparison methods\n",
    "- Advanced: `__call__`, `__getitem__`, `__setitem__`, context managers (`__enter__`, `__exit__`)\n",
    "\n",
    "Explore and use them to make your classes more Pythonic!\n"
   ]
  }
 ],
 "metadata": {
  "kernelspec": {
   "display_name": "Python 3 (ipykernel)",
   "language": "python",
   "name": "python3"
  },
  "language_info": {
   "codemirror_mode": {
    "name": "ipython",
    "version": 3
   },
   "file_extension": ".py",
   "mimetype": "text/x-python",
   "name": "python",
   "nbconvert_exporter": "python",
   "pygments_lexer": "ipython3",
   "version": "3.12.4"
  }
 },
 "nbformat": 4,
 "nbformat_minor": 5
}
