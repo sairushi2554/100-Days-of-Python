{
 "cells": [
  {
   "cell_type": "markdown",
   "id": "191ca9b1-fd24-4d57-b991-5059b6c2a87e",
   "metadata": {},
   "source": [
    "# **Python `while` Loops**\n",
    "\n",
    "## **Introduction**\n",
    "A `while` loop in Python repeatedly executes a block of code as long as a given condition is `True`.\n",
    "\n",
    "### **Syntax**\n",
    "```python\n",
    "while condition:\n",
    "    # Code block to execute\n",
    "```\n",
    "\n",
    "- **Key Points**\n",
    "    - The condition is checked before entering the loop. If the condition is False, the loop is not executed.\n",
    "    - The loop body should include logic to eventually make the condition False; otherwise, it leads to an infinite loop."
   ]
  },
  {
   "cell_type": "code",
   "execution_count": 2,
   "id": "245ef721-8555-495b-8aa0-c971dbb489a7",
   "metadata": {},
   "outputs": [
    {
     "name": "stdout",
     "output_type": "stream",
     "text": [
      "Count: 0\n",
      "Count: 1\n",
      "Count: 2\n",
      "Count: 3\n",
      "Count: 4\n"
     ]
    }
   ],
   "source": [
    "count = 0\n",
    "while count < 5:\n",
    "    print(\"Count:\", count)\n",
    "    count += 1"
   ]
  },
  {
   "cell_type": "markdown",
   "id": "0cafd5b1-c0b5-4315-b5b2-09906be9723c",
   "metadata": {},
   "source": [
    "### Infinite Loop\n",
    "If the condition never becomes `False`, the loop will run indefinitely."
   ]
  },
  {
   "cell_type": "code",
   "execution_count": 4,
   "id": "5c6cdbf3-9e86-4334-904c-3a275211c56d",
   "metadata": {},
   "outputs": [
    {
     "name": "stdout",
     "output_type": "stream",
     "text": [
      "This is an infinite loop!\n"
     ]
    }
   ],
   "source": [
    "while True:\n",
    "    print(\"This is an infinite loop!\")\n",
    "    break  # Avoid infinite loop using `break`"
   ]
  },
  {
   "cell_type": "markdown",
   "id": "bb609a6b-621b-4957-91b0-2f93e864954c",
   "metadata": {},
   "source": [
    "### Using `else` with `while`\n",
    "The `else` block is executed after the `while` loop ends, only if the loop is not terminated by a `break` statement."
   ]
  },
  {
   "cell_type": "code",
   "execution_count": 6,
   "id": "75d34af6-e247-4f99-b183-04ff8bda52e1",
   "metadata": {},
   "outputs": [
    {
     "name": "stdout",
     "output_type": "stream",
     "text": [
      "Count: 2\n",
      "Loop completed\n"
     ]
    }
   ],
   "source": [
    "count = 2\n",
    "while count < 3:\n",
    "    print(\"Count:\", count)\n",
    "    count += 1\n",
    "else:\n",
    "    print(\"Loop completed\")"
   ]
  },
  {
   "cell_type": "markdown",
   "id": "3c8249ff-fa78-4825-9342-a9cf157529d2",
   "metadata": {},
   "source": [
    "### Control Statements in `while` Loops\n",
    "**`break` Statement**\n",
    "\n",
    "The `break` statement exits the loop immediately."
   ]
  },
  {
   "cell_type": "code",
   "execution_count": 8,
   "id": "01c01bee-4bb4-43f8-8a7d-4cad807d1fff",
   "metadata": {},
   "outputs": [
    {
     "name": "stdout",
     "output_type": "stream",
     "text": [
      "0\n",
      "1\n",
      "2\n",
      "3\n",
      "4\n"
     ]
    }
   ],
   "source": [
    "count = 0\n",
    "while count < 10:\n",
    "    if count == 5:\n",
    "        break\n",
    "    print(count)\n",
    "    count += 1"
   ]
  },
  {
   "cell_type": "markdown",
   "id": "9c350ab3-c704-44c2-86ed-2c9dafa0022e",
   "metadata": {},
   "source": [
    "### `continue` Statement\n",
    "The `continue` statement skips the rest of the loop body for the current iteration and moves to the next iteration."
   ]
  },
  {
   "cell_type": "code",
   "execution_count": 10,
   "id": "8fd505ea-7101-4069-a43c-4b3aca551952",
   "metadata": {},
   "outputs": [
    {
     "name": "stdout",
     "output_type": "stream",
     "text": [
      "1\n",
      "2\n",
      "4\n",
      "5\n"
     ]
    }
   ],
   "source": [
    "count = 0\n",
    "while count < 5:\n",
    "    count += 1\n",
    "    if count == 3:\n",
    "        continue\n",
    "    print(count)"
   ]
  },
  {
   "cell_type": "markdown",
   "id": "4c2cb01b-dd91-4081-989e-280962352a44",
   "metadata": {},
   "source": [
    "### `pass` Statement\n",
    "The `pass` statement does nothing; it's used as a placeholder."
   ]
  },
  {
   "cell_type": "code",
   "execution_count": 12,
   "id": "bb9e8ba5-68d2-4cce-b2a8-0a6a0215c29b",
   "metadata": {},
   "outputs": [],
   "source": [
    "count = 0\n",
    "while count < 3:\n",
    "    pass  # Placeholder for future code\n",
    "    count += 1"
   ]
  },
  {
   "cell_type": "markdown",
   "id": "b5969dbd-66e1-4a87-8ae0-48f23b532466",
   "metadata": {},
   "source": [
    "### User Input Validation"
   ]
  },
  {
   "cell_type": "code",
   "execution_count": 14,
   "id": "4d6bc2a0-edc1-40f8-92c8-909884def82d",
   "metadata": {},
   "outputs": [
    {
     "name": "stdin",
     "output_type": "stream",
     "text": [
      "Enter a number greater than 0:  21\n"
     ]
    },
    {
     "name": "stdout",
     "output_type": "stream",
     "text": [
      "Thank you!\n"
     ]
    }
   ],
   "source": [
    "while True:\n",
    "    user_input = input(\"Enter a number greater than 0: \")\n",
    "    if user_input.isdigit() and int(user_input) > 0:\n",
    "        print(\"Thank you!\")\n",
    "        break\n",
    "    else:\n",
    "        print(\"Invalid input. Try again.\")"
   ]
  },
  {
   "cell_type": "markdown",
   "id": "8cf2d448-5e16-421b-94c7-187f3bfffc46",
   "metadata": {},
   "source": [
    "### Waiting for a Condition"
   ]
  },
  {
   "cell_type": "code",
   "execution_count": 16,
   "id": "871788df-0b97-4f55-864e-33480fd8cb8c",
   "metadata": {},
   "outputs": [
    {
     "name": "stdout",
     "output_type": "stream",
     "text": [
      "Countdown: 5\n",
      "Countdown: 4\n",
      "Countdown: 3\n",
      "Countdown: 2\n",
      "Countdown: 1\n",
      "Time's up!\n"
     ]
    }
   ],
   "source": [
    "import time\n",
    "\n",
    "counter = 5\n",
    "while counter > 0:\n",
    "    print(f\"Countdown: {counter}\")\n",
    "    counter -= 1\n",
    "    time.sleep(1)  # Wait 1 second\n",
    "print(\"Time's up!\")"
   ]
  },
  {
   "cell_type": "markdown",
   "id": "4512d329-79a8-48c6-9a85-d884c733a37c",
   "metadata": {},
   "source": [
    "- Use `while` loops for scenarios where the number of iterations is not predetermined.\n",
    "- Be cautious of `infinite` loops and ensure proper loop termination conditions."
   ]
  }
 ],
 "metadata": {
  "kernelspec": {
   "display_name": "Python 3 (ipykernel)",
   "language": "python",
   "name": "python3"
  },
  "language_info": {
   "codemirror_mode": {
    "name": "ipython",
    "version": 3
   },
   "file_extension": ".py",
   "mimetype": "text/x-python",
   "name": "python",
   "nbconvert_exporter": "python",
   "pygments_lexer": "ipython3",
   "version": "3.12.4"
  }
 },
 "nbformat": 4,
 "nbformat_minor": 5
}
