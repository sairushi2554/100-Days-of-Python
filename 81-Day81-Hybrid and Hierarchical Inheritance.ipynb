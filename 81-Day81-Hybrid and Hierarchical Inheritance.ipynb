{
 "cells": [
  {
   "cell_type": "markdown",
   "id": "86e51519",
   "metadata": {},
   "source": [
    "# Day 81 - Hybrid and Hierarchical Inheritance in Python\n",
    "\n",
    "In object-oriented programming, **Hybrid Inheritance** and **Hierarchical Inheritance** are two advanced forms of inheritance that combine or extend basic inheritance types.\n",
    "\n",
    "## 1. Hierarchical Inheritance\n",
    "When multiple classes inherit from a single parent class, it is known as hierarchical inheritance.\n"
   ]
  },
  {
   "cell_type": "markdown",
   "id": "29631e9f",
   "metadata": {},
   "source": [
    "### Syntax of Hierarchical Inheritance\n",
    "\n",
    "```python\n",
    "class Parent:\n",
    "    # code for parent class\n",
    "\n",
    "class Child1(Parent):\n",
    "    # inherits from Parent\n",
    "\n",
    "class Child2(Parent):\n",
    "    # inherits from Parent\n",
    "```\n"
   ]
  },
  {
   "cell_type": "code",
   "execution_count": null,
   "id": "282ac482",
   "metadata": {},
   "outputs": [],
   "source": [
    "# Example: Hierarchical Inheritance\n",
    "\n",
    "class Parent:\n",
    "    def show(self):\n",
    "        print(\"This is the Parent class\")\n",
    "\n",
    "class Child1(Parent):\n",
    "    def feature1(self):\n",
    "        print(\"Feature of Child1\")\n",
    "\n",
    "class Child2(Parent):\n",
    "    def feature2(self):\n",
    "        print(\"Feature of Child2\")\n",
    "\n",
    "c1 = Child1()\n",
    "c2 = Child2()\n",
    "c1.show()\n",
    "c1.feature1()\n",
    "c2.show()\n",
    "c2.feature2()\n"
   ]
  },
  {
   "cell_type": "markdown",
   "id": "121a7af1",
   "metadata": {},
   "source": [
    "## 2. Hybrid Inheritance\n",
    "\n",
    "Hybrid inheritance is a combination of more than one type of inheritance. It is used to simulate real-world scenarios that can't be represented using a single form of inheritance.\n"
   ]
  },
  {
   "cell_type": "markdown",
   "id": "b2f8281a",
   "metadata": {},
   "source": [
    "### Example Structure of Hybrid Inheritance\n",
    "\n",
    "```python\n",
    "class A:\n",
    "    pass\n",
    "\n",
    "class B(A):\n",
    "    pass\n",
    "\n",
    "class C:\n",
    "    pass\n",
    "\n",
    "class D(B, C):\n",
    "    pass\n",
    "```\n"
   ]
  },
  {
   "cell_type": "code",
   "execution_count": null,
   "id": "7b22cf5e",
   "metadata": {},
   "outputs": [],
   "source": [
    "# Example: Hybrid Inheritance\n",
    "\n",
    "class A:\n",
    "    def methodA(self):\n",
    "        print(\"Method of Class A\")\n",
    "\n",
    "class B(A):\n",
    "    def methodB(self):\n",
    "        print(\"Method of Class B\")\n",
    "\n",
    "class C:\n",
    "    def methodC(self):\n",
    "        print(\"Method of Class C\")\n",
    "\n",
    "class D(B, C):\n",
    "    def methodD(self):\n",
    "        print(\"Method of Class D\")\n",
    "\n",
    "d = D()\n",
    "d.methodA()  # from A through B\n",
    "d.methodB()  # from B\n",
    "d.methodC()  # from C\n",
    "d.methodD()  # from D\n"
   ]
  },
  {
   "cell_type": "markdown",
   "id": "90812347",
   "metadata": {},
   "source": [
    "## Summary\n",
    "\n",
    "- **Hierarchical Inheritance**: Multiple child classes inherit from one parent.\n",
    "- **Hybrid Inheritance**: A combination of more than one type of inheritance.\n",
    "- Python uses **Method Resolution Order (MRO)** to determine which method to call in case of multiple inheritance.\n"
   ]
  }
 ],
 "metadata": {},
 "nbformat": 4,
 "nbformat_minor": 5
}
