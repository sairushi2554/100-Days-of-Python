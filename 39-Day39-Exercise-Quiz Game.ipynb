{
 "cells": [
  {
   "cell_type": "markdown",
   "id": "177dd06b-8e33-46d0-af59-c551cca83ac2",
   "metadata": {},
   "source": [
    "## Quiz"
   ]
  },
  {
   "cell_type": "code",
   "execution_count": 2,
   "id": "ba842c0a-45c2-43bb-b9be-6bba03751c4d",
   "metadata": {},
   "outputs": [],
   "source": [
    "questions = [\n",
    "  [\n",
    "    \"Which language was used to create Facebook?\", \"Python\", \"French\", \"JavaScript\",\n",
    "    \"Php\", 4\n",
    "  ],\n",
    "  [\n",
    "    \"What is the capital of France?\", \"Berlin\", \"Madrid\", \"Paris\",\n",
    "    \"Lisbon\", 3\n",
    "  ],\n",
    "  [\n",
    "    \"Who wrote 'Harry Potter'?\", \"J.R.R. Tolkien\", \"J.K. Rowling\", \"Stephen King\",\n",
    "    \"George R.R. Martin\", 2\n",
    "  ],\n",
    "  [\n",
    "    \"What is the chemical symbol for water?\", \"O2\", \"H2O\", \"CO2\",\n",
    "    \"NaCl\", 2\n",
    "  ],\n",
    "  [\n",
    "    \"Which planet is known as the Red Planet?\", \"Earth\", \"Venus\", \"Jupiter\",\n",
    "    \"Mars\", 4\n",
    "  ],\n",
    "  [\n",
    "    \"What year did World War II end?\", \"1945\", \"1939\", \"1918\",\n",
    "    \"1965\", 1\n",
    "  ],\n",
    "  [\n",
    "    \"Which is the largest mammal?\", \"Elephant\", \"Giraffe\", \"Blue Whale\",\n",
    "    \"Great White Shark\", 3\n",
    "  ],\n",
    "  [\n",
    "    \"Who painted the Mona Lisa?\", \"Vincent Van Gogh\", \"Leonardo da Vinci\", \"Picasso\",\n",
    "    \"Michelangelo\", 2\n",
    "  ],\n",
    "  [\n",
    "    \"What is the boiling point of water at sea level?\", \"90°C\", \"95°C\", \"100°C\",\n",
    "    \"110°C\", 3\n",
    "  ],\n",
    "  [\n",
    "    \"Which continent is known as the Dark Continent?\", \"Asia\", \"Africa\", \"Europe\",\n",
    "    \"Australia\", 2\n",
    "  ]\n",
    "]\n"
   ]
  },
  {
   "cell_type": "code",
   "execution_count": 3,
   "id": "11deb758-70c5-4d78-be31-8ff6014acf29",
   "metadata": {},
   "outputs": [],
   "source": [
    "levels = [1000, 2000, 3000, 5000, 10000, 20000, 40000, 80000, 160000, 320000]\n",
    "money = 0"
   ]
  },
  {
   "cell_type": "code",
   "execution_count": 4,
   "id": "085cc86b-8079-4b1f-8f33-c08c4dfece73",
   "metadata": {},
   "outputs": [
    {
     "name": "stdout",
     "output_type": "stream",
     "text": [
      "\n",
      "\n",
      "Question for Rs. 1000\n",
      "Which language was used to create Facebook?\n",
      "a. Python          b. French\n",
      "c. JavaScript          d. Php\n"
     ]
    },
    {
     "name": "stdin",
     "output_type": "stream",
     "text": [
      "Enter your answer (1-4) or 0 to quit:\n",
      " 4\n"
     ]
    },
    {
     "name": "stdout",
     "output_type": "stream",
     "text": [
      "Correct answer! You have won Rs. 1000\n",
      "\n",
      "\n",
      "Question for Rs. 2000\n",
      "What is the capital of France?\n",
      "a. Berlin          b. Madrid\n",
      "c. Paris          d. Lisbon\n"
     ]
    },
    {
     "name": "stdin",
     "output_type": "stream",
     "text": [
      "Enter your answer (1-4) or 0 to quit:\n",
      " 3\n"
     ]
    },
    {
     "name": "stdout",
     "output_type": "stream",
     "text": [
      "Correct answer! You have won Rs. 2000\n",
      "\n",
      "\n",
      "Question for Rs. 3000\n",
      "Who wrote 'Harry Potter'?\n",
      "a. J.R.R. Tolkien          b. J.K. Rowling\n",
      "c. Stephen King          d. George R.R. Martin\n"
     ]
    },
    {
     "name": "stdin",
     "output_type": "stream",
     "text": [
      "Enter your answer (1-4) or 0 to quit:\n",
      " 2\n"
     ]
    },
    {
     "name": "stdout",
     "output_type": "stream",
     "text": [
      "Correct answer! You have won Rs. 3000\n",
      "\n",
      "\n",
      "Question for Rs. 5000\n",
      "What is the chemical symbol for water?\n",
      "a. O2          b. H2O\n",
      "c. CO2          d. NaCl\n"
     ]
    },
    {
     "name": "stdin",
     "output_type": "stream",
     "text": [
      "Enter your answer (1-4) or 0 to quit:\n",
      " 2\n"
     ]
    },
    {
     "name": "stdout",
     "output_type": "stream",
     "text": [
      "Correct answer! You have won Rs. 5000\n",
      "\n",
      "\n",
      "Question for Rs. 10000\n",
      "Which planet is known as the Red Planet?\n",
      "a. Earth          b. Venus\n",
      "c. Jupiter          d. Mars\n"
     ]
    },
    {
     "name": "stdin",
     "output_type": "stream",
     "text": [
      "Enter your answer (1-4) or 0 to quit:\n",
      " 4\n"
     ]
    },
    {
     "name": "stdout",
     "output_type": "stream",
     "text": [
      "Correct answer! You have won Rs. 10000\n",
      "\n",
      "\n",
      "Question for Rs. 20000\n",
      "What year did World War II end?\n",
      "a. 1945          b. 1939\n",
      "c. 1918          d. 1965\n"
     ]
    },
    {
     "name": "stdin",
     "output_type": "stream",
     "text": [
      "Enter your answer (1-4) or 0 to quit:\n",
      " 1\n"
     ]
    },
    {
     "name": "stdout",
     "output_type": "stream",
     "text": [
      "Correct answer! You have won Rs. 20000\n",
      "\n",
      "\n",
      "Question for Rs. 40000\n",
      "Which is the largest mammal?\n",
      "a. Elephant          b. Giraffe\n",
      "c. Blue Whale          d. Great White Shark\n"
     ]
    },
    {
     "name": "stdin",
     "output_type": "stream",
     "text": [
      "Enter your answer (1-4) or 0 to quit:\n",
      " 3\n"
     ]
    },
    {
     "name": "stdout",
     "output_type": "stream",
     "text": [
      "Correct answer! You have won Rs. 40000\n",
      "\n",
      "\n",
      "Question for Rs. 80000\n",
      "Who painted the Mona Lisa?\n",
      "a. Vincent Van Gogh          b. Leonardo da Vinci\n",
      "c. Picasso          d. Michelangelo\n"
     ]
    },
    {
     "name": "stdin",
     "output_type": "stream",
     "text": [
      "Enter your answer (1-4) or 0 to quit:\n",
      " 2\n"
     ]
    },
    {
     "name": "stdout",
     "output_type": "stream",
     "text": [
      "Correct answer! You have won Rs. 80000\n",
      "\n",
      "\n",
      "Question for Rs. 160000\n",
      "What is the boiling point of water at sea level?\n",
      "a. 90°C          b. 95°C\n",
      "c. 100°C          d. 110°C\n"
     ]
    },
    {
     "name": "stdin",
     "output_type": "stream",
     "text": [
      "Enter your answer (1-4) or 0 to quit:\n",
      " 3\n"
     ]
    },
    {
     "name": "stdout",
     "output_type": "stream",
     "text": [
      "Correct answer! You have won Rs. 160000\n",
      "\n",
      "\n",
      "Question for Rs. 320000\n",
      "Which continent is known as the Dark Continent?\n",
      "a. Asia          b. Africa\n",
      "c. Europe          d. Australia\n"
     ]
    },
    {
     "name": "stdin",
     "output_type": "stream",
     "text": [
      "Enter your answer (1-4) or 0 to quit:\n",
      " 2\n"
     ]
    },
    {
     "name": "stdout",
     "output_type": "stream",
     "text": [
      "Correct answer! You have won Rs. 320000\n",
      "\n",
      "Your take home money is Rs. 320000\n"
     ]
    }
   ],
   "source": [
    "for i in range(len(questions)):\n",
    "  question = questions[i]\n",
    "  print(f\"\\n\\nQuestion for Rs. {levels[i]}\")\n",
    "  print(f\"{question[0]}\")\n",
    "  print(f\"a. {question[1]}          b. {question[2]}\")\n",
    "  print(f\"c. {question[3]}          d. {question[4]}\")\n",
    "  \n",
    "  try:\n",
    "    reply = int(input(\"Enter your answer (1-4) or 0 to quit:\\n\"))\n",
    "  except ValueError:\n",
    "    print(\"Invalid input! Please enter a number.\")\n",
    "    break\n",
    "\n",
    "  if reply == 0:\n",
    "    money = levels[i-1] if i > 0 else 0\n",
    "    break\n",
    "\n",
    "  if reply == question[-1]:\n",
    "    print(f\"Correct answer! You have won Rs. {levels[i]}\")\n",
    "    if i == 4:\n",
    "      money = 10000  # First milestone\n",
    "    elif i == 9:\n",
    "      money = 320000  # Final milestone\n",
    "  else:\n",
    "    print(\"Wrong answer!\")\n",
    "    money = 0 if i < 4 else 10000 if i < 9 else 320000\n",
    "    break\n",
    "\n",
    "print(f\"\\nYour take home money is Rs. {money}\")"
   ]
  }
 ],
 "metadata": {
  "kernelspec": {
   "display_name": "Python 3 (ipykernel)",
   "language": "python",
   "name": "python3"
  },
  "language_info": {
   "codemirror_mode": {
    "name": "ipython",
    "version": 3
   },
   "file_extension": ".py",
   "mimetype": "text/x-python",
   "name": "python",
   "nbconvert_exporter": "python",
   "pygments_lexer": "ipython3",
   "version": "3.12.4"
  }
 },
 "nbformat": 4,
 "nbformat_minor": 5
}
