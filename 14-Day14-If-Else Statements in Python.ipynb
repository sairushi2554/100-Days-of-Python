{
 "cells": [
  {
   "cell_type": "markdown",
   "id": "fcb70e60-98b8-4b29-b659-f4f8e95f2ff8",
   "metadata": {},
   "source": [
    "# If-Else Statements in Python"
   ]
  },
  {
   "cell_type": "markdown",
   "id": "4a7347aa-689c-4b71-8e46-a45257081cfe",
   "metadata": {},
   "source": [
    "Sometimes the programmer needs to check the evaluation of certain expression(s), whether the expression(s) evaluate to True or False. If the expression evaluates to False, then the program execution follows a different path than it would have if the expression had evaluated to True.\n",
    "\n",
    "Based on this, the conditional statements are further classified into following types:\n",
    "- if\n",
    "- if-else\n",
    "- if-else-elif\n",
    "- nested if-else-elif."
   ]
  },
  {
   "cell_type": "markdown",
   "id": "b1619875-e5ca-47a3-9450-2ed5072d9ea3",
   "metadata": {},
   "source": [
    "## Introduction\n",
    "The `if-else` statement is a fundamental control structure in Python. It allows the program to make decisions and execute different blocks of code based on conditions."
   ]
  },
  {
   "cell_type": "markdown",
   "id": "68e5605f-1196-481d-a90b-4a5567c8b0e5",
   "metadata": {},
   "source": [
    "## Syntax of `if` Statement\n",
    "The basic syntax of an `if` statement is:\n",
    "\n",
    "```python\n",
    "if condition:\n",
    "    # Code to execute if the condition is True\n",
    "```"
   ]
  },
  {
   "cell_type": "markdown",
   "id": "faf02cee-e56b-4a20-ad0b-72e4b642e96d",
   "metadata": {},
   "source": [
    "### Example:"
   ]
  },
  {
   "cell_type": "code",
   "execution_count": 6,
   "id": "251842fb-a7e4-4c4f-8612-dd8e7cec073f",
   "metadata": {},
   "outputs": [
    {
     "name": "stdout",
     "output_type": "stream",
     "text": [
      "x is greater than 5\n"
     ]
    }
   ],
   "source": [
    "x = 10\n",
    "if x > 5:\n",
    "    print(\"x is greater than 5\")"
   ]
  },
  {
   "cell_type": "markdown",
   "id": "a87648ef-a359-410b-b79f-445d1f676416",
   "metadata": {},
   "source": [
    "### Explanation:\n",
    "- The `if` statement checks if the condition (`x > 5`) is `True`.\n",
    "- If the condition is `True`, the indented block of code runs."
   ]
  },
  {
   "cell_type": "markdown",
   "id": "bfa9ba7c-d719-448b-b3fd-005b731eca82",
   "metadata": {},
   "source": [
    "## Adding `else`\n",
    "The `else` clause provides an alternative block of code that executes when the condition is `False`."
   ]
  },
  {
   "cell_type": "markdown",
   "id": "704bba7e-7a34-40cc-89f2-0003a9c16f05",
   "metadata": {},
   "source": [
    "```python\n",
    "if condition:\n",
    "    # Code to execute if the condition is True\n",
    "else:\n",
    "    # Code \n",
    "```"
   ]
  },
  {
   "cell_type": "code",
   "execution_count": 10,
   "id": "26bb99ca-4ffa-4e79-84e1-ca781def2581",
   "metadata": {},
   "outputs": [
    {
     "name": "stdout",
     "output_type": "stream",
     "text": [
      "y is not greater than 5\n"
     ]
    }
   ],
   "source": [
    "y = 3\n",
    "if y > 5:\n",
    "    print(\"y is greater than 5\")\n",
    "else:\n",
    "    print(\"y is not greater than 5\")"
   ]
  },
  {
   "cell_type": "markdown",
   "id": "1ecda859-ed48-43a8-a2ba-df55d9a8e020",
   "metadata": {},
   "source": [
    "## Using `elif` for Multiple Conditions\n",
    "The `elif` (short for \"else if\") keyword allows you to check multiple conditions.\n",
    "\n",
    "### Syntax:\n",
    "```python\n",
    "if condition1:\n",
    "    # Code if condition1 is True\n",
    "elif condition2:\n",
    "    # Code if condition2 is True\n",
    "else:\n",
    "    # Code if none of the above conditions are True\n",
    "```"
   ]
  },
  {
   "cell_type": "markdown",
   "id": "98dba078-cb2c-4c8e-aeb4-60e1e23fe556",
   "metadata": {},
   "source": [
    "### Example:"
   ]
  },
  {
   "cell_type": "code",
   "execution_count": 13,
   "id": "7c406ad8-eaac-4b13-bc55-4102c84211f3",
   "metadata": {},
   "outputs": [
    {
     "name": "stdout",
     "output_type": "stream",
     "text": [
      "z is zero\n"
     ]
    }
   ],
   "source": [
    "z = 0\n",
    "if z > 0:\n",
    "    print(\"z is positive\")\n",
    "elif z == 0:\n",
    "    print(\"z is zero\")\n",
    "else:\n",
    "    print(\"z is negative\")"
   ]
  },
  {
   "cell_type": "markdown",
   "id": "1d71f467-feaa-4f01-aa9b-38af73618034",
   "metadata": {},
   "source": [
    "## Nested `if` Statements\n",
    "An `if` statement can be nested within another `if` statement to create more complex decision-making logic."
   ]
  },
  {
   "cell_type": "code",
   "execution_count": 15,
   "id": "f6bacbe6-285e-46de-bb79-8d93593b2c7c",
   "metadata": {},
   "outputs": [
    {
     "name": "stdout",
     "output_type": "stream",
     "text": [
      "Adult female\n"
     ]
    }
   ],
   "source": [
    "age = 20\n",
    "gender = \"female\"\n",
    "if age > 18:\n",
    "    if gender == \"female\":\n",
    "        print(\"Adult female\")\n",
    "    else:\n",
    "        print(\"Adult male\")\n",
    "else:\n",
    "    print(\"Minor\")"
   ]
  },
  {
   "cell_type": "markdown",
   "id": "94e80874-6c89-4c0a-b5dd-e4d19d0192a5",
   "metadata": {},
   "source": [
    "## Logical Operators in Conditions\n",
    "You can combine multiple conditions using logical operators:\n",
    "\n",
    "- `and`: All conditions must be `True`\n",
    "- `or`: At least one condition must be `True`\n",
    "- `not`: Negates a condition"
   ]
  },
  {
   "cell_type": "code",
   "execution_count": 17,
   "id": "cf6ab968-3f9e-492f-bf0d-8c476ebcffbd",
   "metadata": {},
   "outputs": [
    {
     "name": "stdout",
     "output_type": "stream",
     "text": [
      "Both a and b are positive\n"
     ]
    }
   ],
   "source": [
    "# Example with and\n",
    "a = 5\n",
    "b = 10\n",
    "if a > 0 and b > 0:\n",
    "    print(\"Both a and b are positive\")"
   ]
  },
  {
   "cell_type": "code",
   "execution_count": 18,
   "id": "3e94c55e-d7bb-4b51-ac99-041e61deac0a",
   "metadata": {},
   "outputs": [
    {
     "name": "stdout",
     "output_type": "stream",
     "text": [
      "At least one of a or b is positive\n"
     ]
    }
   ],
   "source": [
    "# Example with or\n",
    "if a > 0 or b < 0:\n",
    "    print(\"At least one of a or b is positive\")"
   ]
  },
  {
   "cell_type": "code",
   "execution_count": 19,
   "id": "60620e17-c4b6-4d16-a02c-e69338791011",
   "metadata": {},
   "outputs": [
    {
     "name": "stdout",
     "output_type": "stream",
     "text": [
      "a is not negative\n"
     ]
    }
   ],
   "source": [
    "# Example with not\n",
    "if not (a < 0):\n",
    "    print(\"a is not negative\")"
   ]
  },
  {
   "cell_type": "markdown",
   "id": "9fa2e6f8-4fed-4088-b9cd-1aa835feff21",
   "metadata": {},
   "source": [
    "## Conditional Expressions (Ternary Operator)\n",
    "Python provides a shorthand way to write `if-else` statements using a conditional expression.\n",
    "\n",
    "### Syntax:\n",
    "```python\n",
    "value = true_value if condition else false_value\n",
    "```\n"
   ]
  },
  {
   "cell_type": "code",
   "execution_count": 21,
   "id": "e7777933-816e-45c2-b5cf-0c858c2111a7",
   "metadata": {},
   "outputs": [
    {
     "name": "stdout",
     "output_type": "stream",
     "text": [
      "The maximum value is 10\n"
     ]
    }
   ],
   "source": [
    "x = 10\n",
    "y = 5\n",
    "max_value = y if y > x else x\n",
    "print(\"The maximum value is\", max_value)"
   ]
  },
  {
   "cell_type": "markdown",
   "id": "8199647b-77f3-4339-bd6e-c2654783dcd9",
   "metadata": {},
   "source": [
    "## `if` with Loops\n",
    "`if-else` statements are often used with loops to perform conditional checks for each iteration.\n",
    "\n",
    "### Example 1: Using `if` with a `for` loop"
   ]
  },
  {
   "cell_type": "code",
   "execution_count": 23,
   "id": "d2458928-f927-4407-87ee-b739f7f39e9f",
   "metadata": {},
   "outputs": [
    {
     "name": "stdout",
     "output_type": "stream",
     "text": [
      "1 is odd\n",
      "2 is even\n",
      "3 is odd\n",
      "4 is even\n",
      "5 is odd\n"
     ]
    }
   ],
   "source": [
    "numbers = [1, 2, 3, 4, 5]\n",
    "for num in numbers:\n",
    "    if num % 2 == 0:\n",
    "        print(f\"{num} is even\")\n",
    "    else:\n",
    "        print(f\"{num} is odd\")"
   ]
  },
  {
   "cell_type": "markdown",
   "id": "0ec748b3-9cc1-4fbb-bb0f-c395a8f41e85",
   "metadata": {},
   "source": [
    "### Example 2: Using `if` with a `while` loop"
   ]
  },
  {
   "cell_type": "code",
   "execution_count": 25,
   "id": "7b885f30-0842-4c60-8d56-bb489f6b9cc9",
   "metadata": {},
   "outputs": [
    {
     "name": "stdout",
     "output_type": "stream",
     "text": [
      "0 is even\n",
      "1 is odd\n",
      "2 is even\n",
      "3 is odd\n",
      "4 is even\n"
     ]
    }
   ],
   "source": [
    "count = 0\n",
    "while count < 5:\n",
    "    if count % 2 == 0:\n",
    "        print(f\"{count} is even\")\n",
    "    else:\n",
    "        print(f\"{count} is odd\")\n",
    "    count += 1"
   ]
  },
  {
   "cell_type": "markdown",
   "id": "302712b8-fdda-41de-bc3a-91172ff83234",
   "metadata": {},
   "source": [
    "## Advanced Topics\n",
    "### 1. `if-else` with List Comprehension\n",
    "List comprehensions can include conditional logic using `if` and `else`.\n",
    "\n",
    "#### Syntax:\n",
    "```python\n",
    "[expression if condition else alternative for item in iterable]\n",
    "```\n",
    "\n",
    "#### Example:"
   ]
  },
  {
   "cell_type": "code",
   "execution_count": 27,
   "id": "2df04cbe-2780-4c6f-bc30-ff82b62b5260",
   "metadata": {},
   "outputs": [
    {
     "name": "stdout",
     "output_type": "stream",
     "text": [
      "['odd', 'even', 'odd', 'even', 'odd']\n"
     ]
    }
   ],
   "source": [
    "numbers = [1, 2, 3, 4, 5]\n",
    "even_odd = [\"even\" if num % 2 == 0 else \"odd\" for num in numbers]\n",
    "print(even_odd)  "
   ]
  },
  {
   "cell_type": "code",
   "execution_count": 28,
   "id": "daf83290-d3d6-4eee-ab93-1d303cad90b4",
   "metadata": {},
   "outputs": [
    {
     "name": "stdout",
     "output_type": "stream",
     "text": [
      "['odd', 'even', 'odd', 'even', 'odd']\n"
     ]
    }
   ],
   "source": [
    "numbers = [1, 2, 3, 4, 5]\n",
    "odd_even = [\"odd\" if num % 2 != 0 else \"even\" for num in numbers]\n",
    "print(odd_even)"
   ]
  },
  {
   "cell_type": "markdown",
   "id": "cdfa6410-f0ec-4479-98fa-a43c52f8ca78",
   "metadata": {},
   "source": [
    "### 2. Short-Circuiting with Logical Operators\n",
    "Logical operators like `and` and `or` use short-circuit evaluation.\n",
    "\n",
    "#### Example:"
   ]
  },
  {
   "cell_type": "code",
   "execution_count": 30,
   "id": "f63acb38-2aad-4091-a4c3-4241eb81e027",
   "metadata": {},
   "outputs": [
    {
     "name": "stdout",
     "output_type": "stream",
     "text": [
      "Checking -1\n",
      "At least one is not positive\n"
     ]
    }
   ],
   "source": [
    "def check_positive(num):\n",
    "    print(f\"Checking {num}\")\n",
    "    return num > 0\n",
    "\n",
    "# Short-circuits if the first condition is False\n",
    "if check_positive(-1) and check_positive(5):\n",
    "    print(\"Both are positive\")\n",
    "else:\n",
    "    print(\"At least one is not positive\")"
   ]
  },
  {
   "cell_type": "markdown",
   "id": "12f1d851-ce0c-4f95-a363-63fd9266e395",
   "metadata": {},
   "source": [
    "       "
   ]
  },
  {
   "cell_type": "markdown",
   "id": "b1edbc9e-16e9-4ee4-b055-6b3dd90a62a9",
   "metadata": {},
   "source": [
    "## Practical Examples\n",
    "#### 1. Grading System"
   ]
  },
  {
   "cell_type": "code",
   "execution_count": 33,
   "id": "4d5ae1f7-f25b-4fdf-86d3-5d19f010a797",
   "metadata": {},
   "outputs": [
    {
     "name": "stdout",
     "output_type": "stream",
     "text": [
      "Grade: B\n"
     ]
    }
   ],
   "source": [
    "marks = 85\n",
    "if marks >= 90:\n",
    "    grade = \"A\"\n",
    "elif marks >= 80:\n",
    "    grade = \"B\"\n",
    "elif marks >= 70:\n",
    "    grade = \"C\"\n",
    "elif marks >= 60:\n",
    "    grade = \"D\"\n",
    "else:\n",
    "    grade = \"F\"\n",
    "print(\"Grade:\", grade)"
   ]
  },
  {
   "cell_type": "markdown",
   "id": "54e96b16-d470-4f21-9ef3-22cd952e6ca3",
   "metadata": {},
   "source": [
    "### 2. Checking Leap Year"
   ]
  },
  {
   "cell_type": "code",
   "execution_count": 35,
   "id": "e59af41a-707e-4b55-b3f7-6d55c5f38cd1",
   "metadata": {},
   "outputs": [
    {
     "name": "stdout",
     "output_type": "stream",
     "text": [
      "2024 is a leap year\n"
     ]
    }
   ],
   "source": [
    "year = 2024\n",
    "if year % 4 == 0:\n",
    "    if year % 100 == 0:\n",
    "        if year % 400 == 0:\n",
    "            print(f\"{year} is a leap year\")\n",
    "        else:\n",
    "            print(f\"{year} is not a leap year\")\n",
    "    else:\n",
    "        print(f\"{year} is a leap year\")\n",
    "else:\n",
    "    print(f\"{year} is not a leap year\")"
   ]
  },
  {
   "cell_type": "markdown",
   "id": "3de31cfa-1fd0-4752-8291-2513812bd091",
   "metadata": {},
   "source": [
    "### 3. Prime Number Checker"
   ]
  },
  {
   "cell_type": "code",
   "execution_count": 37,
   "id": "227afb72-b542-4d84-99de-815e98fd1590",
   "metadata": {},
   "outputs": [
    {
     "name": "stdout",
     "output_type": "stream",
     "text": [
      "29 is a prime number\n"
     ]
    }
   ],
   "source": [
    "number = 29\n",
    "if number > 1:\n",
    "    for i in range(2, int(number ** 0.5) + 1):\n",
    "        if number % i == 0:\n",
    "            print(f\"{number} is not a prime number\")\n",
    "            break\n",
    "    else:\n",
    "        print(f\"{number} is a prime number\")\n",
    "else:\n",
    "    print(f\"{number} is not a prime number\")"
   ]
  },
  {
   "cell_type": "markdown",
   "id": "4dc669b8-2ce7-4c94-a1b1-227172c661f8",
   "metadata": {},
   "source": [
    "## Summary\n",
    "- The `if-else` structure helps control the flow of your program based on conditions.\n",
    "- Use `elif` for multiple conditions.\n",
    "- Logical operators (`and`, `or`, `not`) enable more complex conditions.\n",
    "- Nested `if` statements allow hierarchical decision-making.\n",
    "- Ternary operators simplify simple `if-else` scenarios.\n",
    "- Combining `if` statements with loops and list comprehensions can create more concise and powerful code."
   ]
  },
  {
   "cell_type": "markdown",
   "id": "94b0090d-068a-475b-8d10-88078d623748",
   "metadata": {},
   "source": [
    "## Exercises\n",
    "1. Write a program to check if a number is even or odd.\n",
    "2. Create a program to determine if a person is eligible to vote (age >= 18).\n",
    "3. Write a program to categorize a number as positive, negative, or zero.\n",
    "4. Implement a simple calculator using `if-elif-else` to perform addition, subtraction, multiplication, and division based on user input.\n",
    "5. Write a program to print all prime numbers in a given range.\n",
    "6. Create a program to classify a triangle based on its side lengths (equilateral, isosceles, or scalene).\n",
    "7. \n",
    "Happy Coding!\n"
   ]
  },
  {
   "cell_type": "markdown",
   "id": "108793d0-3965-43d3-b046-623dc91082a8",
   "metadata": {},
   "source": [
    "## Solutions to Exercises"
   ]
  },
  {
   "cell_type": "code",
   "execution_count": 41,
   "id": "3def40ba-b68c-463f-8073-c2da8beb4cd0",
   "metadata": {},
   "outputs": [
    {
     "name": "stdin",
     "output_type": "stream",
     "text": [
      "Enter a number:  21\n"
     ]
    },
    {
     "name": "stdout",
     "output_type": "stream",
     "text": [
      "The number is odd.\n"
     ]
    }
   ],
   "source": [
    "### 1. Check if a Number is Even or Odd\n",
    "number = int(input(\"Enter a number: \"))\n",
    "if number % 2 == 0:\n",
    "    print(\"The number is even.\")\n",
    "else:\n",
    "    print(\"The number is odd.\")"
   ]
  },
  {
   "cell_type": "code",
   "execution_count": 42,
   "id": "7a5313ac-156a-413b-bf02-0185cf49562f",
   "metadata": {},
   "outputs": [
    {
     "name": "stdin",
     "output_type": "stream",
     "text": [
      "Enter your age:  35\n"
     ]
    },
    {
     "name": "stdout",
     "output_type": "stream",
     "text": [
      "You are eligible to vote.\n"
     ]
    }
   ],
   "source": [
    "### 2. Determine if a Person is Eligible to Vote\n",
    "age = int(input(\"Enter your age: \"))\n",
    "if age >= 18:\n",
    "    print(\"You are eligible to vote.\")\n",
    "else:\n",
    "    print(\"You are not eligible to vote.\")"
   ]
  },
  {
   "cell_type": "code",
   "execution_count": 43,
   "id": "3f7e5cc0-7b1b-4ce8-af38-642223884a07",
   "metadata": {},
   "outputs": [
    {
     "name": "stdin",
     "output_type": "stream",
     "text": [
      "Enter a number:  -10\n"
     ]
    },
    {
     "name": "stdout",
     "output_type": "stream",
     "text": [
      "The number is negative.\n"
     ]
    }
   ],
   "source": [
    "### 3. Categorize a Number as Positive, Negative, or Zero\n",
    "number = float(input(\"Enter a number: \"))\n",
    "if number > 0:\n",
    "    print(\"The number is positive.\")\n",
    "elif number == 0:\n",
    "    print(\"The number is zero.\")\n",
    "else:\n",
    "    print(\"The number is negative.\")"
   ]
  },
  {
   "cell_type": "code",
   "execution_count": 44,
   "id": "fea07ae7-0719-4b68-bb33-27b6ab992175",
   "metadata": {},
   "outputs": [
    {
     "name": "stdout",
     "output_type": "stream",
     "text": [
      "Select operation:\n",
      "1. Addition\n",
      "2. Subtraction\n",
      "3. Multiplication\n",
      "4. Division\n"
     ]
    },
    {
     "name": "stdin",
     "output_type": "stream",
     "text": [
      "Enter choice (1/2/3/4):  3\n",
      "Enter first number:  10\n",
      "Enter second number:  17\n"
     ]
    },
    {
     "name": "stdout",
     "output_type": "stream",
     "text": [
      "Result: 170.0\n"
     ]
    }
   ],
   "source": [
    "### 4. Simple Calculator\n",
    "print(\"Select operation:\")\n",
    "print(\"1. Addition\")\n",
    "print(\"2. Subtraction\")\n",
    "print(\"3. Multiplication\")\n",
    "print(\"4. Division\")\n",
    "\n",
    "choice = input(\"Enter choice (1/2/3/4): \")\n",
    "num1 = float(input(\"Enter first number: \"))\n",
    "num2 = float(input(\"Enter second number: \"))\n",
    "\n",
    "if choice == '1':\n",
    "    print(f\"Result: {num1 + num2}\")\n",
    "elif choice == '2':\n",
    "    print(f\"Result: {num1 - num2}\")\n",
    "elif choice == '3':\n",
    "    print(f\"Result: {num1 * num2}\")\n",
    "elif choice == '4':\n",
    "    if num2 != 0:\n",
    "        print(f\"Result: {num1 / num2}\")\n",
    "    else:\n",
    "        print(\"Error: Division by zero is not allowed.\")\n",
    "else:\n",
    "    print(\"Invalid input\")"
   ]
  },
  {
   "cell_type": "code",
   "execution_count": 45,
   "id": "34202057-c6c3-4c5b-8b28-6ce82887cb98",
   "metadata": {},
   "outputs": [
    {
     "name": "stdin",
     "output_type": "stream",
     "text": [
      "Enter the start of the range:  100\n",
      "Enter the end of the range:  200\n"
     ]
    },
    {
     "name": "stdout",
     "output_type": "stream",
     "text": [
      "Prime numbers in the range are:\n",
      "101\n",
      "103\n",
      "107\n",
      "109\n",
      "113\n",
      "127\n",
      "131\n",
      "137\n",
      "139\n",
      "149\n",
      "151\n",
      "157\n",
      "163\n",
      "167\n",
      "173\n",
      "179\n",
      "181\n",
      "191\n",
      "193\n",
      "197\n",
      "199\n"
     ]
    }
   ],
   "source": [
    "### 5. Print All Prime Numbers in a Given Range\n",
    "start = int(input(\"Enter the start of the range: \"))\n",
    "end = int(input(\"Enter the end of the range: \"))\n",
    "\n",
    "print(\"Prime numbers in the range are:\")\n",
    "for num in range(start, end + 1):\n",
    "    if num > 1:\n",
    "        for i in range(2, int(num ** 0.5) + 1):\n",
    "            if num % i == 0:\n",
    "                break\n",
    "        else:\n",
    "            print(num)"
   ]
  },
  {
   "cell_type": "code",
   "execution_count": 46,
   "id": "99fbe121-127e-4a8c-9254-9da41512647a",
   "metadata": {},
   "outputs": [
    {
     "name": "stdin",
     "output_type": "stream",
     "text": [
      "Enter the first side:  3\n",
      "Enter the second side:  4\n",
      "Enter the third side:  5\n"
     ]
    },
    {
     "name": "stdout",
     "output_type": "stream",
     "text": [
      "The triangle is scalene.\n"
     ]
    }
   ],
   "source": [
    "### 6. Classify a Triangle Based on Its Side Lengths\n",
    "a = float(input(\"Enter the first side: \"))\n",
    "b = float(input(\"Enter the second side: \"))\n",
    "c = float(input(\"Enter the third side: \"))\n",
    "\n",
    "if a == b == c:\n",
    "    print(\"The triangle is equilateral.\")\n",
    "elif a == b or b == c or a == c:\n",
    "    print(\"The triangle is isosceles.\")\n",
    "else:\n",
    "    print(\"The triangle is scalene.\")"
   ]
  },
  {
   "cell_type": "markdown",
   "id": "a4aaf036-cbab-4865-acc0-68dee250d86d",
   "metadata": {},
   "source": [
    "    "
   ]
  }
 ],
 "metadata": {
  "kernelspec": {
   "display_name": "Python 3 (ipykernel)",
   "language": "python",
   "name": "python3"
  },
  "language_info": {
   "codemirror_mode": {
    "name": "ipython",
    "version": 3
   },
   "file_extension": ".py",
   "mimetype": "text/x-python",
   "name": "python",
   "nbconvert_exporter": "python",
   "pygments_lexer": "ipython3",
   "version": "3.12.4"
  }
 },
 "nbformat": 4,
 "nbformat_minor": 5
}
