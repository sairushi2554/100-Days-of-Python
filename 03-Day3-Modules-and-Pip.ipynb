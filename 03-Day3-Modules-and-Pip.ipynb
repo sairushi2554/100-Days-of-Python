{
 "cells": [
  {
   "cell_type": "markdown",
   "id": "ca786117",
   "metadata": {},
   "source": [
    "# MODULES AND PIP\n",
    "Module is a code library which can be used to borrow the code written by someone else in our python program.\n",
    "There are two types of modules:\n",
    "\n",
    "    1.Built in Modules:These modules are ready to import and use and ships with the python interpreter.There is no need to     install such modules in python.\n",
    "    \n",
    "    2.External Modules:These modules are imported from a third party file or can be installed using a package manager like    pip or conda. Since this code is written by someone else, we can install different versions of the same module with     time.      "
   ]
  },
  {
   "cell_type": "code",
   "execution_count": 9,
   "id": "3e830f15-075b-4340-bf6b-9fe6478c591a",
   "metadata": {},
   "outputs": [
    {
     "data": {
      "text/plain": [
       "2"
      ]
     },
     "execution_count": 9,
     "metadata": {},
     "output_type": "execute_result"
    }
   ],
   "source": [
    "a='11'\n",
    "len(a)"
   ]
  },
  {
   "cell_type": "code",
   "execution_count": 15,
   "id": "29048b97-a329-41ee-95b4-17b516546bb4",
   "metadata": {},
   "outputs": [
    {
     "data": {
      "text/plain": [
       "3"
      ]
     },
     "execution_count": 15,
     "metadata": {},
     "output_type": "execute_result"
    }
   ],
   "source": [
    "int(a,2)"
   ]
  },
  {
   "cell_type": "markdown",
   "id": "84c14b94",
   "metadata": {},
   "source": [
    "## The pip command\n",
    "It can be used as a package manager pip to install a python module. Lets install a module called pandas using the following command\n"
   ]
  },
  {
   "cell_type": "code",
   "execution_count": 2,
   "id": "f34d4207",
   "metadata": {},
   "outputs": [
    {
     "name": "stdout",
     "output_type": "stream",
     "text": [
      "Defaulting to user installation because normal site-packages is not writeable\n",
      "Requirement already satisfied: pandas in c:\\programdata\\anaconda3\\lib\\site-packages (1.4.2)\n",
      "Requirement already satisfied: numpy>=1.18.5 in c:\\programdata\\anaconda3\\lib\\site-packages (from pandas) (1.21.5)\n",
      "Requirement already satisfied: pytz>=2020.1 in c:\\programdata\\anaconda3\\lib\\site-packages (from pandas) (2021.3)\n",
      "Requirement already satisfied: python-dateutil>=2.8.1 in c:\\programdata\\anaconda3\\lib\\site-packages (from pandas) (2.8.2)\n",
      "Requirement already satisfied: six>=1.5 in c:\\programdata\\anaconda3\\lib\\site-packages (from python-dateutil>=2.8.1->pandas) (1.16.0)\n",
      "Note: you may need to restart the kernel to use updated packages.\n"
     ]
    }
   ],
   "source": [
    "pip install pandas"
   ]
  },
  {
   "cell_type": "markdown",
   "id": "2994f38e",
   "metadata": {},
   "source": [
    "## Using a module in Python (Usage)\n",
    "We use the import syntax to import a module in Python. Here is an example code:"
   ]
  },
  {
   "cell_type": "code",
   "execution_count": 3,
   "id": "2f43d48f",
   "metadata": {},
   "outputs": [],
   "source": [
    "import pandas  # This is an example of external module\n",
    "import hashlib  # This is an example of built in module\n",
    "\n",
    "# Read and work with a file named 'words.csv'\n",
    "# df = pandas.read_csv('words.csv')\n",
    "# print(df) # This will display first few rows from the words.csv file"
   ]
  },
  {
   "cell_type": "markdown",
   "id": "31bbf649",
   "metadata": {},
   "source": [
    "Similarly we can install other modules and look into their documentations for usage instructions.\n",
    "We will find ourselved doing this often in the later part of this course"
   ]
  }
 ],
 "metadata": {
  "kernelspec": {
   "display_name": "Python 3 (ipykernel)",
   "language": "python",
   "name": "python3"
  },
  "language_info": {
   "codemirror_mode": {
    "name": "ipython",
    "version": 3
   },
   "file_extension": ".py",
   "mimetype": "text/x-python",
   "name": "python",
   "nbconvert_exporter": "python",
   "pygments_lexer": "ipython3",
   "version": "3.12.4"
  }
 },
 "nbformat": 4,
 "nbformat_minor": 5
}
