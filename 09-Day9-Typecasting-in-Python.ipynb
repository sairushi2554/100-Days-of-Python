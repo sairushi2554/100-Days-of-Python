{
 "cells": [
  {
   "cell_type": "markdown",
   "id": "7255a374-29b1-450c-bba2-18f43092c50c",
   "metadata": {},
   "source": [
    "### Typecasting in python\n",
    "The conversion of one data type into the other data type is known as type casting in python or type conversion in python.\n",
    "\n",
    "Python supports a wide variety of functions or methods like: int(), float(), str(), ord(), hex(), oct(), tuple(), set(), list(), dict(), etc. for the type casting in python."
   ]
  },
  {
   "cell_type": "markdown",
   "id": "6d4fce08-bd5d-46f2-a351-98b0e824e741",
   "metadata": {},
   "source": [
    "### Two Types of Typecasting:\n",
    "1. Explicit Conversion (Explicit type casting in python)\n",
    "2. Implicit Conversion (Implicit type casting in python)."
   ]
  },
  {
   "cell_type": "markdown",
   "id": "eee1985d-1cfa-4c19-996e-91d2dc174d89",
   "metadata": {},
   "source": [
    "### 1. Implicit Typecasting\n",
    "Python automatically converts a smaller data type to a larger one to avoid data loss.\n",
    "\n",
    "Data types in Python do not have the same level i.e. ordering of data types is not the same in Python.\n",
    "\n",
    "Some of the data types have higher-order, and some have lower order. While performing any operations on variables with different data types in Python, one of the variable's data types will be changed to the higher data type. \n",
    "\n",
    "According to the level, one data type is converted into other by the Python interpreter itself (automatically). This is called, **implicit typecasting** in python."
   ]
  },
  {
   "cell_type": "code",
   "execution_count": 4,
   "id": "8bbe6a10-4a45-4c9b-a50d-95b2d7e07908",
   "metadata": {},
   "outputs": [
    {
     "name": "stdout",
     "output_type": "stream",
     "text": [
      "8.2\n",
      "<class 'float'>\n"
     ]
    }
   ],
   "source": [
    "# Implicit Typecasting\n",
    "a = 5       # Integer\n",
    "b = 3.2     # Float\n",
    "\n",
    "result = a + b  # Integer is automatically converted to Float\n",
    "print(result)   # Output: 8.2\n",
    "print(type(result))  # Output: <class 'float'>\n"
   ]
  },
  {
   "cell_type": "markdown",
   "id": "23e472f1-81d4-4d48-a295-26eb44df2a2e",
   "metadata": {},
   "source": [
    "   "
   ]
  },
  {
   "cell_type": "markdown",
   "id": "1c5d9713-697f-4a15-b3f2-605f85ffef95",
   "metadata": {},
   "source": [
    "### 2. Explicit Typecasting\n",
    "The conversion of one data type into another data type, done via developer or programmer's intervention or manually as per the requirement, is known as **explicit type conversion**.\n"
   ]
  },
  {
   "cell_type": "markdown",
   "id": "0d53debb-61e3-45fe-b8ae-c9b016b3902a",
   "metadata": {},
   "source": [
    "Explicit typecasting is done by using Python's built-in type conversion functions. The commonly used functions are:"
   ]
  },
  {
   "cell_type": "markdown",
   "id": "03240e76-e62a-483d-a012-e2f3f799ce34",
   "metadata": {},
   "source": [
    "#### a. int()\n",
    "Converts a value to an integer. Non-numeric strings and values like None will raise an error."
   ]
  },
  {
   "cell_type": "code",
   "execution_count": 9,
   "id": "bb2f4ff1-f963-47d1-8824-05bec0c6a385",
   "metadata": {},
   "outputs": [
    {
     "name": "stdout",
     "output_type": "stream",
     "text": [
      "3\n",
      "42\n"
     ]
    }
   ],
   "source": [
    "# Converting Float to Integer\n",
    "num = 3.9\n",
    "print(int(num))  # Output: 3\n",
    "\n",
    "# Converting String to Integer\n",
    "string_num = \"42\"\n",
    "print(int(string_num))  # Output: 42\n"
   ]
  },
  {
   "cell_type": "markdown",
   "id": "1368dc67-6a93-46db-bb78-72acbab68724",
   "metadata": {},
   "source": [
    "#### b. float()\n",
    "Converts a value to a floating-point number."
   ]
  },
  {
   "cell_type": "code",
   "execution_count": 11,
   "id": "d3df202b-8d20-4e86-af40-ac4ad9523bc5",
   "metadata": {},
   "outputs": [
    {
     "name": "stdout",
     "output_type": "stream",
     "text": [
      "7.0\n",
      "3.14\n"
     ]
    }
   ],
   "source": [
    "# Converting Integer to Float\n",
    "num = 7\n",
    "print(float(num))  # Output: 7.0\n",
    "\n",
    "# Converting String to Float\n",
    "string_num = \"3.14\"\n",
    "print(float(string_num))  # Output: 3.14\n"
   ]
  },
  {
   "cell_type": "markdown",
   "id": "3addd6d5-7288-4348-bdd1-5a98e8a21c4a",
   "metadata": {},
   "source": [
    "#### c. str()\n",
    "Converts a value to a string."
   ]
  },
  {
   "cell_type": "code",
   "execution_count": 13,
   "id": "f5f4d108-a65f-4023-b909-14bc7cceb6a7",
   "metadata": {},
   "outputs": [
    {
     "name": "stdout",
     "output_type": "stream",
     "text": [
      "42\n",
      "True\n"
     ]
    }
   ],
   "source": [
    "# Converting Number to String\n",
    "num = 42\n",
    "print(str(num))  # Output: '42'\n",
    "\n",
    "# Converting Boolean to String\n",
    "boolean = True\n",
    "print(str(boolean))  # Output: 'True'\n"
   ]
  },
  {
   "cell_type": "markdown",
   "id": "1ac0eb0e-8e1b-43ab-9d96-24efe85131bc",
   "metadata": {},
   "source": [
    "#### d. bool()\n",
    "Converts a value to a Boolean (True or False)."
   ]
  },
  {
   "cell_type": "code",
   "execution_count": 15,
   "id": "306cfc94-4404-475b-983f-df8aa2995ae1",
   "metadata": {},
   "outputs": [
    {
     "name": "stdout",
     "output_type": "stream",
     "text": [
      "True\n",
      "False\n",
      "True\n",
      "False\n"
     ]
    }
   ],
   "source": [
    "# Converting Numbers to Boolean\n",
    "print(bool(1))  # Output: True\n",
    "print(bool(0))  # Output: False\n",
    "\n",
    "# Converting Strings to Boolean\n",
    "print(bool(\"Hello\"))  # Output: True\n",
    "print(bool(\"\"))       # Output: False\n"
   ]
  },
  {
   "cell_type": "markdown",
   "id": "194d7843-ee3a-4901-b193-28bdb027e040",
   "metadata": {},
   "source": [
    "#### e. list()\n",
    "Converts an iterable (like a string, tuple, or set) to a list."
   ]
  },
  {
   "cell_type": "code",
   "execution_count": 17,
   "id": "c92b60da-6132-4dfa-9b24-97568b279880",
   "metadata": {},
   "outputs": [
    {
     "name": "stdout",
     "output_type": "stream",
     "text": [
      "['P', 'y', 't', 'h', 'o', 'n']\n",
      "[1, 2, 3]\n"
     ]
    }
   ],
   "source": [
    "# Converting String to List\n",
    "text = \"Python\"\n",
    "print(list(text))  # Output: ['P', 'y', 't', 'h', 'o', 'n']\n",
    "\n",
    "# Converting Tuple to List\n",
    "tup = (1, 2, 3)\n",
    "print(list(tup))  # Output: [1, 2, 3]\n"
   ]
  },
  {
   "cell_type": "markdown",
   "id": "5df41555-8136-45da-bd23-8731fecef1b5",
   "metadata": {},
   "source": [
    "#### f. tuple()\n",
    "Converts an iterable to a tuple."
   ]
  },
  {
   "cell_type": "code",
   "execution_count": 19,
   "id": "f93e58be-f0a9-4010-8400-059d9e60c10f",
   "metadata": {},
   "outputs": [
    {
     "name": "stdout",
     "output_type": "stream",
     "text": [
      "(1, 2, 3)\n"
     ]
    }
   ],
   "source": [
    "# Converting List to Tuple\n",
    "lst = [1, 2, 3]\n",
    "print(tuple(lst))  # Output: (1, 2, 3)\n"
   ]
  },
  {
   "cell_type": "markdown",
   "id": "88849ee2-f167-4bcd-8fad-daec7f0083d0",
   "metadata": {},
   "source": [
    "#### g. set()\n",
    "Converts an iterable to a set (removes duplicates)."
   ]
  },
  {
   "cell_type": "code",
   "execution_count": 21,
   "id": "6f50f60f-4730-4092-a47b-5841ed1bcbc2",
   "metadata": {},
   "outputs": [
    {
     "name": "stdout",
     "output_type": "stream",
     "text": [
      "{1, 2, 3}\n"
     ]
    }
   ],
   "source": [
    "# Converting List to Set\n",
    "lst = [1, 2, 2, 3]\n",
    "print(set(lst))  # Output: {1, 2, 3}\n"
   ]
  },
  {
   "cell_type": "markdown",
   "id": "793af739-dce6-495b-bcc2-35b54f8dae11",
   "metadata": {},
   "source": [
    "#### h. dict()\n",
    "Converts a sequence of key-value pairs into a dictionary."
   ]
  },
  {
   "cell_type": "code",
   "execution_count": 23,
   "id": "f7435d85-a320-4b39-bd15-cfa728cba14d",
   "metadata": {},
   "outputs": [
    {
     "name": "stdout",
     "output_type": "stream",
     "text": [
      "{'a': 1, 'b': 2}\n"
     ]
    }
   ],
   "source": [
    "# Converting List of Tuples to Dictionary\n",
    "pairs = [(\"a\", 1), (\"b\", 2)]\n",
    "print(dict(pairs))  # Output: {'a': 1, 'b': 2}\n"
   ]
  },
  {
   "cell_type": "code",
   "execution_count": 24,
   "id": "df5dcfb2-78be-4cb1-8fc9-fc807cb047f8",
   "metadata": {},
   "outputs": [
    {
     "data": {
      "text/plain": [
       "{'Name': 'Sairushi', 'Birth Date': '21-01-2002'}"
      ]
     },
     "execution_count": 24,
     "metadata": {},
     "output_type": "execute_result"
    }
   ],
   "source": [
    "x=[('Name','Sairushi'),('Birth Date','21-01-2002')]\n",
    "y=dict(x)\n",
    "y"
   ]
  }
 ],
 "metadata": {
  "kernelspec": {
   "display_name": "Python 3 (ipykernel)",
   "language": "python",
   "name": "python3"
  },
  "language_info": {
   "codemirror_mode": {
    "name": "ipython",
    "version": 3
   },
   "file_extension": ".py",
   "mimetype": "text/x-python",
   "name": "python",
   "nbconvert_exporter": "python",
   "pygments_lexer": "ipython3",
   "version": "3.12.4"
  }
 },
 "nbformat": 4,
 "nbformat_minor": 5
}
