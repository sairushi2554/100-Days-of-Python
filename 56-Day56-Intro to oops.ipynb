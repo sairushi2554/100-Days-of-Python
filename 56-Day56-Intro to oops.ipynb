{
 "cells": [
  {
   "cell_type": "markdown",
   "id": "61e74dc7",
   "metadata": {},
   "source": [
    "# Introduction to Object-Oriented Programming (OOP) in Python"
   ]
  },
  {
   "cell_type": "markdown",
   "id": "fe3df273",
   "metadata": {},
   "source": [
    "\n",
    "Object-Oriented Programming (OOP) is a programming paradigm that organizes code using **objects** and **classes**.\n",
    "OOP helps in structuring software in a reusable and maintainable way.\n",
    "\n",
    "Key concepts of OOP include:\n",
    "- **Class**\n",
    "- **Object**\n",
    "- **Encapsulation**\n",
    "- **Inheritance**\n",
    "- **Polymorphism**\n"
   ]
  },
  {
   "cell_type": "markdown",
   "id": "633ed4d4",
   "metadata": {},
   "source": [
    "## 1. Class and Object"
   ]
  },
  {
   "cell_type": "code",
   "execution_count": null,
   "id": "18d2e0e2",
   "metadata": {},
   "outputs": [],
   "source": [
    "\n",
    "# Define a simple class\n",
    "class Dog:\n",
    "    def __init__(self, name, breed):\n",
    "        self.name = name\n",
    "        self.breed = breed\n",
    "\n",
    "    def bark(self):\n",
    "        print(f\"{self.name} says woof!\")\n",
    "\n",
    "# Create an object\n",
    "my_dog = Dog(\"Buddy\", \"Golden Retriever\")\n",
    "my_dog.bark()\n"
   ]
  },
  {
   "cell_type": "markdown",
   "id": "38d9c9b6",
   "metadata": {},
   "source": [
    "## 2. Encapsulation"
   ]
  },
  {
   "cell_type": "code",
   "execution_count": null,
   "id": "f0167d56",
   "metadata": {},
   "outputs": [],
   "source": [
    "\n",
    "# Using encapsulation to protect data\n",
    "class Person:\n",
    "    def __init__(self, name, age):\n",
    "        self.name = name\n",
    "        self.__age = age  # private attribute\n",
    "\n",
    "    def get_age(self):\n",
    "        return self.__age\n",
    "\n",
    "    def set_age(self, age):\n",
    "        if age > 0:\n",
    "            self.__age = age\n",
    "\n",
    "p = Person(\"Alice\", 30)\n",
    "print(p.get_age())\n",
    "p.set_age(35)\n",
    "print(p.get_age())\n"
   ]
  },
  {
   "cell_type": "markdown",
   "id": "cc668a1f",
   "metadata": {},
   "source": [
    "## 3. Inheritance"
   ]
  },
  {
   "cell_type": "code",
   "execution_count": null,
   "id": "f0a6083b",
   "metadata": {},
   "outputs": [],
   "source": [
    "\n",
    "# Base class\n",
    "class Animal:\n",
    "    def __init__(self, name):\n",
    "        self.name = name\n",
    "\n",
    "    def speak(self):\n",
    "        print(\"Animal speaks\")\n",
    "\n",
    "# Derived class\n",
    "class Cat(Animal):\n",
    "    def speak(self):\n",
    "        print(f\"{self.name} says meow!\")\n",
    "\n",
    "c = Cat(\"Whiskers\")\n",
    "c.speak()\n"
   ]
  },
  {
   "cell_type": "markdown",
   "id": "44a6a564",
   "metadata": {},
   "source": [
    "## 4. Polymorphism"
   ]
  },
  {
   "cell_type": "code",
   "execution_count": null,
   "id": "d845a84c",
   "metadata": {},
   "outputs": [],
   "source": [
    "\n",
    "class Bird:\n",
    "    def speak(self):\n",
    "        print(\"Chirp chirp\")\n",
    "\n",
    "class Duck:\n",
    "    def speak(self):\n",
    "        print(\"Quack quack\")\n",
    "\n",
    "def animal_sound(animal):\n",
    "    animal.speak()\n",
    "\n",
    "b = Bird()\n",
    "d = Duck()\n",
    "\n",
    "animal_sound(b)\n",
    "animal_sound(d)\n"
   ]
  },
  {
   "cell_type": "markdown",
   "id": "6226dca7",
   "metadata": {},
   "source": [
    "## 🧠 Exercise"
   ]
  },
  {
   "cell_type": "markdown",
   "id": "87da1feb",
   "metadata": {},
   "source": [
    "\n",
    "Create a `Car` class with:\n",
    "- Attributes: `brand`, `year`\n",
    "- Method: `display_info` that prints the car's brand and year.\n",
    "\n",
    "Then, create two objects of the `Car` class and call the `display_info` method for each.\n"
   ]
  }
 ],
 "metadata": {},
 "nbformat": 4,
 "nbformat_minor": 5
}
