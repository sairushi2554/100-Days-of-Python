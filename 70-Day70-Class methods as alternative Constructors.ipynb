{
 "cells": [
  {
   "cell_type": "markdown",
   "id": "bab92393",
   "metadata": {},
   "source": [
    "# Day 70 - Class Methods as Alternative Constructors\n",
    "\n",
    "Class methods can act as alternative constructors in Python. These are useful when you want to provide multiple ways to create instances of a class."
   ]
  },
  {
   "cell_type": "markdown",
   "id": "9644f8b6",
   "metadata": {},
   "source": [
    "## 1. Regular Constructor Example"
   ]
  },
  {
   "cell_type": "code",
   "execution_count": null,
   "id": "da67e52c",
   "metadata": {},
   "outputs": [],
   "source": [
    "class Person:\n",
    "    def __init__(self, name, age):\n",
    "        self.name = name\n",
    "        self.age = age\n",
    "\n",
    "# Using regular constructor\n",
    "p1 = Person(\"Alice\", 30)\n",
    "print(p1.name, p1.age)"
   ]
  },
  {
   "cell_type": "markdown",
   "id": "9ce963a2",
   "metadata": {},
   "source": [
    "## 2. Alternative Constructor using @classmethod"
   ]
  },
  {
   "cell_type": "code",
   "execution_count": null,
   "id": "4ba94b91",
   "metadata": {},
   "outputs": [],
   "source": [
    "class Person:\n",
    "    def __init__(self, name, age):\n",
    "        self.name = name\n",
    "        self.age = age\n",
    "\n",
    "    @classmethod\n",
    "    def from_string(cls, string_data):\n",
    "        name, age = string_data.split(\"-\")\n",
    "        return cls(name, int(age))\n",
    "\n",
    "# Using alternative constructor\n",
    "p2 = Person.from_string(\"Bob-45\")\n",
    "print(p2.name, p2.age)"
   ]
  },
  {
   "cell_type": "markdown",
   "id": "7e08e8b5",
   "metadata": {},
   "source": [
    "## 3. Factory Pattern Example"
   ]
  },
  {
   "cell_type": "code",
   "execution_count": null,
   "id": "a9f0c37f",
   "metadata": {},
   "outputs": [],
   "source": [
    "class Date:\n",
    "    def __init__(self, year, month, day):\n",
    "        self.year = year\n",
    "        self.month = month\n",
    "        self.day = day\n",
    "\n",
    "    @classmethod\n",
    "    def from_string(cls, date_str):\n",
    "        year, month, day = map(int, date_str.split(\"-\"))\n",
    "        return cls(year, month, day)\n",
    "\n",
    "    @classmethod\n",
    "    def today(cls):\n",
    "        from datetime import date\n",
    "        now = date.today()\n",
    "        return cls(now.year, now.month, now.day)\n",
    "\n",
    "# Creating instances using different constructors\n",
    "d1 = Date.from_string(\"2024-12-25\")\n",
    "d2 = Date.today()\n",
    "\n",
    "print(f\"From string: {d1.year}-{d1.month}-{d1.day}\")\n",
    "print(f\"Today: {d2.year}-{d2.month}-{d2.day}\")"
   ]
  },
  {
   "cell_type": "markdown",
   "id": "3831f410",
   "metadata": {},
   "source": [
    "## 4. Summary and Best Practices\n",
    "\n",
    "- Use class methods as alternate constructors when you need multiple ways to instantiate objects.\n",
    "- Always return `cls(...)` to ensure compatibility with subclasses.\n",
    "- Good examples include `from_string`, `from_dict`, or `from_timestamp`."
   ]
  }
 ],
 "metadata": {},
 "nbformat": 4,
 "nbformat_minor": 5
}