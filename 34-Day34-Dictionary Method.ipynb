{
 "cells": [
  {
   "cell_type": "markdown",
   "id": "cddd83ab",
   "metadata": {},
   "source": [
    "# Dictionary Methods in Python"
   ]
  },
  {
   "cell_type": "markdown",
   "id": "080d51d0",
   "metadata": {},
   "source": [
    "Dictionaries in Python have several built-in methods that allow us to manipulate and interact with data efficiently. In this notebook, we'll cover both **basic** and **advanced** methods with examples and explanations.\n"
   ]
  },
  {
   "cell_type": "markdown",
   "id": "41fe25e6",
   "metadata": {},
   "source": [
    "## 🔄 `update()` Method"
   ]
  },
  {
   "cell_type": "markdown",
   "id": "550e4faa",
   "metadata": {},
   "source": [
    "The `update()` method is used to update the value of a specific key, or add a new key-value pair if the key does not exist.\n"
   ]
  },
  {
   "cell_type": "code",
   "execution_count": 5,
   "id": "16240fd2",
   "metadata": {},
   "outputs": [
    {
     "name": "stdout",
     "output_type": "stream",
     "text": [
      "Before update: {'name': 'Karan', 'age': 19, 'eligible': True}\n",
      "After update: {'name': 'Karan', 'age': 20, 'eligible': True, 'DOB': 2001}\n"
     ]
    }
   ],
   "source": [
    "info = {'name': 'Karan', 'age': 19, 'eligible': True}\n",
    "print(\"Before update:\", info)\n",
    "info.update({'age': 20})       # Update existing key\n",
    "info.update({'DOB': 2001})     # Add new key\n",
    "print(\"After update:\", info)"
   ]
  },
  {
   "cell_type": "markdown",
   "id": "34ea8875",
   "metadata": {},
   "source": [
    "## 🧹 `clear()` Method"
   ]
  },
  {
   "cell_type": "markdown",
   "id": "6f43ecf7",
   "metadata": {},
   "source": [
    "Removes all the items from the dictionary."
   ]
  },
  {
   "cell_type": "code",
   "execution_count": 8,
   "id": "b2193ebd",
   "metadata": {},
   "outputs": [
    {
     "name": "stdout",
     "output_type": "stream",
     "text": [
      "{}\n"
     ]
    }
   ],
   "source": [
    "info = {'name': 'Karan', 'age': 19, 'eligible': True}\n",
    "info.clear()\n",
    "print(info)  # Output: {}"
   ]
  },
  {
   "cell_type": "markdown",
   "id": "3e53281f",
   "metadata": {},
   "source": [
    "## ❌ `pop()` Method"
   ]
  },
  {
   "cell_type": "markdown",
   "id": "2c0b4709",
   "metadata": {},
   "source": [
    "Removes the specified key and returns its value."
   ]
  },
  {
   "cell_type": "code",
   "execution_count": 11,
   "id": "182fc14d",
   "metadata": {},
   "outputs": [
    {
     "name": "stdout",
     "output_type": "stream",
     "text": [
      "Removed: True\n",
      "Remaining dict: {'name': 'Karan', 'age': 19}\n"
     ]
    }
   ],
   "source": [
    "info = {'name': 'Karan', 'age': 19, 'eligible': True}\n",
    "removed = info.pop('eligible')\n",
    "print(\"Removed:\", removed)\n",
    "print(\"Remaining dict:\", info)"
   ]
  },
  {
   "cell_type": "markdown",
   "id": "a98b0322",
   "metadata": {},
   "source": [
    "## 🔚 `popitem()` Method"
   ]
  },
  {
   "cell_type": "markdown",
   "id": "fbffdb21",
   "metadata": {},
   "source": [
    "Removes the last inserted key-value pair."
   ]
  },
  {
   "cell_type": "code",
   "execution_count": 14,
   "id": "fc49f97c",
   "metadata": {},
   "outputs": [
    {
     "name": "stdout",
     "output_type": "stream",
     "text": [
      "{'name': 'Karan', 'age': 19, 'eligible': True}\n"
     ]
    }
   ],
   "source": [
    "info = {'name': 'Karan', 'age': 19, 'eligible': True, 'DOB': 2003}\n",
    "info.popitem()\n",
    "print(info)"
   ]
  },
  {
   "cell_type": "markdown",
   "id": "57504ebc",
   "metadata": {},
   "source": [
    "## 🗑️ `del` Keyword"
   ]
  },
  {
   "cell_type": "markdown",
   "id": "116f7ee5",
   "metadata": {},
   "source": [
    "Used to delete a specific key or the entire dictionary."
   ]
  },
  {
   "cell_type": "code",
   "execution_count": 17,
   "id": "efccc4f1",
   "metadata": {},
   "outputs": [
    {
     "name": "stdout",
     "output_type": "stream",
     "text": [
      "{'name': 'Karan', 'eligible': True, 'DOB': 2003}\n"
     ]
    }
   ],
   "source": [
    "info = {'name': 'Karan', 'age': 19, 'eligible': True, 'DOB': 2003}\n",
    "del info['age']\n",
    "print(info)"
   ]
  },
  {
   "cell_type": "code",
   "execution_count": 18,
   "id": "863ba39e",
   "metadata": {},
   "outputs": [],
   "source": [
    "info = {'name': 'Karan', 'age': 19}\n",
    "del info\n",
    "# print(info)  # Uncommenting this line will raise: NameError"
   ]
  },
  {
   "cell_type": "markdown",
   "id": "49965435",
   "metadata": {},
   "source": [
    "## 🧰 More Dictionary Methods"
   ]
  },
  {
   "cell_type": "markdown",
   "id": "649c7602",
   "metadata": {},
   "source": [
    "| Method       | Description |\n",
    "|--------------|-------------|\n",
    "| `get(key)`   | Returns value for key if key exists, else returns None |\n",
    "| `keys()`     | Returns a view of all keys |\n",
    "| `values()`   | Returns a view of all values |\n",
    "| `items()`    | Returns a view of key-value pairs |\n",
    "| `copy()`     | Returns a shallow copy of the dictionary |\n",
    "| `setdefault()` | Returns the value of a key if it exists. If not, inserts the key with a specified default value |\n"
   ]
  },
  {
   "cell_type": "code",
   "execution_count": 21,
   "id": "5be34b16",
   "metadata": {},
   "outputs": [
    {
     "name": "stdout",
     "output_type": "stream",
     "text": [
      "Get age: 19\n",
      "Get city (not exist): None\n",
      "After setdefault: {'name': 'Karan', 'age': 19, 'city': 'Pune'}\n",
      "Copied dict: {'name': 'Karan', 'age': 19, 'city': 'Pune'}\n"
     ]
    }
   ],
   "source": [
    "info = {'name': 'Karan', 'age': 19}\n",
    "\n",
    "# get\n",
    "print(\"Get age:\", info.get('age'))\n",
    "print(\"Get city (not exist):\", info.get('city'))\n",
    "\n",
    "# setdefault\n",
    "info.setdefault('city', 'Pune')\n",
    "print(\"After setdefault:\", info)\n",
    "\n",
    "# copy\n",
    "new_info = info.copy()\n",
    "print(\"Copied dict:\", new_info)"
   ]
  },
  {
   "cell_type": "code",
   "execution_count": 22,
   "id": "dbf567bf",
   "metadata": {},
   "outputs": [
    {
     "name": "stdout",
     "output_type": "stream",
     "text": [
      "name: Karan\n",
      "age: 19\n",
      "eligible: True\n",
      "DOB: 2003\n"
     ]
    }
   ],
   "source": [
    "# Looping through dictionary keys and values\n",
    "info = {'name': 'Karan', 'age': 19, 'eligible': True, 'DOB': 2003}\n",
    "for key, value in info.items():\n",
    "    print(f\"{key}: {value}\")"
   ]
  },
  {
   "cell_type": "code",
   "execution_count": 23,
   "id": "cc16dddd",
   "metadata": {},
   "outputs": [
    {
     "name": "stdout",
     "output_type": "stream",
     "text": [
      "Karan\n",
      "Not Available\n"
     ]
    }
   ],
   "source": [
    "# Using .get() method\n",
    "# Returns value for key if key is in dictionary, else default value\n",
    "print(info.get('name'))\n",
    "print(info.get('address', 'Not Available'))"
   ]
  },
  {
   "cell_type": "code",
   "execution_count": 24,
   "id": "96c9964c",
   "metadata": {},
   "outputs": [
    {
     "name": "stdout",
     "output_type": "stream",
     "text": [
      "{'name': 'Karan', 'age': 19, 'eligible': True, 'DOB': 2003, 'address': 'Pune', 'email': 'karan@example.com'}\n"
     ]
    }
   ],
   "source": [
    "# Using .update() to add or modify entries\n",
    "info.update({'address': 'Pune', 'email': 'karan@example.com'})\n",
    "print(info)"
   ]
  },
  {
   "cell_type": "code",
   "execution_count": 25,
   "id": "0feea440",
   "metadata": {},
   "outputs": [
    {
     "name": "stdout",
     "output_type": "stream",
     "text": [
      "{'name': 'Karan', 'age': 19, 'eligible': True, 'DOB': 2003, 'address': 'Pune'}\n"
     ]
    }
   ],
   "source": [
    "# Using .pop() to remove a specific item by key\n",
    "info.pop('email')\n",
    "print(info)"
   ]
  },
  {
   "cell_type": "code",
   "execution_count": 26,
   "id": "690441ee",
   "metadata": {},
   "outputs": [
    {
     "name": "stdout",
     "output_type": "stream",
     "text": [
      "Keys: ['name', 'age', 'eligible', 'DOB', 'address']\n",
      "Values: ['Karan', 19, True, 2003, 'Pune']\n",
      "Items: [('name', 'Karan'), ('age', 19), ('eligible', True), ('DOB', 2003), ('address', 'Pune')]\n"
     ]
    }
   ],
   "source": [
    "# Using .keys(), .values(), and .items()\n",
    "print('Keys:', list(info.keys()))\n",
    "print('Values:', list(info.values()))\n",
    "print('Items:', list(info.items()))"
   ]
  },
  {
   "cell_type": "markdown",
   "id": "42c0ab3f-72e1-4f38-b1b2-2bc36d2a3a04",
   "metadata": {},
   "source": [
    "### Merging two dictionaries using unpacking"
   ]
  },
  {
   "cell_type": "code",
   "execution_count": 28,
   "id": "dea21375",
   "metadata": {},
   "outputs": [
    {
     "name": "stdout",
     "output_type": "stream",
     "text": [
      "{'name': 'Karan', 'age': 19, 'eligible': True, 'DOB': 2003, 'address': 'Pune', 'hobby': 'reading', 'gender': 'male'}\n"
     ]
    }
   ],
   "source": [
    "additional_info = {'hobby': 'reading', 'gender': 'male'}\n",
    "merged_info = {**info, **additional_info}\n",
    "print(merged_info)"
   ]
  },
  {
   "cell_type": "markdown",
   "id": "f50ee6dd-3e4f-461e-92f3-6d135fb4ebbd",
   "metadata": {},
   "source": [
    "### Dictionary comprehension example"
   ]
  },
  {
   "cell_type": "code",
   "execution_count": 30,
   "id": "ebfb7768",
   "metadata": {},
   "outputs": [
    {
     "name": "stdout",
     "output_type": "stream",
     "text": [
      "{1: 1, 2: 4, 3: 9, 4: 16, 5: 25}\n"
     ]
    }
   ],
   "source": [
    "squared_numbers = {x: x*x for x in range(1, 6)}\n",
    "print(squared_numbers)"
   ]
  },
  {
   "cell_type": "markdown",
   "id": "3a63f52e-a847-4084-b61e-b4bed8bda918",
   "metadata": {},
   "source": [
    "### Using .popitem() to remove the last inserted item"
   ]
  },
  {
   "cell_type": "code",
   "execution_count": 32,
   "id": "eeb5ff50",
   "metadata": {},
   "outputs": [
    {
     "name": "stdout",
     "output_type": "stream",
     "text": [
      "Popped item: ('address', 'Pune')\n",
      "Updated dictionary: {'name': 'Karan', 'age': 19, 'eligible': True, 'DOB': 2003}\n"
     ]
    }
   ],
   "source": [
    "info = {'name': 'Karan', 'age': 19, 'eligible': True, 'DOB': 2003, 'address': 'Pune'}\n",
    "last_item = info.popitem()\n",
    "print(\"Popped item:\", last_item)\n",
    "print(\"Updated dictionary:\", info)"
   ]
  }
 ],
 "metadata": {
  "kernelspec": {
   "display_name": "Python 3 (ipykernel)",
   "language": "python",
   "name": "python3"
  },
  "language_info": {
   "codemirror_mode": {
    "name": "ipython",
    "version": 3
   },
   "file_extension": ".py",
   "mimetype": "text/x-python",
   "name": "python",
   "nbconvert_exporter": "python",
   "pygments_lexer": "ipython3",
   "version": "3.12.4"
  }
 },
 "nbformat": 4,
 "nbformat_minor": 5
}
