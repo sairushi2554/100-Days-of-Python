{
 "cells": [
  {
   "cell_type": "markdown",
   "id": "380b4e08",
   "metadata": {},
   "source": [
    "# Multiple Inheritance in Python\n",
    "\n",
    "Multiple inheritance is a feature of object-oriented programming where a class can inherit from more than one parent class. This allows a child class to inherit the properties and behaviors (methods) of multiple parent classes.\n",
    "\n",
    "In Python, multiple inheritance is supported directly and allows for powerful combinations of class behaviors.\n"
   ]
  },
  {
   "cell_type": "markdown",
   "id": "b940f94e",
   "metadata": {},
   "source": [
    "## Syntax of Multiple Inheritance\n",
    "\n",
    "```python\n",
    "class Parent1:\n",
    "    # code for Parent1\n",
    "\n",
    "class Parent2:\n",
    "    # code for Parent2\n",
    "\n",
    "class Child(Parent1, Parent2):\n",
    "    # code for Child\n",
    "```\n"
   ]
  },
  {
   "cell_type": "code",
   "execution_count": 8,
   "id": "3d95eb22",
   "metadata": {},
   "outputs": [
    {
     "name": "stdout",
     "output_type": "stream",
     "text": [
      "Father: Gardening, Programming\n",
      "Mother: Painting, Reading\n",
      "Child: Football\n"
     ]
    }
   ],
   "source": [
    "# Example 1: Simple multiple inheritance\n",
    "\n",
    "class Father:\n",
    "    def skills(self):\n",
    "        print(\"Father: Gardening, Programming\")\n",
    "\n",
    "class Mother:\n",
    "    def hobbies(self):\n",
    "        print(\"Mother: Painting, Reading\")\n",
    "\n",
    "class Child(Father, Mother):\n",
    "    def sports(self):\n",
    "        print(\"Child: Football\")\n",
    "\n",
    "c = Child()\n",
    "c.skills()\n",
    "c.hobbies()\n",
    "c.sports()\n"
   ]
  },
  {
   "cell_type": "code",
   "execution_count": 9,
   "id": "49672d48",
   "metadata": {},
   "outputs": [
    {
     "name": "stdout",
     "output_type": "stream",
     "text": [
      "Class A\n",
      "(<class '__main__.C'>, <class '__main__.A'>, <class '__main__.B'>, <class 'object'>)\n"
     ]
    }
   ],
   "source": [
    "# Example 2: Method Resolution Order (MRO)\n",
    "\n",
    "class A:\n",
    "    def show(self):\n",
    "        print(\"Class A\")\n",
    "\n",
    "class B:\n",
    "    def show(self):\n",
    "        print(\"Class B\")\n",
    "\n",
    "class C(A, B):\n",
    "    pass\n",
    "\n",
    "obj = C()\n",
    "obj.show()  # Output will depend on MRO: Class A\n",
    "print(C.__mro__)  # Show MRO\n"
   ]
  },
  {
   "cell_type": "markdown",
   "id": "7cabfade",
   "metadata": {},
   "source": [
    "## Advantages of Multiple Inheritance\n",
    "\n",
    "- Combines behaviors of multiple classes\n",
    "- Promotes code reuse\n",
    "\n",
    "## Potential Issues\n",
    "\n",
    "- Can lead to confusion if methods in parent classes have the same name\n",
    "- Method Resolution Order (MRO) helps to resolve conflicts\n"
   ]
  }
 ],
 "metadata": {
  "kernelspec": {
   "display_name": "Python 3 (ipykernel)",
   "language": "python",
   "name": "python3"
  },
  "language_info": {
   "codemirror_mode": {
    "name": "ipython",
    "version": 3
   },
   "file_extension": ".py",
   "mimetype": "text/x-python",
   "name": "python",
   "nbconvert_exporter": "python",
   "pygments_lexer": "ipython3",
   "version": "3.12.4"
  }
 },
 "nbformat": 4,
 "nbformat_minor": 5
}
