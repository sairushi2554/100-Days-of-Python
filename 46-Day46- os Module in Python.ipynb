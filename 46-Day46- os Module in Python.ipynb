{
 "cells": [
  {
   "cell_type": "markdown",
   "id": "897a8ea4",
   "metadata": {},
   "source": [
    "\n",
    "#  `os` Module in Python\n",
    "\n",
    "The `os` module in Python is a built-in library that provides functions for interacting with the operating system. \n",
    "It allows you to perform a wide variety of tasks, such as reading and writing files, interacting with the file system, and running system commands.\n"
   ]
  },
  {
   "cell_type": "markdown",
   "id": "a66b1111",
   "metadata": {},
   "source": [
    "\n",
    "## Reading and Writing Files\n",
    "\n",
    "The `os` module provides functions for low-level file operations, including opening, reading, writing, and closing files.\n"
   ]
  },
  {
   "cell_type": "code",
   "execution_count": 3,
   "id": "606fedfa",
   "metadata": {},
   "outputs": [
    {
     "name": "stdout",
     "output_type": "stream",
     "text": [
      "This is a sample file.\n"
     ]
    }
   ],
   "source": [
    "\n",
    "import os\n",
    "\n",
    "# Create a sample file for demonstration\n",
    "with open(\"myfile.txt\", \"w\") as f:\n",
    "    f.write(\"This is a sample file.\")\n",
    "\n",
    "# Open the file in read-only mode\n",
    "f_read = os.open(\"myfile.txt\", os.O_RDONLY)\n",
    "\n",
    "# Read the contents of the file\n",
    "contents = os.read(f_read, 1024)\n",
    "print(contents.decode())\n",
    "\n",
    "# Close the file\n",
    "os.close(f_read)\n"
   ]
  },
  {
   "cell_type": "code",
   "execution_count": 4,
   "id": "97ff8f22",
   "metadata": {},
   "outputs": [],
   "source": [
    "\n",
    "# Open the file in write-only mode\n",
    "f_write = os.open(\"myfile.txt\", os.O_WRONLY)\n",
    "\n",
    "# Write to the file\n",
    "os.write(f_write, b\"Hello, world!\")\n",
    "\n",
    "# Close the file\n",
    "os.close(f_write)\n"
   ]
  },
  {
   "cell_type": "markdown",
   "id": "887d7b67",
   "metadata": {},
   "source": [
    "\n",
    "## Interacting with the File System\n",
    "\n",
    "You can use `os` to list directories, create folders, and check for file paths.\n"
   ]
  },
  {
   "cell_type": "code",
   "execution_count": 6,
   "id": "d277f433",
   "metadata": {},
   "outputs": [
    {
     "name": "stdout",
     "output_type": "stream",
     "text": [
      "Files in current directory: ['.ipynb_checkpoints', '01-Day1-What is Python.ipynb', '02-Day2-Why Python.ipynb', '03-Day3-Modules-and-Pip.ipynb', '04-Day4-Our-First-Program.ipynb', '05-Day5-Comments-and-Print.ipynb', '06-Day6-Variables-and-Data-Types.ipynb', '07-Day7-Operators.ipynb', '08-Day8-Exercise-1-Create-a-Calculator-Solution.ipynb', '09-Day9-Typecasting-in-Python.ipynb', '10-Day10-Taking-User-Input.ipynb', '11-Day11-Strings.ipynb', '12-Day12-Strings-Slicing.ipynb', '13-Day13-String-Methods.ipynb', '14-Day14-If-Else Statements in Python.ipynb', '15-Day15-Exercise.ipynb', '16-Day16-Match Case.ipynb', '17-Day17-For Loops.ipynb', '18-Day18-While Loops.ipynb', '19-Day19-Break And Continue.ipynb', '20-Day20-Functions.ipynb', '21-Day21-Function Arguments.ipynb', '22- Day22-Introduction to Lists in Python.ipynb', '23-Day23-List Methods in Python.ipynb', '24-Day24-Introduction to Tulple.ipynb', '25-Day25-Operation on Tuples.ipynb', '28-Day28-f_strings in Python.ipynb', '29-Day29-Docstrings in Python.ipynb', '30-Day30-Recursion in Python.ipynb', '31-Day31-Sets in Python.ipynb', '32-Day32-Set Methods in Python.ipynb', '33-Day33-Python Dictionary.ipynb', '34-Day34-Dictionary Method.ipynb', '35-Day35-For Loop with Else.ipynb', '36-Day36-Exception Handling in Python.ipynb', '37-Day37-Finally Keyword in Python.ipynb', '38-Day38-Custom Exception Handling in Python.ipynb', '39-Day39-Exercise-Quiz Game.ipynb', '40-Day40-Exercise.ipynb', '41-Day41-Short Hand if else.ipynb', '42-Day42-Enumerate function in Python.ipynb', '43-Day43-Virtual Environment in Python.ipynb', '44-Day44-How Import Works in Python.ipynb', '45-Day45-If__name__==__main__.ipynb', '48-Day48-Local vs Global variable in Pythons.ipynb', 'app.log', 'Class Method.ipynb', 'example.txt', 'myfile.txt', 'os_module_tutorial.ipynb', 'pyjokes.ipynb', 'Untitled.ipynb', 'Untitled1.ipynb', 'Untitled2.ipynb']\n"
     ]
    }
   ],
   "source": [
    "\n",
    "# Get a list of the files in the current directory\n",
    "files = os.listdir(\".\")\n",
    "print(\"Files in current directory:\", files)\n"
   ]
  },
  {
   "cell_type": "code",
   "execution_count": 7,
   "id": "dd3b5b21",
   "metadata": {},
   "outputs": [
    {
     "name": "stdout",
     "output_type": "stream",
     "text": [
      "Directory 'newdir' created.\n"
     ]
    }
   ],
   "source": [
    "\n",
    "# Create a new directory\n",
    "new_dir = \"newdir\"\n",
    "if not os.path.exists(new_dir):\n",
    "    os.mkdir(new_dir)\n",
    "    print(f\"Directory '{new_dir}' created.\")\n",
    "else:\n",
    "    print(f\"Directory '{new_dir}' already exists.\")\n"
   ]
  },
  {
   "cell_type": "markdown",
   "id": "17c8c3fd",
   "metadata": {},
   "source": [
    "\n",
    "## Running System Commands\n",
    "\n",
    "You can use `os.system` and `os.popen` to run commands in the terminal.\n"
   ]
  },
  {
   "cell_type": "code",
   "execution_count": 9,
   "id": "98d7c4de",
   "metadata": {},
   "outputs": [
    {
     "name": "stdout",
     "output_type": "stream",
     "text": [
      "Exit code: 0\n"
     ]
    }
   ],
   "source": [
    "\n",
    "# Run a system command using os.system\n",
    "exit_code = os.system(\"echo Hello from os.system\")\n",
    "print(\"Exit code:\", exit_code)\n"
   ]
  },
  {
   "cell_type": "code",
   "execution_count": 10,
   "id": "8d8e2e7f",
   "metadata": {},
   "outputs": [
    {
     "name": "stdout",
     "output_type": "stream",
     "text": [
      "Output of 'ls': 01-Day1-What is Python.ipynb\n",
      "02-Day2-Why Python.ipynb\n",
      "03-Day3-Modules-and-Pip.ipynb\n",
      "04-Day4-Our-First-Program.ipynb\n",
      "05-Day5-Comments-and-Print.ipynb\n",
      "06-Day6-Variables-and-Data-Types.ipynb\n",
      "07-Day7-Operators.ipynb\n",
      "08-Day8-Exercise-1-Create-a-Calculator-Solution.ipynb\n",
      "09-Day9-Typecasting-in-Python.ipynb\n",
      "10-Day10-Taking-User-Input.ipynb\n",
      "11-Day11-Strings.ipynb\n",
      "12-Day12-Strings-Slicing.ipynb\n",
      "13-Day13-String-Methods.ipynb\n",
      "14-Day14-If-Else Statements in Python.ipynb\n",
      "15-Day15-Exercise.ipynb\n",
      "16-Day16-Match Case.ipynb\n",
      "17-Day17-For Loops.ipynb\n",
      "18-Day18-While Loops.ipynb\n",
      "19-Day19-Break And Continue.ipynb\n",
      "20-Day20-Functions.ipynb\n",
      "21-Day21-Function Arguments.ipynb\n",
      "22- Day22-Introduction to Lists in Python.ipynb\n",
      "23-Day23-List Methods in Python.ipynb\n",
      "24-Day24-Introduction to Tulple.ipynb\n",
      "25-Day25-Operation on Tuples.ipynb\n",
      "28-Day28-f_strings in Python.ipynb\n",
      "29-Day29-Docstrings in Python.ipynb\n",
      "30-Day30-Recursion in Python.ipynb\n",
      "31-Day31-Sets in Python.ipynb\n",
      "32-Day32-Set Methods in Python.ipynb\n",
      "33-Day33-Python Dictionary.ipynb\n",
      "34-Day34-Dictionary Method.ipynb\n",
      "35-Day35-For Loop with Else.ipynb\n",
      "36-Day36-Exception Handling in Python.ipynb\n",
      "37-Day37-Finally Keyword in Python.ipynb\n",
      "38-Day38-Custom Exception Handling in Python.ipynb\n",
      "39-Day39-Exercise-Quiz Game.ipynb\n",
      "40-Day40-Exercise.ipynb\n",
      "41-Day41-Short Hand if else.ipynb\n",
      "42-Day42-Enumerate function in Python.ipynb\n",
      "43-Day43-Virtual Environment in Python.ipynb\n",
      "44-Day44-How Import Works in Python.ipynb\n",
      "45-Day45-If__name__==__main__.ipynb\n",
      "48-Day48-Local vs Global variable in Pythons.ipynb\n",
      "Class Method.ipynb\n",
      "Untitled.ipynb\n",
      "Untitled1.ipynb\n",
      "Untitled2.ipynb\n",
      "app.log\n",
      "example.txt\n",
      "myfile.txt\n",
      "newdir\n",
      "os_module_tutorial.ipynb\n",
      "pyjokes.ipynb\n",
      "\n"
     ]
    }
   ],
   "source": [
    "\n",
    "# Run a command using os.popen and read output\n",
    "f = os.popen(\"ls\")\n",
    "output = f.read()\n",
    "print(\"Output of 'ls':\", output)\n",
    "f.close()\n"
   ]
  },
  {
   "cell_type": "markdown",
   "id": "eb061102",
   "metadata": {},
   "source": [
    "\n",
    "## Summary\n",
    "\n",
    "The `os` module in Python provides a wide variety of functions for interacting with the operating system, including:\n",
    "- Reading and writing files\n",
    "- Interacting with the file system\n",
    "- Running system commands\n",
    "\n",
    "It is a powerful tool for scripting and system-level tasks in Python.\n"
   ]
  }
 ],
 "metadata": {
  "kernelspec": {
   "display_name": "Python 3 (ipykernel)",
   "language": "python",
   "name": "python3"
  },
  "language_info": {
   "codemirror_mode": {
    "name": "ipython",
    "version": 3
   },
   "file_extension": ".py",
   "mimetype": "text/x-python",
   "name": "python",
   "nbconvert_exporter": "python",
   "pygments_lexer": "ipython3",
   "version": "3.12.4"
  }
 },
 "nbformat": 4,
 "nbformat_minor": 5
}
