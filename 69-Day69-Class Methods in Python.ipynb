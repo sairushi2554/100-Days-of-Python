{
 "cells": [
  {
   "cell_type": "markdown",
   "id": "b5c4d4d5",
   "metadata": {},
   "source": [
    "# Class Methods in Python\n",
    "\n",
    "Class methods are methods that are bound to the class and not the instance of the class. They have access to the class state and are defined using the `@classmethod` decorator."
   ]
  },
  {
   "cell_type": "markdown",
   "id": "6819c13b",
   "metadata": {},
   "source": [
    "## 1. Why Use Class Methods?\n",
    "\n",
    "- To access or modify the class state across all instances.\n",
    "- To create factory methods.\n",
    "- To operate on class-level data."
   ]
  },
  {
   "cell_type": "markdown",
   "id": "c6ebc09f",
   "metadata": {},
   "source": [
    "## 2. Basic Syntax\n",
    "\n",
    "Use the `@classmethod` decorator and `cls` as the first parameter."
   ]
  },
  {
   "cell_type": "code",
   "execution_count": null,
   "id": "19805351",
   "metadata": {},
   "outputs": [],
   "source": [
    "class Person:\n",
    "    species = \"Human\"\n",
    "\n",
    "    @classmethod\n",
    "    def show_species(cls):\n",
    "        print(f\"Species: {cls.species}\")\n",
    "\n",
    "# Usage\n",
    "Person.show_species()"
   ]
  },
  {
   "cell_type": "markdown",
   "id": "c31c01e8",
   "metadata": {},
   "source": [
    "## 3. Instance vs Class Methods\n",
    "\n",
    "- Instance methods take `self` as the first parameter.\n",
    "- Class methods take `cls` as the first parameter."
   ]
  },
  {
   "cell_type": "code",
   "execution_count": null,
   "id": "c1a705b0",
   "metadata": {},
   "outputs": [],
   "source": [
    "class Demo:\n",
    "    def instance_method(self):\n",
    "        print(\"Called instance method\")\n",
    "\n",
    "    @classmethod\n",
    "    def class_method(cls):\n",
    "        print(\"Called class method\")\n",
    "\n",
    "d = Demo()\n",
    "d.instance_method()\n",
    "d.class_method()\n",
    "Demo.class_method()  # Also valid"
   ]
  },
  {
   "cell_type": "markdown",
   "id": "97a84722",
   "metadata": {},
   "source": [
    "## 4. Using Class Method as Factory\n",
    "\n",
    "A common use of class methods is to create alternate constructors."
   ]
  },
  {
   "cell_type": "code",
   "execution_count": null,
   "id": "89aceeed",
   "metadata": {},
   "outputs": [],
   "source": [
    "class Date:\n",
    "    def __init__(self, year, month, day):\n",
    "        self.year = year\n",
    "        self.month = month\n",
    "        self.day = day\n",
    "\n",
    "    @classmethod\n",
    "    def from_string(cls, date_str):\n",
    "        year, month, day = map(int, date_str.split(\"-\"))\n",
    "        return cls(year, month, day)\n",
    "\n",
    "d = Date.from_string(\"2025-05-06\")\n",
    "print(d.year, d.month, d.day)"
   ]
  },
  {
   "cell_type": "markdown",
   "id": "1cd0bc21",
   "metadata": {},
   "source": [
    "## 5. Best Practices\n",
    "\n",
    "- Use `@classmethod` when you need to operate on class-level data or need an alternate constructor.\n",
    "- Use meaningful names for factory class methods (e.g., `from_string`, `from_dict`).\n",
    "- Prefer `classmethod` over `staticmethod` when the method logically operates on the class."
   ]
  }
 ],
 "metadata": {},
 "nbformat": 4,
 "nbformat_minor": 5
}