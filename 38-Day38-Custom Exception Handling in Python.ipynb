{
 "cells": [
  {
   "cell_type": "markdown",
   "id": "0059fefe",
   "metadata": {},
   "source": [
    "# Custom Exception Handling in Python\n",
    "\n",
    "Python allows the creation of custom exceptions by defining new exception classes. This is useful for handling specific application errors in a clear and structured way."
   ]
  },
  {
   "cell_type": "markdown",
   "id": "bc5dd643",
   "metadata": {},
   "source": [
    "## Creating a Custom Exception Class\n",
    "\n",
    "To create a custom exception, define a class that inherits from `Exception` or one of its subclasses."
   ]
  },
  {
   "cell_type": "code",
   "execution_count": 3,
   "id": "6c7b2ebe",
   "metadata": {},
   "outputs": [
    {
     "name": "stdout",
     "output_type": "stream",
     "text": [
      "Caught custom exception: Something went wrong!\n"
     ]
    }
   ],
   "source": [
    "class CustomError(Exception):\n",
    "    \"\"\"A simple custom exception.\"\"\"\n",
    "    pass\n",
    "\n",
    "try:\n",
    "    raise CustomError(\"Something went wrong!\")\n",
    "except CustomError as e:\n",
    "    print(\"Caught custom exception:\", e)"
   ]
  },
  {
   "cell_type": "markdown",
   "id": "ab1bbc68",
   "metadata": {},
   "source": [
    "## Custom Exceptions with Initialization\n",
    "\n",
    "You can customize your exception by adding an `__init__` method to store relevant information."
   ]
  },
  {
   "cell_type": "code",
   "execution_count": 5,
   "id": "be357064",
   "metadata": {},
   "outputs": [
    {
     "name": "stdout",
     "output_type": "stream",
     "text": [
      "Caught ValidationError: Age cannot be negative: -5\n"
     ]
    }
   ],
   "source": [
    "class ValidationError(Exception):\n",
    "    def __init__(self, message, value):\n",
    "        self.message = message\n",
    "        self.value = value\n",
    "        super().__init__(f\"{message}: {value}\")\n",
    "\n",
    "def validate_age(age):\n",
    "    if age < 0:\n",
    "        raise ValidationError(\"Age cannot be negative\", age)\n",
    "    print(\"Valid age:\", age)\n",
    "\n",
    "# Test the custom exception\n",
    "try:\n",
    "    validate_age(-5)\n",
    "except ValidationError as e:\n",
    "    print(\"Caught ValidationError:\", e)"
   ]
  },
  {
   "cell_type": "markdown",
   "id": "ec8725d1",
   "metadata": {},
   "source": [
    "## Custom Exception Hierarchies\n",
    "\n",
    "You can define a base exception class and more specific ones for better control and organization."
   ]
  },
  {
   "cell_type": "code",
   "execution_count": 7,
   "id": "c3c05d71",
   "metadata": {},
   "outputs": [
    {
     "name": "stdout",
     "output_type": "stream",
     "text": [
      "Application error occurred: Failed to connect to database.\n"
     ]
    }
   ],
   "source": [
    "class AppError(Exception):\n",
    "    \"\"\"Base class for all custom exceptions in the app.\"\"\"\n",
    "    pass\n",
    "\n",
    "class DatabaseError(AppError):\n",
    "    pass\n",
    "\n",
    "class NetworkError(AppError):\n",
    "    pass\n",
    "\n",
    "def connect_to_db():\n",
    "    raise DatabaseError(\"Failed to connect to database.\")\n",
    "\n",
    "try:\n",
    "    connect_to_db()\n",
    "except AppError as e:\n",
    "    print(\"Application error occurred:\", e)"
   ]
  },
  {
   "cell_type": "markdown",
   "id": "ad83b647",
   "metadata": {},
   "source": [
    "## Practice Exercise\n",
    "\n",
    "Create a custom exception `InsufficientBalanceError` for a banking app that is raised when a withdrawal amount is greater than the available balance."
   ]
  },
  {
   "cell_type": "code",
   "execution_count": 9,
   "id": "3854ecd6",
   "metadata": {},
   "outputs": [
    {
     "name": "stdout",
     "output_type": "stream",
     "text": [
      "Error: Attempted to withdraw 150, but only 100 available.\n"
     ]
    }
   ],
   "source": [
    "class InsufficientBalanceError(Exception):\n",
    "    def __init__(self, balance, amount):\n",
    "        super().__init__(f\"Attempted to withdraw {amount}, but only {balance} available.\")\n",
    "\n",
    "def withdraw(balance, amount):\n",
    "    if amount > balance:\n",
    "        raise InsufficientBalanceError(balance, amount)\n",
    "    return balance - amount\n",
    "\n",
    "# Try it out\n",
    "try:\n",
    "    print(withdraw(100, 150))\n",
    "except InsufficientBalanceError as e:\n",
    "    print(\"Error:\", e)"
   ]
  }
 ],
 "metadata": {
  "kernelspec": {
   "display_name": "Python 3 (ipykernel)",
   "language": "python",
   "name": "python3"
  },
  "language_info": {
   "codemirror_mode": {
    "name": "ipython",
    "version": 3
   },
   "file_extension": ".py",
   "mimetype": "text/x-python",
   "name": "python",
   "nbconvert_exporter": "python",
   "pygments_lexer": "ipython3",
   "version": "3.12.4"
  }
 },
 "nbformat": 4,
 "nbformat_minor": 5
}
