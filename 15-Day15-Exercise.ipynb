{
 "cells": [
  {
   "cell_type": "markdown",
   "id": "0bef9aee-db8d-4c51-bb5e-85875a21e815",
   "metadata": {},
   "source": [
    "## Excersice : Good Morning Sir"
   ]
  },
  {
   "cell_type": "markdown",
   "id": "e80a4e9a-d1d9-403c-96d2-0dbb20c9e704",
   "metadata": {},
   "source": [
    "Create a python program capable of greeting you with Good Morning, Good Afternoon and Good Evening. Your program should use time module to get the current hour. "
   ]
  },
  {
   "cell_type": "code",
   "execution_count": 3,
   "id": "e307fdf1-7dde-464b-93aa-4c3dbbeb7bb3",
   "metadata": {},
   "outputs": [
    {
     "name": "stdout",
     "output_type": "stream",
     "text": [
      "20:12:54\n",
      "20\n",
      "12\n",
      "54\n"
     ]
    }
   ],
   "source": [
    "import time\n",
    "timestamp = time.strftime('%H:%M:%S')\n",
    "print(timestamp)\n",
    "timestamp = time.strftime('%H')\n",
    "print(timestamp)\n",
    "timestamp = time.strftime('%M')\n",
    "print(timestamp)\n",
    "timestamp = time.strftime('%S')\n",
    "print(timestamp)\n",
    "# https://docs.python.org/3/library/time.html#time.strftime"
   ]
  },
  {
   "cell_type": "code",
   "execution_count": 4,
   "id": "aa55f092-f28b-4153-b4e3-a9e5dfca806b",
   "metadata": {},
   "outputs": [],
   "source": [
    "def greet():\n",
    "    current_hour = int(time.strftime('%H'))\n",
    "\n",
    "    if 5 <= current_hour < 12:\n",
    "        greeting = 'Good Morning'\n",
    "\n",
    "    elif 12 <= current_hour < 18 :\n",
    "        greeting = 'Good Afternoon'\n",
    "\n",
    "    else :\n",
    "        greeting = 'Good Evening'\n",
    "\n",
    "    print(f\"{greeting}! Have a great day!\")"
   ]
  },
  {
   "cell_type": "code",
   "execution_count": 5,
   "id": "ed8eb1a3-70b7-4c29-a8ac-d6cafedfc264",
   "metadata": {},
   "outputs": [
    {
     "name": "stdout",
     "output_type": "stream",
     "text": [
      "Good Evening! Have a great day!\n"
     ]
    }
   ],
   "source": [
    "greet()"
   ]
  }
 ],
 "metadata": {
  "kernelspec": {
   "display_name": "Python 3 (ipykernel)",
   "language": "python",
   "name": "python3"
  },
  "language_info": {
   "codemirror_mode": {
    "name": "ipython",
    "version": 3
   },
   "file_extension": ".py",
   "mimetype": "text/x-python",
   "name": "python",
   "nbconvert_exporter": "python",
   "pygments_lexer": "ipython3",
   "version": "3.12.4"
  }
 },
 "nbformat": 4,
 "nbformat_minor": 5
}
