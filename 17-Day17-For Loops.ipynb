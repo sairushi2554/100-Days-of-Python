{
 "cells": [
  {
   "cell_type": "markdown",
   "id": "21a4b2bd-119a-440c-ad20-78e735cb8467",
   "metadata": {},
   "source": [
    "Sometimes a programmer wants to execute a group of statements a certain number of times. This can be done using loops. Based on this loops are further classified into following main types:\n",
    "- for loop\n",
    "- while loop"
   ]
  },
  {
   "cell_type": "markdown",
   "id": "a47e7dce-9883-4ea8-80ae-7db6a68965b3",
   "metadata": {},
   "source": [
    "## `For` Loop\n",
    "`for` loops can iterate over a sequence of iterable objects in python. Iterating over a sequence is nothing but iterating over strings, lists, tuples, sets and dictionaries."
   ]
  },
  {
   "cell_type": "markdown",
   "id": "4ed625fb-81eb-4529-91ef-27309e1ab355",
   "metadata": {},
   "source": [
    "In Python, the `for` loop is commonly used to iterate over sequences such as lists, tuples, or strings. The basic structure is:\n",
    "\n",
    "```python\n",
    "for item in sequence:\n",
    "    # Do something with item\n",
    "```"
   ]
  },
  {
   "cell_type": "markdown",
   "id": "a2b04a61-755e-4f5f-8db9-9c4eaeba4048",
   "metadata": {},
   "source": [
    "#### Example : Iterating over a list"
   ]
  },
  {
   "cell_type": "code",
   "execution_count": 6,
   "id": "0c0bef64-5f0c-49f7-8629-be0917aceed4",
   "metadata": {},
   "outputs": [
    {
     "name": "stdout",
     "output_type": "stream",
     "text": [
      "apple\n",
      "banana\n",
      "cherry\n"
     ]
    }
   ],
   "source": [
    "fruits = ['apple', 'banana', 'cherry']\n",
    "for fruit in fruits:\n",
    "    print(fruit)"
   ]
  },
  {
   "cell_type": "markdown",
   "id": "2491258c-93a4-4f0b-90f0-e46724befb22",
   "metadata": {},
   "source": [
    "#### Example : Iterating over a string"
   ]
  },
  {
   "cell_type": "code",
   "execution_count": 12,
   "id": "76f2ca49-ced4-47aa-99fc-81e49cc1fce0",
   "metadata": {},
   "outputs": [
    {
     "name": "stdout",
     "output_type": "stream",
     "text": [
      "H\n",
      "e\n",
      "y\n",
      " \n",
      "B\n",
      "u\n",
      "d\n",
      "d\n",
      "y\n",
      " \n",
      "!\n",
      "!\n"
     ]
    }
   ],
   "source": [
    "word = \"Hey Buddy !!\"\n",
    "for letter in word:\n",
    "    print(letter)"
   ]
  },
  {
   "cell_type": "markdown",
   "id": "38005aa3-15a1-4452-8606-92415d006827",
   "metadata": {},
   "source": [
    "- ### Using `range()` in a for Loop \n",
    "`range()` is a built-in Python function that generates a sequence of numbers, which is often used in `for` loops to repeat actions a certain number of times."
   ]
  },
  {
   "cell_type": "code",
   "execution_count": 15,
   "id": "d1350aaa-cbff-4ab9-a4da-75153ef9536b",
   "metadata": {},
   "outputs": [
    {
     "name": "stdout",
     "output_type": "stream",
     "text": [
      "0\n",
      "1\n",
      "2\n",
      "3\n",
      "4\n"
     ]
    }
   ],
   "source": [
    "for i in range(5):\n",
    "    print(i)\n"
   ]
  },
  {
   "cell_type": "markdown",
   "id": "8bd04a40-a6e7-4a23-8c92-cada9a27105a",
   "metadata": {},
   "source": [
    "- ##### `range()` with start and stop"
   ]
  },
  {
   "cell_type": "code",
   "execution_count": 18,
   "id": "2266a691-d2ff-476e-ad25-71ec2f4cf0fa",
   "metadata": {},
   "outputs": [
    {
     "name": "stdout",
     "output_type": "stream",
     "text": [
      "2\n",
      "3\n",
      "4\n",
      "5\n",
      "6\n",
      "7\n"
     ]
    }
   ],
   "source": [
    "for i in range(2, 8):\n",
    "    print(i)"
   ]
  },
  {
   "cell_type": "markdown",
   "id": "e1d89c6e-b43f-41ba-8769-c8d091e98012",
   "metadata": {},
   "source": [
    "- ##### `range()` with start, stop, and step"
   ]
  },
  {
   "cell_type": "code",
   "execution_count": 25,
   "id": "be2b0dc4-10a6-4130-b1ea-6f0690ad2ee2",
   "metadata": {},
   "outputs": [
    {
     "name": "stdout",
     "output_type": "stream",
     "text": [
      "0\n",
      "2\n",
      "4\n",
      "6\n",
      "8\n"
     ]
    }
   ],
   "source": [
    "for i in range(0, 10, 2):\n",
    "    print(i)"
   ]
  },
  {
   "cell_type": "markdown",
   "id": "714ecaab-8d9d-4eb9-b57c-002458ecfeb1",
   "metadata": {},
   "source": [
    "- ### `Nested for` Loops\n",
    "You can use one `for` loop inside another. This is useful when working with multi-dimensional data structures, like lists of lists.\n",
    "\n",
    "#### Example : Nested loop over a list of lists"
   ]
  },
  {
   "cell_type": "code",
   "execution_count": 37,
   "id": "33a553b7-ec06-42b1-8399-9fabdfa6371f",
   "metadata": {},
   "outputs": [
    {
     "name": "stdout",
     "output_type": "stream",
     "text": [
      "1 2 3 \n",
      "4 5 6 \n",
      "7 8 9 \n"
     ]
    }
   ],
   "source": [
    "matrix = [\n",
    "    [1, 2, 3],\n",
    "    [4, 5, 6],\n",
    "    [7, 8, 9]\n",
    "]\n",
    "\n",
    "for row in matrix:\n",
    "    for value in row:\n",
    "        print(value, end=\" \")\n",
    "    print()  # Move to the next line after each row\n"
   ]
  },
  {
   "cell_type": "markdown",
   "id": "d6eada7f-b3db-4955-b6d8-f9601e422d75",
   "metadata": {},
   "source": [
    "- ### for Loop with Conditional Statements \n",
    "You can use `if` statements inside a `for` loop to perform actions based on specific conditions.\n",
    "\n",
    "#### Example : Filtering elements with if"
   ]
  },
  {
   "cell_type": "code",
   "execution_count": 44,
   "id": "267af314-df4a-4023-8d72-3da29a2e7aca",
   "metadata": {},
   "outputs": [
    {
     "name": "stdout",
     "output_type": "stream",
     "text": [
      "2\n",
      "4\n",
      "6\n"
     ]
    }
   ],
   "source": [
    "numbers = [1, 2, 3, 4, 5, 6]\n",
    "for num in numbers:\n",
    "    if num % 2 == 0:\n",
    "        print(num)"
   ]
  },
  {
   "cell_type": "markdown",
   "id": "584383c5-3dcc-44da-bc7c-bc958a2de9cd",
   "metadata": {},
   "source": [
    "#### Example : Using else with for loop\n",
    "The `else` block in a `for` loop will execute `if` the loop is not terminated by a `break` statement."
   ]
  },
  {
   "cell_type": "code",
   "execution_count": 50,
   "id": "a534d66c-d40e-46ad-9fcc-74f90aaec3f1",
   "metadata": {},
   "outputs": [
    {
     "name": "stdout",
     "output_type": "stream",
     "text": [
      "0\n",
      "1\n",
      "2\n",
      "3\n",
      "4\n",
      "Loop finished\n"
     ]
    }
   ],
   "source": [
    "for num in range(5):\n",
    "    print(num)\n",
    "else:\n",
    "    print(\"Loop finished\")"
   ]
  },
  {
   "cell_type": "markdown",
   "id": "6f7dbf39-ad5d-4401-ba48-0fd4a11e3c8c",
   "metadata": {},
   "source": [
    "- ### `break` and `continue` in `for` Loops\n",
    "    - `break`: Exits the loop entirely when a certain condition is met.\n",
    "    - `continue`: Skips the current iteration and moves to the next one.\n",
    "\n",
    "#### Example : Using `break` to stop the loop early"
   ]
  },
  {
   "cell_type": "code",
   "execution_count": 57,
   "id": "d0680629-0f02-49f3-8cdb-3a6d94b8b72f",
   "metadata": {},
   "outputs": [
    {
     "name": "stdout",
     "output_type": "stream",
     "text": [
      "0\n",
      "1\n",
      "2\n",
      "3\n",
      "4\n"
     ]
    }
   ],
   "source": [
    "for i in range(10):\n",
    "    if i == 5:\n",
    "        break  # Exit the loop when i is 5\n",
    "    print(i)"
   ]
  },
  {
   "cell_type": "markdown",
   "id": "9830c6a6-1caf-447e-9df1-b24b646a19e1",
   "metadata": {},
   "source": [
    "#### Example : Using continue to skip an iteration"
   ]
  },
  {
   "cell_type": "code",
   "execution_count": 60,
   "id": "12c3ea3a-3cd5-4913-9f50-f2aeb2588029",
   "metadata": {},
   "outputs": [
    {
     "name": "stdout",
     "output_type": "stream",
     "text": [
      "0\n",
      "1\n",
      "3\n",
      "4\n"
     ]
    }
   ],
   "source": [
    "for i in range(5):\n",
    "    if i == 2:\n",
    "        continue  # Skip the iteration when i is 2\n",
    "    print(i)"
   ]
  },
  {
   "cell_type": "markdown",
   "id": "46e2b7cc-53ac-4976-aca0-ca7e4538591f",
   "metadata": {},
   "source": [
    "- ### List Comprehensions\n",
    "List comprehensions provide a concise way to create lists based on existing sequences. They are considered a more advanced use of `for` loops.\n",
    "\n",
    "#### Example : Simple List Comprehension"
   ]
  },
  {
   "cell_type": "code",
   "execution_count": 71,
   "id": "d55d6163-4d7b-45b6-96cb-61c654baed9d",
   "metadata": {},
   "outputs": [
    {
     "name": "stdout",
     "output_type": "stream",
     "text": [
      "[0, 1, 4, 9, 16]\n"
     ]
    }
   ],
   "source": [
    "squares = [x**2 for x in range(5)]\n",
    "print(squares)"
   ]
  },
  {
   "cell_type": "markdown",
   "id": "a2046f66-65b1-47cf-8979-46371abeacc9",
   "metadata": {},
   "source": [
    "#### Example : List Comprehension with Conditional Statements"
   ]
  },
  {
   "cell_type": "code",
   "execution_count": 83,
   "id": "adc8af68-a954-4ce2-9a56-299e8ed02970",
   "metadata": {},
   "outputs": [
    {
     "name": "stdout",
     "output_type": "stream",
     "text": [
      "[0, 4, 16, 36, 64]\n"
     ]
    }
   ],
   "source": [
    "even_squares = [x**2 for x in range(10) if x % 2 == 0]\n",
    "print(even_squares)"
   ]
  },
  {
   "cell_type": "markdown",
   "id": "9b2d0760-b4d5-4317-843f-3147f6ac025c",
   "metadata": {},
   "source": [
    "- ### `for` Loop with Dictionary \n",
    "You can also iterate over dictionaries using for loops. You can iterate over keys, values, or key-value pairs.\n",
    "\n",
    "#### Example : Iterating over dictionary keys"
   ]
  },
  {
   "cell_type": "code",
   "execution_count": 97,
   "id": "f503dd71-4cf0-4448-92af-c23a6b002997",
   "metadata": {},
   "outputs": [
    {
     "name": "stdout",
     "output_type": "stream",
     "text": [
      "name\n",
      "age\n",
      "city\n"
     ]
    }
   ],
   "source": [
    "person = {\"name\": \"Devara\", \"age\": 25, \"city\": \"Switzerland\"}\n",
    "for key in person:\n",
    "    print(key)"
   ]
  },
  {
   "cell_type": "markdown",
   "id": "114223e0-f626-4024-8cba-20f098e2d045",
   "metadata": {},
   "source": [
    "#### Example : Iterating over dictionary values"
   ]
  },
  {
   "cell_type": "code",
   "execution_count": 100,
   "id": "6fb3275f-9e63-4667-a79d-2a607b0f0fda",
   "metadata": {},
   "outputs": [
    {
     "name": "stdout",
     "output_type": "stream",
     "text": [
      "Devara\n",
      "25\n",
      "Switzerland\n"
     ]
    }
   ],
   "source": [
    "for value in person.values():\n",
    "    print(value)"
   ]
  },
  {
   "cell_type": "markdown",
   "id": "f95eff4d-e695-486d-b0b7-6eaef1e9728b",
   "metadata": {},
   "source": [
    "#### Example : Iterating over key-value pairs"
   ]
  },
  {
   "cell_type": "code",
   "execution_count": 103,
   "id": "eed50b28-e1f4-4641-ad80-2fc03ec24c80",
   "metadata": {},
   "outputs": [
    {
     "name": "stdout",
     "output_type": "stream",
     "text": [
      "name : Devara\n",
      "age : 25\n",
      "city : Switzerland\n"
     ]
    }
   ],
   "source": [
    "for key, value in person.items():\n",
    "    print(f\"{key} : {value}\")"
   ]
  },
  {
   "cell_type": "markdown",
   "id": "2d026193-fff2-4532-ae2f-b6ebaa06d0a6",
   "metadata": {},
   "source": [
    "    "
   ]
  }
 ],
 "metadata": {
  "kernelspec": {
   "display_name": "Python 3 (ipykernel)",
   "language": "python",
   "name": "python3"
  },
  "language_info": {
   "codemirror_mode": {
    "name": "ipython",
    "version": 3
   },
   "file_extension": ".py",
   "mimetype": "text/x-python",
   "name": "python",
   "nbconvert_exporter": "python",
   "pygments_lexer": "ipython3",
   "version": "3.12.4"
  }
 },
 "nbformat": 4,
 "nbformat_minor": 5
}
