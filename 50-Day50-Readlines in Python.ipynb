{
 "cells": [
  {
   "cell_type": "markdown",
   "id": "6bddda12",
   "metadata": {},
   "source": [
    "# `readlines()`in Python"
   ]
  },
  {
   "cell_type": "markdown",
   "id": "61638fbc",
   "metadata": {},
   "source": [
    "## 1. Introduction"
   ]
  },
  {
   "cell_type": "code",
   "execution_count": 3,
   "id": "d84a1f6b",
   "metadata": {},
   "outputs": [],
   "source": [
    "\n",
    "# The readlines() method is used to read all lines from a file into a list.\n",
    "# Each line in the file becomes an element in the list.\n",
    "\n",
    "# Syntax:\n",
    "# file_object.readlines(hint)\n",
    "\n",
    "# hint (optional): An integer to control the number of bytes to read.\n"
   ]
  },
  {
   "cell_type": "markdown",
   "id": "a5c1b745",
   "metadata": {},
   "source": [
    "## 2. Basic Usage"
   ]
  },
  {
   "cell_type": "code",
   "execution_count": 5,
   "id": "beccf496",
   "metadata": {},
   "outputs": [
    {
     "name": "stdout",
     "output_type": "stream",
     "text": [
      "['Hello World!\\n', 'Welcome to Python.\\n', 'readlines() method tutorial.\\n']\n"
     ]
    }
   ],
   "source": [
    "\n",
    "# First, let's create a sample file\n",
    "with open('sample.txt', 'w') as f:\n",
    "    f.write(\"Hello World!\\n\")\n",
    "    f.write(\"Welcome to Python.\\n\")\n",
    "    f.write(\"readlines() method tutorial.\\n\")\n",
    "\n",
    "# Now, reading the file using readlines()\n",
    "with open('sample.txt', 'r') as f:\n",
    "    lines = f.readlines()\n",
    "\n",
    "print(lines)\n"
   ]
  },
  {
   "cell_type": "markdown",
   "id": "98d7eca6",
   "metadata": {},
   "source": [
    "### Output"
   ]
  },
  {
   "cell_type": "code",
   "execution_count": 7,
   "id": "d21cb656",
   "metadata": {},
   "outputs": [
    {
     "data": {
      "text/plain": [
       "['Hello World!\\n', 'Welcome to Python.\\n', 'readlines() method tutorial.\\n']"
      ]
     },
     "execution_count": 7,
     "metadata": {},
     "output_type": "execute_result"
    }
   ],
   "source": [
    "\n",
    "['Hello World!\\n', 'Welcome to Python.\\n', 'readlines() method tutorial.\\n']\n"
   ]
  },
  {
   "cell_type": "markdown",
   "id": "da4e9725",
   "metadata": {},
   "source": [
    "## 3. Looping Through Lines"
   ]
  },
  {
   "cell_type": "code",
   "execution_count": 9,
   "id": "a05186e2",
   "metadata": {},
   "outputs": [
    {
     "name": "stdout",
     "output_type": "stream",
     "text": [
      "Hello World!\n",
      "Welcome to Python.\n",
      "readlines() method tutorial.\n"
     ]
    }
   ],
   "source": [
    "\n",
    "# Loop through each line\n",
    "with open('sample.txt', 'r') as f:\n",
    "    lines = f.readlines()\n",
    "    for line in lines:\n",
    "        print(line.strip())  # strip() removes '\\n'\n"
   ]
  },
  {
   "cell_type": "markdown",
   "id": "30d843ce",
   "metadata": {},
   "source": [
    "## 4. Using `hint` Parameter"
   ]
  },
  {
   "cell_type": "code",
   "execution_count": 11,
   "id": "d31f4f55",
   "metadata": {},
   "outputs": [
    {
     "name": "stdout",
     "output_type": "stream",
     "text": [
      "['Hello World!\\n', 'Welcome to Python.\\n']\n"
     ]
    }
   ],
   "source": [
    "\n",
    "# 'hint' parameter: Maximum number of bytes to read.\n",
    "# If the total bytes exceed hint, reading stops.\n",
    "\n",
    "with open('sample.txt', 'r') as f:\n",
    "    lines_with_hint = f.readlines(20)  # try different hint values\n",
    "    print(lines_with_hint)\n"
   ]
  },
  {
   "cell_type": "markdown",
   "id": "836dc2d7",
   "metadata": {},
   "source": [
    "## 5. Comparing `read()`, `readline()`, and `readlines()`"
   ]
  },
  {
   "cell_type": "code",
   "execution_count": 13,
   "id": "2c312c34",
   "metadata": {},
   "outputs": [
    {
     "name": "stdout",
     "output_type": "stream",
     "text": [
      "Using read():\n",
      "Hello World!\n",
      "Welcome to Python.\n",
      "readlines() method tutorial.\n",
      "\n",
      "\n",
      "Using readline():\n",
      "Hello World!\n",
      "\n",
      "\n",
      "Using readlines():\n",
      "['Hello World!\\n', 'Welcome to Python.\\n', 'readlines() method tutorial.\\n']\n"
     ]
    }
   ],
   "source": [
    "\n",
    "with open('sample.txt', 'r') as f:\n",
    "    print(\"Using read():\")\n",
    "    print(f.read())\n",
    "\n",
    "with open('sample.txt', 'r') as f:\n",
    "    print(\"\\nUsing readline():\")\n",
    "    print(f.readline())  # reads one line\n",
    "\n",
    "with open('sample.txt', 'r') as f:\n",
    "    print(\"\\nUsing readlines():\")\n",
    "    print(f.readlines())  # reads all lines into list\n"
   ]
  },
  {
   "cell_type": "markdown",
   "id": "72326c5e",
   "metadata": {},
   "source": [
    "## 6. Advanced Usage"
   ]
  },
  {
   "cell_type": "markdown",
   "id": "74b5e050",
   "metadata": {},
   "source": [
    "### 6.1 Reading Large Files Efficiently"
   ]
  },
  {
   "cell_type": "code",
   "execution_count": 16,
   "id": "ffe6c80b",
   "metadata": {},
   "outputs": [
    {
     "name": "stdout",
     "output_type": "stream",
     "text": [
      "Hello World!\n",
      "Welcome to Python.\n",
      "readlines() method tutorial.\n"
     ]
    }
   ],
   "source": [
    "\n",
    "# If the file is huge, reading all lines at once can be memory-intensive.\n",
    "# Instead, use lazy loading with a generator approach.\n",
    "\n",
    "def readlines_lazy(filename):\n",
    "    with open(filename, 'r') as file:\n",
    "        for line in file:\n",
    "            yield line\n",
    "\n",
    "for line in readlines_lazy('sample.txt'):\n",
    "    print(line.strip())\n"
   ]
  },
  {
   "cell_type": "markdown",
   "id": "5c1984c4",
   "metadata": {},
   "source": [
    "### 6.2 Removing Newlines Automatically"
   ]
  },
  {
   "cell_type": "code",
   "execution_count": 18,
   "id": "ae152a01",
   "metadata": {},
   "outputs": [
    {
     "name": "stdout",
     "output_type": "stream",
     "text": [
      "['Hello World!', 'Welcome to Python.', 'readlines() method tutorial.']\n"
     ]
    }
   ],
   "source": [
    "\n",
    "# Remove '\\n' while reading lines\n",
    "\n",
    "with open('sample.txt', 'r') as f:\n",
    "    lines = [line.strip() for line in f.readlines()]\n",
    "\n",
    "print(lines)\n"
   ]
  },
  {
   "cell_type": "markdown",
   "id": "d713f4e5",
   "metadata": {},
   "source": [
    "### 6.3 Using Context Managers with `readlines()`"
   ]
  },
  {
   "cell_type": "code",
   "execution_count": 20,
   "id": "e645b4b9",
   "metadata": {},
   "outputs": [],
   "source": [
    "\n",
    "# Best practice is to always use context managers (with open(...))\n",
    "\n",
    "with open('sample.txt', 'r') as file:\n",
    "    lines = file.readlines()\n",
    "\n",
    "# No need to manually close the file\n"
   ]
  },
  {
   "cell_type": "markdown",
   "id": "6e416ed3",
   "metadata": {},
   "source": [
    "## 7. Error Handling"
   ]
  },
  {
   "cell_type": "code",
   "execution_count": 22,
   "id": "a1a19345",
   "metadata": {},
   "outputs": [
    {
     "name": "stdout",
     "output_type": "stream",
     "text": [
      "Error: [Errno 2] No such file or directory: 'non_existent_file.txt'\n"
     ]
    }
   ],
   "source": [
    "\n",
    "# Handle file not found errors\n",
    "\n",
    "try:\n",
    "    with open('non_existent_file.txt', 'r') as f:\n",
    "        lines = f.readlines()\n",
    "except FileNotFoundError as e:\n",
    "    print(\"Error:\", e)\n"
   ]
  },
  {
   "cell_type": "markdown",
   "id": "c06d4647",
   "metadata": {},
   "source": [
    "## 8. Conclusion\n",
    "\n",
    "✅ `readlines()` is great for small- to medium-sized files.  \n",
    "✅ For large files, prefer reading line-by-line to save memory.  \n",
    "✅ Always use context managers (`with open`) to ensure the file is properly closed."
   ]
  }
 ],
 "metadata": {
  "kernelspec": {
   "display_name": "Python 3 (ipykernel)",
   "language": "python",
   "name": "python3"
  },
  "language_info": {
   "codemirror_mode": {
    "name": "ipython",
    "version": 3
   },
   "file_extension": ".py",
   "mimetype": "text/x-python",
   "name": "python",
   "nbconvert_exporter": "python",
   "pygments_lexer": "ipython3",
   "version": "3.12.4"
  }
 },
 "nbformat": 4,
 "nbformat_minor": 5
}
