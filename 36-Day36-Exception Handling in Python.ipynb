{
 "cells": [
  {
   "cell_type": "markdown",
   "id": "0a831001",
   "metadata": {},
   "source": [
    "# Exception Handling in Python "
   ]
  },
  {
   "cell_type": "markdown",
   "id": "4ec69f13",
   "metadata": {},
   "source": [
    "Exception handling allows you to deal with unexpected errors in your Python programs gracefully.\n",
    "\n",
    "Exception handling is the process of responding to unwanted or unexpected events when a computer program runs. Exception handling deals with these events to avoid the program or system crashing, and without this process, exceptions would disrupt the normal operation of a program.\n",
    "\n",
    "Python has many built-in exceptions that are raised when your program encounters an error (something in the program goes wrong).\r\n",
    "\r\n",
    "When these exceptions occur, the Python interpreter stops the current process and passes it to the calling process until it is handled. If not handled, the program will crash."
   ]
  },
  {
   "cell_type": "markdown",
   "id": "a0d26856",
   "metadata": {},
   "source": [
    "## Basic Exception Handling using `try` and `except`"
   ]
  },
  {
   "cell_type": "code",
   "execution_count": 4,
   "id": "667dba2b",
   "metadata": {},
   "outputs": [
    {
     "name": "stdin",
     "output_type": "stream",
     "text": [
      "Enter a number:  s\n"
     ]
    },
    {
     "name": "stdout",
     "output_type": "stream",
     "text": [
      "That's not a valid number!\n"
     ]
    }
   ],
   "source": [
    "# Basic example\n",
    "try:\n",
    "    x = int(input(\"Enter a number: \"))\n",
    "    print(\"You entered:\", x)\n",
    "except ValueError:\n",
    "    print(\"That's not a valid number!\")"
   ]
  },
  {
   "cell_type": "code",
   "execution_count": 6,
   "id": "00ec4d1b-edfa-4504-98f7-8538958d24b0",
   "metadata": {},
   "outputs": [
    {
     "name": "stdin",
     "output_type": "stream",
     "text": [
      "Enter a number:  h\n"
     ]
    },
    {
     "name": "stdout",
     "output_type": "stream",
     "text": [
      "Sorry some error occured\n"
     ]
    }
   ],
   "source": [
    "try:\n",
    "    a = int(input(\"Enter a number: \"))\n",
    "    print(f\"Multiplication table of {a} is :-\")\n",
    "\n",
    "    for i in range(1,11):\n",
    "        print(f\"{a} * {i} = {a * i}\")\n",
    "except Exception as e:\n",
    "    print(\"Sorry some error occured\")"
   ]
  },
  {
   "cell_type": "markdown",
   "id": "bd88ff3a",
   "metadata": {},
   "source": [
    "## Catching Multiple Exceptions"
   ]
  },
  {
   "cell_type": "code",
   "execution_count": 9,
   "id": "2517cc9e",
   "metadata": {},
   "outputs": [
    {
     "name": "stdin",
     "output_type": "stream",
     "text": [
      "Enter a number:  0\n"
     ]
    },
    {
     "name": "stdout",
     "output_type": "stream",
     "text": [
      "Division by zero is not allowed.\n"
     ]
    }
   ],
   "source": [
    "try:\n",
    "    a = int(input(\"Enter a number: \"))\n",
    "    b = 10 / a\n",
    "except ValueError:\n",
    "    print(\"Input must be an integer.\")\n",
    "except ZeroDivisionError:\n",
    "    print(\"Division by zero is not allowed.\")"
   ]
  },
  {
   "cell_type": "markdown",
   "id": "dbfb1ada",
   "metadata": {},
   "source": [
    "## Using `else` and `finally` Blocks"
   ]
  },
  {
   "cell_type": "markdown",
   "id": "3d04a06a-dc7a-48c5-bac1-5013e896452b",
   "metadata": {},
   "source": [
    "# try:\n",
    "    value = int(input(\"Enter a number: \"))\n",
    "except ValueError:\n",
    "    print(\"Invalid input!\")\n",
    "else:\n",
    "    print(\"Success! You entered:\", value)\n",
    "finally:\n",
    "    print(\"This block always executes.\")"
   ]
  },
  {
   "cell_type": "markdown",
   "id": "1958aaf5",
   "metadata": {},
   "source": [
    "## 🔹 Catching Any Exception (Not Recommended Unless Necessary)"
   ]
  },
  {
   "cell_type": "code",
   "execution_count": 14,
   "id": "e57076af",
   "metadata": {},
   "outputs": [
    {
     "name": "stdout",
     "output_type": "stream",
     "text": [
      "An error occurred: division by zero\n"
     ]
    }
   ],
   "source": [
    "try:\n",
    "    x = 1 / 0\n",
    "except Exception as e:\n",
    "    print(\"An error occurred:\", e)"
   ]
  },
  {
   "cell_type": "markdown",
   "id": "fa400126",
   "metadata": {},
   "source": [
    "## Raising Exceptions Manually using `raise`"
   ]
  },
  {
   "cell_type": "code",
   "execution_count": 17,
   "id": "be18091f",
   "metadata": {},
   "outputs": [
    {
     "name": "stdout",
     "output_type": "stream",
     "text": [
      "Cannot divide by zero!\n"
     ]
    }
   ],
   "source": [
    "def divide(x, y):\n",
    "    if y == 0:\n",
    "        raise ZeroDivisionError(\"Cannot divide by zero!\")\n",
    "    return x / y\n",
    "\n",
    "# Test it\n",
    "try:\n",
    "    result = divide(10, 0)\n",
    "except ZeroDivisionError as e:\n",
    "    print(e)"
   ]
  },
  {
   "cell_type": "markdown",
   "id": "abe61cd6",
   "metadata": {},
   "source": [
    "## Creating Custom Exceptions"
   ]
  },
  {
   "cell_type": "code",
   "execution_count": 20,
   "id": "bd608c62",
   "metadata": {},
   "outputs": [
    {
     "name": "stdout",
     "output_type": "stream",
     "text": [
      "Custom Exception Caught: Negative numbers not allowed.\n"
     ]
    }
   ],
   "source": [
    "class NegativeNumberError(Exception):\n",
    "    \"\"\"Raised when the input number is negative\"\"\"\n",
    "    pass\n",
    "\n",
    "def square_root(x):\n",
    "    if x < 0:\n",
    "        raise NegativeNumberError(\"Negative numbers not allowed.\")\n",
    "    return x ** 0.5\n",
    "\n",
    "# Test\n",
    "try:\n",
    "    print(square_root(-9))\n",
    "except NegativeNumberError as e:\n",
    "    print(\"Custom Exception Caught:\", e)"
   ]
  },
  {
   "cell_type": "markdown",
   "id": "d94171de",
   "metadata": {},
   "source": [
    "## Logging Exceptions (Instead of Printing)"
   ]
  },
  {
   "cell_type": "code",
   "execution_count": 23,
   "id": "96e4faf0",
   "metadata": {},
   "outputs": [],
   "source": [
    "import logging\n",
    "\n",
    "logging.basicConfig(filename='app.log', level=logging.ERROR)\n",
    "\n",
    "try:\n",
    "    x = 1 / 0\n",
    "except Exception as e:\n",
    "    logging.error(\"Exception occurred\", exc_info=True)"
   ]
  },
  {
   "cell_type": "markdown",
   "id": "1f4b0d9c",
   "metadata": {},
   "source": [
    "## Best Practices\n",
    "\n",
    "- Catch specific exceptions.\n",
    "- Avoid bare `except:` unless necessary.\n",
    "- Use `finally` for cleanup.\n",
    "- Raise custom exceptions for domain-specific errors.\n",
    "- Log exceptions in production applications."
   ]
  },
  {
   "cell_type": "markdown",
   "id": "0a4e792d",
   "metadata": {},
   "source": [
    "## ✅ Practice Exercise\n",
    "\n",
    "Write a function that takes a file name as input and returns its contents. Handle the following exceptions:\n",
    "\n",
    "- FileNotFoundError\n",
    "- PermissionError\n",
    "- Any other unexpected error"
   ]
  },
  {
   "cell_type": "code",
   "execution_count": 27,
   "id": "dbee317a",
   "metadata": {},
   "outputs": [],
   "source": [
    "def read_file(file_name):\n",
    "    try:\n",
    "        with open(file_name, 'r') as f:\n",
    "            return f.read()\n",
    "    except FileNotFoundError:\n",
    "        return \"File not found.\"\n",
    "    except PermissionError:\n",
    "        return \"Permission denied.\"\n",
    "    except Exception as e:\n",
    "        return f\"An error occurred: {e}\"\n",
    "\n",
    "# Try calling read_file with different scenarios"
   ]
  }
 ],
 "metadata": {
  "kernelspec": {
   "display_name": "Python 3 (ipykernel)",
   "language": "python",
   "name": "python3"
  },
  "language_info": {
   "codemirror_mode": {
    "name": "ipython",
    "version": 3
   },
   "file_extension": ".py",
   "mimetype": "text/x-python",
   "name": "python",
   "nbconvert_exporter": "python",
   "pygments_lexer": "ipython3",
   "version": "3.12.4"
  }
 },
 "nbformat": 4,
 "nbformat_minor": 5
}
