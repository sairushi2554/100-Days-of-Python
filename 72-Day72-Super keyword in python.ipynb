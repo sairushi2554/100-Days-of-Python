{
 "cells": [
  {
   "cell_type": "markdown",
   "id": "21f46b86",
   "metadata": {},
   "source": [
    "# `super()` Keyword in Python"
   ]
  },
  {
   "cell_type": "markdown",
   "id": "b40c6e4f",
   "metadata": {},
   "source": [
    "\n",
    "The `super()` function in Python is used to give access to methods and properties of a parent or sibling class. \n",
    "It is commonly used in class inheritance to call methods defined in a parent class.\n"
   ]
  },
  {
   "cell_type": "markdown",
   "id": "cd196682",
   "metadata": {},
   "source": [
    "## Basic Usage of `super()`"
   ]
  },
  {
   "cell_type": "code",
   "execution_count": 4,
   "id": "67c062bd",
   "metadata": {},
   "outputs": [
    {
     "name": "stdout",
     "output_type": "stream",
     "text": [
      "Hello from Parent\n",
      "Hello from Child\n"
     ]
    }
   ],
   "source": [
    "\n",
    "class Parent:\n",
    "    def greet(self):\n",
    "        print(\"Hello from Parent\")\n",
    "\n",
    "class Child(Parent):\n",
    "    def greet(self):\n",
    "        super().greet()\n",
    "        print(\"Hello from Child\")\n",
    "\n",
    "c = Child()\n",
    "c.greet()\n"
   ]
  },
  {
   "cell_type": "markdown",
   "id": "1a80d845",
   "metadata": {},
   "source": [
    "## Using `super()` in Constructor (Initializer)"
   ]
  },
  {
   "cell_type": "code",
   "execution_count": 6,
   "id": "e4a4a659",
   "metadata": {},
   "outputs": [
    {
     "name": "stdout",
     "output_type": "stream",
     "text": [
      "Animal: Dog\n",
      "Dog Name: Buddy\n"
     ]
    }
   ],
   "source": [
    "\n",
    "class Animal:\n",
    "    def __init__(self, species):\n",
    "        print(f\"Animal: {species}\")\n",
    "\n",
    "class Dog(Animal):\n",
    "    def __init__(self, name):\n",
    "        super().__init__(\"Dog\")\n",
    "        print(f\"Dog Name: {name}\")\n",
    "\n",
    "d = Dog(\"Buddy\")\n"
   ]
  },
  {
   "cell_type": "markdown",
   "id": "100f8457",
   "metadata": {},
   "source": [
    "## `super()` with Multiple Inheritance"
   ]
  },
  {
   "cell_type": "code",
   "execution_count": 8,
   "id": "2292d5e6",
   "metadata": {},
   "outputs": [
    {
     "name": "stdout",
     "output_type": "stream",
     "text": [
      "A\n",
      "C\n",
      "B\n",
      "D\n"
     ]
    }
   ],
   "source": [
    "\n",
    "class A:\n",
    "    def show(self):\n",
    "        print(\"A\")\n",
    "\n",
    "class B(A):\n",
    "    def show(self):\n",
    "        super().show()\n",
    "        print(\"B\")\n",
    "\n",
    "class C(A):\n",
    "    def show(self):\n",
    "        super().show()\n",
    "        print(\"C\")\n",
    "\n",
    "class D(B, C):\n",
    "    def show(self):\n",
    "        super().show()\n",
    "        print(\"D\")\n",
    "\n",
    "d = D()\n",
    "d.show()\n"
   ]
  },
  {
   "cell_type": "markdown",
   "id": "e775ce26",
   "metadata": {},
   "source": [
    "## Practical Use Case of `super()`"
   ]
  },
  {
   "cell_type": "code",
   "execution_count": 10,
   "id": "de1a22ee",
   "metadata": {},
   "outputs": [
    {
     "name": "stdout",
     "output_type": "stream",
     "text": [
      "Log: Connection established.\n",
      "Database Log: Connection established.\n"
     ]
    }
   ],
   "source": [
    "\n",
    "class Logger:\n",
    "    def log(self, message):\n",
    "        print(f\"Log: {message}\")\n",
    "\n",
    "class Database(Logger):\n",
    "    def log(self, message):\n",
    "        super().log(message)\n",
    "        print(f\"Database Log: {message}\")\n",
    "\n",
    "db = Database()\n",
    "db.log(\"Connection established.\")\n"
   ]
  },
  {
   "cell_type": "markdown",
   "id": "f241a770",
   "metadata": {},
   "source": [
    "## Advanced: `super()` with `__init__` in Multi-Level Inheritance"
   ]
  },
  {
   "cell_type": "code",
   "execution_count": 12,
   "id": "b2a79c4f",
   "metadata": {},
   "outputs": [
    {
     "name": "stdout",
     "output_type": "stream",
     "text": [
      "Init A\n",
      "Init B\n",
      "Init C\n"
     ]
    }
   ],
   "source": [
    "\n",
    "class A:\n",
    "    def __init__(self):\n",
    "        print(\"Init A\")\n",
    "\n",
    "class B(A):\n",
    "    def __init__(self):\n",
    "        super().__init__()\n",
    "        print(\"Init B\")\n",
    "\n",
    "class C(B):\n",
    "    def __init__(self):\n",
    "        super().__init__()\n",
    "        print(\"Init C\")\n",
    "\n",
    "c = C()\n"
   ]
  }
 ],
 "metadata": {
  "kernelspec": {
   "display_name": "Python 3 (ipykernel)",
   "language": "python",
   "name": "python3"
  },
  "language_info": {
   "codemirror_mode": {
    "name": "ipython",
    "version": 3
   },
   "file_extension": ".py",
   "mimetype": "text/x-python",
   "name": "python",
   "nbconvert_exporter": "python",
   "pygments_lexer": "ipython3",
   "version": "3.12.4"
  }
 },
 "nbformat": 4,
 "nbformat_minor": 5
}
