{
 "cells": [
  {
   "cell_type": "markdown",
   "id": "fe3a395e-888b-4176-8812-a51311397f5a",
   "metadata": {},
   "source": [
    "# **Python `break` and `continue` Statements**\n",
    "\n",
    "## **Introduction**\n",
    "- **`break`**: Terminates the loop entirely and resumes execution after the loop.\n",
    "- **`continue`**: Skips the rest of the loop body for the current iteration and moves to the next iteration.\n",
    "\n",
    "These statements are commonly used for controlling the flow of loops (`for` and `while`).\n",
    "\n",
    "## **Using `break`**\n",
    "\n",
    "### **Syntax**\n",
    "```python\n",
    "break  # Terminates the loop immediately\n"
   ]
  },
  {
   "cell_type": "code",
   "execution_count": 2,
   "id": "4d320b43-d164-45d6-bc3f-a6f2513ef74a",
   "metadata": {},
   "outputs": [
    {
     "name": "stdout",
     "output_type": "stream",
     "text": [
      "Current value: 0\n",
      "Current value: 1\n",
      "Current value: 2\n",
      "Loop exited\n"
     ]
    }
   ],
   "source": [
    "for i in range(5):\n",
    "    if i == 3:\n",
    "        break\n",
    "    print(\"Current value:\", i)\n",
    "print(\"Loop exited\")"
   ]
  },
  {
   "cell_type": "markdown",
   "id": "ab81b3aa-a938-4395-8574-b09d5608d367",
   "metadata": {},
   "source": [
    "### `break` in a `while` Loop"
   ]
  },
  {
   "cell_type": "code",
   "execution_count": 4,
   "id": "ca799c0c-001e-438e-8496-9b88d663de6f",
   "metadata": {},
   "outputs": [
    {
     "name": "stdout",
     "output_type": "stream",
     "text": [
      "Count: 0\n",
      "Count: 1\n",
      "Count: 2\n",
      "Count: 3\n",
      "Count: 4\n"
     ]
    }
   ],
   "source": [
    "count = 0\n",
    "while count < 10:\n",
    "    if count == 5:\n",
    "        break\n",
    "    print(\"Count:\", count)\n",
    "    count += 1"
   ]
  },
  {
   "cell_type": "markdown",
   "id": "f5dd8cb5-14df-4132-8d8b-347b4ac98cd6",
   "metadata": {},
   "source": [
    "### `break` in Nested Loops"
   ]
  },
  {
   "cell_type": "code",
   "execution_count": 6,
   "id": "7ab60d52-d4e4-41c6-aadf-9731f367963a",
   "metadata": {},
   "outputs": [
    {
     "name": "stdout",
     "output_type": "stream",
     "text": [
      "i=0, j=0\n",
      "i=0, j=1\n",
      "i=1, j=0\n",
      "i=1, j=1\n",
      "i=2, j=0\n",
      "i=2, j=1\n"
     ]
    }
   ],
   "source": [
    "for i in range(3):\n",
    "    for j in range(3):\n",
    "        if j == 2:\n",
    "            break\n",
    "        print(f\"i={i}, j={j}\")"
   ]
  },
  {
   "cell_type": "markdown",
   "id": "78e5d987-7970-41ca-8566-34d924a44a60",
   "metadata": {},
   "source": [
    "## **Using `continue`**\n",
    "### **syntax**\n",
    "```python \n",
    "continue  # Skips the rest of the loop body for the current iteration\r\n"
   ]
  },
  {
   "cell_type": "code",
   "execution_count": 8,
   "id": "6ccfc9cd-ccde-451b-a67f-6d5bd21b5e39",
   "metadata": {},
   "outputs": [
    {
     "name": "stdout",
     "output_type": "stream",
     "text": [
      "Current value: 0\n",
      "Current value: 1\n",
      "Current value: 2\n",
      "Current value: 4\n"
     ]
    }
   ],
   "source": [
    "for i in range(5):\n",
    "    if i == 3:\n",
    "        continue\n",
    "    print(\"Current value:\", i)"
   ]
  },
  {
   "cell_type": "markdown",
   "id": "ef8339e9-0251-4f6e-8dd3-88dbf08e08c6",
   "metadata": {},
   "source": [
    "### `continue` in a `while` Loop"
   ]
  },
  {
   "cell_type": "code",
   "execution_count": 10,
   "id": "23932fd4-4644-4d6f-84d3-082619854489",
   "metadata": {},
   "outputs": [
    {
     "name": "stdout",
     "output_type": "stream",
     "text": [
      "Count: 1\n",
      "Count: 2\n",
      "Count: 4\n",
      "Count: 5\n"
     ]
    }
   ],
   "source": [
    "count = 0\n",
    "while count < 5:\n",
    "    count += 1\n",
    "    if count == 3:\n",
    "        continue\n",
    "    print(\"Count:\", count)"
   ]
  },
  {
   "cell_type": "markdown",
   "id": "33c8f94d-c9e9-4c00-b7fd-362b3c427936",
   "metadata": {},
   "source": [
    "### `continue` in Nested Loops"
   ]
  },
  {
   "cell_type": "code",
   "execution_count": 12,
   "id": "14b788f9-522a-40b3-9b67-386b51ce5dba",
   "metadata": {},
   "outputs": [
    {
     "name": "stdout",
     "output_type": "stream",
     "text": [
      "i=0, j=0\n",
      "i=0, j=2\n",
      "i=1, j=0\n",
      "i=1, j=2\n",
      "i=2, j=0\n",
      "i=2, j=2\n"
     ]
    }
   ],
   "source": [
    "for i in range(3):\n",
    "    for j in range(3):\n",
    "        if j == 1:\n",
    "            continue\n",
    "        print(f\"i={i}, j={j}\")"
   ]
  },
  {
   "cell_type": "markdown",
   "id": "d16aaced-097c-406a-961b-947002ab5b21",
   "metadata": {},
   "source": [
    "## Breaking Out of an Infinite Loop"
   ]
  },
  {
   "cell_type": "code",
   "execution_count": 14,
   "id": "3c73ec01-45e5-463f-b18e-2594a498bfd1",
   "metadata": {},
   "outputs": [
    {
     "name": "stdin",
     "output_type": "stream",
     "text": [
      "Enter 'exit' to quit:  let's go\n"
     ]
    },
    {
     "name": "stdout",
     "output_type": "stream",
     "text": [
      "You entered: let's go\n"
     ]
    },
    {
     "name": "stdin",
     "output_type": "stream",
     "text": [
      "Enter 'exit' to quit:  ExIt\n"
     ]
    },
    {
     "name": "stdout",
     "output_type": "stream",
     "text": [
      "Exiting loop\n"
     ]
    }
   ],
   "source": [
    "while True:\n",
    "    user_input = input(\"Enter 'exit' to quit: \")\n",
    "    if user_input.lower() == 'exit':\n",
    "        print(\"Exiting loop\")\n",
    "        break\n",
    "    print(f\"You entered: {user_input}\")"
   ]
  },
  {
   "cell_type": "markdown",
   "id": "78a0f956-cb0e-4060-8030-3b7b09533ebc",
   "metadata": {},
   "source": [
    "### Skipping Specific Iterations"
   ]
  },
  {
   "cell_type": "code",
   "execution_count": 16,
   "id": "634d5a44-e084-4169-afd4-0266727fb2ae",
   "metadata": {},
   "outputs": [
    {
     "name": "stdout",
     "output_type": "stream",
     "text": [
      "Odd number: 1\n",
      "Odd number: 3\n",
      "Odd number: 5\n"
     ]
    }
   ],
   "source": [
    "numbers = [1, 2, 3, 4, 5, 6]\n",
    "for num in numbers:\n",
    "    if num % 2 == 0:\n",
    "        continue  # Skip even numbers\n",
    "    print(\"Odd number:\", num)"
   ]
  },
  {
   "cell_type": "markdown",
   "id": "24c55b55-f74c-456c-ae02-1921f0846a81",
   "metadata": {},
   "source": [
    "## Breaking Out of Both Nested Loops"
   ]
  },
  {
   "cell_type": "code",
   "execution_count": 18,
   "id": "a7152f99-5668-49b3-92c0-06006efbb66b",
   "metadata": {},
   "outputs": [
    {
     "name": "stdout",
     "output_type": "stream",
     "text": [
      "Exited both loops\n"
     ]
    }
   ],
   "source": [
    "found = False\n",
    "for i in range(3):\n",
    "    for j in range(3):\n",
    "        if i == 1 and j == 2:\n",
    "            found = True\n",
    "            break\n",
    "    if found:\n",
    "        break\n",
    "print(\"Exited both loops\")"
   ]
  },
  {
   "cell_type": "code",
   "execution_count": 19,
   "id": "bc036ff3-9940-4060-9691-ad7c17e5a534",
   "metadata": {},
   "outputs": [
    {
     "name": "stdout",
     "output_type": "stream",
     "text": [
      "Exited both loops\n"
     ]
    }
   ],
   "source": [
    "for i in range(3):\n",
    "    for j in range(3):\n",
    "        if i == 1 and j == 1:\n",
    "            break\n",
    "    else:\n",
    "        continue\n",
    "    break\n",
    "print(\"Exited both loops\")"
   ]
  },
  {
   "cell_type": "markdown",
   "id": "53c4d9a7-eec1-4b4a-b8f1-e8d140fedadb",
   "metadata": {},
   "source": [
    "## **`break` vs `continue`**\r\n",
    "\r\n",
    "| **Feature**      | **`break`**                              | **`continue`**                          |\r\n",
    "|-------------------|------------------------------------------|------------------------------------------|\r\n",
    "| **Purpose**       | Exits the loop entirely                 | Skips the current iteration              |\r\n",
    "| **Behavior**      | Jumps to the next statement after the loop | Proceeds to the next iteration of the loop |\r\n",
    "| **Applicability** | Useful for stopping loops based on a condition | Useful for skipping over specific cases  |\r\n"
   ]
  },
  {
   "cell_type": "markdown",
   "id": "e24b39e7-cd4f-448c-b351-836093a2976a",
   "metadata": {},
   "source": [
    "- Use `break` to optimize performance by avoiding unnecessary iterations.\n",
    "- Use `continue` to skip irrelevant computations or conditions.\n",
    "- Avoid overusing `break` and `continue` to maintain code readability."
   ]
  }
 ],
 "metadata": {
  "kernelspec": {
   "display_name": "Python 3 (ipykernel)",
   "language": "python",
   "name": "python3"
  },
  "language_info": {
   "codemirror_mode": {
    "name": "ipython",
    "version": 3
   },
   "file_extension": ".py",
   "mimetype": "text/x-python",
   "name": "python",
   "nbconvert_exporter": "python",
   "pygments_lexer": "ipython3",
   "version": "3.12.4"
  }
 },
 "nbformat": 4,
 "nbformat_minor": 5
}
