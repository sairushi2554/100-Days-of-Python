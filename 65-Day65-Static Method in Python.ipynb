{
 "cells": [
  {
   "cell_type": "markdown",
   "id": "079fbe4f",
   "metadata": {},
   "source": [
    "# Static Methods in Python\n",
    "\n",
    "Static methods in Python are methods that belong to a class rather than an instance. They do not require access to the instance (`self`) or class (`cls`) and are marked using the `@staticmethod` decorator."
   ]
  },
  {
   "cell_type": "markdown",
   "id": "294a7cda",
   "metadata": {},
   "source": [
    "## 1. Why Use Static Methods?\n",
    "\n",
    "- Utility functions related to a class but not dependent on instance or class data.\n",
    "- Keep code organized within the class namespace."
   ]
  },
  {
   "cell_type": "markdown",
   "id": "1bcd2fbf",
   "metadata": {},
   "source": [
    "## 2. Basic Example of a Static Method"
   ]
  },
  {
   "cell_type": "code",
   "execution_count": 4,
   "id": "c09e7fbd",
   "metadata": {},
   "outputs": [
    {
     "name": "stdout",
     "output_type": "stream",
     "text": [
      "7\n"
     ]
    }
   ],
   "source": [
    "class MathUtils:\n",
    "    @staticmethod\n",
    "    def add(x, y):\n",
    "        return x + y\n",
    "\n",
    "# Usage\n",
    "print(MathUtils.add(3, 4))  # 7"
   ]
  },
  {
   "cell_type": "markdown",
   "id": "96152aec",
   "metadata": {},
   "source": [
    "## 3. Static Method vs Instance Method\n",
    "\n",
    "- Instance methods take `self` as the first parameter.\n",
    "- Static methods take neither `self` nor `cls`."
   ]
  },
  {
   "cell_type": "code",
   "execution_count": 6,
   "id": "969c161f",
   "metadata": {},
   "outputs": [
    {
     "name": "stdout",
     "output_type": "stream",
     "text": [
      "Instance method called <__main__.Demo object at 0x000002B2B95B3A40>\n",
      "Static method called\n",
      "Static method called\n"
     ]
    }
   ],
   "source": [
    "class Demo:\n",
    "    def instance_method(self):\n",
    "        print(\"Instance method called\", self)\n",
    "\n",
    "    @staticmethod\n",
    "    def static_method():\n",
    "        print(\"Static method called\")\n",
    "\n",
    "d = Demo()\n",
    "d.instance_method()\n",
    "d.static_method()\n",
    "Demo.static_method()  # Can be called without an instance"
   ]
  },
  {
   "cell_type": "markdown",
   "id": "9e467578",
   "metadata": {},
   "source": [
    "## 4. Real-World Use Case\n",
    "\n",
    "Use static methods when defining a helper method inside a class."
   ]
  },
  {
   "cell_type": "code",
   "execution_count": 8,
   "id": "70185345",
   "metadata": {},
   "outputs": [
    {
     "name": "stdout",
     "output_type": "stream",
     "text": [
      "86.0\n",
      "30.0\n"
     ]
    }
   ],
   "source": [
    "class TemperatureConverter:\n",
    "    @staticmethod\n",
    "    def celsius_to_fahrenheit(c):\n",
    "        return (c * 9/5) + 32\n",
    "\n",
    "    @staticmethod\n",
    "    def fahrenheit_to_celsius(f):\n",
    "        return (f - 32) * 5/9\n",
    "\n",
    "print(TemperatureConverter.celsius_to_fahrenheit(30))  # 86.0\n",
    "print(TemperatureConverter.fahrenheit_to_celsius(86))  # 30.0"
   ]
  },
  {
   "cell_type": "markdown",
   "id": "8cfe2c17",
   "metadata": {},
   "source": [
    "## 5. Best Practices\n",
    "\n",
    "- Use `@staticmethod` for functions that logically belong to a class but don't access class/instance data.\n",
    "- Prefer `@classmethod` if you need to access class-level data.\n",
    "- Keep utility functions as static methods if they enhance code readability and organization."
   ]
  }
 ],
 "metadata": {
  "kernelspec": {
   "display_name": "Python 3 (ipykernel)",
   "language": "python",
   "name": "python3"
  },
  "language_info": {
   "codemirror_mode": {
    "name": "ipython",
    "version": 3
   },
   "file_extension": ".py",
   "mimetype": "text/x-python",
   "name": "python",
   "nbconvert_exporter": "python",
   "pygments_lexer": "ipython3",
   "version": "3.12.4"
  }
 },
 "nbformat": 4,
 "nbformat_minor": 5
}
