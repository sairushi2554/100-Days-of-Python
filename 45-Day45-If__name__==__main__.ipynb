{
 "cells": [
  {
   "cell_type": "markdown",
   "id": "a9cae767",
   "metadata": {},
   "source": [
    "# Understanding `if __name__ == \"__main__\"` in Python"
   ]
  },
  {
   "cell_type": "markdown",
   "id": "3ef416fe",
   "metadata": {},
   "source": [
    "\n",
    "## `if \"__name__ == \"__main__\"\"` in Python\n",
    "\n",
    "The `if __name__ == \"__main__\"` idiom is a common pattern used in Python scripts to determine whether the script is being run directly or being imported as a module into another script.\n",
    "\n",
    "In Python, the `__name__` variable is a built-in variable that is automatically set to the name of the current module. When a Python script is run directly, the `__name__` variable is set to the string `\"__main__\"`. When the script is imported as a module into another script, the `__name__` variable is set to the name of the module.\n"
   ]
  },
  {
   "cell_type": "markdown",
   "id": "6e6c5b39",
   "metadata": {},
   "source": [
    "\n",
    "Here's an example of how the idiom is used:\n"
   ]
  },
  {
   "cell_type": "code",
   "execution_count": null,
   "id": "11d80ab4",
   "metadata": {},
   "outputs": [],
   "source": [
    "\n",
    "def main():\n",
    "    print(\"Running script directly\")\n",
    "\n",
    "if __name__ == \"__main__\":\n",
    "    main()\n"
   ]
  },
  {
   "cell_type": "markdown",
   "id": "9a2092c1",
   "metadata": {},
   "source": [
    "\n",
    "## Why is it useful?\n",
    "\n",
    "This idiom allows you to reuse code from a script by importing it as a module into another script, without running the code in the original script.\n"
   ]
  },
  {
   "cell_type": "code",
   "execution_count": null,
   "id": "c22e43a3",
   "metadata": {},
   "outputs": [],
   "source": [
    "\n",
    "# Contents of a file named mymodule.py\n",
    "def main():\n",
    "    print(\"Running script directly\")\n",
    "\n",
    "if __name__ == \"__main__\":\n",
    "    main()\n"
   ]
  },
  {
   "cell_type": "code",
   "execution_count": null,
   "id": "9782f538",
   "metadata": {},
   "outputs": [],
   "source": [
    "\n",
    "# Now in another file, you can import and reuse without triggering main()\n",
    "import mymodule\n",
    "\n",
    "mymodule.main()  # Output: Running script directly\n"
   ]
  },
  {
   "cell_type": "markdown",
   "id": "d6c89ef9",
   "metadata": {},
   "source": [
    "\n",
    "## Is it a necessity?\n",
    "\n",
    "It's not required to run a Python script, but using it improves code reusability and organization. Without it, every time you import a script, all top-level code would execute — which can lead to unintended behavior.\n"
   ]
  },
  {
   "cell_type": "markdown",
   "id": "81b1dfbd",
   "metadata": {},
   "source": [
    "\n",
    "## Advanced Example: Conditional Script Execution and Testing\n"
   ]
  },
  {
   "cell_type": "code",
   "execution_count": null,
   "id": "88ac318f",
   "metadata": {},
   "outputs": [],
   "source": [
    "\n",
    "# myscript.py\n",
    "def add(a, b):\n",
    "    return a + b\n",
    "\n",
    "def main():\n",
    "    print(\"Testing add:\", add(2, 3))\n",
    "\n",
    "if __name__ == \"__main__\":\n",
    "    main()\n"
   ]
  },
  {
   "cell_type": "code",
   "execution_count": null,
   "id": "0a64b7a1",
   "metadata": {},
   "outputs": [],
   "source": [
    "\n",
    "# test_script.py\n",
    "import myscript\n",
    "\n",
    "print(\"Using add from imported script:\", myscript.add(5, 7))  # Will NOT trigger myscript.main()\n"
   ]
  },
  {
   "cell_type": "markdown",
   "id": "e05304a7",
   "metadata": {},
   "source": [
    "\n",
    "## Summary\n",
    "\n",
    "- `__name__` is a special built-in variable in Python.\n",
    "- When a script is run directly, `__name__ == \"__main__\"` is True.\n",
    "- When a script is imported as a module, `__name__` is set to the module's name.\n",
    "- Using `if __name__ == \"__main__\"` prevents certain code from running on import.\n",
    "- It's a best practice for scripts that might be reused or imported.\n",
    "\n",
    "Using this idiom keeps your code clean and modular.\n"
   ]
  }
 ],
 "metadata": {
  "kernelspec": {
   "display_name": "Python 3 (ipykernel)",
   "language": "python",
   "name": "python3"
  },
  "language_info": {
   "codemirror_mode": {
    "name": "ipython",
    "version": 3
   },
   "file_extension": ".py",
   "mimetype": "text/x-python",
   "name": "python",
   "nbconvert_exporter": "python",
   "pygments_lexer": "ipython3",
   "version": "3.12.4"
  }
 },
 "nbformat": 4,
 "nbformat_minor": 5
}
