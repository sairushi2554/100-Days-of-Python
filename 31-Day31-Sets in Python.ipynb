{
 "cells": [
  {
   "cell_type": "markdown",
   "id": "8415c679-f988-463f-98f2-a4d084f5287b",
   "metadata": {},
   "source": [
    "# Python Sets\n",
    "\r\n",
    "A **set** is an **unordered**, **mutable**, and **unindexed** collection of unique elements. It is useful when you need to store multiple items and automatically remove duplicates.\r\n",
    "\r\n",
    "### Key Features of Sets:\r\n",
    "- **Unordered** – Elements are not stored in a specific order.\r\n",
    "- **Unique Elements** – Duplicates are not allowed.\r\n",
    "- **Mutable** – You can add or remove elements.\r\n",
    "- **Unindexed** – Elements cannot be accessed using an index.\r\n",
    "- **Heterogeneous Elements** – Can store different data types (e.g., integers, strings, tuples)."
   ]
  },
  {
   "cell_type": "markdown",
   "id": "a4877e06-f107-4558-b8dd-49145ec93e6b",
   "metadata": {},
   "source": [
    "## Creating a Set\n",
    "A set is created by placing comma-separated values inside curly braces `{}` or by using the `set()` constructor."
   ]
  },
  {
   "cell_type": "code",
   "execution_count": 3,
   "id": "8ee10e85-ed2d-4123-8b80-9cae9f26ad77",
   "metadata": {},
   "outputs": [
    {
     "name": "stdout",
     "output_type": "stream",
     "text": [
      "{1, 2, 3, 4, 5}\n"
     ]
    }
   ],
   "source": [
    "# Creating a set\n",
    "my_set = {1, 2, 3, 4, 5}\n",
    "print(my_set)  # Output: {1, 2, 3, 4, 5}"
   ]
  },
  {
   "cell_type": "markdown",
   "id": "d14405a0-4728-41f9-96a3-1f1dd6dd7b6a",
   "metadata": {},
   "source": [
    "### Creating an Empty Set"
   ]
  },
  {
   "cell_type": "code",
   "execution_count": 5,
   "id": "3a57c343-bbdd-4e48-bab2-377a5c9e114b",
   "metadata": {},
   "outputs": [
    {
     "name": "stdout",
     "output_type": "stream",
     "text": [
      "<class 'set'>\n"
     ]
    }
   ],
   "source": [
    "# Using set() to create an empty set\n",
    "empty_set = set()  # Correct way to create an empty set\n",
    "print(type(empty_set))"
   ]
  },
  {
   "cell_type": "markdown",
   "id": "199a1dfc-f8f0-4795-9782-ff6a05fd206c",
   "metadata": {},
   "source": [
    "## Creating a Single-Value Set\n",
    "To create a set with a single value, you must use the `set()` constructor."
   ]
  },
  {
   "cell_type": "code",
   "execution_count": 7,
   "id": "652e4293-648e-4723-8625-8b373b068af9",
   "metadata": {},
   "outputs": [
    {
     "name": "stdout",
     "output_type": "stream",
     "text": [
      "{42}\n"
     ]
    }
   ],
   "source": [
    "# Creating a single-value set\n",
    "single_value_set = set([42])\n",
    "print(single_value_set)  # Output: {42}"
   ]
  }
 ],
 "metadata": {
  "kernelspec": {
   "display_name": "Python 3 (ipykernel)",
   "language": "python",
   "name": "python3"
  },
  "language_info": {
   "codemirror_mode": {
    "name": "ipython",
    "version": 3
   },
   "file_extension": ".py",
   "mimetype": "text/x-python",
   "name": "python",
   "nbconvert_exporter": "python",
   "pygments_lexer": "ipython3",
   "version": "3.12.4"
  }
 },
 "nbformat": 4,
 "nbformat_minor": 5
}
