{
 "cells": [
  {
   "cell_type": "markdown",
   "id": "e3e69dd0",
   "metadata": {},
   "source": [
    "# Operator Overloading in Python\n",
    "\n",
    "Operator overloading in Python allows the same operator to have different meanings based on the context, especially the types of operands. It enables user-defined classes to implement or redefine the behavior of operators such as `+`, `-`, `*`, etc.\n",
    "\n",
    "This is achieved by defining special methods in your class. These methods are always surrounded by double underscores (also known as \"dunder\" methods).\n"
   ]
  },
  {
   "cell_type": "markdown",
   "id": "a55241d3",
   "metadata": {},
   "source": [
    "## Common Operator Overloading Methods\n",
    "\n",
    "| Operator | Method | Description |\n",
    "|----------|--------|-------------|\n",
    "| `+` | `__add__(self, other)` | Addition |\n",
    "| `-` | `__sub__(self, other)` | Subtraction |\n",
    "| `*` | `__mul__(self, other)` | Multiplication |\n",
    "| `/` | `__truediv__(self, other)` | Division |\n",
    "| `//` | `__floordiv__(self, other)` | Floor Division |\n",
    "| `%` | `__mod__(self, other)` | Modulus |\n",
    "| `**` | `__pow__(self, other)` | Power |\n",
    "| `==` | `__eq__(self, other)` | Equal |\n",
    "| `!=` | `__ne__(self, other)` | Not Equal |\n",
    "| `<` | `__lt__(self, other)` | Less Than |\n",
    "| `>` | `__gt__(self, other)` | Greater Than |\n",
    "| `<=` | `__le__(self, other)` | Less Than or Equal |\n",
    "| `>=` | `__ge__(self, other)` | Greater Than or Equal |\n"
   ]
  },
  {
   "cell_type": "code",
   "execution_count": null,
   "id": "6d571297",
   "metadata": {},
   "outputs": [],
   "source": [
    "# Example 1: Overloading the '+' operator for a custom class\n",
    "\n",
    "class Point:\n",
    "    def __init__(self, x, y):\n",
    "        self.x = x\n",
    "        self.y = y\n",
    "\n",
    "    def __add__(self, other):\n",
    "        return Point(self.x + other.x, self.y + other.y)\n",
    "\n",
    "    def __str__(self):\n",
    "        return f\"({self.x}, {self.y})\"\n",
    "\n",
    "p1 = Point(1, 2)\n",
    "p2 = Point(3, 4)\n",
    "p3 = p1 + p2\n",
    "print(p3)  # Output: (4, 6)\n"
   ]
  },
  {
   "cell_type": "code",
   "execution_count": null,
   "id": "9150a138",
   "metadata": {},
   "outputs": [],
   "source": [
    "# Example 2: Overloading the '==' operator\n",
    "\n",
    "class Book:\n",
    "    def __init__(self, title, author):\n",
    "        self.title = title\n",
    "        self.author = author\n",
    "\n",
    "    def __eq__(self, other):\n",
    "        return self.title == other.title and self.author == other.author\n",
    "\n",
    "book1 = Book(\"1984\", \"George Orwell\")\n",
    "book2 = Book(\"1984\", \"George Orwell\")\n",
    "book3 = Book(\"Brave New World\", \"Aldous Huxley\")\n",
    "\n",
    "print(book1 == book2)  # True\n",
    "print(book1 == book3)  # False\n"
   ]
  },
  {
   "cell_type": "code",
   "execution_count": null,
   "id": "a095a6e1",
   "metadata": {},
   "outputs": [],
   "source": [
    "# Example 3: Overloading '*' operator\n",
    "\n",
    "class Vector:\n",
    "    def __init__(self, x, y):\n",
    "        self.x = x\n",
    "        self.y = y\n",
    "\n",
    "    def __mul__(self, scalar):\n",
    "        return Vector(self.x * scalar, self.y * scalar)\n",
    "\n",
    "    def __str__(self):\n",
    "        return f\"({self.x}, {self.y})\"\n",
    "\n",
    "v = Vector(2, 3)\n",
    "print(v * 3)  # Output: (6, 9)\n"
   ]
  }
 ],
 "metadata": {},
 "nbformat": 4,
 "nbformat_minor": 5
}
