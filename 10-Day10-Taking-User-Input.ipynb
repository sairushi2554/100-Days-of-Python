{
 "cells": [
  {
   "cell_type": "markdown",
   "id": "7df4cd1b-7af7-49dc-aafe-9badd1284fdc",
   "metadata": {},
   "source": [
    "## Taking User Input in python"
   ]
  },
  {
   "cell_type": "markdown",
   "id": "49acacb3-7972-4720-aab4-10b5462511fd",
   "metadata": {},
   "source": [
    "In python, we can take user input directly by using `input()` function.This input function gives a return value as string/character hence we have to pass that into a variable.\n",
    "\n",
    "Taking user input in Python is a fundamental feature that allows interaction between the user and the program."
   ]
  },
  {
   "cell_type": "markdown",
   "id": "eb9df79c-45ad-4bbe-bf53-2cb62acd44f0",
   "metadata": {},
   "source": [
    "The `input()` function reads a line from the user, converts it to a string, and returns it.\n",
    "If you want to work with numbers or other data types, you must explicitly convert (typecast) the input."
   ]
  },
  {
   "cell_type": "code",
   "execution_count": 4,
   "id": "c5d3a029-9777-4428-8c47-d00ac2e6715d",
   "metadata": {},
   "outputs": [
    {
     "name": "stdin",
     "output_type": "stream",
     "text": [
      "Prompt message \n"
     ]
    }
   ],
   "source": [
    "variable = input(\"Prompt message\")"
   ]
  },
  {
   "cell_type": "markdown",
   "id": "c5c33a2d-0b3b-48ce-acfe-57584042cd6a",
   "metadata": {},
   "source": [
    "Prompt message: A string message displayed to the user, indicating what they need to input. It's optional."
   ]
  },
  {
   "cell_type": "markdown",
   "id": "ed46fe48-a828-4541-94b2-102bdc798e54",
   "metadata": {},
   "source": [
    "    "
   ]
  },
  {
   "cell_type": "markdown",
   "id": "7f16e381-20c4-4f3c-b1b4-a9ff5691c0ae",
   "metadata": {},
   "source": [
    "### Typecasting User Input\n",
    "Since input() returns a string, typecasting is required when working with numerical or other non-string data types:"
   ]
  },
  {
   "cell_type": "markdown",
   "id": "cacfe296-dccc-40f8-84bd-738a4a4be628",
   "metadata": {},
   "source": [
    "- **1. Integer Input**"
   ]
  },
  {
   "cell_type": "code",
   "execution_count": 9,
   "id": "0f4fb629-3dae-4a38-b3b9-bda9b4734f35",
   "metadata": {},
   "outputs": [
    {
     "name": "stdin",
     "output_type": "stream",
     "text": [
      "Enter an integer:  21\n"
     ]
    },
    {
     "name": "stdout",
     "output_type": "stream",
     "text": [
      "You entered: 21\n"
     ]
    }
   ],
   "source": [
    "num = int(input(\"Enter an integer: \"))\n",
    "print(\"You entered:\", num)"
   ]
  },
  {
   "cell_type": "markdown",
   "id": "20a2e731-5752-4d7f-84ce-dcd90a130a63",
   "metadata": {},
   "source": [
    "- **2. Float Input**"
   ]
  },
  {
   "cell_type": "code",
   "execution_count": 11,
   "id": "d325d557-219a-46e9-b9a9-3db99e89ea16",
   "metadata": {},
   "outputs": [
    {
     "name": "stdin",
     "output_type": "stream",
     "text": [
      "Enter a decimal number:  17\n"
     ]
    },
    {
     "name": "stdout",
     "output_type": "stream",
     "text": [
      "You entered: 17.0\n"
     ]
    }
   ],
   "source": [
    "num = float(input(\"Enter a decimal number: \"))\n",
    "print(\"You entered:\", num)"
   ]
  },
  {
   "cell_type": "markdown",
   "id": "a2024f3f-dfb9-4fa9-b198-1173b13fb9dd",
   "metadata": {},
   "source": [
    "- **3. Multiple Inputs on One Line You can take multiple inputs by splitting the input string:**"
   ]
  },
  {
   "cell_type": "code",
   "execution_count": 13,
   "id": "418e62af-63c7-440f-bb38-0329eb9d1f3b",
   "metadata": {},
   "outputs": [
    {
     "name": "stdin",
     "output_type": "stream",
     "text": [
      "Enter two values separated by space:  Shambhavi Ayesha\n"
     ]
    },
    {
     "name": "stdout",
     "output_type": "stream",
     "text": [
      "First value: Shambhavi\n",
      "Second value: Ayesha\n"
     ]
    }
   ],
   "source": [
    "a, b = input(\"Enter two values separated by space: \").split()\n",
    "print(\"First value:\", a)\n",
    "print(\"Second value:\", b)"
   ]
  },
  {
   "cell_type": "markdown",
   "id": "6b56ab06-dfe8-46c3-8aa7-7fa824ce5f04",
   "metadata": {},
   "source": [
    "- **4. Custom Split Character Specify a delimiter to split inputs:**"
   ]
  },
  {
   "cell_type": "code",
   "execution_count": 15,
   "id": "28f203ba-5add-405b-862e-7247056fa21d",
   "metadata": {},
   "outputs": [
    {
     "name": "stdin",
     "output_type": "stream",
     "text": [
      "Enter two values separated by a comma:  Dilnoor,Anveshi\n"
     ]
    },
    {
     "name": "stdout",
     "output_type": "stream",
     "text": [
      "First value: Dilnoor\n",
      "Second value: Anveshi\n"
     ]
    }
   ],
   "source": [
    "a, b = input(\"Enter two values separated by a comma: \").split(',')\n",
    "print(\"First value:\", a)\n",
    "print(\"Second value:\", b)\n"
   ]
  },
  {
   "cell_type": "markdown",
   "id": "878f0465-a7db-4b7d-9834-ebf1a5387be8",
   "metadata": {},
   "source": [
    "    "
   ]
  },
  {
   "cell_type": "markdown",
   "id": "99328288-7290-4541-a6da-da9f3efee902",
   "metadata": {},
   "source": [
    "### Use Cases"
   ]
  },
  {
   "cell_type": "markdown",
   "id": "5980d9c5-1c15-4115-96c9-618663270921",
   "metadata": {},
   "source": [
    "**1. Basic User Interaction**"
   ]
  },
  {
   "cell_type": "code",
   "execution_count": 19,
   "id": "59ba4d5e-43e6-4011-9d97-e782dc95dd90",
   "metadata": {},
   "outputs": [
    {
     "name": "stdin",
     "output_type": "stream",
     "text": [
      "What is your name?  Sairushi Gadakh\n"
     ]
    },
    {
     "name": "stdout",
     "output_type": "stream",
     "text": [
      "Hello, Sairushi Gadakh\n"
     ]
    }
   ],
   "source": [
    "name = input(\"What is your name? \")\n",
    "print(\"Hello,\", name)"
   ]
  },
  {
   "cell_type": "markdown",
   "id": "7d892c98-06fe-48c2-83b2-a9d477fbd9f6",
   "metadata": {},
   "source": [
    "**2. Calculating User-Provided Data**"
   ]
  },
  {
   "cell_type": "code",
   "execution_count": 21,
   "id": "ae1b49c4-dd7d-4f8b-a6fa-15c0c65cfa0f",
   "metadata": {},
   "outputs": [
    {
     "name": "stdin",
     "output_type": "stream",
     "text": [
      "Enter the first number:  7\n",
      "Enter the second number:  5\n"
     ]
    },
    {
     "name": "stdout",
     "output_type": "stream",
     "text": [
      "Sum: 12\n"
     ]
    }
   ],
   "source": [
    "num1 = int(input(\"Enter the first number: \"))\n",
    "num2 = int(input(\"Enter the second number: \"))\n",
    "print(\"Sum:\", num1 + num2)"
   ]
  },
  {
   "cell_type": "markdown",
   "id": "814b663e-e144-455b-a469-7c3f18200151",
   "metadata": {},
   "source": [
    "**3. Handling Different Data Types**"
   ]
  },
  {
   "cell_type": "code",
   "execution_count": 23,
   "id": "f0b03042-519c-4649-b1b2-0b19ebcc60b9",
   "metadata": {},
   "outputs": [
    {
     "name": "stdin",
     "output_type": "stream",
     "text": [
      "Enter your age:  22\n",
      "Enter your salary:  45000\n"
     ]
    },
    {
     "name": "stdout",
     "output_type": "stream",
     "text": [
      "You are 22 years old, earning 45000.0.\n"
     ]
    }
   ],
   "source": [
    "age = int(input(\"Enter your age: \"))\n",
    "salary = float(input(\"Enter your salary: \"))\n",
    "print(f\"You are {age} years old, earning {salary}.\")"
   ]
  },
  {
   "cell_type": "markdown",
   "id": "bf095cdb-3a4c-4834-af50-468c4c216b77",
   "metadata": {},
   "source": [
    "**4. Validating Input**"
   ]
  },
  {
   "cell_type": "code",
   "execution_count": 25,
   "id": "6e11ef13-2def-488d-84e0-fa22fca67b23",
   "metadata": {},
   "outputs": [
    {
     "name": "stdin",
     "output_type": "stream",
     "text": [
      "Enter a valid number:  2\n"
     ]
    },
    {
     "name": "stdout",
     "output_type": "stream",
     "text": [
      "You entered: 2\n"
     ]
    }
   ],
   "source": [
    "while True:\n",
    "    try:\n",
    "        num = int(input(\"Enter a valid number: \"))\n",
    "        print(\"You entered:\", num)\n",
    "        break\n",
    "    except ValueError:\n",
    "        print(\"Invalid input. Please enter a number.\")\n"
   ]
  },
  {
   "cell_type": "markdown",
   "id": "d0108f7d-b015-4c9f-a617-00e4c4f9cd4c",
   "metadata": {},
   "source": [
    "     "
   ]
  },
  {
   "cell_type": "markdown",
   "id": "842c2907-d776-4b9e-ba10-7e540cb89ceb",
   "metadata": {},
   "source": [
    "### Advanced Input Handling"
   ]
  },
  {
   "cell_type": "markdown",
   "id": "d1714622-36c2-4644-b3f5-c914c693d088",
   "metadata": {},
   "source": [
    "**1.  Taking a List of Numbers**"
   ]
  },
  {
   "cell_type": "code",
   "execution_count": 29,
   "id": "cac0edb6-bc6b-4665-b7ff-d0911d7980d1",
   "metadata": {},
   "outputs": [
    {
     "name": "stdin",
     "output_type": "stream",
     "text": [
      "Enter numbers separated by space:  2 7 0 10 22 99\n"
     ]
    },
    {
     "name": "stdout",
     "output_type": "stream",
     "text": [
      "Numbers are: [2, 7, 0, 10, 22, 99]\n"
     ]
    }
   ],
   "source": [
    "numbers = list(map(int, input(\"Enter numbers separated by space: \").split()))\n",
    "print(\"Numbers are:\", numbers)"
   ]
  },
  {
   "cell_type": "markdown",
   "id": "1d2bb67b-7b9f-4195-acf2-a0934079b6fc",
   "metadata": {},
   "source": [
    "**2. Using Loops to Collect Input**"
   ]
  },
  {
   "cell_type": "code",
   "execution_count": 31,
   "id": "64de00c4-e76d-47dd-8ddc-f3b5d4ec309a",
   "metadata": {},
   "outputs": [
    {
     "name": "stdin",
     "output_type": "stream",
     "text": [
      "Enter a value:  10\n",
      "Enter a value:  17\n",
      "Enter a value:  21\n"
     ]
    },
    {
     "name": "stdout",
     "output_type": "stream",
     "text": [
      "You entered: ['10', '17', '21']\n"
     ]
    }
   ],
   "source": [
    "values = []\n",
    "for _ in range(3):\n",
    "    val = input(\"Enter a value: \")\n",
    "    values.append(val)\n",
    "print(\"You entered:\", values)\n"
   ]
  },
  {
   "cell_type": "markdown",
   "id": "6ca10814-683f-4074-a2e1-45a7152a400e",
   "metadata": {},
   "source": [
    "**3. Handling Booleans**"
   ]
  },
  {
   "cell_type": "code",
   "execution_count": 33,
   "id": "c644b651-ddda-4c81-857f-a4668330aa5a",
   "metadata": {},
   "outputs": [
    {
     "name": "stdin",
     "output_type": "stream",
     "text": [
      "Enter 'yes' or 'no':  NO\n"
     ]
    },
    {
     "name": "stdout",
     "output_type": "stream",
     "text": [
      "You chose no!\n"
     ]
    }
   ],
   "source": [
    "choice = input(\"Enter 'yes' or 'no': \").lower()\n",
    "if choice == 'yes':\n",
    "    print(\"You chose yes!\")\n",
    "elif choice == 'no':\n",
    "    print(\"You chose no!\")\n",
    "else:\n",
    "    print(\"Invalid choice.\")\n"
   ]
  },
  {
   "cell_type": "markdown",
   "id": "d7e6bc40-73ec-4844-969d-c6d76fa9635a",
   "metadata": {},
   "source": [
    "   "
   ]
  },
  {
   "cell_type": "code",
   "execution_count": 35,
   "id": "b00c13e2-a01c-4edf-a5c9-2217b82a589c",
   "metadata": {},
   "outputs": [
    {
     "name": "stdout",
     "output_type": "stream",
     "text": [
      "Welcome to the Simple Calculator!\n"
     ]
    },
    {
     "name": "stdin",
     "output_type": "stream",
     "text": [
      "Enter the first number:  10\n",
      "Enter the second number:  7\n",
      "Choose an operation (+, -, *, /):  *\n"
     ]
    },
    {
     "name": "stdout",
     "output_type": "stream",
     "text": [
      "Result: 70.0\n"
     ]
    }
   ],
   "source": [
    "print(\"Welcome to the Simple Calculator!\")\n",
    "num1 = float(input(\"Enter the first number: \"))\n",
    "num2 = float(input(\"Enter the second number: \"))\n",
    "operation = input(\"Choose an operation (+, -, *, /): \")\n",
    "\n",
    "if operation == '+':\n",
    "    print(\"Result:\", num1 + num2)\n",
    "elif operation == '-':\n",
    "    print(\"Result:\", num1 - num2)\n",
    "elif operation == '*':\n",
    "    print(\"Result:\", num1 * num2)\n",
    "elif operation == '/':\n",
    "    print(\"Result:\", num1 / num2)\n",
    "else:\n",
    "    print(\"Invalid operation.\")\n"
   ]
  },
  {
   "cell_type": "markdown",
   "id": "a378fff5-3759-4f79-b72e-cbb9e303a569",
   "metadata": {},
   "source": [
    "    "
   ]
  }
 ],
 "metadata": {
  "kernelspec": {
   "display_name": "Python 3 (ipykernel)",
   "language": "python",
   "name": "python3"
  },
  "language_info": {
   "codemirror_mode": {
    "name": "ipython",
    "version": 3
   },
   "file_extension": ".py",
   "mimetype": "text/x-python",
   "name": "python",
   "nbconvert_exporter": "python",
   "pygments_lexer": "ipython3",
   "version": "3.12.4"
  }
 },
 "nbformat": 4,
 "nbformat_minor": 5
}
