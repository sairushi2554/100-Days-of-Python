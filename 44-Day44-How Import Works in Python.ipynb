{
 "cells": [
  {
   "cell_type": "markdown",
   "id": "cc0360ef",
   "metadata": {},
   "source": [
    "# How Import Works in Python"
   ]
  },
  {
   "cell_type": "markdown",
   "id": "53bb014e",
   "metadata": {},
   "source": [
    "\n",
    "## How importing in python works\n",
    "Importing in Python is the process of loading code from a Python module into the current script. This allows you to use the functions and variables defined in the module in your current script, as well as any additional modules that the imported module may depend on.\n",
    "\n",
    "To import a module in Python, you use the `import` statement followed by the name of the module. For example, to import the `math` module, which contains a variety of mathematical functions, you would use the following statement:\n"
   ]
  },
  {
   "cell_type": "code",
   "execution_count": 3,
   "id": "17ae6050",
   "metadata": {},
   "outputs": [],
   "source": [
    "\n",
    "import math\n"
   ]
  },
  {
   "cell_type": "markdown",
   "id": "bf46f897",
   "metadata": {},
   "source": [
    "\n",
    "Once a module is imported, you can use any of the functions and variables defined in the module by using the dot notation. For example, to use the `sqrt` function from the `math` module:\n"
   ]
  },
  {
   "cell_type": "code",
   "execution_count": 5,
   "id": "72d82cd4",
   "metadata": {},
   "outputs": [
    {
     "name": "stdout",
     "output_type": "stream",
     "text": [
      "3.0\n"
     ]
    }
   ],
   "source": [
    "\n",
    "import math\n",
    "\n",
    "result = math.sqrt(9)\n",
    "print(result)  # Output: 3.0\n"
   ]
  },
  {
   "cell_type": "markdown",
   "id": "8865f7bf",
   "metadata": {},
   "source": [
    "\n",
    "## from keyword\n",
    "You can also import specific functions or variables from a module using the `from` keyword.\n"
   ]
  },
  {
   "cell_type": "code",
   "execution_count": 7,
   "id": "97ace968",
   "metadata": {},
   "outputs": [
    {
     "name": "stdout",
     "output_type": "stream",
     "text": [
      "3.0\n"
     ]
    }
   ],
   "source": [
    "\n",
    "from math import sqrt\n",
    "\n",
    "result = sqrt(9)\n",
    "print(result)  # Output: 3.0\n"
   ]
  },
  {
   "cell_type": "markdown",
   "id": "64f3490f",
   "metadata": {},
   "source": [
    "\n",
    "You can also import multiple functions or variables at once by separating them with a comma:\n"
   ]
  },
  {
   "cell_type": "code",
   "execution_count": 9,
   "id": "1ad0c636",
   "metadata": {},
   "outputs": [
    {
     "name": "stdout",
     "output_type": "stream",
     "text": [
      "3.0\n",
      "3.141592653589793\n"
     ]
    }
   ],
   "source": [
    "\n",
    "from math import sqrt, pi\n",
    "\n",
    "result = sqrt(9)\n",
    "print(result)  # Output: 3.0\n",
    "\n",
    "print(pi)  # Output: 3.141592653589793\n"
   ]
  },
  {
   "cell_type": "markdown",
   "id": "16bc50ad",
   "metadata": {},
   "source": [
    "\n",
    "## importing everything\n",
    "It's also possible to import all functions and variables from a module using the `*` wildcard. However, this is generally not recommended as it can lead to confusion and make it harder to understand where specific functions and variables are coming from.\n"
   ]
  },
  {
   "cell_type": "code",
   "execution_count": 11,
   "id": "f5ba249f",
   "metadata": {},
   "outputs": [
    {
     "name": "stdout",
     "output_type": "stream",
     "text": [
      "3.0\n",
      "3.141592653589793\n"
     ]
    }
   ],
   "source": [
    "\n",
    "from math import *\n",
    "\n",
    "result = sqrt(9)\n",
    "print(result)  # Output: 3.0\n",
    "\n",
    "print(pi)  # Output: 3.141592653589793\n"
   ]
  },
  {
   "cell_type": "markdown",
   "id": "6a8a6a29",
   "metadata": {},
   "source": [
    "\n",
    "## The \"as\" keyword\n",
    "Python also allows you to rename imported modules using the `as` keyword. This can be useful if you want to use a shorter or more descriptive name for a module, or if you want to avoid naming conflicts with other modules or variables in your code.\n"
   ]
  },
  {
   "cell_type": "code",
   "execution_count": 13,
   "id": "5cda9e87",
   "metadata": {},
   "outputs": [
    {
     "name": "stdout",
     "output_type": "stream",
     "text": [
      "3.0\n",
      "3.141592653589793\n"
     ]
    }
   ],
   "source": [
    "\n",
    "import math as m\n",
    "\n",
    "result = m.sqrt(9)\n",
    "print(result)  # Output: 3.0\n",
    "\n",
    "print(m.pi)  # Output: 3.141592653589793\n"
   ]
  },
  {
   "cell_type": "markdown",
   "id": "d6fba120",
   "metadata": {},
   "source": [
    "\n",
    "## The dir function\n",
    "Finally, Python has a built-in function called `dir` that you can use to view the names of all the functions and variables defined in a module. This can be helpful for exploring and understanding the contents of a new module.\n"
   ]
  },
  {
   "cell_type": "code",
   "execution_count": 15,
   "id": "3e13c520",
   "metadata": {},
   "outputs": [
    {
     "name": "stdout",
     "output_type": "stream",
     "text": [
      "['__doc__', '__loader__', '__name__', '__package__', '__spec__', 'acos', 'acosh', 'asin', 'asinh', 'atan', 'atan2', 'atanh', 'cbrt', 'ceil', 'comb', 'copysign', 'cos', 'cosh', 'degrees', 'dist', 'e', 'erf', 'erfc', 'exp', 'exp2', 'expm1', 'fabs', 'factorial', 'floor', 'fmod', 'frexp', 'fsum', 'gamma', 'gcd', 'hypot', 'inf', 'isclose', 'isfinite', 'isinf', 'isnan', 'isqrt', 'lcm', 'ldexp', 'lgamma', 'log', 'log10', 'log1p', 'log2', 'modf', 'nan', 'nextafter', 'perm', 'pi', 'pow', 'prod', 'radians', 'remainder', 'sin', 'sinh', 'sqrt', 'sumprod', 'tan', 'tanh', 'tau', 'trunc', 'ulp']\n"
     ]
    }
   ],
   "source": [
    "\n",
    "import math\n",
    "\n",
    "print(dir(math))\n"
   ]
  },
  {
   "cell_type": "markdown",
   "id": "19bd910f",
   "metadata": {},
   "source": [
    "\n",
    "## Summary\n",
    "\n",
    "- The `import` statement in Python allows you to access the functions and variables defined in a module from within your current script.\n",
    "- You can import the entire module, specific functions or variables, or use the `*` wildcard to import everything.\n",
    "- You can also use the `as` keyword to rename a module, and the `dir` function to view the contents of a module.\n"
   ]
  }
 ],
 "metadata": {
  "kernelspec": {
   "display_name": "Python 3 (ipykernel)",
   "language": "python",
   "name": "python3"
  },
  "language_info": {
   "codemirror_mode": {
    "name": "ipython",
    "version": 3
   },
   "file_extension": ".py",
   "mimetype": "text/x-python",
   "name": "python",
   "nbconvert_exporter": "python",
   "pygments_lexer": "ipython3",
   "version": "3.12.4"
  }
 },
 "nbformat": 4,
 "nbformat_minor": 5
}
