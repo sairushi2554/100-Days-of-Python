{
 "cells": [
  {
   "cell_type": "markdown",
   "id": "c95dc6bc",
   "metadata": {},
   "source": [
    "# horthand If-Else in Python\n",
    "\n",
    "Python allows writing concise conditional expressions using shorthand syntax. These are helpful for writing cleaner and more readable code, especially in simple conditions."
   ]
  },
  {
   "cell_type": "markdown",
   "id": "3c118f16",
   "metadata": {},
   "source": [
    "## Basic Ternary Operator Syntax\n",
    "\n",
    "```python\n",
    "value_if_true if condition else value_if_false\n",
    "```"
   ]
  },
  {
   "cell_type": "code",
   "execution_count": 3,
   "id": "b5e8f2ac",
   "metadata": {},
   "outputs": [
    {
     "name": "stdout",
     "output_type": "stream",
     "text": [
      "Status: Adult\n"
     ]
    }
   ],
   "source": [
    "age = 18\n",
    "status = \"Adult\" if age >= 18 else \"Minor\"\n",
    "print(\"Status:\", status)"
   ]
  },
  {
   "cell_type": "markdown",
   "id": "00a59bb2",
   "metadata": {},
   "source": [
    "## Without Shorthand\n",
    "\n",
    "Compare this to a regular if-else statement:"
   ]
  },
  {
   "cell_type": "code",
   "execution_count": 5,
   "id": "a0d1a0d8",
   "metadata": {},
   "outputs": [
    {
     "name": "stdout",
     "output_type": "stream",
     "text": [
      "Status: Adult\n"
     ]
    }
   ],
   "source": [
    "if age >= 18:\n",
    "    status = \"Adult\"\n",
    "else:\n",
    "    status = \"Minor\"\n",
    "print(\"Status:\", status)"
   ]
  },
  {
   "cell_type": "markdown",
   "id": "0c2698a1",
   "metadata": {},
   "source": [
    "## Use in Print Statements and Assignments"
   ]
  },
  {
   "cell_type": "code",
   "execution_count": 7,
   "id": "ab89fc23",
   "metadata": {},
   "outputs": [
    {
     "name": "stdout",
     "output_type": "stream",
     "text": [
      "Odd\n"
     ]
    }
   ],
   "source": [
    "num = 5\n",
    "print(\"Even\" if num % 2 == 0 else \"Odd\")"
   ]
  },
  {
   "cell_type": "markdown",
   "id": "714d429b",
   "metadata": {},
   "source": [
    "## Nested Ternary Operators\n",
    "\n",
    "You can nest ternary operators to handle multiple conditions, but this should be used with caution for readability."
   ]
  },
  {
   "cell_type": "code",
   "execution_count": 9,
   "id": "9fe96752",
   "metadata": {},
   "outputs": [
    {
     "name": "stdout",
     "output_type": "stream",
     "text": [
      "Grade: B\n"
     ]
    }
   ],
   "source": [
    "score = 85\n",
    "grade = \"A\" if score >= 90 else \"B\" if score >= 75 else \"C\"\n",
    "print(\"Grade:\", grade)"
   ]
  },
  {
   "cell_type": "markdown",
   "id": "50c2b074",
   "metadata": {},
   "source": [
    "## Avoid Overcomplicating Conditions\n",
    "\n",
    "Use regular if-else when multiple conditions are too complex to nest:"
   ]
  },
  {
   "cell_type": "code",
   "execution_count": 11,
   "id": "6b8a3dbf",
   "metadata": {},
   "outputs": [
    {
     "name": "stdout",
     "output_type": "stream",
     "text": [
      "Positive\n"
     ]
    }
   ],
   "source": [
    "# This is hard to read:\n",
    "x = 10\n",
    "result = \"Positive\" if x > 0 else \"Zero\" if x == 0 else \"Negative\"\n",
    "print(result)"
   ]
  },
  {
   "cell_type": "markdown",
   "id": "12b61d17",
   "metadata": {},
   "source": [
    "## Practice Exercise\n",
    "\n",
    "Write a function that returns:\n",
    "- \"Even\" if the number is even\n",
    "- \"Odd and Positive\" if the number is odd and positive\n",
    "- \"Odd and Negative\" if the number is odd and negative\n",
    "\n",
    "Use shorthand if-else where applicable."
   ]
  },
  {
   "cell_type": "code",
   "execution_count": 13,
   "id": "de681445",
   "metadata": {},
   "outputs": [
    {
     "name": "stdout",
     "output_type": "stream",
     "text": [
      "Even and Negative\n",
      "Even and Positive\n",
      "Odd and Positive\n",
      "Odd and Negative\n"
     ]
    }
   ],
   "source": [
    "def describe_number(n):\n",
    "    return \"Even and Positive\" if n % 2 == 0 and n > 0 else \"Odd and Positive\" if n > 0 else \"Even and Negative\" if n % 2 == 0 and n < 0 else \"Odd and Negative\"\n",
    "\n",
    "print(describe_number(-4))\n",
    "print(describe_number(10))\n",
    "print(describe_number(7))\n",
    "print(describe_number(-3))"
   ]
  }
 ],
 "metadata": {
  "kernelspec": {
   "display_name": "Python 3 (ipykernel)",
   "language": "python",
   "name": "python3"
  },
  "language_info": {
   "codemirror_mode": {
    "name": "ipython",
    "version": 3
   },
   "file_extension": ".py",
   "mimetype": "text/x-python",
   "name": "python",
   "nbconvert_exporter": "python",
   "pygments_lexer": "ipython3",
   "version": "3.12.4"
  }
 },
 "nbformat": 4,
 "nbformat_minor": 5
}
