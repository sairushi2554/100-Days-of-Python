{
 "cells": [
  {
   "cell_type": "markdown",
   "id": "030bd0f0",
   "metadata": {},
   "source": [
    "# Instance vs Class Variables in Python\n",
    "\n",
    "Understanding the difference between instance and class variables is crucial in object-oriented programming."
   ]
  },
  {
   "cell_type": "markdown",
   "id": "82d3d84f",
   "metadata": {},
   "source": [
    "## 1. Instance Variables\n",
    "\n",
    "- Defined inside methods using `self` (e.g., `self.name`).\n",
    "- Unique to each instance of the class.\n",
    "- Changed per object."
   ]
  },
  {
   "cell_type": "code",
   "execution_count": null,
   "id": "7a75732a",
   "metadata": {},
   "outputs": [],
   "source": [
    "class Dog:\n",
    "    def __init__(self, name):\n",
    "        self.name = name  # instance variable\n",
    "\n",
    "dog1 = Dog(\"Buddy\")\n",
    "dog2 = Dog(\"Charlie\")\n",
    "\n",
    "print(dog1.name)  # Buddy\n",
    "print(dog2.name)  # Charlie"
   ]
  },
  {
   "cell_type": "markdown",
   "id": "14024684",
   "metadata": {},
   "source": [
    "## 2. Class Variables\n",
    "\n",
    "- Shared across all instances.\n",
    "- Defined outside methods, typically at the top inside the class.\n",
    "- Useful for constants or tracking data common to all instances."
   ]
  },
  {
   "cell_type": "code",
   "execution_count": null,
   "id": "247251f1",
   "metadata": {},
   "outputs": [],
   "source": [
    "class Dog:\n",
    "    species = \"Canine\"  # class variable\n",
    "\n",
    "    def __init__(self, name):\n",
    "        self.name = name\n",
    "\n",
    "dog1 = Dog(\"Buddy\")\n",
    "dog2 = Dog(\"Charlie\")\n",
    "\n",
    "print(dog1.species)  # Canine\n",
    "print(dog2.species)  # Canine\n",
    "Dog.species = \"Mammal\"\n",
    "print(dog1.species)  # Mammal"
   ]
  },
  {
   "cell_type": "markdown",
   "id": "baec7178",
   "metadata": {},
   "source": [
    "## 3. Overriding Class Variables in an Instance\n",
    "\n",
    "If you assign a class variable via an instance, it creates an instance variable instead of modifying the class variable."
   ]
  },
  {
   "cell_type": "code",
   "execution_count": null,
   "id": "48738c56",
   "metadata": {},
   "outputs": [],
   "source": [
    "class Dog:\n",
    "    species = \"Canine\"\n",
    "\n",
    "    def __init__(self, name):\n",
    "        self.name = name\n",
    "\n",
    "dog1 = Dog(\"Buddy\")\n",
    "dog1.species = \"Feline\"  # Overrides only for dog1\n",
    "\n",
    "print(dog1.species)  # Feline\n",
    "print(Dog.species)   # Canine"
   ]
  },
  {
   "cell_type": "markdown",
   "id": "6b2b4773",
   "metadata": {},
   "source": [
    "## 4. Best Practices\n",
    "\n",
    "- Use instance variables for data unique to each object.\n",
    "- Use class variables for constants or shared data.\n",
    "- Be careful when mutating class variables (e.g., lists/dicts) as it affects all instances."
   ]
  }
 ],
 "metadata": {
  "kernelspec": {
   "display_name": "Python 3 (ipykernel)",
   "language": "python",
   "name": "python3"
  },
  "language_info": {
   "codemirror_mode": {
    "name": "ipython",
    "version": 3
   },
   "file_extension": ".py",
   "mimetype": "text/x-python",
   "name": "python",
   "nbconvert_exporter": "python",
   "pygments_lexer": "ipython3",
   "version": "3.12.4"
  }
 },
 "nbformat": 4,
 "nbformat_minor": 5
}
