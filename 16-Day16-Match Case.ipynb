{
 "cells": [
  {
   "cell_type": "markdown",
   "id": "8231505c-ca7d-49cc-9dbd-fd0864c69773",
   "metadata": {},
   "source": [
    "## Match Case Statement"
   ]
  },
  {
   "cell_type": "markdown",
   "id": "50cff4ba-336a-4da3-a1b1-f17b759d269e",
   "metadata": {},
   "source": [
    "The `match` statement, introduced in Python 3.10, is a structural pattern-matching feature similar to `switch` in other programming languages but with more advanced capabilities.\n",
    "\n",
    "The match case consists of three main entities :\n",
    "- The match keyword\n",
    "- One or more case clauses\n",
    "- Expression for each case\n",
    "\n",
    "The case clause consists of a pattern to be matched to the variable, a condition to be evaluated if the pattern matches, and a set of statements to be executed if the pattern matches."
   ]
  },
  {
   "cell_type": "markdown",
   "id": "d66f060f-c177-4686-8f6d-413e96025125",
   "metadata": {},
   "source": [
    "## 1. **What is `match`?**\n",
    "The `match` statement allows you to compare a value against multiple patterns and execute specific code based on the matching pattern. It's similar to `if-elif-else` but more concise and expressive.\n",
    "\n",
    "Syntax:\n",
    "\n",
    "```python\n",
    "match value:\n",
    "    case pattern1:\n",
    "        # Code to execute if pattern1 matches\n",
    "    case pattern2:\n",
    "        # Code to execute if pattern2 matches\n",
    "    ...\n",
    "    case _:\n",
    "        # Code to execute if no pattern matches (default case)\n",
    "```\n",
    "\n",
    "### Example 1: Matching Literal Values\n",
    "\n"
   ]
  },
  {
   "cell_type": "code",
   "execution_count": 4,
   "id": "1ed8a0d3-0a65-4bbe-8c36-0c98bc0ec9b9",
   "metadata": {},
   "outputs": [
    {
     "name": "stdout",
     "output_type": "stream",
     "text": [
      "Value is 2\n"
     ]
    }
   ],
   "source": [
    "value = 2\n",
    "\n",
    "match value:\n",
    "    case 1:\n",
    "        print(\"Value is 1\")\n",
    "    case 2:\n",
    "        print(\"Value is 2\")\n",
    "    case _:\n",
    "        print(\"Value is something else\")"
   ]
  },
  {
   "cell_type": "markdown",
   "id": "6e8d18bf-3a3d-4fea-9892-2ad46a3aa4bc",
   "metadata": {},
   "source": [
    "### Example 2: Using the `_` Wildcard (Default Case)\n",
    "The `_` acts as a catch-all for unmatched patterns:\n"
   ]
  },
  {
   "cell_type": "code",
   "execution_count": 6,
   "id": "b2e12042-e2c3-4895-bad3-532300e13950",
   "metadata": {},
   "outputs": [
    {
     "name": "stdout",
     "output_type": "stream",
     "text": [
      "Value is something else\n"
     ]
    }
   ],
   "source": [
    "value = 42\n",
    "\n",
    "match value:\n",
    "    case 1:\n",
    "        print(\"Value is 1\")\n",
    "    case 2:\n",
    "        print(\"Value is 2\")\n",
    "    case _:\n",
    "        print(\"Value is something else\")"
   ]
  },
  {
   "cell_type": "markdown",
   "id": "adee3f3f-13c9-4b7f-8567-af811a3c0806",
   "metadata": {},
   "source": [
    "### Example 3: Matching Lists"
   ]
  },
  {
   "cell_type": "code",
   "execution_count": 8,
   "id": "a9b94910-a04d-4082-aeb2-2e8f3bfac5e9",
   "metadata": {},
   "outputs": [
    {
     "name": "stdout",
     "output_type": "stream",
     "text": [
      "Exact match: [1, 2, 3]\n"
     ]
    }
   ],
   "source": [
    "numbers = [1,2,3]\n",
    "\n",
    "match numbers:\n",
    "    case [1, 2, 3]:\n",
    "        print(\"Exact match: [1, 2, 3]\")\n",
    "    case [1, 2, *rest]:\n",
    "        print(f\"Starts with 1, 2 and the rest is {rest}\")\n",
    "    case _:\n",
    "        print(\"No match\")"
   ]
  },
  {
   "cell_type": "code",
   "execution_count": 9,
   "id": "567f0969-9f55-41fd-8c38-936709723e5e",
   "metadata": {},
   "outputs": [
    {
     "name": "stdout",
     "output_type": "stream",
     "text": [
      "Starts with 1, 2 and the rest is [3, 4, 5]\n"
     ]
    }
   ],
   "source": [
    "numbers = [1,2,3, 4, 5]\n",
    "\n",
    "match numbers:\n",
    "    case [1, 2, 3]:\n",
    "        print(\"Exact match: [1, 2, 3]\")\n",
    "    case [1, 2, *rest]:\n",
    "        print(f\"Starts with 1, 2 and the rest is {rest}\")\n",
    "    case _:\n",
    "        print(\"No match\")"
   ]
  },
  {
   "cell_type": "code",
   "execution_count": 10,
   "id": "2c8914ec-a4a6-42d3-8945-755c49426a2b",
   "metadata": {},
   "outputs": [
    {
     "name": "stdout",
     "output_type": "stream",
     "text": [
      "No match\n"
     ]
    }
   ],
   "source": [
    "numbers = [3, 4, 5]\n",
    "\n",
    "match numbers:\n",
    "    case [1, 2, 3]:\n",
    "        print(\"Exact match: [1, 2, 3]\")\n",
    "    case [1, 2, *rest]:\n",
    "        print(f\"Starts with 1, 2 and the rest is {rest}\")\n",
    "    case _:\n",
    "        print(\"No match\")"
   ]
  },
  {
   "cell_type": "markdown",
   "id": "07f2e0c8-a63a-46ef-be31-97bb1e5b5b6c",
   "metadata": {},
   "source": [
    "### Example 4: Matching Dictionaries"
   ]
  },
  {
   "cell_type": "code",
   "execution_count": 12,
   "id": "76e5ba13-75d9-47ab-adaf-e78079ceb82f",
   "metadata": {},
   "outputs": [
    {
     "name": "stdout",
     "output_type": "stream",
     "text": [
      "Kunal is 22 years old\n"
     ]
    }
   ],
   "source": [
    "person = {\"name\": \"Alice\", \"age\": 30, \"name\":\"Kunal\", \"age\":22}\n",
    "\n",
    "match person:     # Case Sensitive\n",
    "    case {\"name\": \"Alice\", \"age\": age}:\n",
    "        print(f\"Alice is {age} years old\")\n",
    "    case {\"name\":name, \"age\":age}:\n",
    "        print(f\"{name} is {age} years old\")\n",
    "    case _:\n",
    "        print(\"No match\")"
   ]
  },
  {
   "cell_type": "markdown",
   "id": "a623c882-2354-48e6-9f84-40cb176d61fa",
   "metadata": {},
   "source": [
    "### Example 5: Adding `if` Conditions (Guards)"
   ]
  },
  {
   "cell_type": "code",
   "execution_count": 14,
   "id": "1dcf8440-c84c-4996-a265-822649021217",
   "metadata": {},
   "outputs": [
    {
     "name": "stdout",
     "output_type": "stream",
     "text": [
      "Value is between 5 and 15\n"
     ]
    }
   ],
   "source": [
    "value = 10\n",
    "\n",
    "match value:\n",
    "    case x if x < 5:\n",
    "        print(\"Value is less than 5\")\n",
    "    case x if x >= 5 and x < 15:\n",
    "        print(\"Value is between 5 and 15\")\n",
    "    case _:\n",
    "        print(\"Value is 15 or greater\")"
   ]
  },
  {
   "cell_type": "markdown",
   "id": "07f71b53-7920-4e33-8fc9-61af0f14d32a",
   "metadata": {},
   "source": [
    "### Example 6: Matching Custom Classes"
   ]
  },
  {
   "cell_type": "code",
   "execution_count": 16,
   "id": "1e83cc1b-264d-43c7-af6f-2501edc2ae19",
   "metadata": {},
   "outputs": [
    {
     "name": "stdout",
     "output_type": "stream",
     "text": [
      "Point is (1, 2)\n"
     ]
    }
   ],
   "source": [
    "class Point:\n",
    "    def __init__(self, x, y):\n",
    "        self.x = x\n",
    "        self.y = y\n",
    "\n",
    "point = Point(1, 2)\n",
    "\n",
    "match point:\n",
    "    case Point(x=1, y=2):\n",
    "        print(\"Point is (1, 2)\")\n",
    "    case Point(x=1, y=_):\n",
    "        print(\"Point is on the x-axis at x=1\")\n",
    "    case _:\n",
    "        print(\"No match\")"
   ]
  },
  {
   "cell_type": "markdown",
   "id": "0c230ae6-9a5d-44d4-9bf6-db240c7f3b20",
   "metadata": {},
   "source": [
    "### Example 7: Nested Patterns"
   ]
  },
  {
   "cell_type": "code",
   "execution_count": 18,
   "id": "d9e690f9-54ce-41a8-bd1d-34e21a11423c",
   "metadata": {},
   "outputs": [
    {
     "name": "stdout",
     "output_type": "stream",
     "text": [
      "Circle with center (0, 0) and radius 5\n"
     ]
    }
   ],
   "source": [
    "shape = {\"type\": \"circle\", \"center\": (0, 0), \"radius\": 5}\n",
    "\n",
    "match shape:\n",
    "    case {\"type\": \"circle\", \"center\": (x, y), \"radius\": r}:\n",
    "        print(f\"Circle with center ({x}, {y}) and radius {r}\")\n",
    "    case {\"type\": \"rectangle\", \"corner\": (x, y), \"width\": w, \"height\": h}:\n",
    "        print(f\"Rectangle with corner ({x}, {y}), width {w}, and height {h}\")\n",
    "    case _:\n",
    "        print(\"Unknown shape\")"
   ]
  },
  {
   "cell_type": "markdown",
   "id": "a28a278b-5054-43ef-ac27-31468175b50a",
   "metadata": {},
   "source": [
    "### Example 8: Combining with OR (`|`)"
   ]
  },
  {
   "cell_type": "code",
   "execution_count": 20,
   "id": "d3bb6204-cd4f-433e-b8c0-35abcc98c5ba",
   "metadata": {},
   "outputs": [
    {
     "name": "stdout",
     "output_type": "stream",
     "text": [
      "Value is 1, 2, or 42\n"
     ]
    }
   ],
   "source": [
    "value = 42\n",
    "\n",
    "match value:\n",
    "    case 1 | 2 | 42:\n",
    "        print(\"Value is 1, 2, or 42\")\n",
    "    case _:\n",
    "        print(\"Value is something else\")"
   ]
  },
  {
   "cell_type": "markdown",
   "id": "7edda7d8-b1e2-4e02-8f8f-169f1e822b4c",
   "metadata": {},
   "source": [
    "### Example 9: Parsing Command-Line Arguments"
   ]
  },
  {
   "cell_type": "code",
   "execution_count": 22,
   "id": "6ed9c977-8a65-43bb-873a-7701fd3fb7a7",
   "metadata": {},
   "outputs": [
    {
     "name": "stdout",
     "output_type": "stream",
     "text": [
      "Creating file: test.txt\n",
      "Deleting file: test.txt\n"
     ]
    }
   ],
   "source": [
    "def process_command(command):\n",
    "    match command.split():\n",
    "        case [\"create\", filename]:\n",
    "            print(f\"Creating file: {filename}\")\n",
    "        case [\"delete\", filename]:\n",
    "            print(f\"Deleting file: {filename}\")\n",
    "        case _:\n",
    "            print(\"Unknown command\")\n",
    "\n",
    "process_command(\"create test.txt\")\n",
    "process_command(\"delete test.txt\")"
   ]
  },
  {
   "cell_type": "markdown",
   "id": "852817cd-f431-4718-96f7-ce226fbff122",
   "metadata": {},
   "source": [
    "##  **Key Tips and Best Practices**\n",
    "- Use `_` as a catch-all pattern to handle unmatched cases.\n",
    "- Combine patterns using `|` to simplify matching multiple values.\n",
    "- Use `if` conditions (guards) for additional checks within patterns.\n",
    "- Match against data structures like lists, dictionaries, and custom objects for more expressive code.\n",
    "- Write tests for complex match cases to ensure correct behavior.\n",
    "\n",
    "---\n",
    "\n",
    "With `match` case, you can write cleaner and more expressive code for many scenarios. Practice with different patterns and combinations to master it!"
   ]
  },
  {
   "cell_type": "markdown",
   "id": "ec226716-a5cf-48c3-bb8a-833d36f37ef1",
   "metadata": {},
   "source": [
    "    "
   ]
  }
 ],
 "metadata": {
  "kernelspec": {
   "display_name": "Python 3 (ipykernel)",
   "language": "python",
   "name": "python3"
  },
  "language_info": {
   "codemirror_mode": {
    "name": "ipython",
    "version": 3
   },
   "file_extension": ".py",
   "mimetype": "text/x-python",
   "name": "python",
   "nbconvert_exporter": "python",
   "pygments_lexer": "ipython3",
   "version": "3.12.4"
  }
 },
 "nbformat": 4,
 "nbformat_minor": 5
}
