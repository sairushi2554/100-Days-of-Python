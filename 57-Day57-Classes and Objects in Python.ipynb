{
 "cells": [
  {
   "cell_type": "markdown",
   "id": "ed103bcc",
   "metadata": {},
   "source": [
    "# Python Classes and Objects:"
   ]
  },
  {
   "cell_type": "markdown",
   "id": "0c122265",
   "metadata": {},
   "source": [
    "## 1. Basic Class and Object"
   ]
  },
  {
   "cell_type": "code",
   "execution_count": 3,
   "id": "def450a6",
   "metadata": {},
   "outputs": [
    {
     "name": "stdout",
     "output_type": "stream",
     "text": [
      "Hello, my name is Alice and I am 30 years old.\n"
     ]
    }
   ],
   "source": [
    "class Person:\n",
    "    def __init__(self, name, age):\n",
    "        self.name = name\n",
    "        self.age = age\n",
    "\n",
    "    def greet(self):\n",
    "        print(f\"Hello, my name is {self.name} and I am {self.age} years old.\")\n",
    "\n",
    "# Creating an object\n",
    "p1 = Person(\"Alice\", 30)\n",
    "p1.greet()"
   ]
  },
  {
   "cell_type": "markdown",
   "id": "7f0b327f",
   "metadata": {},
   "source": [
    "## 2. Instance vs Class Variables"
   ]
  },
  {
   "cell_type": "code",
   "execution_count": 5,
   "id": "da470d3d",
   "metadata": {},
   "outputs": [
    {
     "name": "stdout",
     "output_type": "stream",
     "text": [
      "Canis familiaris Buddy\n",
      "Canis familiaris Milo\n"
     ]
    }
   ],
   "source": [
    "class Dog:\n",
    "    species = \"Canis familiaris\"  # class variable\n",
    "\n",
    "    def __init__(self, name, age):\n",
    "        self.name = name          # instance variable\n",
    "        self.age = age\n",
    "\n",
    "dog1 = Dog(\"Buddy\", 5)\n",
    "dog2 = Dog(\"Milo\", 3)\n",
    "\n",
    "print(dog1.species, dog1.name)\n",
    "print(dog2.species, dog2.name)"
   ]
  },
  {
   "cell_type": "markdown",
   "id": "1666a333",
   "metadata": {},
   "source": [
    "## 3. Inheritance"
   ]
  },
  {
   "cell_type": "code",
   "execution_count": 7,
   "id": "ba928b04",
   "metadata": {},
   "outputs": [
    {
     "name": "stdout",
     "output_type": "stream",
     "text": [
      "Whiskers says Meow!\n"
     ]
    }
   ],
   "source": [
    "class Animal:\n",
    "    def __init__(self, name):\n",
    "        self.name = name\n",
    "\n",
    "    def speak(self):\n",
    "        print(\"Animal speaks\")\n",
    "\n",
    "class Cat(Animal):\n",
    "    def speak(self):\n",
    "        print(f\"{self.name} says Meow!\")\n",
    "\n",
    "cat = Cat(\"Whiskers\")\n",
    "cat.speak()"
   ]
  },
  {
   "cell_type": "markdown",
   "id": "e94dd435",
   "metadata": {},
   "source": [
    "## 4. Multiple Inheritance"
   ]
  },
  {
   "cell_type": "code",
   "execution_count": 9,
   "id": "8a051928",
   "metadata": {},
   "outputs": [
    {
     "name": "stdout",
     "output_type": "stream",
     "text": [
      "Gardening, Programming\n",
      "Cooking, Art\n",
      "Sports\n"
     ]
    }
   ],
   "source": [
    "class Father:\n",
    "    def skills(self):\n",
    "        print(\"Gardening, Programming\")\n",
    "\n",
    "class Mother:\n",
    "    def skills(self):\n",
    "        print(\"Cooking, Art\")\n",
    "\n",
    "class Child(Father, Mother):\n",
    "    def skills(self):\n",
    "        Father.skills(self)\n",
    "        Mother.skills(self)\n",
    "        print(\"Sports\")\n",
    "\n",
    "c = Child()\n",
    "c.skills()"
   ]
  },
  {
   "cell_type": "markdown",
   "id": "a38b9d51",
   "metadata": {},
   "source": [
    "## 5. Polymorphism"
   ]
  },
  {
   "cell_type": "code",
   "execution_count": 11,
   "id": "98c4a5e4",
   "metadata": {},
   "outputs": [
    {
     "name": "stdout",
     "output_type": "stream",
     "text": [
      "There are many types of birds.\n",
      "Sparrows can fly.\n",
      "There are many types of birds.\n",
      "Ostriches cannot fly.\n"
     ]
    }
   ],
   "source": [
    "class Bird:\n",
    "    def intro(self):\n",
    "        print(\"There are many types of birds.\")\n",
    "\n",
    "    def flight(self):\n",
    "        print(\"Most birds can fly.\")\n",
    "\n",
    "class Sparrow(Bird):\n",
    "    def flight(self):\n",
    "        print(\"Sparrows can fly.\")\n",
    "\n",
    "class Ostrich(Bird):\n",
    "    def flight(self):\n",
    "        print(\"Ostriches cannot fly.\")\n",
    "\n",
    "for bird in (Sparrow(), Ostrich()):\n",
    "    bird.intro()\n",
    "    bird.flight()"
   ]
  },
  {
   "cell_type": "markdown",
   "id": "73fadaaa",
   "metadata": {},
   "source": [
    "## 6. Encapsulation"
   ]
  },
  {
   "cell_type": "code",
   "execution_count": 13,
   "id": "1c27b887",
   "metadata": {},
   "outputs": [
    {
     "name": "stdout",
     "output_type": "stream",
     "text": [
      "Driving at max speed of 200 km/h\n",
      "Driving at max speed of 150 km/h\n"
     ]
    }
   ],
   "source": [
    "class Car:\n",
    "    def __init__(self):\n",
    "        self.__maxspeed = 200\n",
    "\n",
    "    def drive(self):\n",
    "        print(f\"Driving at max speed of {self.__maxspeed} km/h\")\n",
    "\n",
    "    def set_speed(self, speed):\n",
    "        self.__maxspeed = speed\n",
    "\n",
    "c = Car()\n",
    "c.drive()\n",
    "c.set_speed(150)\n",
    "c.drive()"
   ]
  },
  {
   "cell_type": "markdown",
   "id": "7cc86704",
   "metadata": {},
   "source": [
    "## 7. Abstraction"
   ]
  },
  {
   "cell_type": "code",
   "execution_count": 15,
   "id": "7f9173d0",
   "metadata": {},
   "outputs": [
    {
     "name": "stdout",
     "output_type": "stream",
     "text": [
      "Area of square: 16\n"
     ]
    }
   ],
   "source": [
    "from abc import ABC, abstractmethod\n",
    "\n",
    "class Shape(ABC):\n",
    "    @abstractmethod\n",
    "    def area(self):\n",
    "        pass\n",
    "\n",
    "class Square(Shape):\n",
    "    def __init__(self, side):\n",
    "        self.side = side\n",
    "\n",
    "    def area(self):\n",
    "        return self.side * self.side\n",
    "\n",
    "sq = Square(4)\n",
    "print(\"Area of square:\", sq.area())"
   ]
  },
  {
   "cell_type": "markdown",
   "id": "3598a027",
   "metadata": {},
   "source": [
    "## 8. Property Decorator"
   ]
  },
  {
   "cell_type": "code",
   "execution_count": 17,
   "id": "daf09e33",
   "metadata": {},
   "outputs": [
    {
     "name": "stdout",
     "output_type": "stream",
     "text": [
      "John\n",
      "Jane\n"
     ]
    }
   ],
   "source": [
    "class Student:\n",
    "    def __init__(self, name):\n",
    "        self._name = name\n",
    "\n",
    "    @property\n",
    "    def name(self):\n",
    "        return self._name\n",
    "\n",
    "    @name.setter\n",
    "    def name(self, value):\n",
    "        self._name = value\n",
    "\n",
    "s = Student(\"John\")\n",
    "print(s.name)\n",
    "s.name = \"Jane\"\n",
    "print(s.name)"
   ]
  },
  {
   "cell_type": "markdown",
   "id": "dd85ba9f",
   "metadata": {},
   "source": [
    "## 9. Magic Methods"
   ]
  },
  {
   "cell_type": "code",
   "execution_count": 19,
   "id": "8fddef33",
   "metadata": {},
   "outputs": [
    {
     "name": "stdout",
     "output_type": "stream",
     "text": [
      "Python 101 has 350 pages.\n",
      "Number of pages: 350\n"
     ]
    }
   ],
   "source": [
    "class Book:\n",
    "    def __init__(self, title, pages):\n",
    "        self.title = title\n",
    "        self.pages = pages\n",
    "\n",
    "    def __str__(self):\n",
    "        return f\"{self.title} has {self.pages} pages.\"\n",
    "\n",
    "    def __len__(self):\n",
    "        return self.pages\n",
    "\n",
    "b = Book(\"Python 101\", 350)\n",
    "print(b)\n",
    "print(\"Number of pages:\", len(b))"
   ]
  }
 ],
 "metadata": {
  "kernelspec": {
   "display_name": "Python 3 (ipykernel)",
   "language": "python",
   "name": "python3"
  },
  "language_info": {
   "codemirror_mode": {
    "name": "ipython",
    "version": 3
   },
   "file_extension": ".py",
   "mimetype": "text/x-python",
   "name": "python",
   "nbconvert_exporter": "python",
   "pygments_lexer": "ipython3",
   "version": "3.12.4"
  }
 },
 "nbformat": 4,
 "nbformat_minor": 5
}
