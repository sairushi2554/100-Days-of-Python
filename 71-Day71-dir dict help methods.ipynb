{
 "cells": [
  {
   "cell_type": "markdown",
   "id": "efb61585",
   "metadata": {},
   "source": [
    "# Day 71: `dir()`, `__dict__`, and `help()` Methods in Python\n",
    "Understanding these introspection tools can help you better explore and debug objects in Python."
   ]
  },
  {
   "cell_type": "markdown",
   "id": "c4bed3ab",
   "metadata": {},
   "source": [
    "## 1. `dir()` Function\n",
    "`dir()` returns a list of valid attributes and methods for an object."
   ]
  },
  {
   "cell_type": "code",
   "execution_count": null,
   "id": "c77f73d4",
   "metadata": {},
   "outputs": [],
   "source": [
    "x = [1, 2, 3]\n",
    "print(\"Attributes and methods of list object:\")\n",
    "print(dir(x))"
   ]
  },
  {
   "cell_type": "markdown",
   "id": "d56877d9",
   "metadata": {},
   "source": [
    "## 2. `__dict__` Attribute\n",
    "Returns a dictionary representing the object's writable attributes."
   ]
  },
  {
   "cell_type": "code",
   "execution_count": null,
   "id": "490a018b",
   "metadata": {},
   "outputs": [],
   "source": [
    "class Person:\n",
    "    def __init__(self, name, age):\n",
    "        self.name = name\n",
    "        self.age = age\n",
    "\n",
    "p = Person(\"Alice\", 30)\n",
    "print(\"p.__dict__:\", p.__dict__)"
   ]
  },
  {
   "cell_type": "markdown",
   "id": "6800bfe7",
   "metadata": {},
   "source": [
    "## 3. `help()` Function\n",
    "Displays the help documentation for objects, classes, modules, etc."
   ]
  },
  {
   "cell_type": "code",
   "execution_count": null,
   "id": "3c9d8a09",
   "metadata": {},
   "outputs": [],
   "source": [
    "# Built-in object\n",
    "help(list)\n",
    "\n",
    "# User-defined class\n",
    "help(Person)"
   ]
  },
  {
   "cell_type": "markdown",
   "id": "1b073db1",
   "metadata": {},
   "source": [
    "## 4. Combined Example"
   ]
  },
  {
   "cell_type": "code",
   "execution_count": null,
   "id": "6639aa7b",
   "metadata": {},
   "outputs": [],
   "source": [
    "class Sample:\n",
    "    \"\"\"This is a sample class for demonstration.\"\"\"\n",
    "    def __init__(self, value):\n",
    "        self.value = value\n",
    "\n",
    "    def show(self):\n",
    "        \"\"\"Prints the value.\"\"\"\n",
    "        print(self.value)\n",
    "\n",
    "obj = Sample(42)\n",
    "\n",
    "print(\"dir():\", dir(obj))\n",
    "print(\"__dict__:\", obj.__dict__)\n",
    "help(Sample)"
   ]
  },
  {
   "cell_type": "markdown",
   "id": "5983d2e7",
   "metadata": {},
   "source": [
    "## 5. Summary\n",
    "| Method     | Purpose                                      |\n",
    "|------------|----------------------------------------------|\n",
    "| `dir()`    | Lists attributes and methods of an object     |\n",
    "| `__dict__` | Shows the instance�s namespace as a dictionary |\n",
    "| `help()`   | Displays documentation for an object         |"
   ]
  }
 ],
 "metadata": {},
 "nbformat": 4,
 "nbformat_minor": 5
}