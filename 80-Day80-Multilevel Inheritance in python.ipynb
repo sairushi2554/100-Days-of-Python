{
 "cells": [
  {
   "cell_type": "markdown",
   "id": "3b0cd56d",
   "metadata": {},
   "source": [
    "# Multilevel Inheritance in Python\n",
    "\n",
    "Multilevel inheritance refers to a scenario where a class is derived from a child class, which is already derived from another parent class. In other words, the inheritance chain has multiple levels.\n",
    "\n",
    "This forms a parent → child → grandchild relationship, allowing attributes and methods to be passed down through several generations.\n"
   ]
  },
  {
   "cell_type": "markdown",
   "id": "fd053847",
   "metadata": {},
   "source": [
    "## Syntax of Multilevel Inheritance\n",
    "\n",
    "```python\n",
    "class Grandparent:\n",
    "    # base class\n",
    "\n",
    "class Parent(Grandparent):\n",
    "    # derived from Grandparent\n",
    "\n",
    "class Child(Parent):\n",
    "    # derived from Parent\n",
    "```\n"
   ]
  },
  {
   "cell_type": "code",
   "execution_count": 3,
   "id": "233ecd20",
   "metadata": {},
   "outputs": [
    {
     "name": "stdout",
     "output_type": "stream",
     "text": [
      "Grandfather: Owns a house\n",
      "Father: Owns a car\n",
      "Son: Owns a bike\n"
     ]
    }
   ],
   "source": [
    "# Example 1: Simple multilevel inheritance\n",
    "\n",
    "class Grandfather:\n",
    "    def house(self):\n",
    "        print(\"Grandfather: Owns a house\")\n",
    "\n",
    "class Father(Grandfather):\n",
    "    def car(self):\n",
    "        print(\"Father: Owns a car\")\n",
    "\n",
    "class Son(Father):\n",
    "    def bike(self):\n",
    "        print(\"Son: Owns a bike\")\n",
    "\n",
    "s = Son()\n",
    "s.house()  # Inherited from Grandfather\n",
    "s.car()    # Inherited from Father\n",
    "s.bike()   # Defined in Son\n"
   ]
  },
  {
   "cell_type": "code",
   "execution_count": 4,
   "id": "4c81c181",
   "metadata": {},
   "outputs": [
    {
     "name": "stdout",
     "output_type": "stream",
     "text": [
      "Constructor of Class A\n",
      "Constructor of Class B\n",
      "Constructor of Class C\n"
     ]
    }
   ],
   "source": [
    "# Example 2: Multilevel inheritance with constructors\n",
    "\n",
    "class A:\n",
    "    def __init__(self):\n",
    "        print(\"Constructor of Class A\")\n",
    "\n",
    "class B(A):\n",
    "    def __init__(self):\n",
    "        super().__init__()\n",
    "        print(\"Constructor of Class B\")\n",
    "\n",
    "class C(B):\n",
    "    def __init__(self):\n",
    "        super().__init__()\n",
    "        print(\"Constructor of Class C\")\n",
    "\n",
    "c = C()\n"
   ]
  },
  {
   "cell_type": "markdown",
   "id": "b0441806",
   "metadata": {},
   "source": [
    "## Benefits of Multilevel Inheritance\n",
    "\n",
    "- Promotes reuse of code across multiple levels\n",
    "- Represents real-world hierarchical relationships\n",
    "- Allows gradual expansion of functionality\n",
    "\n",
    "## Things to Watch Out For\n",
    "\n",
    "- Deep inheritance chains can become hard to manage\n",
    "- Use with care to maintain code clarity\n"
   ]
  }
 ],
 "metadata": {
  "kernelspec": {
   "display_name": "Python 3 (ipykernel)",
   "language": "python",
   "name": "python3"
  },
  "language_info": {
   "codemirror_mode": {
    "name": "ipython",
    "version": 3
   },
   "file_extension": ".py",
   "mimetype": "text/x-python",
   "name": "python",
   "nbconvert_exporter": "python",
   "pygments_lexer": "ipython3",
   "version": "3.12.4"
  }
 },
 "nbformat": 4,
 "nbformat_minor": 5
}
