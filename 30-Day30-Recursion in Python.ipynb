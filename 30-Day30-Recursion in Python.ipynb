{
 "cells": [
  {
   "cell_type": "markdown",
   "id": "2e66aa16",
   "metadata": {},
   "source": [
    "## Recursion in Python \n",
    "Recursion is a programming technique where a function calls itself in order to solve a problem.\n",
    "A recursive function must have a base case to prevent infinite recursion.\n",
    "\n",
    "### Advantages of Recursion:\n",
    "- Simplifies complex problems\n",
    "- Useful for tree-based problems, DFS, etc.\n",
    "\n",
    "### Disadvantages of Recursion:\n",
    "- Higher memory usage (stack frames)\n",
    "- Can be inefficient if not optimized\n"
   ]
  },
  {
   "cell_type": "markdown",
   "id": "c48fb810",
   "metadata": {},
   "source": [
    "### Basic Recursion: Factorial"
   ]
  },
  {
   "cell_type": "code",
   "execution_count": 3,
   "id": "d851941b",
   "metadata": {},
   "outputs": [
    {
     "name": "stdout",
     "output_type": "stream",
     "text": [
      "120\n"
     ]
    }
   ],
   "source": [
    "\n",
    "def factorial(n):\n",
    "    if n == 0 or n == 1:  # Base case\n",
    "        return 1\n",
    "    return n * factorial(n - 1)  # Recursive call\n",
    "\n",
    "print(factorial(5))  # Output: 120\n"
   ]
  },
  {
   "cell_type": "markdown",
   "id": "1c59517e",
   "metadata": {},
   "source": [
    "### Fibonacci Sequence using Recursion"
   ]
  },
  {
   "cell_type": "code",
   "execution_count": 5,
   "id": "d3162ca7",
   "metadata": {},
   "outputs": [
    {
     "name": "stdout",
     "output_type": "stream",
     "text": [
      "[0, 1, 1, 2, 3, 5, 8, 13, 21, 34]\n"
     ]
    }
   ],
   "source": [
    "\n",
    "def fibonacci(n):\n",
    "    if n <= 0:\n",
    "        return 0\n",
    "    elif n == 1:\n",
    "        return 1\n",
    "    return fibonacci(n - 1) + fibonacci(n - 2)\n",
    "\n",
    "print([fibonacci(i) for i in range(10)])  # First 10 Fibonacci numbers\n"
   ]
  },
  {
   "cell_type": "markdown",
   "id": "ea85b1d3",
   "metadata": {},
   "source": [
    "### Optimized Recursion: Memoization"
   ]
  },
  {
   "cell_type": "code",
   "execution_count": 7,
   "id": "015a4ff8",
   "metadata": {},
   "outputs": [
    {
     "name": "stdout",
     "output_type": "stream",
     "text": [
      "[0, 1, 1, 2, 3, 5, 8, 13, 21, 34]\n"
     ]
    }
   ],
   "source": [
    "\n",
    "def fibonacci_memo(n, memo={}):\n",
    "    if n in memo:\n",
    "        return memo[n]\n",
    "    if n <= 0:\n",
    "        return 0\n",
    "    elif n == 1:\n",
    "        return 1\n",
    "    memo[n] = fibonacci_memo(n - 1, memo) + fibonacci_memo(n - 2, memo)\n",
    "    return memo[n]\n",
    "\n",
    "print([fibonacci_memo(i) for i in range(10)])\n"
   ]
  },
  {
   "cell_type": "markdown",
   "id": "abbff2c6",
   "metadata": {},
   "source": [
    "### Advanced Recursion: Tower of Hanoi"
   ]
  },
  {
   "cell_type": "code",
   "execution_count": 9,
   "id": "3baad59f",
   "metadata": {},
   "outputs": [
    {
     "name": "stdout",
     "output_type": "stream",
     "text": [
      "Move disk 1 from A to C\n",
      "Move disk 2 from A to B\n",
      "Move disk 1 from C to B\n",
      "Move disk 3 from A to C\n",
      "Move disk 1 from B to A\n",
      "Move disk 2 from B to C\n",
      "Move disk 1 from A to C\n"
     ]
    }
   ],
   "source": [
    "\n",
    "def tower_of_hanoi(n, source, auxiliary, target):\n",
    "    if n == 1:\n",
    "        print(f\"Move disk 1 from {source} to {target}\")\n",
    "        return\n",
    "    tower_of_hanoi(n - 1, source, target, auxiliary)\n",
    "    print(f\"Move disk {n} from {source} to {target}\")\n",
    "    tower_of_hanoi(n - 1, auxiliary, source, target)\n",
    "\n",
    "tower_of_hanoi(3, 'A', 'B', 'C')\n"
   ]
  }
 ],
 "metadata": {
  "kernelspec": {
   "display_name": "Python 3 (ipykernel)",
   "language": "python",
   "name": "python3"
  },
  "language_info": {
   "codemirror_mode": {
    "name": "ipython",
    "version": 3
   },
   "file_extension": ".py",
   "mimetype": "text/x-python",
   "name": "python",
   "nbconvert_exporter": "python",
   "pygments_lexer": "ipython3",
   "version": "3.12.4"
  }
 },
 "nbformat": 4,
 "nbformat_minor": 5
}
