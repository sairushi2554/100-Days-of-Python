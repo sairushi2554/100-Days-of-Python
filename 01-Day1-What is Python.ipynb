{
 "cells": [
  {
   "cell_type": "markdown",
   "id": "2f167dd0-5672-4303-9761-94a43de9ef1c",
   "metadata": {},
   "source": [
    "# Day 1 - What is Programming and Python?\n",
    "## What is Programming\n",
    "Programming is a way for us to tell computers what to do. Computer is a very dumb machine and it only does what we tell it to do. Hence we learn programming and tell computers to do what we are very slow at - computation. \n",
    "If I ask you to calculate 5+6, you will immediately say 11. \n",
    "How about 23453453 X 56456?\n",
    "\n",
    "You will start searching for a calculator or jump to a new tab to calculate the same. \n",
    "This 100 days of code series will help you learn python from starting to the end. We will start from 0 and by the time we end this course, I promise you will be a Job ready Python developer!\n",
    "\n",
    "## What is Python?\n",
    "\n",
    "-   Python is a dynamically typed, general purpose programming language that supports an object-oriented programming approach as well as a functional programming approach.\n",
    "-   Python is an interpreted and a high-level programming language.\n",
    "-   It was created by Guido Van Rossum in 1989. \n",
    "\n",
    "## Features of Python\n",
    "\n",
    "-   Python is simple and easy to understand.\n",
    "-   It is Interpreted and platform-independent which makes debugging very easy.\n",
    "-   Python is an open-source programming language.\n",
    "-   Python provides very big library support. Some of the popular libraries include NumPy, Tensorflow, Selenium, OpenCV, etc.\n",
    "-   It is possible to integrate other programming languages within python.\n",
    "\n",
    "## What is Python used for\n",
    "\n",
    "-   Python is used in Data Visualization to create plots and graphical representations.\n",
    "-   Python helps in Data Analytics to analyze and understand raw data for insights and trends.\n",
    "-   It is used in AI and Machine Learning to simulate human behavior and to learn from past data without hard coding.\n",
    "-   It is used to create web applications.\n",
    "-   It can be used to handle databases.\n",
    "-   It is used in business and accounting to perform complex mathematical operations along with quantitative and qualitative analysis.\n"
   ]
  }
 ],
 "metadata": {
  "kernelspec": {
   "display_name": "Python 3 (ipykernel)",
   "language": "python",
   "name": "python3"
  },
  "language_info": {
   "codemirror_mode": {
    "name": "ipython",
    "version": 3
   },
   "file_extension": ".py",
   "mimetype": "text/x-python",
   "name": "python",
   "nbconvert_exporter": "python",
   "pygments_lexer": "ipython3",
   "version": "3.12.4"
  }
 },
 "nbformat": 4,
 "nbformat_minor": 5
}
