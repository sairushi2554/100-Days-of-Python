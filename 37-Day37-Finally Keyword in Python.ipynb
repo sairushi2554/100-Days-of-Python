{
 "cells": [
  {
   "cell_type": "markdown",
   "id": "f5b6d0bb",
   "metadata": {},
   "source": [
    "# `finally` Keyword in Python\n",
    "\n",
    "The `finally` block in Python is used to define clean-up actions that must be executed under all circumstances — whether an exception was raised or not.\n",
    "\n",
    "The finally block is executed irrespective of the outcome of try……except…..else blocks\r\n",
    "One of the important use cases of finally block is in a function which returns a value."
   ]
  },
  {
   "cell_type": "markdown",
   "id": "e73666c5",
   "metadata": {},
   "source": [
    "## Basic Syntax of try-finally"
   ]
  },
  {
   "cell_type": "code",
   "execution_count": 3,
   "id": "5d87da16",
   "metadata": {},
   "outputs": [
    {
     "name": "stdout",
     "output_type": "stream",
     "text": [
      "Trying something...\n",
      "Caught division by zero!\n",
      "This will always run.\n"
     ]
    }
   ],
   "source": [
    "try:\n",
    "    print(\"Trying something...\")\n",
    "    x = 1 / 0\n",
    "except ZeroDivisionError:\n",
    "    print(\"Caught division by zero!\")\n",
    "finally:\n",
    "    print(\"This will always run.\")"
   ]
  },
  {
   "cell_type": "code",
   "execution_count": 4,
   "id": "9966d764-4d21-4e86-9e40-ab3cffae688b",
   "metadata": {},
   "outputs": [
    {
     "name": "stdin",
     "output_type": "stream",
     "text": [
      "Enter an integer:  s\n"
     ]
    },
    {
     "name": "stdout",
     "output_type": "stream",
     "text": [
      "Number entered is not an integer.\n",
      "This block is always executed.\n"
     ]
    }
   ],
   "source": [
    "try:\n",
    "    num = int(input(\"Enter an integer: \"))\n",
    "except ValueError:\n",
    "    print(\"Number entered is not an integer.\")\n",
    "else:\n",
    "    print(\"Integer Accepted.\")\n",
    "finally:\n",
    "    print(\"This block is always executed.\")"
   ]
  },
  {
   "cell_type": "markdown",
   "id": "c0aa9fb7",
   "metadata": {},
   "source": [
    "## Using `finally` for Resource Cleanup\n",
    "\n",
    "A common use case of `finally` is to close files or release resources."
   ]
  },
  {
   "cell_type": "code",
   "execution_count": 6,
   "id": "713d5c16",
   "metadata": {},
   "outputs": [
    {
     "name": "stdout",
     "output_type": "stream",
     "text": [
      "File closed.\n"
     ]
    }
   ],
   "source": [
    "try:\n",
    "    f = open(\"example.txt\", \"w\")\n",
    "    f.write(\"Hello, world!\")\n",
    "except IOError:\n",
    "    print(\"Error writing to file.\")\n",
    "finally:\n",
    "    f.close()\n",
    "    print(\"File closed.\")"
   ]
  },
  {
   "cell_type": "markdown",
   "id": "771b4ca3",
   "metadata": {},
   "source": [
    "## finally Executes Even After `return`, `break`, or `continue`"
   ]
  },
  {
   "cell_type": "code",
   "execution_count": 8,
   "id": "4ebbe95e",
   "metadata": {},
   "outputs": [
    {
     "name": "stdout",
     "output_type": "stream",
     "text": [
      "This runs even after return!\n",
      "Returning from try\n"
     ]
    }
   ],
   "source": [
    "def demo():\n",
    "    try:\n",
    "        return \"Returning from try\"\n",
    "    finally:\n",
    "        print(\"This runs even after return!\")\n",
    "\n",
    "print(demo())"
   ]
  },
  {
   "cell_type": "markdown",
   "id": "f10972d5",
   "metadata": {},
   "source": [
    "## Practice Exercise\n",
    "\n",
    "Write a function that divides two numbers and uses `finally` to print a message regardless of the outcome."
   ]
  },
  {
   "cell_type": "code",
   "execution_count": 10,
   "id": "a7a99603",
   "metadata": {},
   "outputs": [
    {
     "name": "stdout",
     "output_type": "stream",
     "text": [
      "Result is: 5.0\n",
      "safe_divide function execution complete.\n",
      "Cannot divide by zero.\n",
      "safe_divide function execution complete.\n"
     ]
    }
   ],
   "source": [
    "def safe_divide(x, y):\n",
    "    try:\n",
    "        result = x / y\n",
    "        print(\"Result is:\", result)\n",
    "    except ZeroDivisionError:\n",
    "        print(\"Cannot divide by zero.\")\n",
    "    finally:\n",
    "        print(\"safe_divide function execution complete.\")\n",
    "\n",
    "# Try with different inputs\n",
    "safe_divide(10, 2)\n",
    "safe_divide(10, 0)"
   ]
  }
 ],
 "metadata": {
  "kernelspec": {
   "display_name": "Python 3 (ipykernel)",
   "language": "python",
   "name": "python3"
  },
  "language_info": {
   "codemirror_mode": {
    "name": "ipython",
    "version": 3
   },
   "file_extension": ".py",
   "mimetype": "text/x-python",
   "name": "python",
   "nbconvert_exporter": "python",
   "pygments_lexer": "ipython3",
   "version": "3.12.4"
  }
 },
 "nbformat": 4,
 "nbformat_minor": 5
}
