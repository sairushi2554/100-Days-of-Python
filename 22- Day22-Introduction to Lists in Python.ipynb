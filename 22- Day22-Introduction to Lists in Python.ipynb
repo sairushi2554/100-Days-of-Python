{
 "cells": [
  {
   "cell_type": "markdown",
   "id": "82548c98-3fa9-4158-995b-4128f20a7aac",
   "metadata": {},
   "source": [
    "## What is a List?\n",
    "A **list** in Python is an ordered, **mutable** collection that can hold a mix of data types. A list can be empty or it may have different data type items."
   ]
  },
  {
   "cell_type": "markdown",
   "id": "d1cb26fb-eb40-47a4-9fe3-da2b1c218597",
   "metadata": {},
   "source": [
    "### **Creating Lists**"
   ]
  },
  {
   "cell_type": "markdown",
   "id": "55eb31d7-4f0e-4a16-ad8a-0b79d37d1338",
   "metadata": {},
   "source": [
    "### How to Create a List\n",
    "In Python we can create lists in two ways:\n",
    "-  Using list built-in function\n",
    "  \n",
    "syntax : lst = list()\n",
    "\n",
    "-  Using square brackets `[]`\n",
    "  \n",
    "syntax : lst = []"
   ]
  },
  {
   "cell_type": "code",
   "execution_count": 4,
   "id": "88d19dd1-2c20-49c8-9c7b-8e3dc5f5a658",
   "metadata": {},
   "outputs": [
    {
     "name": "stdout",
     "output_type": "stream",
     "text": [
      "[1, 2, 3, 4, 5]\n"
     ]
    }
   ],
   "source": [
    "num = list((1, 2, 3, 4, 5))\n",
    "print(num)"
   ]
  },
  {
   "cell_type": "code",
   "execution_count": 5,
   "id": "57eb0027-446a-476d-8c9f-502340af691a",
   "metadata": {},
   "outputs": [],
   "source": [
    "# Creating lists with different data types\n",
    "empty_list = []  # An empty list\n",
    "\n",
    "numbers = [1, 2, 3, 4, 5]  # List of integers\n",
    "fruits = [\"apple\", \"banana\", \"cherry\"]  # List of strings\n",
    "mixed = [1, \"hello\", 3.14, True]  # Mixed data types\n",
    "nested = [[1, 2], [3, 4]]  # Nested list"
   ]
  },
  {
   "cell_type": "markdown",
   "id": "554ad4bd-46e2-4a54-84d0-160159de7ec6",
   "metadata": {},
   "source": [
    "   "
   ]
  }
 ],
 "metadata": {
  "kernelspec": {
   "display_name": "Python 3 (ipykernel)",
   "language": "python",
   "name": "python3"
  },
  "language_info": {
   "codemirror_mode": {
    "name": "ipython",
    "version": 3
   },
   "file_extension": ".py",
   "mimetype": "text/x-python",
   "name": "python",
   "nbconvert_exporter": "python",
   "pygments_lexer": "ipython3",
   "version": "3.12.4"
  }
 },
 "nbformat": 4,
 "nbformat_minor": 5
}
