{
 "cells": [
  {
   "cell_type": "markdown",
   "id": "bbe9e773-316a-4e1f-add1-21ae70d974a3",
   "metadata": {},
   "source": [
    "### Variables and Data Types"
   ]
  },
  {
   "cell_type": "markdown",
   "id": "d891a6b7-3e70-4a8d-b9b8-abc74c3bb67a",
   "metadata": {},
   "source": [
    "#### Variable\n",
    "Variable is like a container that holds data. Very similar to how our containers in kitchen holds sugar, salt etc Creating a variable is like creating a placeholder in memory and assigning it some value. In Python its as easy as writing:"
   ]
  },
  {
   "cell_type": "code",
   "execution_count": 3,
   "id": "cb095182-73db-49fb-a967-45c84ea7d3a9",
   "metadata": {},
   "outputs": [],
   "source": [
    "# These are four variables of different data types.\n",
    "a = 1  \n",
    "b = True\n",
    "c = \"Shambhavi\"\n",
    "d = None"
   ]
  },
  {
   "cell_type": "markdown",
   "id": "3787fe6a-a989-47d7-905e-a07e911b4f6e",
   "metadata": {},
   "source": [
    "#### Data Type\n",
    "Data type specifies the type of value a variable holds. This is required in programming to do various operations without causing an error.\n",
    "In python, we can print the type of any operator using type function:"
   ]
  },
  {
   "cell_type": "code",
   "execution_count": 5,
   "id": "bf1040b4-34c0-40e3-b76c-001cf413909e",
   "metadata": {},
   "outputs": [
    {
     "name": "stdout",
     "output_type": "stream",
     "text": [
      "<class 'int'>\n",
      "<class 'str'>\n"
     ]
    }
   ],
   "source": [
    "a = 1\n",
    "print(type(a))\n",
    "b = \"1\"\n",
    "print(type(b))"
   ]
  },
  {
   "cell_type": "markdown",
   "id": "7410f70e-7cda-4d08-839e-a3baf7dc0a7a",
   "metadata": {},
   "source": [
    "##### by default, python provides the following built-in data types:\n",
    "1. Numeric data: int, float, complex\n",
    "- int: 3, -8, 0\n",
    "- \n",
    "float: 7.349, -9.0, 0.000000\n",
    "- \r\n",
    "complex: 6 +2i i"
   ]
  },
  {
   "cell_type": "markdown",
   "id": "ef19eba8-176b-42e8-81f0-8667022686f0",
   "metadata": {},
   "source": [
    "2. Text data: str\n",
    "- str: \"Jai Mahakal\", \"Pyhton\""
   ]
  },
  {
   "cell_type": "markdown",
   "id": "60e63390-adaa-4144-983f-71873dbc4838",
   "metadata": {},
   "source": [
    "3. Boolean data:\n",
    " \n",
    "    Boolean data consists of values True or False."
   ]
  },
  {
   "cell_type": "markdown",
   "id": "df96d78b-1bb1-4174-a3a4-612ef3115582",
   "metadata": {},
   "source": [
    "4. Sequenced data: list, tuple\n",
    "\n",
    "    **list**: A list is an ordered collection of data with elements separated by a comma and enclosed within square brackets. Lists are mutable and can be modified after creation."
   ]
  },
  {
   "cell_type": "code",
   "execution_count": 10,
   "id": "e74f0ca7-2f60-4d81-b3ea-944291a05a37",
   "metadata": {},
   "outputs": [
    {
     "name": "stdout",
     "output_type": "stream",
     "text": [
      "[8, 2.3, [-4, 5], ['apple', 'banana']]\n"
     ]
    }
   ],
   "source": [
    "list1 = [8, 2.3, [-4, 5], [\"apple\", \"banana\"]]\n",
    "print(list1)"
   ]
  },
  {
   "cell_type": "markdown",
   "id": "4ab586eb-2a4e-4aa2-8902-0222a9196e20",
   "metadata": {},
   "source": [
    "    **Tuple**: A tuple is an ordered collection of data with elements separated by a comma and enclosed within parentheses. Tuples are immutable and can not be modified after creation."
   ]
  },
  {
   "cell_type": "code",
   "execution_count": 12,
   "id": "7293503e-03c3-4929-aaf7-d3a50a581d84",
   "metadata": {},
   "outputs": [
    {
     "name": "stdout",
     "output_type": "stream",
     "text": [
      "(('parrot', 'sparrow'), ('Lion', 'Tiger'))\n"
     ]
    }
   ],
   "source": [
    "tuple1 = ((\"parrot\", \"sparrow\"), (\"Lion\", \"Tiger\"))\n",
    "print(tuple1)"
   ]
  },
  {
   "cell_type": "markdown",
   "id": "b0fdec9e-d008-475d-9b44-7b18037c37b2",
   "metadata": {},
   "source": [
    "5. Mapped data: dict\n",
    "\n",
    "    **dict**: A dictionary is an unordered collection of data containing a `key:value` pair. The `key:value` pairs are enclosed within curly brackets."
   ]
  },
  {
   "cell_type": "code",
   "execution_count": 14,
   "id": "e63508d1-91eb-4743-a65c-730deb39ec2a",
   "metadata": {},
   "outputs": [
    {
     "name": "stdout",
     "output_type": "stream",
     "text": [
      "{'name': 'Ayesha Gadakh', 'age': 21, 'Married': True}\n"
     ]
    }
   ],
   "source": [
    "dict1 = {\"name\":\"Ayesha Gadakh\", \"age\":21, \"Married\":True}\n",
    "print(dict1)"
   ]
  },
  {
   "cell_type": "code",
   "execution_count": 15,
   "id": "34dc41c7-73a0-4df5-863f-65c1076d8605",
   "metadata": {},
   "outputs": [
    {
     "data": {
      "text/plain": [
       "True"
      ]
     },
     "execution_count": 15,
     "metadata": {},
     "output_type": "execute_result"
    }
   ],
   "source": [
    "dict1['Married']"
   ]
  }
 ],
 "metadata": {
  "kernelspec": {
   "display_name": "Python 3 (ipykernel)",
   "language": "python",
   "name": "python3"
  },
  "language_info": {
   "codemirror_mode": {
    "name": "ipython",
    "version": 3
   },
   "file_extension": ".py",
   "mimetype": "text/x-python",
   "name": "python",
   "nbconvert_exporter": "python",
   "pygments_lexer": "ipython3",
   "version": "3.12.4"
  }
 },
 "nbformat": 4,
 "nbformat_minor": 5
}
