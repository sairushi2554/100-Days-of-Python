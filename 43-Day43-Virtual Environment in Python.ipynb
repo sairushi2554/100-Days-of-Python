{
 "cells": [
  {
   "cell_type": "markdown",
   "id": "bea44290",
   "metadata": {},
   "source": [
    "# Python Virtual Environments"
   ]
  },
  {
   "cell_type": "markdown",
   "id": "428721b1",
   "metadata": {},
   "source": [
    "\n",
    "A **virtual environment** in Python is an isolated environment that allows you to manage dependencies for different projects separately.\n",
    "\n",
    "It helps avoid version conflicts between packages and makes it easy to reproduce environments across different machines or deployments.\n"
   ]
  },
  {
   "cell_type": "markdown",
   "id": "7a55c1b9",
   "metadata": {},
   "source": [
    "\n",
    "## Why Use Virtual Environments?\n",
    "\n",
    "- Prevents package conflicts.\n",
    "- Keeps projects isolated.\n",
    "- Easier to manage dependencies.\n",
    "- Useful in deployment and production environments.\n"
   ]
  },
  {
   "cell_type": "markdown",
   "id": "6b776867",
   "metadata": {},
   "source": [
    "\n",
    "## Creating a Virtual Environment\n",
    "\n",
    "You can create a virtual environment using the built-in `venv` module.\n"
   ]
  },
  {
   "cell_type": "code",
   "execution_count": null,
   "id": "350070b6",
   "metadata": {},
   "outputs": [],
   "source": [
    "\n",
    "# Syntax (run in terminal, not in Jupyter)\n",
    "# Replace 'myenv' with your desired environment name\n",
    "\n",
    "!python -m venv myenv\n"
   ]
  },
  {
   "cell_type": "markdown",
   "id": "1ed5e496",
   "metadata": {},
   "source": [
    "\n",
    "## Activating the Virtual Environment\n",
    "\n",
    "### On Windows:\n",
    "```bash\n",
    "myenv\\Scripts\\activate\n",
    "```\n",
    "\n",
    "### On macOS/Linux:\n",
    "```bash\n",
    "source myenv/bin/activate\n",
    "```\n"
   ]
  },
  {
   "cell_type": "markdown",
   "id": "292faa2f",
   "metadata": {},
   "source": [
    "\n",
    "## Installing Packages in a Virtual Environment\n",
    "\n",
    "Once activated, you can install packages using pip:\n"
   ]
  },
  {
   "cell_type": "code",
   "execution_count": null,
   "id": "155d8d70",
   "metadata": {},
   "outputs": [],
   "source": [
    "\n",
    "# Example (after activating environment)\n",
    "!pip install numpy\n"
   ]
  },
  {
   "cell_type": "markdown",
   "id": "124a4433",
   "metadata": {},
   "source": [
    "\n",
    "## Deactivating the Virtual Environment\n",
    "\n",
    "To deactivate the virtual environment, simply run:\n",
    "```bash\n",
    "deactivate\n",
    "```\n"
   ]
  },
  {
   "cell_type": "markdown",
   "id": "1c93087e",
   "metadata": {},
   "source": [
    "\n",
    "## Deleting the Virtual Environment\n",
    "\n",
    "You can delete the virtual environment folder:\n",
    "```bash\n",
    "rm -r myenv       # macOS/Linux\n",
    "rmdir /s myenv    # Windows\n",
    "```\n"
   ]
  },
  {
   "cell_type": "markdown",
   "id": "4c1c83ca",
   "metadata": {},
   "source": [
    "\n",
    "## Using `requirements.txt`\n",
    "\n",
    "To freeze dependencies:\n",
    "```bash\n",
    "pip freeze > requirements.txt\n",
    "```\n",
    "\n",
    "To install dependencies later:\n",
    "```bash\n",
    "pip install -r requirements.txt\n",
    "```\n"
   ]
  },
  {
   "cell_type": "markdown",
   "id": "8d5dcb7c",
   "metadata": {},
   "source": [
    "\n",
    "## Summary\n",
    "\n",
    "- Use `python -m venv myenv` to create a virtual environment.\n",
    "- Use `activate` to work within it.\n",
    "- Manage packages with pip.\n",
    "- Use `deactivate` when done.\n",
    "- Share dependencies using `requirements.txt`.\n"
   ]
  }
 ],
 "metadata": {
  "kernelspec": {
   "display_name": "Python 3 (ipykernel)",
   "language": "python",
   "name": "python3"
  },
  "language_info": {
   "codemirror_mode": {
    "name": "ipython",
    "version": 3
   },
   "file_extension": ".py",
   "mimetype": "text/x-python",
   "name": "python",
   "nbconvert_exporter": "python",
   "pygments_lexer": "ipython3",
   "version": "3.12.4"
  }
 },
 "nbformat": 4,
 "nbformat_minor": 5
}
