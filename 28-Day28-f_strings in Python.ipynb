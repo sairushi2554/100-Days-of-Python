{
 "cells": [
  {
   "cell_type": "markdown",
   "id": "96bc65c7",
   "metadata": {},
   "source": [
    "# Python f-strings"
   ]
  },
  {
   "cell_type": "markdown",
   "id": "e7a37f35",
   "metadata": {},
   "source": [
    "### 1. Basics of .format() vs f-strings"
   ]
  },
  {
   "cell_type": "code",
   "execution_count": 3,
   "id": "2e7a84ef",
   "metadata": {},
   "outputs": [
    {
     "name": "stdout",
     "output_type": "stream",
     "text": [
      "My name is Alice and I am 25 years old.\n",
      "My name is Alice and I am 25 years old.\n"
     ]
    }
   ],
   "source": [
    "name = \"Alice\"\n",
    "age = 25\n",
    "\n",
    "# Using .format()\n",
    "print(\"My name is {} and I am {} years old.\".format(name, age))\n",
    "\n",
    "# Using f-string\n",
    "print(f\"My name is {name} and I am {age} years old.\")"
   ]
  },
  {
   "cell_type": "markdown",
   "id": "4dac8f80",
   "metadata": {},
   "source": [
    "### 2. Embedding Expressions"
   ]
  },
  {
   "cell_type": "code",
   "execution_count": 5,
   "id": "3ee88fac",
   "metadata": {},
   "outputs": [
    {
     "name": "stdout",
     "output_type": "stream",
     "text": [
      "The sum of 5 and 10 is 15.\n",
      "The sum of 5 and 10 is 15.\n"
     ]
    }
   ],
   "source": [
    "a = 5\n",
    "b = 10\n",
    "\n",
    "# Using .format()\n",
    "print(\"The sum of {} and {} is {}.\".format(a, b, a + b))\n",
    "\n",
    "# Using f-string\n",
    "print(f\"The sum of {a} and {b} is {a + b}.\")"
   ]
  },
  {
   "cell_type": "markdown",
   "id": "203fda86",
   "metadata": {},
   "source": [
    "### 3. Formatting Numbers"
   ]
  },
  {
   "cell_type": "code",
   "execution_count": 7,
   "id": "dc0cc6c8",
   "metadata": {},
   "outputs": [
    {
     "name": "stdout",
     "output_type": "stream",
     "text": [
      "Pi rounded to 2 decimal places: 3.14\n",
      "Pi in scientific notation: 3.14e+00\n",
      "Pi rounded to 2 decimal places: 3.14\n",
      "Pi in scientific notation: 3.14e+00\n"
     ]
    }
   ],
   "source": [
    "pi = 3.1415926535\n",
    "\n",
    "# Using .format()\n",
    "print(\"Pi rounded to 2 decimal places: {:.2f}\".format(pi))\n",
    "print(\"Pi in scientific notation: {:.2e}\".format(pi))\n",
    "\n",
    "# Using f-string\n",
    "print(f\"Pi rounded to 2 decimal places: {pi:.2f}\")\n",
    "print(f\"Pi in scientific notation: {pi:.2e}\")"
   ]
  },
  {
   "cell_type": "markdown",
   "id": "2a27126d",
   "metadata": {},
   "source": [
    "### 4. String Alignment"
   ]
  },
  {
   "cell_type": "code",
   "execution_count": 9,
   "id": "2acb3dee",
   "metadata": {},
   "outputs": [
    {
     "name": "stdout",
     "output_type": "stream",
     "text": [
      "Left aligned: Python    \n",
      "Right aligned:     Python\n",
      "Centered:   Python  \n",
      "Left aligned: Python    \n",
      "Right aligned:     Python\n",
      "Centered:   Python  \n"
     ]
    }
   ],
   "source": [
    "word = \"Python\"\n",
    "\n",
    "# Using .format()\n",
    "print(\"Left aligned: {:<10}\".format(word))\n",
    "print(\"Right aligned: {:>10}\".format(word))\n",
    "print(\"Centered: {:^10}\".format(word))\n",
    "\n",
    "# Using f-string\n",
    "print(f\"Left aligned: {word:<10}\")\n",
    "print(f\"Right aligned: {word:>10}\")\n",
    "print(f\"Centered: {word:^10}\")"
   ]
  },
  {
   "cell_type": "markdown",
   "id": "d8a305c3",
   "metadata": {},
   "source": [
    "### 5. Using .format() and f-strings with Lists & Dictionaries"
   ]
  },
  {
   "cell_type": "code",
   "execution_count": 11,
   "id": "44a208af",
   "metadata": {},
   "outputs": [
    {
     "name": "stdout",
     "output_type": "stream",
     "text": [
      "The first number is 10.\n",
      "Bob is 30 years old.\n",
      "The first number is 10.\n",
      "Bob is 30 years old.\n"
     ]
    }
   ],
   "source": [
    "numbers = [10, 20, 30]\n",
    "person = {\"name\": \"Bob\", \"age\": 30}\n",
    "\n",
    "# Using .format()\n",
    "print(\"The first number is {}.\".format(numbers[0]))\n",
    "print(\"{} is {} years old.\".format(person['name'], person['age']))\n",
    "\n",
    "# Using f-string\n",
    "print(f\"The first number is {numbers[0]}.\")\n",
    "print(f\"{person['name']} is {person['age']} years old.\")"
   ]
  },
  {
   "cell_type": "markdown",
   "id": "d1581c32",
   "metadata": {},
   "source": [
    "### 6. Multi-line Strings"
   ]
  },
  {
   "cell_type": "code",
   "execution_count": 13,
   "id": "ae7f08ba",
   "metadata": {},
   "outputs": [
    {
     "name": "stdout",
     "output_type": "stream",
     "text": [
      "\n",
      "Name: Charlie\n",
      "Profession: Engineer\n",
      "\n",
      "\n",
      "Name: Charlie\n",
      "Profession: Engineer\n",
      "\n"
     ]
    }
   ],
   "source": [
    "name = \"Charlie\"\n",
    "profession = \"Engineer\"\n",
    "\n",
    "# Using .format()\n",
    "bio = \"\"\"\n",
    "Name: {}\n",
    "Profession: {}\n",
    "\"\"\".format(name, profession)\n",
    "\n",
    "# Using f-string\n",
    "bio_f = f\"\"\"\n",
    "Name: {name}\n",
    "Profession: {profession}\n",
    "\"\"\"\n",
    "\n",
    "print(bio)\n",
    "print(bio_f)"
   ]
  },
  {
   "cell_type": "markdown",
   "id": "240fb6d7",
   "metadata": {},
   "source": [
    "### 7. Using .format() and f-strings in Functions"
   ]
  },
  {
   "cell_type": "code",
   "execution_count": 15,
   "id": "6f44a019",
   "metadata": {},
   "outputs": [
    {
     "name": "stdout",
     "output_type": "stream",
     "text": [
      "Hello, Diana. You are 28 years old.\n",
      "Hello, Diana. You are 28 years old.\n"
     ]
    }
   ],
   "source": [
    "def greet_format(name, age):\n",
    "    return \"Hello, {}. You are {} years old.\".format(name, age)\n",
    "\n",
    "def greet_fstring(name, age):\n",
    "    return f\"Hello, {name}. You are {age} years old.\"\n",
    "\n",
    "print(greet_format(\"Diana\", 28))\n",
    "print(greet_fstring(\"Diana\", 28))"
   ]
  },
  {
   "cell_type": "markdown",
   "id": "d766fc9f",
   "metadata": {},
   "source": [
    "### 8. Debugging with f-strings (Python 3.8+)"
   ]
  },
  {
   "cell_type": "code",
   "execution_count": 17,
   "id": "ad55527d",
   "metadata": {},
   "outputs": [
    {
     "name": "stdout",
     "output_type": "stream",
     "text": [
      "x=10, y=20, sum=30\n"
     ]
    }
   ],
   "source": [
    "x = 10\n",
    "y = 20\n",
    "\n",
    "# Debugging with f-strings\n",
    "print(f\"{x=}, {y=}, sum={x+y}\")"
   ]
  },
  {
   "cell_type": "markdown",
   "id": "a6679894",
   "metadata": {},
   "source": [
    "### 9. Advanced Formatting"
   ]
  },
  {
   "cell_type": "code",
   "execution_count": 19,
   "id": "357de020",
   "metadata": {},
   "outputs": [
    {
     "name": "stdout",
     "output_type": "stream",
     "text": [
      "Currency format: $1,234.57\n",
      "Binary: 1234 -> 10011010010\n",
      "Currency format: $1,234.57\n",
      "Binary: 1235 -> 10011010010\n"
     ]
    }
   ],
   "source": [
    "value = 1234.56789\n",
    "\n",
    "# Using .format()\n",
    "print(\"Currency format: ${:,.2f}\".format(value))\n",
    "print(\"Binary: {} -> {:b}\".format(int(value), int(value)))\n",
    "\n",
    "# Using f-string\n",
    "print(f\"Currency format: ${value:,.2f}\")\n",
    "print(f\"Binary: {value:.0f} -> {int(value):b}\")"
   ]
  }
 ],
 "metadata": {
  "kernelspec": {
   "display_name": "Python 3 (ipykernel)",
   "language": "python",
   "name": "python3"
  },
  "language_info": {
   "codemirror_mode": {
    "name": "ipython",
    "version": 3
   },
   "file_extension": ".py",
   "mimetype": "text/x-python",
   "name": "python",
   "nbconvert_exporter": "python",
   "pygments_lexer": "ipython3",
   "version": "3.12.4"
  }
 },
 "nbformat": 4,
 "nbformat_minor": 5
}
