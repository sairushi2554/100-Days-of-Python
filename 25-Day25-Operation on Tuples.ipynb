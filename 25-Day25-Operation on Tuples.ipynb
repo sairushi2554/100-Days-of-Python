{
 "cells": [
  {
   "cell_type": "markdown",
   "id": "c2958b65-ef95-4936-9b37-97ea3fdbeefd",
   "metadata": {},
   "source": [
    "### Creating a Tuple\n",
    "A tuple is created using parentheses `()` and can store elements of different data types."
   ]
  },
  {
   "cell_type": "code",
   "execution_count": 2,
   "id": "8a22b603-0e3e-4455-aa21-e9162c8e45d9",
   "metadata": {},
   "outputs": [],
   "source": [
    "# Empty tuple\n",
    "t1 = ()\n",
    "\n",
    "# Tuple with integers\n",
    "t2 = (1, 2, 3)\n",
    "\n",
    "# Tuple with mixed data types\n",
    "t3 = (1, \"Hello\", 3.14)\n",
    "\n",
    "# Tuple with nested tuples\n",
    "t4 = (1, (2, 3), (4, 5))\n",
    "\n",
    "# Tuple without parentheses (Implicit tuple)\n",
    "t5 = 1, 2, 3  "
   ]
  },
  {
   "cell_type": "markdown",
   "id": "49fa5b0f-a73d-4b2f-9911-5aef0b004a83",
   "metadata": {},
   "source": [
    "### Single Element Tuple\n",
    "A single-element tuple must have a **trailing comma**; otherwise, it is considered a simple variable."
   ]
  },
  {
   "cell_type": "code",
   "execution_count": 4,
   "id": "12b7675d-34b5-4330-8ec1-2e553555f5d6",
   "metadata": {},
   "outputs": [
    {
     "name": "stdout",
     "output_type": "stream",
     "text": [
      "<class 'tuple'>\n",
      "<class 'int'>\n"
     ]
    }
   ],
   "source": [
    "t_single = (5,)  # Tuple with one element\n",
    "t_not_tuple = (5)  # This is just an integer\n",
    "print(type(t_single))\n",
    "print(type(t_not_tuple))"
   ]
  },
  {
   "cell_type": "markdown",
   "id": "efa7cfa9-5488-464d-a4d3-8c8e6f864d88",
   "metadata": {},
   "source": [
    "### Accessing Tuple Elements\n",
    "Elements can be accessed using **indexing and slicing**."
   ]
  },
  {
   "cell_type": "code",
   "execution_count": 6,
   "id": "7b4abb45-412b-4a3d-af81-dfe941570928",
   "metadata": {},
   "outputs": [
    {
     "name": "stdout",
     "output_type": "stream",
     "text": [
      "10\n",
      "50\n",
      "(20, 30, 40)\n",
      "(10, 20, 30)\n",
      "(10, 30, 50)\n"
     ]
    }
   ],
   "source": [
    "t = (10, 20, 30, 40, 50)\n",
    "\n",
    "# Accessing elements by index\n",
    "print(t[0])   # Output: 10\n",
    "print(t[-1])  # Output: 50 (last element)\n",
    "\n",
    "# Slicing a tuple\n",
    "print(t[1:4])  # Output: (20, 30, 40)\n",
    "print(t[:3])   # Output: (10, 20, 30)\n",
    "print(t[::2])  # Output: (10, 30, 50)"
   ]
  },
  {
   "cell_type": "markdown",
   "id": "20993929-4722-48e1-9d19-d23260be95c5",
   "metadata": {},
   "source": [
    "### Tuple Concatenation\n",
    "Tuples can be combined using the `+` operator."
   ]
  },
  {
   "cell_type": "code",
   "execution_count": 8,
   "id": "3b3acb0f-e595-4a84-896d-ad4be9aba233",
   "metadata": {},
   "outputs": [
    {
     "name": "stdout",
     "output_type": "stream",
     "text": [
      "(1, 2, 3, 4, 5, 6)\n"
     ]
    }
   ],
   "source": [
    "t1 = (1, 2, 3)\n",
    "t2 = (4, 5, 6)\n",
    "t3 = t1 + t2\n",
    "print(t3)  # Output: (1, 2, 3, 4, 5, 6)"
   ]
  },
  {
   "cell_type": "markdown",
   "id": "c7285b5c-c5d7-48f7-9d52-a001a573e68f",
   "metadata": {},
   "source": [
    "### Tuple Repetition\n",
    "A tuple can be repeated using the `*` operator."
   ]
  },
  {
   "cell_type": "code",
   "execution_count": 10,
   "id": "6953d903-a016-4fca-a5d9-9b22f5556ab4",
   "metadata": {},
   "outputs": [
    {
     "name": "stdout",
     "output_type": "stream",
     "text": [
      "(1, 2, 3, 1, 2, 3, 1, 2, 3)\n"
     ]
    }
   ],
   "source": [
    "t = (1, 2, 3)\n",
    "print(t * 3)  # Output: (1, 2, 3, 1, 2, 3, 1, 2, 3)"
   ]
  },
  {
   "cell_type": "markdown",
   "id": "ec35d136-5c7e-4e85-b502-6d3d91c3f06b",
   "metadata": {},
   "source": [
    "### Checking Membership\n",
    "Use the `in` keyword to check if an element exists in a tuple."
   ]
  },
  {
   "cell_type": "code",
   "execution_count": 12,
   "id": "9f145760-5293-4519-a626-97f67eeec9a1",
   "metadata": {},
   "outputs": [
    {
     "name": "stdout",
     "output_type": "stream",
     "text": [
      "True\n",
      "False\n"
     ]
    }
   ],
   "source": [
    "t = (1, 2, 3, 4, 5)\n",
    "print(3 in t)  # Output: True\n",
    "print(10 in t) # Output: False"
   ]
  },
  {
   "cell_type": "markdown",
   "id": "1b2033d1-a297-48aa-b9c4-3a461fbe3ba5",
   "metadata": {},
   "source": [
    "### Iterating Over a Tuple\n",
    "Using a `for` loop:"
   ]
  },
  {
   "cell_type": "code",
   "execution_count": 14,
   "id": "2f8f7afe-0eb6-4c67-9bda-9a57fdb75549",
   "metadata": {},
   "outputs": [
    {
     "name": "stdout",
     "output_type": "stream",
     "text": [
      "apple\n",
      "banana\n",
      "cherry\n"
     ]
    }
   ],
   "source": [
    "t = (\"apple\", \"banana\", \"cherry\")\n",
    "for item in t:\n",
    "    print(item)"
   ]
  },
  {
   "cell_type": "markdown",
   "id": "fb7ee84c-8ead-4e70-9d4d-6ee29a8aebc2",
   "metadata": {},
   "source": [
    "# Advanced Tuple Operations\n",
    "### Tuple Unpacking\n",
    "Tuple elements can be assigned to variables directly."
   ]
  },
  {
   "cell_type": "code",
   "execution_count": 16,
   "id": "62928f46-a7c3-4597-a3e5-ebf53481f636",
   "metadata": {},
   "outputs": [
    {
     "name": "stdout",
     "output_type": "stream",
     "text": [
      "1 2 3\n"
     ]
    }
   ],
   "source": [
    "t = (1, 2, 3)\n",
    "a, b, c = t\n",
    "print(a, b, c)  # Output: 1 2 3"
   ]
  },
  {
   "cell_type": "markdown",
   "id": "2be21d6c-1e5c-45ac-a586-b59ebf6808ac",
   "metadata": {},
   "source": [
    "**Ignoring elements with `_`**"
   ]
  },
  {
   "cell_type": "code",
   "execution_count": 18,
   "id": "85655097-3f3a-43bf-9e55-d71a90931c4f",
   "metadata": {},
   "outputs": [
    {
     "name": "stdout",
     "output_type": "stream",
     "text": [
      "10 40\n"
     ]
    }
   ],
   "source": [
    "t = (10, 20, 30, 40)\n",
    "a, _, _, d = t\n",
    "print(a, d)  # Output: 10 40"
   ]
  },
  {
   "cell_type": "markdown",
   "id": "7534d39a-717a-43ec-97f6-e6ce03f93cae",
   "metadata": {},
   "source": [
    "**Using `*` to capture multiple elements**"
   ]
  },
  {
   "cell_type": "code",
   "execution_count": 20,
   "id": "bacbd45c-cc17-409e-93f5-3dae9516f2c7",
   "metadata": {},
   "outputs": [
    {
     "name": "stdout",
     "output_type": "stream",
     "text": [
      "1\n",
      "[2, 3, 4]\n",
      "5\n"
     ]
    }
   ],
   "source": [
    "t = (1, 2, 3, 4, 5)\n",
    "a, *b, c = t\n",
    "print(a)  # Output: 1\n",
    "print(b)  # Output: [2, 3, 4]\n",
    "print(c)  # Output: 5"
   ]
  },
  {
   "cell_type": "markdown",
   "id": "c2d1c5f5-dfde-4221-89e4-88d4cce7a78a",
   "metadata": {},
   "source": [
    "### Finding the Length of a Tuple"
   ]
  },
  {
   "cell_type": "code",
   "execution_count": 22,
   "id": "f40b62db-3efd-4d4c-8dfa-1483aa9fff2e",
   "metadata": {},
   "outputs": [
    {
     "name": "stdout",
     "output_type": "stream",
     "text": [
      "5\n"
     ]
    }
   ],
   "source": [
    "t = (1, 2, 3, 4, 5)\n",
    "print(len(t))  # Output: 5"
   ]
  },
  {
   "cell_type": "markdown",
   "id": "7021ae3a-dc6f-4a05-9161-e69b9b317873",
   "metadata": {},
   "source": [
    "### Finding Maximum, Minimum, and Sum"
   ]
  },
  {
   "cell_type": "code",
   "execution_count": 24,
   "id": "55805772-b3b9-426b-ae7f-76aefacae408",
   "metadata": {},
   "outputs": [
    {
     "name": "stdout",
     "output_type": "stream",
     "text": [
      "50\n",
      "10\n",
      "150\n"
     ]
    }
   ],
   "source": [
    "t = (10, 20, 30, 40, 50)\n",
    "print(max(t))  # Output: 50\n",
    "print(min(t))  # Output: 10\n",
    "print(sum(t))  # Output: 150"
   ]
  },
  {
   "cell_type": "markdown",
   "id": "8bd7b579-f3b6-4f4f-9c1a-c3df7e3648ab",
   "metadata": {},
   "source": [
    "### Counting Elements in a Tuple\n",
    "The `.count()` method counts the occurrences of a value."
   ]
  },
  {
   "cell_type": "code",
   "execution_count": 26,
   "id": "5648ae44-152b-411a-a1e1-638be21e5668",
   "metadata": {},
   "outputs": [
    {
     "name": "stdout",
     "output_type": "stream",
     "text": [
      "3\n"
     ]
    }
   ],
   "source": [
    "t = (1, 2, 3, 2, 4, 2)\n",
    "print(t.count(2))  # Output: 3"
   ]
  },
  {
   "cell_type": "markdown",
   "id": "74a3ff7e-dc25-4bc5-97e4-fdc021db599d",
   "metadata": {},
   "source": [
    "### Finding an Element's Index\n",
    "The `.index()` method returns the first occurrence of a value."
   ]
  },
  {
   "cell_type": "code",
   "execution_count": 28,
   "id": "9b184d72-c60e-4931-aca2-8f4c05074c98",
   "metadata": {},
   "outputs": [
    {
     "name": "stdout",
     "output_type": "stream",
     "text": [
      "2\n"
     ]
    }
   ],
   "source": [
    "t = (10, 20, 30, 40, 50)\n",
    "print(t.index(30))  # Output: 2"
   ]
  },
  {
   "cell_type": "markdown",
   "id": "a0524eb7-242a-48fc-9894-d4bdb961e011",
   "metadata": {},
   "source": [
    "### When to Use Tuples?\n",
    "-  When you **don't want elements to change** (immutability ensures data integrity).\n",
    "\n",
    "-  When you need **faster performance** than lists.\n",
    "\n",
    "-  When using **dictionary keys** (tuples can be used, but lists cannot)."
   ]
  },
  {
   "cell_type": "markdown",
   "id": "d6517667-e404-4aea-838d-82ab89d076a2",
   "metadata": {},
   "source": [
    "## Converting Between Tuples and Lists\n",
    "### Convert List to Tuple"
   ]
  },
  {
   "cell_type": "code",
   "execution_count": 31,
   "id": "da47443c-e6dd-4399-9b8f-3a90cb3c7648",
   "metadata": {},
   "outputs": [
    {
     "name": "stdout",
     "output_type": "stream",
     "text": [
      "(1, 2, 3, 4)\n"
     ]
    }
   ],
   "source": [
    "lst = [1, 2, 3, 4]\n",
    "t = tuple(lst)\n",
    "print(t)  # Output: (1, 2, 3, 4)"
   ]
  },
  {
   "cell_type": "markdown",
   "id": "299ca95d-f246-447c-9017-8ee77489f786",
   "metadata": {},
   "source": [
    "### Convert Tuple to List"
   ]
  },
  {
   "cell_type": "code",
   "execution_count": 33,
   "id": "8f5e0b96-cbb6-40df-96e9-1ea9847e5b20",
   "metadata": {},
   "outputs": [
    {
     "name": "stdout",
     "output_type": "stream",
     "text": [
      "[1, 2, 3, 4]\n"
     ]
    }
   ],
   "source": [
    "t = (1, 2, 3, 4)\n",
    "lst = list(t)\n",
    "print(lst)  # Output: [1, 2, 3, 4]"
   ]
  },
  {
   "cell_type": "code",
   "execution_count": 34,
   "id": "c0c983cd-e455-4caa-a6ce-067d7c69c8a6",
   "metadata": {},
   "outputs": [
    {
     "name": "stdout",
     "output_type": "stream",
     "text": [
      "(1, 2, 3, 4)\n"
     ]
    }
   ],
   "source": [
    "# Tuple to List\n",
    "t = (1, 2, 3)\n",
    "lst = list(t)\n",
    "lst.append(4)\n",
    "t = tuple(lst)  # Convert back to tuple\n",
    "print(t)  # Output: (1, 2, 3, 4)"
   ]
  },
  {
   "cell_type": "markdown",
   "id": "e4df06a8-5d30-41e3-b5eb-16beba6f13c6",
   "metadata": {},
   "source": [
    "### Nested Tuples and Accessing Elements\n",
    "Tuples can be nested within each other."
   ]
  },
  {
   "cell_type": "code",
   "execution_count": 36,
   "id": "331551d5-6853-4774-a316-065076369eae",
   "metadata": {},
   "outputs": [
    {
     "name": "stdout",
     "output_type": "stream",
     "text": [
      "(1, 2)\n",
      "2\n"
     ]
    }
   ],
   "source": [
    "t = ((1, 2), (3, 4), (5, 6))\n",
    "\n",
    "# Accessing elements in nested tuple\n",
    "print(t[0])     # Output: (1, 2)\n",
    "print(t[0][1])  # Output: 2"
   ]
  },
  {
   "cell_type": "markdown",
   "id": "660bad3d-aee2-42f9-a1e9-81fbec127a8b",
   "metadata": {},
   "source": [
    "### Sorting a Tuple\n",
    "Tuples are immutable, so they cannot be sorted directly. However, they can be converted into a list, sorted, and converted back."
   ]
  },
  {
   "cell_type": "code",
   "execution_count": 38,
   "id": "8a2ecefc-3fa3-4a0f-ba9f-23ed5f6a8d87",
   "metadata": {},
   "outputs": [
    {
     "name": "stdout",
     "output_type": "stream",
     "text": [
      "(1, 2, 3, 4)\n"
     ]
    }
   ],
   "source": [
    "t = (3, 1, 4, 2)\n",
    "sorted_t = tuple(sorted(t))\n",
    "print(sorted_t)  # Output: (1, 2, 3, 4)"
   ]
  },
  {
   "cell_type": "markdown",
   "id": "74727b97-da21-4b16-b140-6e74a563b9e2",
   "metadata": {},
   "source": [
    "### Using Tuples as Dictionary Keys\n",
    "Since tuples are immutable, they can be used as keys in dictionaries."
   ]
  },
  {
   "cell_type": "code",
   "execution_count": 40,
   "id": "df2ada13-c79b-4d01-9556-1c93f577fd3d",
   "metadata": {},
   "outputs": [
    {
     "name": "stdout",
     "output_type": "stream",
     "text": [
      "Point A\n"
     ]
    }
   ],
   "source": [
    "coordinates = {\n",
    "    (10, 20): \"Point A\",\n",
    "    (30, 40): \"Point B\"\n",
    "}\n",
    "\n",
    "print(coordinates[(10, 20)])  # Output: Point A"
   ]
  },
  {
   "cell_type": "markdown",
   "id": "d94b7ff3-07fc-4a62-9205-9eeda7666a39",
   "metadata": {},
   "source": [
    "### Using `zip()` with Tuples"
   ]
  },
  {
   "cell_type": "code",
   "execution_count": 42,
   "id": "2de7b5da-422c-4020-b9e6-685610cfb927",
   "metadata": {},
   "outputs": [
    {
     "name": "stdout",
     "output_type": "stream",
     "text": [
      "(('Alice', 85), ('Bob', 90), ('Charlie', 78))\n"
     ]
    }
   ],
   "source": [
    "names = ('Alice', 'Bob', 'Charlie')\n",
    "scores = (85, 90, 78)\n",
    "combined = tuple(zip(names, scores))\n",
    "print(combined)  # Output: (('Alice', 85), ('Bob', 90), ('Charlie', 78))"
   ]
  },
  {
   "cell_type": "markdown",
   "id": "f42275ef-da0a-4676-ab48-22608b79b0c4",
   "metadata": {},
   "source": [
    "### Using `namedtuple` for Readable Tuples\n",
    "Python provides `namedtuple` from the `collections` module for more readable tuples."
   ]
  },
  {
   "cell_type": "code",
   "execution_count": 44,
   "id": "8e878efb-8896-4e1d-9105-ca0ee4e24472",
   "metadata": {},
   "outputs": [
    {
     "name": "stdout",
     "output_type": "stream",
     "text": [
      "Alice\n",
      "25\n"
     ]
    }
   ],
   "source": [
    "from collections import namedtuple\n",
    "\n",
    "# Creating a named tuple\n",
    "Person = namedtuple(\"Person\", [\"name\", \"age\", \"gender\"])\n",
    "\n",
    "# Creating an instance\n",
    "p = Person(name=\"Alice\", age=25, gender=\"Female\")\n",
    "\n",
    "# Accessing elements\n",
    "print(p.name)   # Output: Alice\n",
    "print(p.age)    # Output: 25"
   ]
  },
  {
   "cell_type": "markdown",
   "id": "86bd0976-513b-4120-9a2e-4dc8d87ad7b6",
   "metadata": {},
   "source": [
    "| Feature      | Tuple        | List         |\n",
    "|-------------|-------------|-------------|\n",
    "| **Mutability** | Immutable  | Mutable     |\n",
    "| **Syntax**    | `(1, 2, 3)` | `[1, 2, 3]` |\n",
    "| **Performance** | Faster    | Slower      |\n",
    "| **Memory Usage** | Less     | More        |\n",
    "| **Use Case**  | Fixed data | Dynamic data |\n"
   ]
  }
 ],
 "metadata": {
  "kernelspec": {
   "display_name": "Python 3 (ipykernel)",
   "language": "python",
   "name": "python3"
  },
  "language_info": {
   "codemirror_mode": {
    "name": "ipython",
    "version": 3
   },
   "file_extension": ".py",
   "mimetype": "text/x-python",
   "name": "python",
   "nbconvert_exporter": "python",
   "pygments_lexer": "ipython3",
   "version": "3.12.4"
  }
 },
 "nbformat": 4,
 "nbformat_minor": 5
}
