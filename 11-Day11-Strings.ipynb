{
 "cells": [
  {
   "cell_type": "markdown",
   "id": "e43f0f06-d3df-4198-aba1-22d130a340eb",
   "metadata": {},
   "source": [
    "## What are strings?\n",
    "In python, anything that you enclose between single or double quotation marks is considered a string. A string is essentially a sequence or array of textual data. Strings are used when working with Unicode characters."
   ]
  },
  {
   "cell_type": "code",
   "execution_count": 2,
   "id": "0befb4cc-9312-4e1d-8402-fff63c2b1aff",
   "metadata": {},
   "outputs": [
    {
     "name": "stdout",
     "output_type": "stream",
     "text": [
      "Python is Awesome\n"
     ]
    }
   ],
   "source": [
    "name = \"Python\"\n",
    "print(name + ' is Awesome')"
   ]
  },
  {
   "cell_type": "markdown",
   "id": "d4ac8218-27fb-455f-9b5b-29076533ff84",
   "metadata": {},
   "source": [
    "**Note:** It does not matter whether you enclose your strings in single or double quotes, the output remains the same."
   ]
  },
  {
   "cell_type": "markdown",
   "id": "a274cdf0-643b-4e5c-9949-d60eedff3a96",
   "metadata": {},
   "source": [
    "Sometimes, the user might need to put quotation marks in between the strings. Example, consider the sentence: He said, “I want to eat an apple”.\n",
    "\n",
    "How will you print this statement in python?:  `He said, \"I want to eat an apple\".` We will definitely use single quotes for our convenience"
   ]
  },
  {
   "cell_type": "code",
   "execution_count": 5,
   "id": "2f918d6b-9d92-4121-901c-de614081be82",
   "metadata": {},
   "outputs": [
    {
     "name": "stdout",
     "output_type": "stream",
     "text": [
      "I would like to go to \"Switzerland\" for once in my lifetime.\n"
     ]
    }
   ],
   "source": [
    "print(\"I would like to go to \\\"Switzerland\\\" for once in my lifetime.\")"
   ]
  },
  {
   "cell_type": "code",
   "execution_count": 6,
   "id": "dad25648-1859-41e0-84b7-16e838e8a609",
   "metadata": {},
   "outputs": [
    {
     "name": "stdout",
     "output_type": "stream",
     "text": [
      "He said, \"I want to eat an apple\".\n"
     ]
    }
   ],
   "source": [
    "print('He said, \"I want to eat an apple\".')"
   ]
  },
  {
   "cell_type": "markdown",
   "id": "b3ed36b1-1209-4230-aca5-eceb521362cf",
   "metadata": {},
   "source": [
    "### Multiline Strings\r\n",
    "If our string has multiple lines, we can create them like this:"
   ]
  },
  {
   "cell_type": "code",
   "execution_count": 8,
   "id": "50fc0815-50c7-4677-99ff-c2fab54cd5e3",
   "metadata": {},
   "outputs": [
    {
     "name": "stdout",
     "output_type": "stream",
     "text": [
      "Machine Learning (ML) is a subset of artificial intelligence \n",
      "where computers learn from data to make predictions or decisions \n",
      "without being explicitly programmed. It involves algorithms that \n",
      "improve performance on tasks as they process more data.\n"
     ]
    }
   ],
   "source": [
    "x=\"\"\"Machine Learning (ML) is a subset of artificial intelligence \n",
    "where computers learn from data to make predictions or decisions \n",
    "without being explicitly programmed. It involves algorithms that \n",
    "improve performance on tasks as they process more data.\"\"\"\n",
    "print(x)"
   ]
  },
  {
   "cell_type": "markdown",
   "id": "d5c1eff8-3ca2-4b0c-a2da-33194d17414e",
   "metadata": {},
   "source": [
    "#### Accessing Characters of a String\n",
    "In Python, string is like an array of characters. We can access parts of string by using its index which starts from 0.\n",
    "\n",
    "Square brackets can be used to access elements of the string."
   ]
  },
  {
   "cell_type": "code",
   "execution_count": 10,
   "id": "05fb6e90-9f03-4efd-b303-faeaa03d5ced",
   "metadata": {},
   "outputs": [
    {
     "name": "stdout",
     "output_type": "stream",
     "text": [
      "P\n",
      "y\n"
     ]
    }
   ],
   "source": [
    "print(name[0])\n",
    "print(name[1])\n"
   ]
  },
  {
   "cell_type": "code",
   "execution_count": 11,
   "id": "4172a372-d260-435d-8c3e-d7378e2d3519",
   "metadata": {},
   "outputs": [
    {
     "name": "stdout",
     "output_type": "stream",
     "text": [
      "P\n",
      "y\n",
      "t\n",
      "h\n",
      "o\n",
      "n\n"
     ]
    }
   ],
   "source": [
    "for i in range(len(name)):\n",
    "    print(name[i])"
   ]
  },
  {
   "cell_type": "markdown",
   "id": "a251ad44-c65c-459b-971b-f4006043e1af",
   "metadata": {},
   "source": [
    "#### Looping through the string\r\n",
    "We can loop through strings using a for loop like this:\r\n"
   ]
  },
  {
   "cell_type": "code",
   "execution_count": 13,
   "id": "1fe2ec9e-fe73-4e1e-9ba0-2a3bebc288f2",
   "metadata": {},
   "outputs": [
    {
     "name": "stdout",
     "output_type": "stream",
     "text": [
      "P\n",
      "y\n",
      "t\n",
      "h\n",
      "o\n",
      "n\n"
     ]
    }
   ],
   "source": [
    "for character in name:\n",
    "    print(character)"
   ]
  },
  {
   "cell_type": "markdown",
   "id": "d435f100-8949-4396-bd64-ff272760770f",
   "metadata": {},
   "source": [
    "Above code prints all the characters in the string name one by one!"
   ]
  },
  {
   "cell_type": "markdown",
   "id": "18c4552f-3245-4eb1-83d7-fa22726cef88",
   "metadata": {},
   "source": [
    "    "
   ]
  }
 ],
 "metadata": {
  "kernelspec": {
   "display_name": "Python 3 (ipykernel)",
   "language": "python",
   "name": "python3"
  },
  "language_info": {
   "codemirror_mode": {
    "name": "ipython",
    "version": 3
   },
   "file_extension": ".py",
   "mimetype": "text/x-python",
   "name": "python",
   "nbconvert_exporter": "python",
   "pygments_lexer": "ipython3",
   "version": "3.12.4"
  }
 },
 "nbformat": 4,
 "nbformat_minor": 5
}
