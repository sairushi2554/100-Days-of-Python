{
 "cells": [
  {
   "cell_type": "markdown",
   "id": "7590fd53",
   "metadata": {},
   "source": [
    "# Method-Overriding in Python"
   ]
  },
  {
   "cell_type": "markdown",
   "id": "8488cac5",
   "metadata": {},
   "source": [
    "## Introduction\n",
    "Method overriding is an object-oriented programming concept that allows a subclass to provide a specific implementation of a method that is already defined in its superclass. This is useful when a subclass wants to modify or extend the behavior of the inherited method.\n",
    "\n",
    "### Key Concepts:\n",
    "- Same method name in both superclass and subclass.\n",
    "- The subclass method overrides the superclass method.\n",
    "- Enables polymorphism.\n"
   ]
  },
  {
   "cell_type": "markdown",
   "id": "0182b699",
   "metadata": {},
   "source": [
    "## Basic Example of Method Overriding"
   ]
  },
  {
   "cell_type": "code",
   "execution_count": 4,
   "id": "2134f660",
   "metadata": {},
   "outputs": [
    {
     "name": "stdout",
     "output_type": "stream",
     "text": [
      "Some generic animal sound\n",
      "Bark\n"
     ]
    }
   ],
   "source": [
    "class Animal:\n",
    "    def sound(self):\n",
    "        print(\"Some generic animal sound\")\n",
    "\n",
    "class Dog(Animal):\n",
    "    def sound(self):\n",
    "        print(\"Bark\")\n",
    "\n",
    "# Creating objects\n",
    "a = Animal()\n",
    "d = Dog()\n",
    "\n",
    "a.sound()  # Output: Some generic animal sound\n",
    "d.sound()  # Output: Bark\n"
   ]
  },
  {
   "cell_type": "markdown",
   "id": "ba2e2c2c",
   "metadata": {},
   "source": [
    "## Using `super()` to Call the Parent Class Method"
   ]
  },
  {
   "cell_type": "code",
   "execution_count": 6,
   "id": "51d31692",
   "metadata": {},
   "outputs": [
    {
     "name": "stdout",
     "output_type": "stream",
     "text": [
      "Some generic animal sound\n",
      "Bark\n"
     ]
    }
   ],
   "source": [
    "class Animal:\n",
    "    def sound(self):\n",
    "        print(\"Some generic animal sound\")\n",
    "\n",
    "class Dog(Animal):\n",
    "    def sound(self):\n",
    "        super().sound()\n",
    "        print(\"Bark\")\n",
    "\n",
    "d = Dog()\n",
    "d.sound()\n",
    "# Output:\n",
    "# Some generic animal sound\n",
    "# Bark\n"
   ]
  },
  {
   "cell_type": "markdown",
   "id": "b859c7e3",
   "metadata": {},
   "source": [
    "## Advanced Example with Parameters and Method Overriding"
   ]
  },
  {
   "cell_type": "code",
   "execution_count": 8,
   "id": "bc17bf62",
   "metadata": {},
   "outputs": [
    {
     "name": "stdout",
     "output_type": "stream",
     "text": [
      "Employee Name: Alice\n",
      "Department: IT\n"
     ]
    }
   ],
   "source": [
    "class Employee:\n",
    "    def __init__(self, name):\n",
    "        self.name = name\n",
    "\n",
    "    def show_details(self):\n",
    "        print(f\"Employee Name: {self.name}\")\n",
    "\n",
    "class Manager(Employee):\n",
    "    def __init__(self, name, department):\n",
    "        super().__init__(name)\n",
    "        self.department = department\n",
    "\n",
    "    def show_details(self):\n",
    "        super().show_details()\n",
    "        print(f\"Department: {self.department}\")\n",
    "\n",
    "m = Manager(\"Alice\", \"IT\")\n",
    "m.show_details()\n",
    "# Output:\n",
    "# Employee Name: Alice\n",
    "# Department: IT\n"
   ]
  },
  {
   "cell_type": "markdown",
   "id": "68323ef4",
   "metadata": {},
   "source": [
    "## Polymorphism with Method Overriding"
   ]
  },
  {
   "cell_type": "code",
   "execution_count": 10,
   "id": "4c2fa91e",
   "metadata": {},
   "outputs": [
    {
     "name": "stdout",
     "output_type": "stream",
     "text": [
      "Some generic animal sound\n",
      "Bark\n",
      "Meow\n"
     ]
    }
   ],
   "source": [
    "def print_sound(animal):\n",
    "    animal.sound()\n",
    "\n",
    "class Cat(Animal):\n",
    "    def sound(self):\n",
    "        print(\"Meow\")\n",
    "\n",
    "animals = [Dog(), Cat()]\n",
    "\n",
    "for animal in animals:\n",
    "    print_sound(animal)\n",
    "# Output:\n",
    "# Bark\n",
    "# Meow\n"
   ]
  },
  {
   "cell_type": "markdown",
   "id": "dd2d3690",
   "metadata": {},
   "source": [
    "## Summary\n",
    "- Method overriding allows a subclass to change the behavior of a method defined in the superclass.\n",
    "- Use `super()` to access the parent method.\n",
    "- Enables polymorphism and dynamic method resolution.\n",
    "\n",
    "Useful in scenarios where behavior needs to be customized in child classes while maintaining the interface provided by the parent class.\n"
   ]
  }
 ],
 "metadata": {
  "kernelspec": {
   "display_name": "Python 3 (ipykernel)",
   "language": "python",
   "name": "python3"
  },
  "language_info": {
   "codemirror_mode": {
    "name": "ipython",
    "version": 3
   },
   "file_extension": ".py",
   "mimetype": "text/x-python",
   "name": "python",
   "nbconvert_exporter": "python",
   "pygments_lexer": "ipython3",
   "version": "3.12.4"
  }
 },
 "nbformat": 4,
 "nbformat_minor": 5
}
