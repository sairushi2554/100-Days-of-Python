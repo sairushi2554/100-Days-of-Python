{
 "cells": [
  {
   "cell_type": "markdown",
   "id": "5f6985d0-b90d-420b-a5ee-b4cd6f38a6ea",
   "metadata": {},
   "source": [
    "# **Python Functions**\n",
    "\n",
    "## **Introduction**\n",
    "Functions in Python are reusable blocks of code designed to perform a specific task. They allow for modular, organized, and efficient programming.\n",
    "\n",
    "In bigger programs, where we have large amounts of code, it is advisable to create or use existing functions that make the program flow organized and neat.\n",
    "\n",
    "## **Types of Functions**\n",
    "\n",
    "1. **Built-in Functions**: Functions provided by Python, e.g., `print()`, `len()`.\n",
    "2. **User-defined Functions**: Functions created by the user to perform specific tasks.\n",
    "\n",
    "## **Defining a Function**\n",
    "\n",
    "### **Syntax**\n",
    "```python\n",
    "def function_name(parameters):\n",
    "    \"\"\"\n",
    "    Optional docstring to describe the function.\n",
    "    \"\"\"\n",
    "    # Function body\n",
    "    return value  # Optional\n",
    "```\n",
    "\n",
    "- Create a function using the def keyword, followed by a function name, followed by a paranthesis (()) and a colon(:).\n",
    "- Any parameters and arguments should be placed within the parentheses.\n",
    "- Rules to naming function are similar to that of naming variables.\n",
    "- Any statements and other code within the function should be indented."
   ]
  },
  {
   "cell_type": "markdown",
   "id": "284c9cb9-2914-47fd-ad55-4a91c0490e69",
   "metadata": {},
   "source": [
    "## Calling a function:\r\n",
    "We call a function by giving the function name, followed by parameters (if any) in the parenthesis."
   ]
  },
  {
   "cell_type": "code",
   "execution_count": 3,
   "id": "4e6a225c-cfa5-4bd0-84b3-f33a9d8a7ad1",
   "metadata": {},
   "outputs": [
    {
     "name": "stdout",
     "output_type": "stream",
     "text": [
      "Hello, Hannah Bakers\n"
     ]
    }
   ],
   "source": [
    "def name(fname, lname):\n",
    "    print(\"Hello,\", fname, lname)\n",
    "\n",
    "name(\"Hannah\", \"Bakers\")"
   ]
  }
 ],
 "metadata": {
  "kernelspec": {
   "display_name": "Python 3 (ipykernel)",
   "language": "python",
   "name": "python3"
  },
  "language_info": {
   "codemirror_mode": {
    "name": "ipython",
    "version": 3
   },
   "file_extension": ".py",
   "mimetype": "text/x-python",
   "name": "python",
   "nbconvert_exporter": "python",
   "pygments_lexer": "ipython3",
   "version": "3.12.4"
  }
 },
 "nbformat": 4,
 "nbformat_minor": 5
}
