{
 "cells": [
  {
   "cell_type": "markdown",
   "id": "c093aa2f",
   "metadata": {},
   "source": [
    "# `for` loop  with else Python "
   ]
  },
  {
   "cell_type": "markdown",
   "id": "94b680f9",
   "metadata": {},
   "source": [
    "### Basic `for` Loop Example"
   ]
  },
  {
   "cell_type": "code",
   "execution_count": 3,
   "id": "4fb8e5d1",
   "metadata": {},
   "outputs": [
    {
     "name": "stdout",
     "output_type": "stream",
     "text": [
      "1\n",
      "2\n",
      "3\n",
      "4\n",
      "5\n"
     ]
    }
   ],
   "source": [
    "# Printing numbers from 1 to 5\n",
    "for i in range(1, 6):\n",
    "    print(i)"
   ]
  },
  {
   "cell_type": "markdown",
   "id": "48fe3d48",
   "metadata": {},
   "source": [
    "### Using `if` in `for` Loop"
   ]
  },
  {
   "cell_type": "code",
   "execution_count": 5,
   "id": "83a0a436",
   "metadata": {},
   "outputs": [
    {
     "name": "stdout",
     "output_type": "stream",
     "text": [
      "2 is even\n",
      "4 is even\n",
      "6 is even\n",
      "8 is even\n",
      "10 is even\n"
     ]
    }
   ],
   "source": [
    "# Printing even numbers\n",
    "for i in range(1, 11):\n",
    "    if i % 2 == 0:\n",
    "        print(f\"{i} is even\")"
   ]
  },
  {
   "cell_type": "markdown",
   "id": "08c6e04d",
   "metadata": {},
   "source": [
    "### Using `if-else` in `for` Loop"
   ]
  },
  {
   "cell_type": "code",
   "execution_count": 7,
   "id": "2364321f",
   "metadata": {},
   "outputs": [
    {
     "name": "stdout",
     "output_type": "stream",
     "text": [
      "1 is odd\n",
      "2 is even\n",
      "3 is odd\n",
      "4 is even\n",
      "5 is odd\n"
     ]
    }
   ],
   "source": [
    "# Classify numbers as even or odd\n",
    "for i in range(1, 6):\n",
    "    if i % 2 == 0:\n",
    "        print(f\"{i} is even\")\n",
    "    else:\n",
    "        print(f\"{i} is odd\")"
   ]
  },
  {
   "cell_type": "markdown",
   "id": "7e1eab87",
   "metadata": {},
   "source": [
    "### Using `if-elif-else` in `for` Loop"
   ]
  },
  {
   "cell_type": "code",
   "execution_count": 9,
   "id": "1013e737",
   "metadata": {},
   "outputs": [
    {
     "name": "stdout",
     "output_type": "stream",
     "text": [
      "Grade A\n",
      "Grade B\n",
      "Grade C\n",
      "Grade F\n",
      "Grade F\n"
     ]
    }
   ],
   "source": [
    "# Grading students based on marks\n",
    "marks_list = [95, 82, 67, 45, 30]\n",
    "\n",
    "for marks in marks_list:\n",
    "    if marks >= 90:\n",
    "        print(\"Grade A\")\n",
    "    elif marks >= 75:\n",
    "        print(\"Grade B\")\n",
    "    elif marks >= 50:\n",
    "        print(\"Grade C\")\n",
    "    else:\n",
    "        print(\"Grade F\")"
   ]
  },
  {
   "cell_type": "markdown",
   "id": "5adc3d72",
   "metadata": {},
   "source": [
    "### Using `for-else`"
   ]
  },
  {
   "cell_type": "code",
   "execution_count": 11,
   "id": "33906c6d",
   "metadata": {},
   "outputs": [
    {
     "name": "stdout",
     "output_type": "stream",
     "text": [
      "4 not found in list.\n"
     ]
    }
   ],
   "source": [
    "# Searching for a number, using `else` when not found\n",
    "nums = [1, 3, 5, 7, 9]\n",
    "\n",
    "for num in nums:\n",
    "    if num == 4:\n",
    "        print(\"Found 4!\")\n",
    "        break\n",
    "else:\n",
    "    print(\"4 not found in list.\")"
   ]
  },
  {
   "cell_type": "markdown",
   "id": "4a203af0",
   "metadata": {},
   "source": [
    "### Nested `for` Loop with `if-else`"
   ]
  },
  {
   "cell_type": "code",
   "execution_count": 13,
   "id": "82ee20e7",
   "metadata": {},
   "outputs": [
    {
     "name": "stdout",
     "output_type": "stream",
     "text": [
      "1 * 1 = 1 is odd\n",
      "1 * 2 = 2 is even\n",
      "1 * 3 = 3 is odd\n",
      "2 * 1 = 2 is even\n",
      "2 * 2 = 4 is even\n",
      "2 * 3 = 6 is even\n",
      "3 * 1 = 3 is odd\n",
      "3 * 2 = 6 is even\n",
      "3 * 3 = 9 is odd\n"
     ]
    }
   ],
   "source": [
    "# Printing a multiplication table with highlights\n",
    "for i in range(1, 4):\n",
    "    for j in range(1, 4):\n",
    "        product = i * j\n",
    "        if product % 2 == 0:\n",
    "            print(f\"{i} * {j} = {product} is even\")\n",
    "        else:\n",
    "            print(f\"{i} * {j} = {product} is odd\")"
   ]
  },
  {
   "cell_type": "markdown",
   "id": "8a476c13",
   "metadata": {},
   "source": [
    "### Looping through a dictionary with conditionals"
   ]
  },
  {
   "cell_type": "code",
   "execution_count": 15,
   "id": "2aee0add",
   "metadata": {},
   "outputs": [
    {
     "name": "stdout",
     "output_type": "stream",
     "text": [
      "Alice: A\n",
      "Bob: C\n",
      "Charlie: B\n",
      "David: C\n"
     ]
    }
   ],
   "source": [
    "# Student scores dictionary\n",
    "students = {'Alice': 85, 'Bob': 58, 'Charlie': 72, 'David': 40}\n",
    "\n",
    "for name, score in students.items():\n",
    "    if score >= 75:\n",
    "        grade = 'A'\n",
    "    elif score >= 60:\n",
    "        grade = 'B'\n",
    "    elif score >= 40:\n",
    "        grade = 'C'\n",
    "    else:\n",
    "        grade = 'F'\n",
    "    print(f\"{name}: {grade}\")"
   ]
  },
  {
   "cell_type": "markdown",
   "id": "2f8dd4d5",
   "metadata": {},
   "source": [
    "### Challenge: Identify Prime Numbers"
   ]
  },
  {
   "cell_type": "code",
   "execution_count": 17,
   "id": "8976616f",
   "metadata": {},
   "outputs": [
    {
     "name": "stdout",
     "output_type": "stream",
     "text": [
      "2 is a prime number\n",
      "3 is a prime number\n",
      "5 is a prime number\n",
      "7 is a prime number\n",
      "11 is a prime number\n",
      "13 is a prime number\n",
      "17 is a prime number\n",
      "19 is a prime number\n"
     ]
    }
   ],
   "source": [
    "# Identify prime numbers from 1 to 20\n",
    "for num in range(2, 21):\n",
    "    for i in range(2, num):\n",
    "        if num % i == 0:\n",
    "            break\n",
    "    else:\n",
    "        print(f\"{num} is a prime number\")"
   ]
  }
 ],
 "metadata": {
  "kernelspec": {
   "display_name": "Python 3 (ipykernel)",
   "language": "python",
   "name": "python3"
  },
  "language_info": {
   "codemirror_mode": {
    "name": "ipython",
    "version": 3
   },
   "file_extension": ".py",
   "mimetype": "text/x-python",
   "name": "python",
   "nbconvert_exporter": "python",
   "pygments_lexer": "ipython3",
   "version": "3.12.4"
  }
 },
 "nbformat": 4,
 "nbformat_minor": 5
}
