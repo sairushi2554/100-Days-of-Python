{
 "cells": [
  {
   "cell_type": "markdown",
   "id": "84b8973f",
   "metadata": {},
   "source": [
    "# IO functions: seek(), tell(), truncate()\n"
   ]
  },
  {
   "cell_type": "code",
   "execution_count": null,
   "id": "96511c29",
   "metadata": {},
   "outputs": [],
   "source": [
    "import io"
   ]
  },
  {
   "cell_type": "markdown",
   "id": "5582446c",
   "metadata": {},
   "source": [
    "## 1. Basic Explanation"
   ]
  },
  {
   "cell_type": "code",
   "execution_count": null,
   "id": "62c474df",
   "metadata": {},
   "outputs": [],
   "source": [
    "# 'seek(offset, whence=0)' - changes the current file position\n",
    "# 'tell()' - returns the current file position\n",
    "# 'truncate(size=None)' - resizes the file to the given size\n",
    "\n",
    "file = io.StringIO(\"Hello, World!\")\n",
    "\n",
    "print(\"Initial content:\", file.getvalue())\n",
    "position = file.tell()\n",
    "print(\"Current position:\", position)\n",
    "\n",
    "file.seek(7)\n",
    "position = file.tell()\n",
    "print(\"Position after seek(7):\", position)\n",
    "content = file.read()\n",
    "print(\"Content after seek(7):\", content)\n",
    "\n",
    "file.seek(0)\n",
    "file.truncate(5)\n",
    "print(\"Content after truncate(5):\", file.getvalue())"
   ]
  },
  {
   "cell_type": "markdown",
   "id": "42ee8a96",
   "metadata": {},
   "source": [
    "## 2. Using seek() with whence parameter"
   ]
  },
  {
   "cell_type": "code",
   "execution_count": null,
   "id": "bc877ac4",
   "metadata": {},
   "outputs": [],
   "source": [
    "file = io.StringIO(\"ABCDE\")\n",
    "\n",
    "file.seek(0, io.SEEK_END)\n",
    "print(\"Position at EOF:\", file.tell())\n",
    "\n",
    "file.seek(-2, io.SEEK_END)\n",
    "print(\"Position 2 chars before EOF:\", file.tell())\n",
    "print(\"Reading from there:\", file.read())\n",
    "\n",
    "file.seek(2, io.SEEK_SET)\n",
    "print(\"Position 2 chars from start:\", file.tell())\n",
    "\n",
    "file.seek(1, io.SEEK_CUR)\n",
    "print(\"Position 1 char forward from current:\", file.tell())"
   ]
  },
  {
   "cell_type": "markdown",
   "id": "307bbfbe",
   "metadata": {},
   "source": [
    "## 3. Using truncate() effectively"
   ]
  },
  {
   "cell_type": "code",
   "execution_count": null,
   "id": "c4078dbd",
   "metadata": {},
   "outputs": [],
   "source": [
    "file = io.StringIO(\"Python Programming\")\n",
    "file.seek(6)\n",
    "print(\"Before truncate:\", file.getvalue())\n",
    "\n",
    "file.truncate()\n",
    "print(\"After truncate at position 6:\", file.getvalue())\n",
    "\n",
    "file.truncate(50)\n",
    "print(\"After truncate(50):\", file.getvalue())"
   ]
  },
  {
   "cell_type": "markdown",
   "id": "8f30e25c",
   "metadata": {},
   "source": [
    "## 4. Example with Binary Files"
   ]
  },
  {
   "cell_type": "code",
   "execution_count": null,
   "id": "90ab88a2",
   "metadata": {},
   "outputs": [],
   "source": [
    "binary_file = io.BytesIO(b\"BinaryDataTest\")\n",
    "binary_file.seek(0, io.SEEK_END)\n",
    "print(\"Binary file size:\", binary_file.tell())\n",
    "\n",
    "binary_file.truncate(6)\n",
    "binary_file.seek(0)\n",
    "print(\"Binary content after truncate:\", binary_file.read())"
   ]
  },
  {
   "cell_type": "markdown",
   "id": "76a13c5f",
   "metadata": {},
   "source": [
    "## 5. Real-world Usage Example"
   ]
  },
  {
   "cell_type": "code",
   "execution_count": null,
   "id": "6990151b",
   "metadata": {},
   "outputs": [],
   "source": [
    "log_file = io.StringIO(\"Error: Something failed\\nWarning: Low disk space\\nInfo: Operation successful\")\n",
    "\n",
    "first_line = log_file.readline()\n",
    "print(\"First line:\", first_line)\n",
    "\n",
    "log_file.truncate(log_file.tell())\n",
    "log_file.seek(0)\n",
    "print(\"Log file after keeping only first line:\\n\", log_file.read())"
   ]
  }
 ],
 "metadata": {
  "kernelspec": {
   "display_name": "Python 3 (ipykernel)",
   "language": "python",
   "name": "python3"
  },
  "language_info": {
   "codemirror_mode": {
    "name": "ipython",
    "version": 3
   },
   "file_extension": ".py",
   "mimetype": "text/x-python",
   "name": "python",
   "nbconvert_exporter": "python",
   "pygments_lexer": "ipython3",
   "version": "3.12.4"
  }
 },
 "nbformat": 4,
 "nbformat_minor": 5
}
