{
 "cells": [
  {
   "cell_type": "markdown",
   "id": "c2dc1105",
   "metadata": {},
   "source": [
    "# Python Dictionary"
   ]
  },
  {
   "cell_type": "markdown",
   "id": "73f20ec0",
   "metadata": {},
   "source": [
    "Dictionaries in Python are ordered collections of key-value pairs. They allow us to store multiple items in a single variable, making data easy to access and manage using unique keys.\n",
    "\n",
    "## Syntax:\n",
    "```python\n",
    "my_dict = {\"key1\": \"value1\", \"key2\": \"value2\"}\n",
    "```\n",
    "\n",
    "Each key must be unique and immutable (like strings or numbers), while values can be of any data type.\n"
   ]
  },
  {
   "cell_type": "code",
   "execution_count": 3,
   "id": "39c1ecfa",
   "metadata": {},
   "outputs": [
    {
     "name": "stdout",
     "output_type": "stream",
     "text": [
      "{'name': 'Karan', 'age': 19, 'eligible': True}\n"
     ]
    }
   ],
   "source": [
    "# Creating a dictionary\n",
    "info = {'name': 'Karan', 'age': 19, 'eligible': True}\n",
    "print(info)"
   ]
  },
  {
   "cell_type": "markdown",
   "id": "303b0a48",
   "metadata": {},
   "source": [
    "## Accessing Values in a Dictionary"
   ]
  },
  {
   "cell_type": "markdown",
   "id": "bd1f3d22",
   "metadata": {},
   "source": [
    "You can access dictionary values using keys. There are two main ways:\n",
    "\n",
    "1. Using square brackets: `dict[key]`\n",
    "2. Using `get()` method: `dict.get(key)`\n",
    "\n",
    "`get()` is safer because it doesn't raise an error if the key doesn't exist.\n"
   ]
  },
  {
   "cell_type": "code",
   "execution_count": 6,
   "id": "79cbe0cc",
   "metadata": {},
   "outputs": [
    {
     "name": "stdout",
     "output_type": "stream",
     "text": [
      "Karan\n",
      "True\n"
     ]
    }
   ],
   "source": [
    "info = {'name': 'Karan', 'age': 19, 'eligible': True}\n",
    "print(info['name'])        # Using square brackets\n",
    "print(info.get('eligible'))  # Using get method"
   ]
  },
  {
   "cell_type": "markdown",
   "id": "afcec5fa",
   "metadata": {},
   "source": [
    "## Accessing All Values"
   ]
  },
  {
   "cell_type": "code",
   "execution_count": 8,
   "id": "7616045c",
   "metadata": {},
   "outputs": [
    {
     "name": "stdout",
     "output_type": "stream",
     "text": [
      "dict_values(['Karan', 19, True])\n"
     ]
    }
   ],
   "source": [
    "print(info.values())  # Returns all the values in the dictionary"
   ]
  },
  {
   "cell_type": "markdown",
   "id": "4b9df084",
   "metadata": {},
   "source": [
    "## Accessing All Keys"
   ]
  },
  {
   "cell_type": "code",
   "execution_count": 10,
   "id": "c0bbca90",
   "metadata": {},
   "outputs": [
    {
     "name": "stdout",
     "output_type": "stream",
     "text": [
      "dict_keys(['name', 'age', 'eligible'])\n"
     ]
    }
   ],
   "source": [
    "print(info.keys())  # Returns all the keys in the dictionary"
   ]
  },
  {
   "cell_type": "markdown",
   "id": "6719ebb4",
   "metadata": {},
   "source": [
    "## Accessing Key-Value Pairs"
   ]
  },
  {
   "cell_type": "code",
   "execution_count": 12,
   "id": "ffe52559",
   "metadata": {},
   "outputs": [
    {
     "name": "stdout",
     "output_type": "stream",
     "text": [
      "dict_items([('name', 'Karan'), ('age', 19), ('eligible', True)])\n"
     ]
    }
   ],
   "source": [
    "print(info.items())  # Returns all key-value pairs as tuples"
   ]
  },
  {
   "cell_type": "markdown",
   "id": "83307ce6-956e-463e-adaa-e9c3e5035442",
   "metadata": {},
   "source": [
    "### 🔑 Key Features of Python Dictionaries\n",
    "\n",
    "- ✅ **Ordered**  \n",
    "  Dictionaries maintain the insertion order (since Python 3.7+).\n",
    "\n",
    "- ✅ **Key-Value Pairs**  \n",
    "  Each item in a dictionary is stored as a pair: `key: value`.\n",
    "\n",
    "- ✅ **Unique Keys**  \n",
    "  Keys must be unique within a dictionary. If you assign a value to an existing key, it will overwrite the old value.\n",
    "\n",
    "- ✅ **Mutable**  \n",
    "  Dictionaries can be changed after creation — you can add, update, or remove items.\n",
    "\n",
    "- ✅ **Dynamic Size**  \n",
    "  You can add or delete items anytime — the size of the dictionary can grow or shrink.\n",
    "\n",
    "- ✅ **Fast Lookup**  \n",
    "  Retrieving a value by key is very fast due to the internal implementation using hash tables.\n",
    "\n",
    "- ✅ **Keys Must Be Immutable**  \n",
    "  Valid key types include strings, numbers, and tuples (as long as the tuple itself doesn’t contain mutable items).\n"
   ]
  }
 ],
 "metadata": {
  "kernelspec": {
   "display_name": "Python 3 (ipykernel)",
   "language": "python",
   "name": "python3"
  },
  "language_info": {
   "codemirror_mode": {
    "name": "ipython",
    "version": 3
   },
   "file_extension": ".py",
   "mimetype": "text/x-python",
   "name": "python",
   "nbconvert_exporter": "python",
   "pygments_lexer": "ipython3",
   "version": "3.12.4"
  }
 },
 "nbformat": 4,
 "nbformat_minor": 5
}
