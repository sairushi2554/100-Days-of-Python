{
 "cells": [
  {
   "cell_type": "markdown",
   "id": "71e5b9ac",
   "metadata": {},
   "source": [
    "# 📄 File I/O in Python\n",
    "Learn how to work with files easily!"
   ]
  },
  {
   "cell_type": "markdown",
   "id": "b2b8a777",
   "metadata": {},
   "source": [
    "## Opening a File\n",
    "Python provides the `open()` function to open a file."
   ]
  },
  {
   "cell_type": "code",
   "execution_count": 1,
   "id": "77e0718b",
   "metadata": {},
   "outputs": [],
   "source": [
    "# Syntax\n",
    "file_object = open('filename', 'mode')\n",
    "\n",
    "# Example\n",
    "f = open('myfile.txt', 'r')  # Open for reading\n",
    "f.close()"
   ]
  },
  {
   "cell_type": "markdown",
   "id": "6ae19984",
   "metadata": {},
   "source": [
    "## Modes for Opening Files\n",
    "\n",
    "| Mode | Description |\n",
    "|:----:|:-----------|\n",
    "| `'r'` | Read mode (default). Error if file does not exist. |\n",
    "| `'w'` | Write mode. Creates file if it does not exist or overwrites if it does. |\n",
    "| `'a'` | Append mode. Adds new data to the end of the file. |\n",
    "| `'x'` | Create mode. Creates new file, error if file exists. |\n",
    "| `'t'` | Text mode (default). |\n",
    "| `'b'` | Binary mode (for non-text files like images, PDFs). |\n"
   ]
  },
  {
   "cell_type": "markdown",
   "id": "15b67652",
   "metadata": {},
   "source": [
    "## Reading from a File"
   ]
  },
  {
   "cell_type": "code",
   "execution_count": null,
   "id": "ce74b886",
   "metadata": {},
   "outputs": [],
   "source": [
    "f = open('myfile.txt', 'r')\n",
    "contents = f.read()\n",
    "print(contents)\n",
    "f.close()"
   ]
  },
  {
   "cell_type": "markdown",
   "id": "7b6fbaff",
   "metadata": {},
   "source": [
    "## Writing to a File"
   ]
  },
  {
   "cell_type": "code",
   "execution_count": null,
   "id": "dcb205c6",
   "metadata": {},
   "outputs": [],
   "source": [
    "# Overwriting contents\n",
    "f = open('myfile.txt', 'w')\n",
    "f.write('Hello, world!')\n",
    "f.close()\n",
    "\n",
    "# Appending to a file\n",
    "f = open('myfile.txt', 'a')\n",
    "f.write('\\nThis line is appended.')\n",
    "f.close()"
   ]
  },
  {
   "cell_type": "markdown",
   "id": "7eb2fb5e",
   "metadata": {},
   "source": [
    "## Closing a File"
   ]
  },
  {
   "cell_type": "code",
   "execution_count": null,
   "id": "dc5eb556",
   "metadata": {},
   "outputs": [],
   "source": [
    "f = open('myfile.txt', 'r')\n",
    "# Do something with the file\n",
    "f.close()"
   ]
  },
  {
   "cell_type": "markdown",
   "id": "74fedb37",
   "metadata": {},
   "source": [
    "## Using the `with` Statement"
   ]
  },
  {
   "cell_type": "code",
   "execution_count": null,
   "id": "7cf28ece",
   "metadata": {},
   "outputs": [],
   "source": [
    "with open('myfile.txt', 'r') as f:\n",
    "    contents = f.read()\n",
    "    print(contents)\n",
    "# No need to manually close the file!\n"
   ]
  },
  {
   "cell_type": "markdown",
   "id": "5e0827b3",
   "metadata": {},
   "source": [
    "# 🛠️ Quick Exercise\n",
    "\n",
    "**Task:** Write a Python script to:\n",
    "- Create a new file `example.txt`\n",
    "- Write \"Learning File I/O in Python!\" into it\n",
    "- Append \"It is very easy and useful.\" into the same file\n",
    "- Read and print the file contents\n"
   ]
  },
  {
   "cell_type": "code",
   "execution_count": null,
   "id": "45d1bee6",
   "metadata": {},
   "outputs": [],
   "source": [
    "# Step 1: Write initial content\n",
    "with open('example.txt', 'w') as f:\n",
    "    f.write('Learning File I/O in Python!')\n",
    "\n",
    "# Step 2: Append content\n",
    "with open('example.txt', 'a') as f:\n",
    "    f.write('\\nIt is very easy and useful.')\n",
    "\n",
    "# Step 3: Read and print content\n",
    "with open('example.txt', 'r') as f:\n",
    "    content = f.read()\n",
    "    print(content)\n"
   ]
  }
 ],
 "metadata": {
  "kernelspec": {
   "display_name": "Python 3 (ipykernel)",
   "language": "python",
   "name": "python3"
  },
  "language_info": {
   "codemirror_mode": {
    "name": "ipython",
    "version": 3
   },
   "file_extension": ".py",
   "mimetype": "text/x-python",
   "name": "python",
   "nbconvert_exporter": "python",
   "pygments_lexer": "ipython3",
   "version": "3.12.4"
  }
 },
 "nbformat": 4,
 "nbformat_minor": 5
}
