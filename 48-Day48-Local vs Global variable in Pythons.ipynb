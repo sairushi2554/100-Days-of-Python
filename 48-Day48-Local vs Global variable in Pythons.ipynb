{
 "cells": [
  {
   "cell_type": "markdown",
   "id": "f5ab56b1",
   "metadata": {},
   "source": [
    "# Local vs Global Variables in Python\n"
   ]
  },
  {
   "cell_type": "markdown",
   "id": "ceaa4142",
   "metadata": {},
   "source": [
    "## What is a Variable in Python?\n",
    "\n",
    "A **variable** is a named location in memory that stores a value. In Python, you can assign a value to a variable using the `=` operator:\n",
    "\n",
    "```python\n",
    "x = 5\n",
    "y = \"Hello, World!\"\n",
    "```\n",
    "Here, `x` is assigned the integer `5`, and `y` is assigned the string `\"Hello, World!\"`."
   ]
  },
  {
   "cell_type": "markdown",
   "id": "6738694d",
   "metadata": {},
   "source": [
    "## Local and Global Variables\n",
    "\n",
    "Before diving into the differences, let's define them:\n",
    "\n",
    "- A **local variable** is defined inside a function and is accessible only within that function.\n",
    "- A **global variable** is defined outside all functions and is accessible throughout the code, including inside functions."
   ]
  },
  {
   "cell_type": "code",
   "execution_count": 4,
   "id": "5587d30e",
   "metadata": {},
   "outputs": [
    {
     "name": "stdout",
     "output_type": "stream",
     "text": [
      "Inside function, y = 5\n",
      "Outside function, x = 10\n"
     ]
    }
   ],
   "source": [
    "x = 10  # global variable\n",
    "\n",
    "def my_function():\n",
    "    y = 5  # local variable\n",
    "    print(\"Inside function, y =\", y)\n",
    "\n",
    "my_function()\n",
    "print(\"Outside function, x =\", x)\n",
    "# print(y)  # Uncommenting this will raise an error: NameError: name 'y' is not defined\n"
   ]
  },
  {
   "cell_type": "markdown",
   "id": "de7da516",
   "metadata": {},
   "source": [
    "In this example:\n",
    "- `x` is a global variable and can be accessed inside and outside the function.\n",
    "- `y` is a local variable and exists only within `my_function`. Trying to access `y` outside the function results in an error."
   ]
  },
  {
   "cell_type": "markdown",
   "id": "26a348f2",
   "metadata": {},
   "source": [
    "## The `global` Keyword\n",
    "\n",
    "If you want to modify a global variable inside a function, you need to use the `global` keyword."
   ]
  },
  {
   "cell_type": "code",
   "execution_count": 7,
   "id": "8d2126c2",
   "metadata": {},
   "outputs": [
    {
     "name": "stdout",
     "output_type": "stream",
     "text": [
      "Inside function, x = 5\n",
      "Outside function, x = 5\n"
     ]
    }
   ],
   "source": [
    "x = 10  # global variable\n",
    "\n",
    "def modify_global():\n",
    "    global x\n",
    "    x = 5  # modifies the global variable\n",
    "    y = 20  # local variable\n",
    "    print(\"Inside function, x =\", x)\n",
    "\n",
    "modify_global()\n",
    "print(\"Outside function, x =\", x)\n",
    "# print(y)  # Uncommenting this will raise an error: NameError: name 'y' is not defined\n"
   ]
  },
  {
   "cell_type": "markdown",
   "id": "125dda87",
   "metadata": {},
   "source": [
    "By declaring `x` as `global`, any changes to `x` inside the function affect the global `x` variable."
   ]
  },
  {
   "cell_type": "markdown",
   "id": "ee33b325",
   "metadata": {},
   "source": [
    "## Best Practices\n",
    "\n",
    "- Avoid modifying global variables inside functions; pass parameters and return values instead.\n",
    "- Use local variables for function-specific data to keep code modular and easier to debug.\n",
    "- Use global variables sparingly and document them well if used."
   ]
  },
  {
   "cell_type": "markdown",
   "id": "7e40716a",
   "metadata": {},
   "source": [
    "## Advanced: Global and Nested Functions\n",
    "\n",
    "You can also use `global` in nested functions, but be cautious as it may lead to complex code behavior."
   ]
  },
  {
   "cell_type": "code",
   "execution_count": 11,
   "id": "d48163c9",
   "metadata": {},
   "outputs": [
    {
     "name": "stdout",
     "output_type": "stream",
     "text": [
      "After nested function call, x = 200\n"
     ]
    }
   ],
   "source": [
    "x = 100\n",
    "\n",
    "def outer():\n",
    "    def inner():\n",
    "        global x\n",
    "        x = 200\n",
    "    inner()\n",
    "\n",
    "outer()\n",
    "print(\"After nested function call, x =\", x)\n"
   ]
  }
 ],
 "metadata": {
  "kernelspec": {
   "display_name": "Python 3 (ipykernel)",
   "language": "python",
   "name": "python3"
  },
  "language_info": {
   "codemirror_mode": {
    "name": "ipython",
    "version": 3
   },
   "file_extension": ".py",
   "mimetype": "text/x-python",
   "name": "python",
   "nbconvert_exporter": "python",
   "pygments_lexer": "ipython3",
   "version": "3.12.4"
  }
 },
 "nbformat": 4,
 "nbformat_minor": 5
}
