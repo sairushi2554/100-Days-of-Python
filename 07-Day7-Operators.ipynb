{
 "cells": [
  {
   "cell_type": "markdown",
   "id": "dec4f8bb-3e32-436c-98a5-5875f71f7b21",
   "metadata": {},
   "source": [
    "    "
   ]
  },
  {
   "cell_type": "markdown",
   "id": "fa297bed-6a24-4445-9823-79ae0ea28b8c",
   "metadata": {},
   "source": [
    "## Arithmetic Operators in Python\n",
    "\n",
    "Arithmetic operators are used to perform mathematical operations like addition, subtraction, multiplication, division, etc.\n",
    "\n",
    "| **Operator** | **Name**           | **Example**              |\n",
    "|--------------|--------------------|--------------------------|\n",
    "| `+`          | Addition           | `5 + 3` → `8`           |\n",
    "| `-`          | Subtraction        | `5 - 3` → `2`           |\n",
    "| `*`          | Multiplication     | `5 * 3` → `15`          |\n",
    "| `/`          | Division           | `5 / 2` → `2.5`         |\n",
    "| `//`         | Floor Division     | `5 // 2` → `2`          |\n",
    "| `%`          | Modulus (Remainder)| `5 % 2` → `1`           |\n",
    "| `**`         | Exponentiation     | `5 ** 3` → `125`        |\n"
   ]
  },
  {
   "cell_type": "markdown",
   "id": "195ea240-9061-4e95-81fa-11b193954324",
   "metadata": {},
   "source": [
    "### Integers"
   ]
  },
  {
   "cell_type": "code",
   "execution_count": 4,
   "id": "3ff8d63c-e4ac-46cd-b974-a67ed2adb350",
   "metadata": {},
   "outputs": [
    {
     "name": "stdout",
     "output_type": "stream",
     "text": [
      "Addition:  3\n"
     ]
    }
   ],
   "source": [
    "print('Addition: ', 1 + 2)"
   ]
  },
  {
   "cell_type": "code",
   "execution_count": 5,
   "id": "ebcb8b55-3983-4bc8-a5d7-733b6153475a",
   "metadata": {},
   "outputs": [
    {
     "name": "stdout",
     "output_type": "stream",
     "text": [
      "Subtraction:  1\n"
     ]
    }
   ],
   "source": [
    "print('Subtraction: ', 2 - 1)"
   ]
  },
  {
   "cell_type": "code",
   "execution_count": 6,
   "id": "addd8299-8003-49a5-8484-04a962a4f8d4",
   "metadata": {},
   "outputs": [
    {
     "name": "stdout",
     "output_type": "stream",
     "text": [
      "Multiplication:  6\n"
     ]
    }
   ],
   "source": [
    "print('Multiplication: ', 2 * 3)"
   ]
  },
  {
   "cell_type": "code",
   "execution_count": 7,
   "id": "ad79dc31-0122-4893-b0d5-8cf9196995dc",
   "metadata": {},
   "outputs": [
    {
     "name": "stdout",
     "output_type": "stream",
     "text": [
      "Division:  2.0\n"
     ]
    }
   ],
   "source": [
    "print ('Division: ', 4 / 2)                         # Division in python gives floating number"
   ]
  },
  {
   "cell_type": "code",
   "execution_count": 8,
   "id": "5e664a93-6364-41ea-aae7-7300aedc5c76",
   "metadata": {},
   "outputs": [
    {
     "name": "stdout",
     "output_type": "stream",
     "text": [
      "Division:  3.0\n"
     ]
    }
   ],
   "source": [
    "print('Division: ', 6 / 2)"
   ]
  },
  {
   "cell_type": "code",
   "execution_count": 9,
   "id": "bcdcbe6d-632c-4a0d-b4f3-a141e70918fe",
   "metadata": {},
   "outputs": [
    {
     "name": "stdout",
     "output_type": "stream",
     "text": [
      "Division:  3.5\n"
     ]
    }
   ],
   "source": [
    "print('Division: ', 7 / 2)"
   ]
  },
  {
   "cell_type": "code",
   "execution_count": 10,
   "id": "5c28aea2-b214-4ae2-a7f4-1aebb80c872d",
   "metadata": {},
   "outputs": [
    {
     "name": "stdout",
     "output_type": "stream",
     "text": [
      "Division without the remainder:  3\n"
     ]
    }
   ],
   "source": [
    "print('Division without the remainder: ', 7 // 2)   # gives without the floating number or without the remaining"
   ]
  },
  {
   "cell_type": "code",
   "execution_count": 11,
   "id": "83298da4-23eb-4c55-9a19-b72b7325c807",
   "metadata": {},
   "outputs": [
    {
     "name": "stdout",
     "output_type": "stream",
     "text": [
      "Modulus:  1\n"
     ]
    }
   ],
   "source": [
    "print('Modulus: ', 3 % 2)                           # Gives the remainder"
   ]
  },
  {
   "cell_type": "code",
   "execution_count": 12,
   "id": "1be95b2a-adb0-4e86-852e-eff4594cc7bb",
   "metadata": {},
   "outputs": [
    {
     "name": "stdout",
     "output_type": "stream",
     "text": [
      "Division without the remainder:  2\n"
     ]
    }
   ],
   "source": [
    "print ('Division without the remainder: ', 7 // 3)"
   ]
  },
  {
   "cell_type": "code",
   "execution_count": 13,
   "id": "fb4b867a-f219-4ef7-9354-7f90f60bbc24",
   "metadata": {},
   "outputs": [
    {
     "name": "stdout",
     "output_type": "stream",
     "text": [
      "Exponential:  9\n"
     ]
    }
   ],
   "source": [
    "print('Exponential: ', 3 ** 2)                     # it means 3 * 3"
   ]
  },
  {
   "cell_type": "markdown",
   "id": "ab81fc1a-5ddc-4247-99e6-928216bdfdbc",
   "metadata": {},
   "source": [
    "   "
   ]
  },
  {
   "cell_type": "markdown",
   "id": "77fbc72f-531a-4d7c-868a-8cb25007602c",
   "metadata": {},
   "source": [
    "### Floating numbers"
   ]
  },
  {
   "cell_type": "code",
   "execution_count": 16,
   "id": "9c78265a-ee55-417f-86c4-333478ff4e37",
   "metadata": {},
   "outputs": [
    {
     "name": "stdout",
     "output_type": "stream",
     "text": [
      "Floating Number,PI 3.14\n",
      "Floating Number, gravity 9.81\n"
     ]
    }
   ],
   "source": [
    "print('Floating Number,PI', 3.14)\n",
    "print('Floating Number, gravity', 9.81)"
   ]
  },
  {
   "cell_type": "markdown",
   "id": "6202dbcb-9ae3-4c40-aebd-e2f5a511f01a",
   "metadata": {},
   "source": [
    "   "
   ]
  },
  {
   "cell_type": "markdown",
   "id": "c5d29226-a1d3-4d85-888b-21a3e22467c2",
   "metadata": {},
   "source": [
    "### Complex numbers"
   ]
  },
  {
   "cell_type": "code",
   "execution_count": 19,
   "id": "73088ad2-3914-455f-b9a0-b3434e7a499d",
   "metadata": {
    "scrolled": true
   },
   "outputs": [
    {
     "name": "stdout",
     "output_type": "stream",
     "text": [
      "Complex number:  (1+1j)\n",
      "Multiplying complex number:  (2+0j)\n"
     ]
    }
   ],
   "source": [
    "print('Complex number: ', 1 + 1j)\n",
    "print('Multiplying complex number: ',(1 + 1j) * (1-1j))"
   ]
  },
  {
   "cell_type": "markdown",
   "id": "1ff0872a-8a1b-410e-a686-d08ceb596b72",
   "metadata": {},
   "source": [
    "   "
   ]
  },
  {
   "cell_type": "code",
   "execution_count": 21,
   "id": "1a69734d-ae02-41f2-86ac-c58af4225d7f",
   "metadata": {},
   "outputs": [],
   "source": [
    "# Declaring the variable at the top first\n",
    "\n",
    "a = 3 # a is a variable name and 3 is an integer data type\n",
    "b = 2 # b is a variable name and 3 is an integer data type"
   ]
  },
  {
   "cell_type": "code",
   "execution_count": 22,
   "id": "a270d21c-e0e8-48b2-83c6-a75e99ccce06",
   "metadata": {},
   "outputs": [],
   "source": [
    "# Arithmetic operations and assigning the result to a variable\n",
    "total = a + b\n",
    "diff = a - b\n",
    "product = a * b\n",
    "division = a / b\n",
    "remainder = a % b\n",
    "floor_division = a // b\n",
    "exponential = a ** b"
   ]
  },
  {
   "cell_type": "markdown",
   "id": "2ac22bc6-711c-4ed4-aece-c0e69782b309",
   "metadata": {},
   "source": [
    "##### I should have used sum instead of total but sum is a built-in function try to avoid overriding builtin functions"
   ]
  },
  {
   "cell_type": "code",
   "execution_count": 24,
   "id": "281964ce-1082-486d-a3ae-0e2036228f1b",
   "metadata": {},
   "outputs": [
    {
     "name": "stdout",
     "output_type": "stream",
     "text": [
      "5\n",
      "a + b =  5\n",
      "a - b =  1\n",
      "a * b =  6\n",
      "a / b =  1.5\n",
      "a % b =  1\n",
      "a // b =  1\n",
      "a ** b =  9\n"
     ]
    }
   ],
   "source": [
    "print(total) # if you don't label your print with some string, you never know from where is  the result is coming\n",
    "print('a + b = ', total)\n",
    "print('a - b = ', diff)\n",
    "print('a * b = ', product)\n",
    "print('a / b = ', division)\n",
    "print('a % b = ', remainder)\n",
    "print('a // b = ', floor_division)\n",
    "print('a ** b = ', exponential)"
   ]
  },
  {
   "cell_type": "markdown",
   "id": "75b4e0d8-1dcc-4c70-9158-4fdfe5808045",
   "metadata": {},
   "source": [
    "   "
   ]
  },
  {
   "cell_type": "code",
   "execution_count": 26,
   "id": "6f8a6aed-f8d2-40a5-89e4-08efad71139b",
   "metadata": {},
   "outputs": [],
   "source": [
    "# Declaring values and organizing them together\n",
    "num_one = 3\n",
    "num_two = 4"
   ]
  },
  {
   "cell_type": "code",
   "execution_count": 27,
   "id": "88404f17-7de8-4772-9bae-1b382aafd3d6",
   "metadata": {},
   "outputs": [],
   "source": [
    "# Arithmetic operations\n",
    "total = num_one + num_two\n",
    "diff = num_two - num_one\n",
    "product = num_one * num_two\n",
    "div = num_two / num_two\n",
    "remainder = num_two % num_one"
   ]
  },
  {
   "cell_type": "markdown",
   "id": "bf385e93-08b7-4f78-a9e2-9908b5a77d92",
   "metadata": {},
   "source": [
    "   "
   ]
  },
  {
   "cell_type": "code",
   "execution_count": 29,
   "id": "97df9ef4-9158-4eff-95bc-972dd04e2cfd",
   "metadata": {},
   "outputs": [
    {
     "name": "stdout",
     "output_type": "stream",
     "text": [
      "total:  7\n",
      "difference:  1\n",
      "product:  12\n",
      "division:  1.0\n",
      "remainder:  1\n"
     ]
    }
   ],
   "source": [
    "# Printing values with label\n",
    "print('total: ', total)\n",
    "print('difference: ', diff)\n",
    "print('product: ', product)\n",
    "print('division: ', div)\n",
    "print('remainder: ', remainder)"
   ]
  },
  {
   "cell_type": "markdown",
   "id": "972e2305-c96d-4228-a5ee-980d1abe1be2",
   "metadata": {},
   "source": [
    "   "
   ]
  },
  {
   "cell_type": "code",
   "execution_count": 31,
   "id": "21758ef1-7d1c-4d47-aeae-4e76bc1df11f",
   "metadata": {},
   "outputs": [
    {
     "name": "stdout",
     "output_type": "stream",
     "text": [
      "Area of a circle: 907.46\n"
     ]
    }
   ],
   "source": [
    "# Calculating area of a circle\n",
    "radius = 17                                # radius of a circle\n",
    "area_of_circle = 3.14 * radius ** 2         # two * sign means exponent or power\n",
    "print('Area of a circle:', area_of_circle)"
   ]
  },
  {
   "cell_type": "markdown",
   "id": "8f5e1fc2-e93a-4f0a-a3ca-41fa8e3d2fdf",
   "metadata": {},
   "source": [
    "   "
   ]
  },
  {
   "cell_type": "code",
   "execution_count": 33,
   "id": "428f6aa2-73b4-4286-afc8-8054b2d73acb",
   "metadata": {},
   "outputs": [
    {
     "name": "stdout",
     "output_type": "stream",
     "text": [
      "Area of rectangle: 200\n"
     ]
    }
   ],
   "source": [
    "# Calculating area of a rectangle\n",
    "length = 10\n",
    "width = 20\n",
    "area_of_rectangle = length * width\n",
    "print('Area of rectangle:', area_of_rectangle)"
   ]
  },
  {
   "cell_type": "markdown",
   "id": "5e56bb2c-3892-4007-8af4-ce34c5716669",
   "metadata": {},
   "source": [
    "    "
   ]
  },
  {
   "cell_type": "code",
   "execution_count": 35,
   "id": "9b6467a8-43b2-4011-8479-84ddb38e7d66",
   "metadata": {},
   "outputs": [
    {
     "name": "stdout",
     "output_type": "stream",
     "text": [
      "735.75 N\n"
     ]
    }
   ],
   "source": [
    "# Calculating a weight of an object\n",
    "mass = 75\n",
    "gravity = 9.81\n",
    "weight = mass * gravity\n",
    "print(weight, 'N')"
   ]
  },
  {
   "cell_type": "markdown",
   "id": "3acc519c-9917-47d8-a8aa-b64af3ff534a",
   "metadata": {},
   "source": [
    "   "
   ]
  },
  {
   "cell_type": "markdown",
   "id": "a5181aae-6524-46cc-9a72-ba7da2673a3c",
   "metadata": {},
   "source": [
    "## Comparison Operators\n",
    "In programming we compare values, we use comparison operators to compare two values. We check if a value is greater or less or equal to other value."
   ]
  },
  {
   "cell_type": "markdown",
   "id": "71fee87c-9e55-402d-91ae-20c9e0662701",
   "metadata": {},
   "source": [
    "### Comparison Operators in Python\n",
    "\n",
    "Comparison operators are used to compare two values and return a boolean (`True` or `False`) based on the result.\n",
    "\n",
    "| **Operator** | **Name**           | **Example**              |\n",
    "|--------------|--------------------|--------------------------|\n",
    "| `==`         | Equal to           | `5 == 5` → `True`       |\n",
    "| `!=`         | Not equal to       | `5 != 3` → `True`       |\n",
    "| `>`          | Greater than       | `7 > 5` → `True`        |\n",
    "| `<`          | Less than          | `3 < 5` → `True`        |\n",
    "| `>=`         | Greater than or equal to | `5 >= 5` → `True`   |\n",
    "| `<=`         | Less than or equal to    | `3 <= 5` → `True`   |\n",
    "\n"
   ]
  },
  {
   "cell_type": "code",
   "execution_count": 39,
   "id": "9560c980-31af-4dcc-9cb5-f63d0d78c096",
   "metadata": {},
   "outputs": [
    {
     "name": "stdout",
     "output_type": "stream",
     "text": [
      "False\n",
      "True\n",
      "False\n",
      "True\n",
      "True\n",
      "False\n"
     ]
    }
   ],
   "source": [
    "# Example of comparison operators\n",
    "x = 10\n",
    "y = 20\n",
    "\n",
    "print(x == y)   # False, because 10 is not equal to 20\n",
    "print(x != y)   # True, because 10 is not equal to 20\n",
    "print(x > y)    # False, because 10 is not greater than 20\n",
    "print(x < y)    # True, because 10 is less than 20\n",
    "print(x >= 10)  # True, because 10 is equal to 10\n",
    "print(x <= 5)   # False, because 10 is not less than or equal to 5"
   ]
  },
  {
   "cell_type": "markdown",
   "id": "b9ab38e1-921d-40cd-8f08-5a9103cb090a",
   "metadata": {},
   "source": [
    "    "
   ]
  },
  {
   "cell_type": "markdown",
   "id": "e81bf239-88b8-42a6-900b-4a582c6fed8d",
   "metadata": {},
   "source": [
    "# Additional Comparison Operators in Python\r\n",
    "\r\n",
    "In addition to the standard comparison operators, Python provides additional operators for identity and membership checks:\r\n",
    "\r\n",
    "| **Operator** | **Name**          | **Description**                                                   | **Example**                        |\r\n",
    "|--------------|-------------------|-------------------------------------------------------------------|------------------------------------|\r\n",
    "| `is`         | Identity          | Returns `True` if both variables are the same object             | `x is y` → `True`                 |\r\n",
    "| `is not`     | Negated Identity  | Returns `True` if both variables are not the same object         | `x is not y` → `True`             |\r\n",
    "| `in`         | Membership        | Returns `True` if the queried list contains a certain item       | `x in y` → `True`                 |\r\n",
    "| `not in`     | Negated Membership| Returns `True` if the queried list does not contain a certain item | `x not in y` → `True`     because 50 is not in the list\r\n"
   ]
  },
  {
   "cell_type": "code",
   "execution_count": 42,
   "id": "d2730cfb-0d90-499f-935f-e01b60b251a2",
   "metadata": {},
   "outputs": [
    {
     "name": "stdout",
     "output_type": "stream",
     "text": [
      "True\n",
      "False\n",
      "True\n"
     ]
    }
   ],
   "source": [
    "# Example for 'is' and 'is not'\n",
    "a = [1, 2, 3]\n",
    "b = a\n",
    "c = [1, 2, 3]\n",
    "\n",
    "print(a is b)     # True, because 'b' is the same object as 'a'\n",
    "print(a is c)     # False, because 'c' is a different object with the same content\n",
    "print(a is not c) # True, because 'a' and 'c' are not the same object\n",
    "\n"
   ]
  },
  {
   "cell_type": "code",
   "execution_count": 43,
   "id": "7da68f38-c561-4a31-ab52-31381f201ae7",
   "metadata": {},
   "outputs": [
    {
     "name": "stdout",
     "output_type": "stream",
     "text": [
      "True\n",
      "False\n",
      "True\n"
     ]
    }
   ],
   "source": [
    "# Example for 'in' and 'not in'\n",
    "my_list = [10, 20, 30, 40]\n",
    "\n",
    "print(20 in my_list)       # True, because 20 is in the list\n",
    "print(50 in my_list)       # False, because 50 is not in the list\n",
    "print(50 not in my_list)   # True, because 50 is not in the list\n"
   ]
  },
  {
   "cell_type": "code",
   "execution_count": 44,
   "id": "6165104f-f57d-4039-8f8f-c5ced7309b23",
   "metadata": {},
   "outputs": [
    {
     "name": "stdout",
     "output_type": "stream",
     "text": [
      "1 is 1 True\n",
      "1 is not 2 True\n"
     ]
    },
    {
     "name": "stderr",
     "output_type": "stream",
     "text": [
      "<>:1: SyntaxWarning: \"is\" with 'int' literal. Did you mean \"==\"?\n",
      "<>:2: SyntaxWarning: \"is not\" with 'int' literal. Did you mean \"!=\"?\n",
      "<>:1: SyntaxWarning: \"is\" with 'int' literal. Did you mean \"==\"?\n",
      "<>:2: SyntaxWarning: \"is not\" with 'int' literal. Did you mean \"!=\"?\n",
      "C:\\Users\\DELL\\AppData\\Local\\Temp\\ipykernel_5036\\1091766753.py:1: SyntaxWarning: \"is\" with 'int' literal. Did you mean \"==\"?\n",
      "  print('1 is 1', 1 is 1)                   # True - because the data values are the same\n",
      "C:\\Users\\DELL\\AppData\\Local\\Temp\\ipykernel_5036\\1091766753.py:2: SyntaxWarning: \"is not\" with 'int' literal. Did you mean \"!=\"?\n",
      "  print('1 is not 2', 1 is not 2)           # True - because 1 is not 2\n"
     ]
    }
   ],
   "source": [
    "print('1 is 1', 1 is 1)                   # True - because the data values are the same\n",
    "print('1 is not 2', 1 is not 2)           # True - because 1 is not 2\n"
   ]
  },
  {
   "cell_type": "code",
   "execution_count": 45,
   "id": "14389798-5c42-4e9b-8358-72321914d250",
   "metadata": {},
   "outputs": [
    {
     "name": "stdout",
     "output_type": "stream",
     "text": [
      "a in Sairushi : True\n",
      "B in Iron Man : False\n",
      "True\n",
      "a in an: True\n"
     ]
    }
   ],
   "source": [
    "print('a in Sairushi :', 'a' in 'Sairushi') # True - A found in the string\n",
    "print('B in Iron Man :', 'B' in 'Ironman') # False - there is no uppercase B\n",
    "print('coding' in 'coding for all') # True - because coding for all has the word coding\n",
    "print('a in an:', 'a' in 'an')      # True\n",
    "# print('4 is 2 ** 2:', 4 is 2 ** 2)   # True"
   ]
  },
  {
   "cell_type": "markdown",
   "id": "6c4d1408-6971-4c54-812c-d59d19d24d4d",
   "metadata": {},
   "source": [
    "   "
   ]
  },
  {
   "cell_type": "markdown",
   "id": "97d6fd61-0867-4f16-bace-4b5ac5a104e1",
   "metadata": {},
   "source": [
    "# Logical Operators in Python\n",
    "\n",
    "Python uses the keywords `and`, `or`, and `not` for logical operations. Logical operators are used to combine conditional statements and return a boolean value (`True` or `False`).\n",
    "\n",
    "| **Operator** | **Description**                          | **Example**                          |\n",
    "|--------------|------------------------------------------|--------------------------------------|\n",
    "| `and`        | Returns `True` if both conditions are `True` | `(x > 5 and x < 10)` → `True`       |\n",
    "| `or`         | Returns `True` if at least one condition is `True` | `(x > 5 or x < 3)` → `True`       |\n",
    "| `not`        | Reverses the boolean value of the condition | `not(x > 5)` → `False`             |\n",
    "\n"
   ]
  },
  {
   "cell_type": "code",
   "execution_count": 48,
   "id": "ea26a005-8835-4326-9dcc-8a9f5c5072eb",
   "metadata": {},
   "outputs": [
    {
     "name": "stdout",
     "output_type": "stream",
     "text": [
      "True\n",
      "False\n",
      "False\n"
     ]
    }
   ],
   "source": [
    "# Example of logical operators\n",
    "x = 7\n",
    "y = 12\n",
    "\n",
    "# and operator\n",
    "print(x > 5 and y < 15)  # True, because both conditions are True\n",
    "print(x > 10 and y < 15) # False, because one condition is False\n",
    "print(x > 10 and y >15 ) # False, because both condition are False"
   ]
  },
  {
   "cell_type": "code",
   "execution_count": 49,
   "id": "60fcebd2-59cd-49de-bea8-3d45b82beef9",
   "metadata": {},
   "outputs": [
    {
     "name": "stdout",
     "output_type": "stream",
     "text": [
      "True\n",
      "False\n"
     ]
    }
   ],
   "source": [
    "# or operator\n",
    "print(x > 5 or y > 15)   # True, because one condition is True\n",
    "print(x < 5 or y > 15)   # False, because both conditions are False\n"
   ]
  },
  {
   "cell_type": "code",
   "execution_count": 50,
   "id": "54e91257-49eb-4155-9ae1-2965fbb231e7",
   "metadata": {},
   "outputs": [
    {
     "name": "stdout",
     "output_type": "stream",
     "text": [
      "False\n",
      "True\n"
     ]
    }
   ],
   "source": [
    "# not operator\n",
    "print(not(x > 5))        # False, because x > 5 is True, and not reverses it\n",
    "print(not(x > 10))       # True, because x > 10 is False, and not reverses it"
   ]
  },
  {
   "cell_type": "markdown",
   "id": "ab41f6f5-93c1-4ce3-a5ad-72b291ac5a92",
   "metadata": {},
   "source": [
    "      "
   ]
  },
  {
   "cell_type": "code",
   "execution_count": 52,
   "id": "f20c2334-9bf6-477d-b2d7-8910597307be",
   "metadata": {},
   "outputs": [
    {
     "name": "stdout",
     "output_type": "stream",
     "text": [
      "age is  <class 'int'>\n",
      "Height is  <class 'float'>\n",
      "(2+3j) is  <class 'complex'>\n"
     ]
    }
   ],
   "source": [
    "# 1. Declare your age as integer variable\n",
    "x = 22  \n",
    "print(\"age is \",type(x))\n",
    "\n",
    "# 2. Declare your height as a float variable\n",
    "y = 178.6\n",
    "print('Height is ',type(y))\n",
    "\n",
    "# 3.Declare a variable that store a complex number\n",
    "z = complex(2,3)\n",
    "print(z,'is ',type(z))\n"
   ]
  },
  {
   "cell_type": "code",
   "execution_count": 53,
   "id": "dffcd02b-7c31-47db-a1a7-4948238e7885",
   "metadata": {},
   "outputs": [
    {
     "name": "stdin",
     "output_type": "stream",
     "text": [
      "Enter height Measurement : 10\n",
      "Enter base Measurement : 20\n"
     ]
    },
    {
     "name": "stdout",
     "output_type": "stream",
     "text": [
      "Area of Triangle is : 100.0 sq. unit\n"
     ]
    }
   ],
   "source": [
    "# 4. Write a script that prompts the user to enter base and height of the triangle and calculate an area of this triangle (area = 0.5 x b x h).\n",
    "height = int(input('Enter height Measurement :'))\n",
    "base = int(input('Enter base Measurement :'))\n",
    "print('Area of Triangle is :',0.5 * height * base, 'sq. unit')"
   ]
  },
  {
   "cell_type": "code",
   "execution_count": 54,
   "id": "5885a6b5-a8ab-4267-8498-39ce3e9d8e3e",
   "metadata": {},
   "outputs": [
    {
     "name": "stdin",
     "output_type": "stream",
     "text": [
      "Enter side a:  5\n",
      "Enter side b:  4\n",
      "Enter side c:  3\n"
     ]
    },
    {
     "name": "stdout",
     "output_type": "stream",
     "text": [
      "The perimeter of the triangle is : 12\n"
     ]
    }
   ],
   "source": [
    "# 5. Write a script that prompts the user to enter side a, side b, and side c of the triangle. Calculate the perimeter of the triangle (perimeter = a + b + c)\n",
    "a = int(input('Enter side a: '))\n",
    "b = int(input('Enter side b: '))\n",
    "c = int(input('Enter side c: '))\n",
    "print('The perimeter of the triangle is :',a + b + c)\n"
   ]
  },
  {
   "cell_type": "code",
   "execution_count": 55,
   "id": "7b6711f1-d574-4eaf-8917-26bd3fae9a2d",
   "metadata": {},
   "outputs": [
    {
     "name": "stdin",
     "output_type": "stream",
     "text": [
      "Enter the length of rectangle : 20\n",
      "Enter the breadth of rectangle : 8\n"
     ]
    },
    {
     "name": "stdout",
     "output_type": "stream",
     "text": [
      "Area of rectangle is : 160 \n",
      "Perimeter of rectangle is : 56\n"
     ]
    }
   ],
   "source": [
    "# 6. Get length and width of a rectangle using prompt. Calculate its area (area = length x width) and perimeter (perimeter = 2 x (length + width))\n",
    "l = int(input('Enter the length of rectangle :'))\n",
    "b = int(input('Enter the breadth of rectangle :'))\n",
    "print('Area of rectangle is :',l * b, '\\nPerimeter of rectangle is :',2 * ( l + b )  )"
   ]
  },
  {
   "cell_type": "code",
   "execution_count": 56,
   "id": "2bedef24-3e60-4222-ba86-d67c20bf1405",
   "metadata": {},
   "outputs": [
    {
     "name": "stdin",
     "output_type": "stream",
     "text": [
      "Enter radius of circle : 7\n"
     ]
    },
    {
     "name": "stdout",
     "output_type": "stream",
     "text": [
      "Area of circle is : 153.86 \n",
      "Cirsumference of circle is : 43.96\n"
     ]
    }
   ],
   "source": [
    "# 7. Get radius of a circle using prompt. Calculate the area (area = pi x r x r) and circumference (c = 2 x pi x r) where pi = 3.14.\n",
    "pi  = 3.14\n",
    "r = int(input('Enter radius of circle :'))\n",
    "print('Area of circle is :',pi * r * r,'\\nCirsumference of circle is :',2 * pi * r)"
   ]
  },
  {
   "cell_type": "code",
   "execution_count": 57,
   "id": "9d43cdc3-2c42-4ddb-8a36-8dc7a7a33e7a",
   "metadata": {},
   "outputs": [
    {
     "name": "stdout",
     "output_type": "stream",
     "text": [
      "Slope (m): 2\n",
      "Y-Intercept: (0, -2)\n",
      "X-Intercept: (1.0, 0)\n"
     ]
    }
   ],
   "source": [
    "# 8. Calculate the slope, x-intercept and y-intercept of y = 2x -2\n",
    "# Slope-intercept form: y = mx + c\n",
    "m = 2  # Slope\n",
    "c = -2 # Y-intercept value\n",
    "print(\"Slope (m):\", m)\n",
    "\n",
    "# Y-intercept: The point where x = 0\n",
    "y_intercept = (0, c)\n",
    "print(\"Y-Intercept:\", y_intercept)\n",
    "\n",
    "# X-intercept: The point where y = 0\n",
    "# Solve for x when y = 0: 0 = mx + c => x = -c / m\n",
    "x_intercept = (-c / m, 0)\n",
    "print(\"X-Intercept:\", x_intercept)"
   ]
  },
  {
   "cell_type": "code",
   "execution_count": 58,
   "id": "c442329d-20fa-48cb-9de9-cc8cfebcdd83",
   "metadata": {},
   "outputs": [
    {
     "name": "stdout",
     "output_type": "stream",
     "text": [
      "Slope (m) is : 2.0\n",
      "The Euclidean Distance between the two points is : 8.94427190999916\n"
     ]
    }
   ],
   "source": [
    "#9. Slope is (m = y2-y1/x2-x1). Find the slope and Euclidean distance between point (2, 2) and point (6,10)\n",
    "(x1,y1) = (2,2)\n",
    "(x2,y2) = (6,10)\n",
    "m1 = (y2-y1) / (x2-x1)\n",
    "print('Slope (m) is :',m1)\n",
    "print('The Euclidean Distance between the two points is :',( (y2-y1)**2 + (x2-x1)**2) **(1/2))"
   ]
  },
  {
   "cell_type": "code",
   "execution_count": 59,
   "id": "6781a99e-9ff9-4af0-9773-bf9bdf26e128",
   "metadata": {},
   "outputs": [
    {
     "data": {
      "text/plain": [
       "True"
      ]
     },
     "execution_count": 59,
     "metadata": {},
     "output_type": "execute_result"
    }
   ],
   "source": [
    "# 10. Compare the slopes in tasks 8 and 9.\n",
    "m1==m   # Both are same"
   ]
  },
  {
   "cell_type": "code",
   "execution_count": 60,
   "id": "857ea70e-d50a-4130-8392-4b7629070664",
   "metadata": {},
   "outputs": [
    {
     "name": "stdout",
     "output_type": "stream",
     "text": [
      "for x = -3 the value of y is 0\n"
     ]
    }
   ],
   "source": [
    "# 11. Calculate the value of y (y = x^2 + 6x + 9). Try to use different x values and figure out at what x value y is going to be 0.\n",
    "def calculate_y(x):\n",
    "    return x**2 + 6*x + 9\n",
    "\n",
    "for x in range(-5,5):\n",
    "    if calculate_y(x) == 0 :\n",
    "        print(f\"for x = {x} the value of y is 0\")\n",
    "        "
   ]
  },
  {
   "cell_type": "code",
   "execution_count": 61,
   "id": "044d5ed3-d0bd-4b38-8e22-41f16f3df46c",
   "metadata": {},
   "outputs": [
    {
     "name": "stdout",
     "output_type": "stream",
     "text": [
      "Length of 'python': 6\n",
      "Length of 'dragon': 6\n",
      "Is the length of 'python' greater than 'dragon'? False\n"
     ]
    }
   ],
   "source": [
    "# 12. Find the length of 'python' and 'dragon' and make a falsy comparison statement.\n",
    "word1 = \"python\"\n",
    "word2 = \"dragon\"\n",
    "\n",
    "len_word1 = len(word1)\n",
    "len_word2 = len(word2)\n",
    "\n",
    "print(f\"Length of '{word1}':\", len_word1)\n",
    "print(f\"Length of '{word2}':\", len_word2)\n",
    "\n",
    "comparison = len_word1 > len_word2  # This will be False as both lengths are the same\n",
    "print(\"Is the length of 'python' greater than 'dragon'?\", comparison)\n"
   ]
  },
  {
   "cell_type": "code",
   "execution_count": 62,
   "id": "bd463399-1566-4f89-879e-fc0c204638db",
   "metadata": {},
   "outputs": [
    {
     "name": "stdout",
     "output_type": "stream",
     "text": [
      "True\n"
     ]
    }
   ],
   "source": [
    "# 13. Use and operator to check if 'on' is found in both 'python' and 'dragon'\n",
    "word1 = \"python\"\n",
    "word2 = \"dragon\"\n",
    "\n",
    "print( 'on' in 'python' and 'on' in 'dragon')    # It is found in both strings"
   ]
  },
  {
   "cell_type": "code",
   "execution_count": 63,
   "id": "af883c13-2247-409d-9aae-5dfb43f3a46e",
   "metadata": {},
   "outputs": [
    {
     "name": "stdout",
     "output_type": "stream",
     "text": [
      "is jargon in the sentence : True\n"
     ]
    }
   ],
   "source": [
    "# 14. I hope this course is not full of jargon. Use in operator to check if jargon is in the sentence.\n",
    "sentence='I hope this course is not full of jargon.'\n",
    "print('is jargon in the sentence :','jargon' in sentence)"
   ]
  },
  {
   "cell_type": "code",
   "execution_count": 64,
   "id": "0c6f2f81-0855-450f-97f2-3d1992b72dab",
   "metadata": {},
   "outputs": [
    {
     "name": "stdout",
     "output_type": "stream",
     "text": [
      "True\n"
     ]
    }
   ],
   "source": [
    "# 15. \n",
    "print( 'on' in 'python' and 'on' in 'dragon')    # It is found in both strings"
   ]
  },
  {
   "cell_type": "code",
   "execution_count": 65,
   "id": "15e337ef-8438-4cb3-b348-15df7cae621c",
   "metadata": {},
   "outputs": [
    {
     "name": "stdout",
     "output_type": "stream",
     "text": [
      "<class 'float'>\n",
      "<class 'str'>\n"
     ]
    }
   ],
   "source": [
    "# 16. Find the length of the text python and convert the value to float and convert it to string\n",
    "word1='python'\n",
    "\n",
    "len_word=float(len(word1))\n",
    "\n",
    "str1=str(len_word)\n",
    "print(type(len_word))\n",
    "print(type(str1))\n"
   ]
  },
  {
   "cell_type": "code",
   "execution_count": 66,
   "id": "d1dbb98a-7091-47bd-82dc-497a07e03905",
   "metadata": {},
   "outputs": [
    {
     "name": "stdin",
     "output_type": "stream",
     "text": [
      "Enter the number : 17\n"
     ]
    },
    {
     "name": "stdout",
     "output_type": "stream",
     "text": [
      "The number 17 is odd number.\n"
     ]
    }
   ],
   "source": [
    "# 17. Even numbers are divisible by 2 and the remainder is zero. How do you check if a number is even or not using python?\n",
    "num = int(input('Enter the number :'))\n",
    "if num % 2 == 0:\n",
    "    print(f\"The number {num} is a even number.\")\n",
    "else :\n",
    "    print(f\"The number {num} is odd number.\")"
   ]
  },
  {
   "cell_type": "code",
   "execution_count": 67,
   "id": "f78b850a-1eb1-461e-acba-1499a190a429",
   "metadata": {},
   "outputs": [
    {
     "name": "stdout",
     "output_type": "stream",
     "text": [
      "Is the floor division of 7 by 3 equal to the int converted value of 2.7?\n",
      " False\n"
     ]
    }
   ],
   "source": [
    "# 18. Check if the floor division of 7 by 3 is equal to the int converted value of 2.7.\n",
    "result=7//3\n",
    "val1=2.7\n",
    "print(\"Is the floor division of 7 by 3 equal to the int converted value of 2.7?\\n\",result==val1)"
   ]
  },
  {
   "cell_type": "code",
   "execution_count": 68,
   "id": "7132818b-da58-42a5-b299-fa40e8d2f37f",
   "metadata": {},
   "outputs": [
    {
     "name": "stdout",
     "output_type": "stream",
     "text": [
      "Is the type of '10' equal to the type of 10?\n",
      " False\n"
     ]
    }
   ],
   "source": [
    "# 19. Check if type of '10' is equal to type of 10\n",
    "# Compare types of '10' and 10\n",
    "comparison = type('10') == type(10)\n",
    "\n",
    "# Print the result of the comparison\n",
    "print(\"Is the type of '10' equal to the type of 10?\\n\",comparison)\n"
   ]
  },
  {
   "cell_type": "code",
   "execution_count": 69,
   "id": "92087c1f-4349-49a8-9704-a2773c1a77f0",
   "metadata": {},
   "outputs": [
    {
     "name": "stdout",
     "output_type": "stream",
     "text": [
      "Is int('9.8') equal to 10?\n",
      " False\n"
     ]
    }
   ],
   "source": [
    "# 20. Check if int('9.8') is equal to 10\n",
    "# Convert '9.8' to a float, then to an integer\n",
    "comparison = int(float('9.8')) == 10\n",
    "\n",
    "# Print the result of the comparison\n",
    "print(\"Is int('9.8') equal to 10?\\n\", comparison)\n"
   ]
  },
  {
   "cell_type": "code",
   "execution_count": 70,
   "id": "4cf5da16-a109-462a-a084-4ba65a7f25aa",
   "metadata": {},
   "outputs": [
    {
     "name": "stdin",
     "output_type": "stream",
     "text": [
      "Enter hours:  40\n",
      "Enter rate per hour:  10000\n"
     ]
    },
    {
     "name": "stdout",
     "output_type": "stream",
     "text": [
      "Your weekly earning is : 400000\n"
     ]
    }
   ],
   "source": [
    "# 21. Writ a script that prompts the user to enter hours and rate per hour. Calculate pay of the person?\n",
    "hours = int(input('Enter hours: '))\n",
    "rate = int(input('Enter rate per hour: '))\n",
    "print('Your weekly earning is :', hours * rate )"
   ]
  },
  {
   "cell_type": "code",
   "execution_count": 71,
   "id": "1dc510d9-59b8-4b45-afaa-562c6f8e44e8",
   "metadata": {},
   "outputs": [
    {
     "name": "stdin",
     "output_type": "stream",
     "text": [
      "Enter number of years you have lived:  22\n"
     ]
    },
    {
     "name": "stdout",
     "output_type": "stream",
     "text": [
      "You have lived for 693792000 seconds.\n"
     ]
    }
   ],
   "source": [
    "# 22. Write a script that prompts the user to enter number of years. Calculate the number of seconds a person can live. Assume a person can live hundred years\n",
    "years_lived = int(input(\"Enter number of years you have lived: \"))\n",
    "\n",
    "# Assume a year has 365 days (ignoring leap years for simplicity)\n",
    "seconds_in_a_day = 86400  # 24 hours * 60 minutes * 60 seconds\n",
    "seconds_lived = years_lived * 365 * seconds_in_a_day\n",
    "\n",
    "print(f\"You have lived for {seconds_lived} seconds.\")              "
   ]
  },
  {
   "cell_type": "code",
   "execution_count": 72,
   "id": "46b350f9-c2fa-4187-b648-6930536868d5",
   "metadata": {},
   "outputs": [
    {
     "name": "stdout",
     "output_type": "stream",
     "text": [
      "1 1 1 1 1 \n",
      "1 2 4 8 16 \n",
      "1 3 9 27 81 \n",
      "1 4 16 64 256 \n",
      "1 5 25 125 625 \n"
     ]
    }
   ],
   "source": [
    "\n",
    "# Loop through rows 1 to 5\n",
    "for i in range(1, 6):\n",
    "    # Calculate the powers of i from i^0 to i^4 and print each value\n",
    "    for j in range(5):\n",
    "        print(i**j, end=\" \")  # Print without newline, separate by space\n",
    "    print()  # Move to the next line after each row\n"
   ]
  },
  {
   "cell_type": "markdown",
   "id": "7dc7f36b-0287-40ff-9430-8f45b6489ac4",
   "metadata": {},
   "source": [
    "   "
   ]
  }
 ],
 "metadata": {
  "kernelspec": {
   "display_name": "Python 3 (ipykernel)",
   "language": "python",
   "name": "python3"
  },
  "language_info": {
   "codemirror_mode": {
    "name": "ipython",
    "version": 3
   },
   "file_extension": ".py",
   "mimetype": "text/x-python",
   "name": "python",
   "nbconvert_exporter": "python",
   "pygments_lexer": "ipython3",
   "version": "3.12.4"
  }
 },
 "nbformat": 4,
 "nbformat_minor": 5
}
