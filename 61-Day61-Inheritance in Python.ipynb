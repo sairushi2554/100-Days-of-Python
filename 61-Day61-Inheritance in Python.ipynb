{
 "cells": [
  {
   "cell_type": "markdown",
   "id": "43177420",
   "metadata": {},
   "source": [
    "# Inheritance in Python\n",
    "\n",
    "Inheritance is a fundamental concept in object-oriented programming that allows one class (child/derived class) to inherit the attributes and methods from another class (parent/base class)."
   ]
  },
  {
   "cell_type": "markdown",
   "id": "73ad1907",
   "metadata": {},
   "source": [
    "## 1. Basic Inheritance\n",
    "\n",
    "A child class can access methods and attributes of the parent class."
   ]
  },
  {
   "cell_type": "code",
   "execution_count": 3,
   "id": "0f1383df",
   "metadata": {},
   "outputs": [
    {
     "name": "stdout",
     "output_type": "stream",
     "text": [
      "Animal speaks\n",
      "Dog barks\n"
     ]
    }
   ],
   "source": [
    "# Example of basic inheritance\n",
    "class Animal:\n",
    "    def speak(self):\n",
    "        print(\"Animal speaks\")\n",
    "\n",
    "class Dog(Animal):\n",
    "    def bark(self):\n",
    "        print(\"Dog barks\")\n",
    "\n",
    "# Usage\n",
    "d = Dog()\n",
    "d.speak()  # Inherited method\n",
    "d.bark()   # Child class method"
   ]
  },
  {
   "cell_type": "markdown",
   "id": "c8fbf1ad",
   "metadata": {},
   "source": [
    "## 2. Method Overriding\n",
    "\n",
    "A child class can override methods from the parent class."
   ]
  },
  {
   "cell_type": "code",
   "execution_count": 5,
   "id": "5ef0da13",
   "metadata": {},
   "outputs": [
    {
     "name": "stdout",
     "output_type": "stream",
     "text": [
      "Dog barks\n"
     ]
    }
   ],
   "source": [
    "# Example of method overriding\n",
    "class Animal:\n",
    "    def speak(self):\n",
    "        print(\"Animal speaks\")\n",
    "\n",
    "class Dog(Animal):\n",
    "    def speak(self):\n",
    "        print(\"Dog barks\")\n",
    "\n",
    "# Usage\n",
    "d = Dog()\n",
    "d.speak()  # Overridden method"
   ]
  },
  {
   "cell_type": "markdown",
   "id": "5b076acc",
   "metadata": {},
   "source": [
    "## 3. Using `super()`\n",
    "\n",
    "`super()` is used to call a method from the parent class inside the child class."
   ]
  },
  {
   "cell_type": "code",
   "execution_count": 7,
   "id": "fcd9e79b",
   "metadata": {},
   "outputs": [
    {
     "name": "stdout",
     "output_type": "stream",
     "text": [
      "Buddy makes a sound\n",
      "Buddy barks\n"
     ]
    }
   ],
   "source": [
    "# Example using super()\n",
    "class Animal:\n",
    "    def __init__(self, name):\n",
    "        self.name = name\n",
    "\n",
    "    def speak(self):\n",
    "        print(f\"{self.name} makes a sound\")\n",
    "\n",
    "class Dog(Animal):\n",
    "    def __init__(self, name, breed):\n",
    "        super().__init__(name)  # Call parent constructor\n",
    "        self.breed = breed\n",
    "\n",
    "    def speak(self):\n",
    "        super().speak()\n",
    "        print(f\"{self.name} barks\")\n",
    "\n",
    "# Usage\n",
    "d = Dog(\"Buddy\", \"Labrador\")\n",
    "d.speak()"
   ]
  },
  {
   "cell_type": "markdown",
   "id": "e5dda076",
   "metadata": {},
   "source": [
    "## 4. Multiple Inheritance\n",
    "\n",
    "A class can inherit from more than one class in Python."
   ]
  },
  {
   "cell_type": "code",
   "execution_count": 9,
   "id": "5ca0c3ec",
   "metadata": {},
   "outputs": [
    {
     "name": "stdout",
     "output_type": "stream",
     "text": [
      "Gardening, Programming\n",
      "Cooking, Art\n",
      "Sports\n"
     ]
    }
   ],
   "source": [
    "# Example of multiple inheritance\n",
    "class Father:\n",
    "    def skills(self):\n",
    "        print(\"Gardening, Programming\")\n",
    "\n",
    "class Mother:\n",
    "    def skills(self):\n",
    "        print(\"Cooking, Art\")\n",
    "\n",
    "class Child(Father, Mother):\n",
    "    def skills(self):\n",
    "        Father.skills(self)\n",
    "        Mother.skills(self)\n",
    "        print(\"Sports\")\n",
    "\n",
    "# Usage\n",
    "c = Child()\n",
    "c.skills()"
   ]
  },
  {
   "cell_type": "markdown",
   "id": "d0d10d12",
   "metadata": {},
   "source": [
    "## 5. Best Practices\n",
    "\n",
    "- Prefer single inheritance unless multiple is necessary.\n",
    "- Use `super()` for better maintainability and to support cooperative multiple inheritance.\n",
    "- Avoid diamond problem complexities by understanding the Method Resolution Order (MRO).\n",
    "- Keep class hierarchy shallow for readability."
   ]
  }
 ],
 "metadata": {
  "kernelspec": {
   "display_name": "Python 3 (ipykernel)",
   "language": "python",
   "name": "python3"
  },
  "language_info": {
   "codemirror_mode": {
    "name": "ipython",
    "version": 3
   },
   "file_extension": ".py",
   "mimetype": "text/x-python",
   "name": "python",
   "nbconvert_exporter": "python",
   "pygments_lexer": "ipython3",
   "version": "3.12.4"
  }
 },
 "nbformat": 4,
 "nbformat_minor": 5
}
