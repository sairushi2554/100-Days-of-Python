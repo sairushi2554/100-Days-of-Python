{
 "cells": [
  {
   "cell_type": "markdown",
   "id": "a5e68cad",
   "metadata": {},
   "source": [
    "### Python Docstrings"
   ]
  },
  {
   "cell_type": "markdown",
   "id": "0303582b",
   "metadata": {},
   "source": [
    "A docstring is a special string used to document a module, class, function, or method.\n",
    "It is enclosed within triple quotes (`\"\"\"` or `'''`).\n",
    "It should describe what the function/module/class does."
   ]
  },
  {
   "cell_type": "markdown",
   "id": "faf6c91b",
   "metadata": {},
   "source": [
    "### Basics of Docstrings"
   ]
  },
  {
   "cell_type": "code",
   "execution_count": 4,
   "id": "9f227b75",
   "metadata": {},
   "outputs": [],
   "source": [
    "def basic_function():\n",
    "    \"\"\"This is a basic function with a docstring.\"\"\"\n",
    "    return \"Hello, Docstrings!\""
   ]
  },
  {
   "cell_type": "markdown",
   "id": "1fa92850",
   "metadata": {},
   "source": [
    "### Multi-line Docstrings"
   ]
  },
  {
   "cell_type": "code",
   "execution_count": 6,
   "id": "8b7629ce",
   "metadata": {},
   "outputs": [],
   "source": [
    "def multiline_docstring():\n",
    "    \"\"\"\n",
    "    This function demonstrates a multi-line docstring.\n",
    "    \n",
    "    Multi-line docstrings provide more details about the function,\n",
    "    explaining the parameters, return values, and other relevant details.\n",
    "    \"\"\"\n",
    "    return \"Example of multi-line docstring\""
   ]
  },
  {
   "cell_type": "code",
   "execution_count": 7,
   "id": "1fedcb54-38f1-480d-a1a1-e04e5da2884a",
   "metadata": {},
   "outputs": [
    {
     "name": "stdout",
     "output_type": "stream",
     "text": [
      "\n",
      "    This function demonstrates a multi-line docstring.\n",
      "    \n",
      "    Multi-line docstrings provide more details about the function,\n",
      "    explaining the parameters, return values, and other relevant details.\n",
      "    \n"
     ]
    }
   ],
   "source": [
    "print(multiline_docstring.__doc__)"
   ]
  },
  {
   "cell_type": "markdown",
   "id": "5f21bc51",
   "metadata": {},
   "source": [
    "### Docstrings with Parameters and Return Values"
   ]
  },
  {
   "cell_type": "code",
   "execution_count": 9,
   "id": "526a91e7",
   "metadata": {},
   "outputs": [],
   "source": [
    "def add_numbers(a, b):\n",
    "    \"\"\"\n",
    "    Adds two numbers and returns the result.\n",
    "    \n",
    "    Parameters:\n",
    "    a (int, float): The first number.\n",
    "    b (int, float): The second number.\n",
    "    \n",
    "    Returns:\n",
    "    int, float: The sum of a and b.\n",
    "    \"\"\"\n",
    "    return a + b"
   ]
  },
  {
   "cell_type": "markdown",
   "id": "f0ea53c4",
   "metadata": {},
   "source": [
    "### Class Docstrings"
   ]
  },
  {
   "cell_type": "code",
   "execution_count": 11,
   "id": "655c7807",
   "metadata": {},
   "outputs": [],
   "source": [
    "class SampleClass:\n",
    "    \"\"\"\n",
    "    This is a sample class with a docstring.\n",
    "    \n",
    "    Attributes:\n",
    "    value (int): An example attribute.\n",
    "    \"\"\"\n",
    "    \n",
    "    def __init__(self, value):\n",
    "        \"\"\"\n",
    "        Initializes the SampleClass with a value.\n",
    "        \n",
    "        Parameters:\n",
    "        value (int): The initial value to set.\n",
    "        \"\"\"\n",
    "        self.value = value\n",
    "    \n",
    "    def get_value(self):\n",
    "        \"\"\"\n",
    "        Returns the stored value.\n",
    "        \n",
    "        Returns:\n",
    "        int: The stored value.\n",
    "        \"\"\"\n",
    "        return self.value"
   ]
  },
  {
   "cell_type": "markdown",
   "id": "768a9baf",
   "metadata": {},
   "source": [
    "### Module-level Docstrings"
   ]
  },
  {
   "cell_type": "code",
   "execution_count": 13,
   "id": "f4c14754",
   "metadata": {},
   "outputs": [
    {
     "data": {
      "text/plain": [
       "'\\nThis module demonstrates different types of docstrings in Python.\\nIt includes examples of function, class, and module-level docstrings.\\n'"
      ]
     },
     "execution_count": 13,
     "metadata": {},
     "output_type": "execute_result"
    }
   ],
   "source": [
    "\"\"\"\n",
    "This module demonstrates different types of docstrings in Python.\n",
    "It includes examples of function, class, and module-level docstrings.\n",
    "\"\"\""
   ]
  }
 ],
 "metadata": {
  "kernelspec": {
   "display_name": "Python 3 (ipykernel)",
   "language": "python",
   "name": "python3"
  },
  "language_info": {
   "codemirror_mode": {
    "name": "ipython",
    "version": 3
   },
   "file_extension": ".py",
   "mimetype": "text/x-python",
   "name": "python",
   "nbconvert_exporter": "python",
   "pygments_lexer": "ipython3",
   "version": "3.12.4"
  }
 },
 "nbformat": 4,
 "nbformat_minor": 5
}
