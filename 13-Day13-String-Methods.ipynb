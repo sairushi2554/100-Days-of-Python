{
 "cells": [
  {
   "cell_type": "markdown",
   "id": "3600b89f-601c-4d7a-b8df-6972bf3c2408",
   "metadata": {},
   "source": [
    "### String methods\n",
    "Python provides a set of built-in methods that we can use to alter and modify the strings."
   ]
  },
  {
   "cell_type": "markdown",
   "id": "d4b4fa70-6f4b-4723-aafe-048944251321",
   "metadata": {},
   "source": [
    "**1. Changing Case**\n",
    "\n",
    "- `upper()`: Converts to uppercase.\n",
    "- `lower()`: Converts to lowercase.\n",
    "- `capitalize()`: Capitalizes the first character.\n",
    "- `title()`: Capitalizes the first character of each word."
   ]
  },
  {
   "cell_type": "code",
   "execution_count": 4,
   "id": "ee3a8262-2b3e-4d0e-9cca-2cb4049ab944",
   "metadata": {},
   "outputs": [
    {
     "name": "stdout",
     "output_type": "stream",
     "text": [
      "ABCDEFGHIJ\n"
     ]
    }
   ],
   "source": [
    "str1 = \"AbcDEfghIJ\"\n",
    "print(str1.upper())"
   ]
  },
  {
   "cell_type": "code",
   "execution_count": 5,
   "id": "809b9334-23da-49b0-9fe3-e72f746791aa",
   "metadata": {},
   "outputs": [
    {
     "name": "stdout",
     "output_type": "stream",
     "text": [
      "abcdefghij\n"
     ]
    }
   ],
   "source": [
    "str1 = \"AbcDEfghIJ\"\r\n",
    "print(str1.lower())"
   ]
  },
  {
   "cell_type": "markdown",
   "id": "af6d18b6-75f4-48be-8411-e4e301d80a0c",
   "metadata": {},
   "source": [
    "- The `capitalize()` method turns only the first character of the string to uppercase and the rest other characters of the string are turned to lowercase. The string has no effect if the first character is already uppercase."
   ]
  },
  {
   "cell_type": "code",
   "execution_count": 7,
   "id": "baf3084e-2c71-40f1-aea6-a924e7ac0db9",
   "metadata": {},
   "outputs": [
    {
     "name": "stdout",
     "output_type": "stream",
     "text": [
      "Machine learning\n",
      "Data science\n"
     ]
    }
   ],
   "source": [
    "str1 = \"machine learning\"\n",
    "capStr1 = str1.capitalize()\n",
    "print(capStr1)\n",
    "str2 = \"dATa sCIence\"\n",
    "capStr2 = str2.capitalize()\n",
    "print(capStr2)"
   ]
  },
  {
   "cell_type": "code",
   "execution_count": 8,
   "id": "7a2ef90f-85eb-4f20-8785-760aa39520bb",
   "metadata": {},
   "outputs": [
    {
     "name": "stdout",
     "output_type": "stream",
     "text": [
      "Autobots,Let'S Get Rolling!\n"
     ]
    }
   ],
   "source": [
    "str1=\"Autobots,let's get rolling!\"\n",
    "print(str1.title())"
   ]
  },
  {
   "cell_type": "markdown",
   "id": "ebc225ed-8ed2-4e8a-b524-e4224f68f872",
   "metadata": {},
   "source": [
    "    "
   ]
  },
  {
   "cell_type": "markdown",
   "id": "b1c3b110-9aac-4556-a227-5e7e81dd2d12",
   "metadata": {},
   "source": [
    "**2. Trimming Whitespace**\n",
    "- `strip()`: Removes leading and trailing whitespace.\n",
    "- `lstrip()`: Removes leading whitespace and characters\n",
    "- `rstrip()`: Removes trailing whitespace and characters."
   ]
  },
  {
   "cell_type": "code",
   "execution_count": 11,
   "id": "e715d602-d697-4369-b1b0-2115925b4f82",
   "metadata": {},
   "outputs": [
    {
     "name": "stdout",
     "output_type": "stream",
     "text": [
      "Artificial\n",
      "17\n",
      "10\n"
     ]
    }
   ],
   "source": [
    "str = \"    Artificial   \"\n",
    "str1 = str.strip()\n",
    "print(str1)\n",
    "print(len(str))\n",
    "print(len(str1))"
   ]
  },
  {
   "cell_type": "code",
   "execution_count": 12,
   "id": "63fe89a9-6109-47b0-a9f6-003c5b1d72af",
   "metadata": {},
   "outputs": [
    {
     "name": "stdout",
     "output_type": "stream",
     "text": [
      "Artificial   \n",
      "13\n"
     ]
    }
   ],
   "source": [
    "str2 = str.lstrip()\n",
    "print(str2)\n",
    "print(len(str2))"
   ]
  },
  {
   "cell_type": "code",
   "execution_count": 13,
   "id": "d2b99932-cb2f-42a9-aae9-9e20d19b1540",
   "metadata": {},
   "outputs": [
    {
     "name": "stdout",
     "output_type": "stream",
     "text": [
      "14\n"
     ]
    }
   ],
   "source": [
    "str3  = str.rstrip()\n",
    "print(len(str3))"
   ]
  },
  {
   "cell_type": "code",
   "execution_count": 14,
   "id": "93525ca5-c563-4aae-8ea1-3e30ac518890",
   "metadata": {},
   "outputs": [
    {
     "name": "stdout",
     "output_type": "stream",
     "text": [
      "Hello \n"
     ]
    }
   ],
   "source": [
    "str3 = \"Hello !!!\"\n",
    "print(str3.rstrip(\"!\"))"
   ]
  },
  {
   "cell_type": "code",
   "execution_count": 15,
   "id": "82a01f6a-8d7e-48e6-b3b9-ed1a7f6e20d6",
   "metadata": {},
   "outputs": [
    {
     "name": "stdout",
     "output_type": "stream",
     "text": [
      " Hello !!!\n"
     ]
    }
   ],
   "source": [
    "str3 = \"!!! Hello !!!\"\n",
    "print(str3.lstrip(\"!\"))"
   ]
  },
  {
   "cell_type": "markdown",
   "id": "7d429b3a-9bf1-4afb-ab70-07a5212a7760",
   "metadata": {},
   "source": [
    "    "
   ]
  },
  {
   "cell_type": "markdown",
   "id": "7285c990-732c-4fa7-86cd-7cb33eb37515",
   "metadata": {},
   "source": [
    "**3.Finding and Replacing**\n",
    "- `find(substring)`: Returns the index of the first occurrence of the substring. Returns `-1` if not found.\n",
    "- `replace(old, new)`: Replaces all occurrences of `old` with `new`."
   ]
  },
  {
   "cell_type": "code",
   "execution_count": 18,
   "id": "1d04255c-65a5-4cad-af5d-52d9440c47e2",
   "metadata": {},
   "outputs": [
    {
     "name": "stdout",
     "output_type": "stream",
     "text": [
      "0\n",
      "Machine Learning!\n"
     ]
    }
   ],
   "source": [
    "str = \"Deep Learning!\"\n",
    "print(str.find(\"Deep\"))      # Output: 0\n",
    "print(str.replace(\"Deep\", \"Machine\"))  # Output: Machine Learning!\n"
   ]
  },
  {
   "cell_type": "code",
   "execution_count": 19,
   "id": "ccbcedbb-1c85-45b8-b158-ca60ea03ae0f",
   "metadata": {},
   "outputs": [
    {
     "name": "stdout",
     "output_type": "stream",
     "text": [
      "Silver Moon\n"
     ]
    }
   ],
   "source": [
    "str2 = \"Silver Spoon\"\n",
    "print(str2.replace(\"Sp\", \"M\"))"
   ]
  },
  {
   "cell_type": "markdown",
   "id": "05d93fa5-0548-4e9e-94bc-28504beabe7d",
   "metadata": {},
   "source": [
    "**4. Splitting and Joining**\n",
    "- `split(delimiter)`: Splits the string into a list of substrings.\n",
    "- `join(iterable)`: Joins elements of an iterable into a string, separated by a specified delimiter."
   ]
  },
  {
   "cell_type": "code",
   "execution_count": 21,
   "id": "62a20e18-a32d-4c72-9eb5-9cf89432dfa3",
   "metadata": {},
   "outputs": [
    {
     "name": "stdout",
     "output_type": "stream",
     "text": [
      "['apple', 'banana', 'cherry']\n"
     ]
    }
   ],
   "source": [
    "s = \"apple,banana,cherry\"\n",
    "print(s.split(\",\")) "
   ]
  },
  {
   "cell_type": "code",
   "execution_count": 22,
   "id": "20a5a527-5bae-437b-a06f-a2e59db03414",
   "metadata": {},
   "outputs": [
    {
     "name": "stdout",
     "output_type": "stream",
     "text": [
      "Python Machine Learning Artificial Intelligence\n"
     ]
    }
   ],
   "source": [
    "words = [\"Python\", \"Machine Learning\", \"Artificial Intelligence\"]\n",
    "print(\" \".join(words))"
   ]
  },
  {
   "cell_type": "markdown",
   "id": "3bbd77cf-e721-4e59-83fe-33cd04a5c73d",
   "metadata": {},
   "source": [
    "    "
   ]
  },
  {
   "cell_type": "markdown",
   "id": "7158d241-b980-4337-8b7a-bb83283695ef",
   "metadata": {},
   "source": [
    "**5. Checking String Properties**\n",
    "- `isalpha()`: Checks if all characters are alphabetic.\n",
    "- `isdigit()`: Checks if all characters are digits.\n",
    "- `isalnum()`: Checks if all characters are alphanumeric.\n",
    "- `isspace()`: Checks if the string contains only whitespace\n",
    "- `islower()`: Checks if the string is in lower case.\n",
    "- `isupper()`: Checks if the string is in upper case.\n",
    "- `istitle()`: Checks if the string is in title case."
   ]
  },
  {
   "cell_type": "code",
   "execution_count": 25,
   "id": "17a263fa-0b33-4aa7-b755-f8c41a972205",
   "metadata": {},
   "outputs": [
    {
     "name": "stdout",
     "output_type": "stream",
     "text": [
      "True\n"
     ]
    }
   ],
   "source": [
    "s = \"123\"\n",
    "print(s.isdigit())"
   ]
  },
  {
   "cell_type": "code",
   "execution_count": 26,
   "id": "70ac8b8e-fad4-4240-aa8c-7960c486982a",
   "metadata": {},
   "outputs": [
    {
     "name": "stdout",
     "output_type": "stream",
     "text": [
      "True\n"
     ]
    }
   ],
   "source": [
    "s = \"Python\"\n",
    "print(s.isalpha())"
   ]
  },
  {
   "cell_type": "code",
   "execution_count": 27,
   "id": "7bd0d6a8-36e3-4f7d-b3cf-c54d9ce1c816",
   "metadata": {},
   "outputs": [
    {
     "name": "stdout",
     "output_type": "stream",
     "text": [
      "True\n"
     ]
    }
   ],
   "source": [
    "s = \"SSID2101\"\n",
    "print(s.isalnum())"
   ]
  },
  {
   "cell_type": "code",
   "execution_count": 28,
   "id": "1570e274-c3d8-426e-8f78-77e854ce7bbb",
   "metadata": {},
   "outputs": [
    {
     "name": "stdout",
     "output_type": "stream",
     "text": [
      "False\n"
     ]
    }
   ],
   "source": [
    "s = \"Python !!\"\n",
    "print(s.isspace())"
   ]
  },
  {
   "cell_type": "code",
   "execution_count": 29,
   "id": "9bd4bb71-4af5-4569-b200-5e624a7c3519",
   "metadata": {},
   "outputs": [
    {
     "name": "stdout",
     "output_type": "stream",
     "text": [
      "True\n",
      "True\n"
     ]
    }
   ],
   "source": [
    "str1 = \"        \"       #using Spacebar\n",
    "print(str1.isspace())\n",
    "str2 = \"        \"       #using Tab\n",
    "print(str2.isspace())"
   ]
  },
  {
   "cell_type": "markdown",
   "id": "82a70c9a-1851-4778-ad86-39db04c0cc38",
   "metadata": {},
   "source": [
    " "
   ]
  },
  {
   "cell_type": "code",
   "execution_count": 31,
   "id": "2a504814-943d-4033-b4ca-a68e51faf617",
   "metadata": {},
   "outputs": [
    {
     "name": "stdout",
     "output_type": "stream",
     "text": [
      "True\n"
     ]
    }
   ],
   "source": [
    "s = 'sairushi'\n",
    "print(s.islower())"
   ]
  },
  {
   "cell_type": "code",
   "execution_count": 32,
   "id": "f0e15861-4318-4375-8da2-0d216b74056b",
   "metadata": {},
   "outputs": [
    {
     "name": "stdout",
     "output_type": "stream",
     "text": [
      "True\n"
     ]
    }
   ],
   "source": [
    "s = 'SAIRUSHI'\n",
    "print(s.isupper())"
   ]
  },
  {
   "cell_type": "code",
   "execution_count": 33,
   "id": "46bc312d-89f4-4571-8988-d13a46996ede",
   "metadata": {},
   "outputs": [
    {
     "name": "stdout",
     "output_type": "stream",
     "text": [
      "True\n"
     ]
    }
   ],
   "source": [
    "str1 = \"Hello World\"\n",
    "print(str1.istitle())"
   ]
  },
  {
   "cell_type": "markdown",
   "id": "ecd08ab1-1c2e-4573-912a-bf434150882f",
   "metadata": {},
   "source": [
    "**6. Formatting**\n",
    "- `format()`: Inserts values into placeholders in a string"
   ]
  },
  {
   "cell_type": "code",
   "execution_count": 35,
   "id": "6277096a-4939-4ebd-a90e-81642137eae1",
   "metadata": {},
   "outputs": [
    {
     "name": "stdout",
     "output_type": "stream",
     "text": [
      "My name is Alice and I am 25 years old.\n"
     ]
    }
   ],
   "source": [
    "name = \"Alice\"\n",
    "age = 25\n",
    "print(\"My name is {} and I am {} years old.\".format(name, age))"
   ]
  },
  {
   "cell_type": "markdown",
   "id": "518b8078-c604-43a2-991f-de8eb8d04920",
   "metadata": {},
   "source": [
    "     "
   ]
  },
  {
   "cell_type": "markdown",
   "id": "2cddd65d-8374-4f8a-94e5-dc3ad4d4d4af",
   "metadata": {},
   "source": [
    "- `center()` :  aligns the string to the center as per the parameters given by the user."
   ]
  },
  {
   "cell_type": "code",
   "execution_count": 38,
   "id": "38a63ebb-4f72-4989-8e00-addf69494bb5",
   "metadata": {},
   "outputs": [
    {
     "name": "stdout",
     "output_type": "stream",
     "text": [
      "            Welcome to the Console!!!             \n"
     ]
    }
   ],
   "source": [
    "str1 = \"Welcome to the Console!!!\"\n",
    "print(str1.center(50))"
   ]
  },
  {
   "cell_type": "markdown",
   "id": "50ea0032-d480-4d16-a9a7-166c64e2ac87",
   "metadata": {},
   "source": [
    "We can also provide padding character. It will fill the rest of the fill characters provided by the user."
   ]
  },
  {
   "cell_type": "code",
   "execution_count": 40,
   "id": "3f728099-8eab-4695-86c9-1c9b83814a3a",
   "metadata": {},
   "outputs": [
    {
     "name": "stdout",
     "output_type": "stream",
     "text": [
      "............Welcome to the Console!!!.............\n"
     ]
    }
   ],
   "source": [
    "str1 = \"Welcome to the Console!!!\"\n",
    "print(str1.center(50, \".\"))"
   ]
  },
  {
   "cell_type": "markdown",
   "id": "a048687c-4334-4464-91bd-f6f1449385a9",
   "metadata": {},
   "source": [
    "  "
   ]
  },
  {
   "cell_type": "markdown",
   "id": "1a1dc60e-7ab3-4f6c-b742-eb396c582c0f",
   "metadata": {},
   "source": [
    "- `count()` : returns the number of times the given value has occurred within the given string."
   ]
  },
  {
   "cell_type": "code",
   "execution_count": 43,
   "id": "643dc160-c88c-44d0-991d-86c58f2aa799",
   "metadata": {},
   "outputs": [
    {
     "name": "stdout",
     "output_type": "stream",
     "text": [
      "4\n"
     ]
    }
   ],
   "source": [
    "str2 = \"Abracadabra\"\n",
    "countStr = str2.count(\"a\")\n",
    "print(countStr)"
   ]
  },
  {
   "cell_type": "markdown",
   "id": "19023914-0613-40c1-9c6a-14587f48e93e",
   "metadata": {},
   "source": [
    "  "
   ]
  },
  {
   "cell_type": "markdown",
   "id": "d47da9b9-f5e5-4fef-bacb-342799a3c595",
   "metadata": {},
   "source": [
    "- `startswith()` :checks if the string starts with a given value. If yes then return True, else return False."
   ]
  },
  {
   "cell_type": "code",
   "execution_count": 46,
   "id": "573f75a5-3cda-4885-8acf-cbb869c426c0",
   "metadata": {},
   "outputs": [
    {
     "name": "stdout",
     "output_type": "stream",
     "text": [
      "True\n"
     ]
    }
   ],
   "source": [
    "str1 = \"Python is a Interpreted Language\" \n",
    "print(str1.startswith(\"Python\"))"
   ]
  },
  {
   "cell_type": "code",
   "execution_count": 47,
   "id": "40b09e3f-e41d-425e-aca8-21f24beb93f5",
   "metadata": {},
   "outputs": [
    {
     "name": "stdout",
     "output_type": "stream",
     "text": [
      "True\n"
     ]
    }
   ],
   "source": [
    "print(str1.startswith('is',7,10))"
   ]
  },
  {
   "cell_type": "markdown",
   "id": "4e5f374e-b90b-4872-b729-0b08c6a1f18b",
   "metadata": {},
   "source": [
    "   "
   ]
  },
  {
   "cell_type": "markdown",
   "id": "73aaa12c-2e34-466d-a5a0-405e5154d0b4",
   "metadata": {},
   "source": [
    "- `endswith()` : checks if the string ends with a given value. If yes then return True, else return False."
   ]
  },
  {
   "cell_type": "markdown",
   "id": "85ab4e5e-c167-4a98-95c2-dd54f1776519",
   "metadata": {},
   "source": [
    "We can even also check for a value in-between the string by providing start and end index positions."
   ]
  },
  {
   "cell_type": "code",
   "execution_count": 51,
   "id": "c19bd639-f8af-4770-b0b1-41fa5071bf88",
   "metadata": {},
   "outputs": [
    {
     "name": "stdout",
     "output_type": "stream",
     "text": [
      "True\n"
     ]
    }
   ],
   "source": [
    "str1 = \"Welcome to the Console !!!\"\n",
    "print(str1.endswith(\"to\", 4, 10))"
   ]
  },
  {
   "cell_type": "markdown",
   "id": "b24e1699-de1a-406d-8ca9-470c8e08d4f3",
   "metadata": {},
   "source": [
    "- `index()` :searches for the first occurrence of the given value and returns the index where it is present. If given value is absent from the string then raise an exception."
   ]
  },
  {
   "cell_type": "code",
   "execution_count": 53,
   "id": "3e534337-5bea-423a-8e59-b8adce127342",
   "metadata": {},
   "outputs": [
    {
     "name": "stdout",
     "output_type": "stream",
     "text": [
      "13\n"
     ]
    }
   ],
   "source": [
    "str1 = \"He's name is Devara. Devara is an honest man.\"\n",
    "print(str1.index(\"Devara\"))"
   ]
  },
  {
   "cell_type": "markdown",
   "id": "f81acbde-6ca6-487c-8374-4e7c2d69392a",
   "metadata": {},
   "source": [
    "   "
   ]
  },
  {
   "cell_type": "markdown",
   "id": "2fac6f25-da39-40fc-b63e-19853fbabde3",
   "metadata": {},
   "source": [
    "- `swapcase()` : changes the character casing of the string. Upper case are converted to lower case and lower case to upper case."
   ]
  },
  {
   "cell_type": "code",
   "execution_count": 56,
   "id": "53d1d144-9884-4d01-9224-4e2bdf7c9f76",
   "metadata": {},
   "outputs": [
    {
     "name": "stdout",
     "output_type": "stream",
     "text": [
      "pYTHON IS A iNTERPRETED lANGUAGE\n"
     ]
    }
   ],
   "source": [
    "str1 = \"Python is a Interpreted Language\" \n",
    "print(str1.swapcase())"
   ]
  },
  {
   "cell_type": "markdown",
   "id": "eff7c802-099f-49a0-9810-dd1abcf60524",
   "metadata": {},
   "source": [
    "     "
   ]
  },
  {
   "cell_type": "markdown",
   "id": "1228f411-008d-4d28-a6d4-cb9689c65a9b",
   "metadata": {},
   "source": [
    "- `isprintable()` : returns True if all the values within the given string are printable, if not, then return False."
   ]
  },
  {
   "cell_type": "code",
   "execution_count": 59,
   "id": "df9e785e-334a-4753-ac4b-65e550b20567",
   "metadata": {},
   "outputs": [
    {
     "name": "stdout",
     "output_type": "stream",
     "text": [
      "True\n"
     ]
    }
   ],
   "source": [
    "str1 = 'Shubh Gudhipadava'\n",
    "print(str1.isprintable())"
   ]
  },
  {
   "cell_type": "code",
   "execution_count": 60,
   "id": "0bf6a400-e1aa-45b3-823d-5b261d3196a5",
   "metadata": {},
   "outputs": [
    {
     "name": "stdout",
     "output_type": "stream",
     "text": [
      "False\n"
     ]
    }
   ],
   "source": [
    "str1 = 'Merry Christmas\\n'\n",
    "print(str1.isprintable())"
   ]
  },
  {
   "cell_type": "markdown",
   "id": "4724ac97-3c83-4a08-a66e-7b152f8d2fb2",
   "metadata": {},
   "source": [
    "    "
   ]
  },
  {
   "cell_type": "markdown",
   "id": "15b76a5a-e74f-44f4-9b60-0fad5185c8bc",
   "metadata": {},
   "source": [
    "### Examples of Combining Operations\n",
    "**1. Reverse Words in a String**"
   ]
  },
  {
   "cell_type": "code",
   "execution_count": 63,
   "id": "394909ae-c417-4e7e-bd88-ac7f4f84bfda",
   "metadata": {},
   "outputs": [
    {
     "name": "stdout",
     "output_type": "stream",
     "text": [
      "Science Data\n"
     ]
    }
   ],
   "source": [
    "s = \"Data Science\"\n",
    "reversed_words = \" \".join(s.split()[::-1])\n",
    "print(reversed_words) \n"
   ]
  },
  {
   "cell_type": "markdown",
   "id": "267f282b-d798-41ee-9cab-7b4a00771616",
   "metadata": {},
   "source": [
    "   "
   ]
  },
  {
   "cell_type": "markdown",
   "id": "d1f92f2c-253d-4f99-b199-674379176f9d",
   "metadata": {},
   "source": [
    "**2. Check for Palindrome**"
   ]
  },
  {
   "cell_type": "code",
   "execution_count": 66,
   "id": "e980add7-45ab-4a67-a1ff-df4c60844682",
   "metadata": {},
   "outputs": [
    {
     "name": "stdout",
     "output_type": "stream",
     "text": [
      "True\n"
     ]
    }
   ],
   "source": [
    "s = \"12321\"\n",
    "print(s == s[::-1])"
   ]
  },
  {
   "cell_type": "markdown",
   "id": "088ca9f1-81bd-4257-9789-823a8468bad0",
   "metadata": {},
   "source": [
    "#### Tips\n",
    "- Strings are immutable, so any operation on a string returns a new string.\n",
    "- Use string methods to clean, process, and format text data.\n",
    "- Slicing with a step of -1 is an easy way to reverse a string."
   ]
  },
  {
   "cell_type": "markdown",
   "id": "d0654e69-0dff-4fc7-b788-584a4a2d3411",
   "metadata": {},
   "source": [
    "      "
   ]
  },
  {
   "cell_type": "markdown",
   "id": "b06d2ee2-0b4f-4578-99ed-b40df2a6a0f2",
   "metadata": {},
   "source": [
    "     "
   ]
  }
 ],
 "metadata": {
  "kernelspec": {
   "display_name": "Python 3 (ipykernel)",
   "language": "python",
   "name": "python3"
  },
  "language_info": {
   "codemirror_mode": {
    "name": "ipython",
    "version": 3
   },
   "file_extension": ".py",
   "mimetype": "text/x-python",
   "name": "python",
   "nbconvert_exporter": "python",
   "pygments_lexer": "ipython3",
   "version": "3.12.4"
  }
 },
 "nbformat": 4,
 "nbformat_minor": 5
}
