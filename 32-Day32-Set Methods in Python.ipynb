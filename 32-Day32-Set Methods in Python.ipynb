{
 "cells": [
  {
   "cell_type": "markdown",
   "metadata": {},
   "source": [
    "# Python Set Methods\n",
    "\n",
    "A **set** is an unordered collection of unique elements in Python."
   ]
  },
  {
   "cell_type": "markdown",
   "metadata": {},
   "source": [
    "## Creating a Set"
   ]
  },
  {
   "cell_type": "code",
   "execution_count": 3,
   "metadata": {},
   "outputs": [
    {
     "name": "stdout",
     "output_type": "stream",
     "text": [
      "{1, 2, 3, 4, 5}\n"
     ]
    }
   ],
   "source": [
    "# Creating a set\n",
    "my_set = {1, 2, 3, 4, 5}\n",
    "print(my_set)  # Output: {1, 2, 3, 4, 5}"
   ]
  },
  {
   "cell_type": "markdown",
   "metadata": {},
   "source": [
    "## Adding Elements to a Set"
   ]
  },
  {
   "cell_type": "code",
   "execution_count": 5,
   "metadata": {},
   "outputs": [
    {
     "name": "stdout",
     "output_type": "stream",
     "text": [
      "{1, 2, 3, 4, 5, 6}\n"
     ]
    }
   ],
   "source": [
    "# Adding an element to a set\n",
    "my_set.add(6)\n",
    "print(my_set)  # Output: {1, 2, 3, 4, 5, 6}"
   ]
  },
  {
   "cell_type": "markdown",
   "metadata": {},
   "source": [
    "## Removing Elements from a Set"
   ]
  },
  {
   "cell_type": "code",
   "execution_count": 7,
   "metadata": {},
   "outputs": [
    {
     "name": "stdout",
     "output_type": "stream",
     "text": [
      "{1, 2, 4, 5, 6}\n"
     ]
    }
   ],
   "source": [
    "# Removing an element using remove()\n",
    "my_set.remove(3)  # Raises error if element is not present\n",
    "print(my_set)"
   ]
  },
  {
   "cell_type": "code",
   "execution_count": 8,
   "metadata": {},
   "outputs": [
    {
     "name": "stdout",
     "output_type": "stream",
     "text": [
      "{1, 2, 5, 6}\n"
     ]
    }
   ],
   "source": [
    "# Removing an element using discard()\n",
    "my_set.discard(4)  # Does not raise an error if element is missing\n",
    "print(my_set)"
   ]
  },
  {
   "cell_type": "code",
   "execution_count": 9,
   "metadata": {},
   "outputs": [
    {
     "name": "stdout",
     "output_type": "stream",
     "text": [
      "Removed element: 1\n",
      "{2, 5, 6}\n"
     ]
    }
   ],
   "source": [
    "# Removing a random element using pop()\n",
    "removed_element = my_set.pop()\n",
    "print(\"Removed element:\", removed_element)\n",
    "print(my_set)"
   ]
  },
  {
   "cell_type": "markdown",
   "metadata": {},
   "source": [
    "## Set Operations"
   ]
  },
  {
   "cell_type": "code",
   "execution_count": 11,
   "metadata": {},
   "outputs": [],
   "source": [
    "# Defining two sets\n",
    "set1 = {1, 2, 3, 4}\n",
    "set2 = {3, 4, 5, 6}"
   ]
  },
  {
   "cell_type": "code",
   "execution_count": 12,
   "metadata": {},
   "outputs": [
    {
     "name": "stdout",
     "output_type": "stream",
     "text": [
      "{1, 2, 3, 4, 5, 6}\n",
      "Union: {1, 2, 3, 4, 5, 6}\n"
     ]
    }
   ],
   "source": [
    "# Union of two sets\n",
    "union_set = set1.union(set2)  # OR set1 | set2\n",
    "print(set1 | set2)\n",
    "print(\"Union:\", union_set)  # Output: {1, 2, 3, 4, 5, 6}"
   ]
  },
  {
   "cell_type": "code",
   "execution_count": 13,
   "metadata": {},
   "outputs": [
    {
     "name": "stdout",
     "output_type": "stream",
     "text": [
      "{3, 4}\n",
      "Intersection: {3, 4}\n"
     ]
    }
   ],
   "source": [
    "# Intersection of two sets\n",
    "intersection_set = set1.intersection(set2)  # OR set1 & set2\n",
    "print(set1 & set2)\n",
    "print(\"Intersection:\", intersection_set)  # Output: {3, 4}"
   ]
  },
  {
   "cell_type": "code",
   "execution_count": 14,
   "metadata": {},
   "outputs": [
    {
     "name": "stdout",
     "output_type": "stream",
     "text": [
      "{1, 2}\n",
      "Difference: {1, 2}\n"
     ]
    }
   ],
   "source": [
    "# Difference of two sets\n",
    "difference_set = set1.difference(set2)  # OR set1 - set2\n",
    "print(set1 - set2)\n",
    "print(\"Difference:\", difference_set)  # Output: {1, 2}"
   ]
  },
  {
   "cell_type": "code",
   "execution_count": 15,
   "metadata": {},
   "outputs": [
    {
     "name": "stdout",
     "output_type": "stream",
     "text": [
      "{1, 2, 5, 6}\n",
      "Symmetric Difference: {1, 2, 5, 6}\n"
     ]
    }
   ],
   "source": [
    "# Symmetric Difference\n",
    "sym_diff_set = set1.symmetric_difference(set2)  # OR set1 ^ set2\n",
    "print(set1 ^ set2)\n",
    "print(\"Symmetric Difference:\", sym_diff_set)  # Output: {1, 2, 5, 6}"
   ]
  },
  {
   "cell_type": "markdown",
   "metadata": {},
   "source": [
    "## Advanced Set Methods"
   ]
  },
  {
   "cell_type": "code",
   "execution_count": 17,
   "metadata": {},
   "outputs": [
    {
     "name": "stdout",
     "output_type": "stream",
     "text": [
      "Is set1 a subset of set2? False\n"
     ]
    }
   ],
   "source": [
    "# Checking if set1 is a subset of set2\n",
    "print(\"Is set1 a subset of set2?\", set1.issubset(set2))"
   ]
  },
  {
   "cell_type": "code",
   "execution_count": 18,
   "metadata": {},
   "outputs": [
    {
     "name": "stdout",
     "output_type": "stream",
     "text": [
      "Is set1 a superset of set2? False\n"
     ]
    }
   ],
   "source": [
    "# Checking if set1 is a superset of set2\n",
    "print(\"Is set1 a superset of set2?\", set1.issuperset(set2))"
   ]
  },
  {
   "cell_type": "code",
   "execution_count": 19,
   "metadata": {},
   "outputs": [
    {
     "name": "stdout",
     "output_type": "stream",
     "text": [
      "Are set1 and set2 disjoint? False\n"
     ]
    }
   ],
   "source": [
    "# Checking if two sets are disjoint\n",
    "print(\"Are set1 and set2 disjoint?\", set1.isdisjoint(set2))"
   ]
  },
  {
   "cell_type": "code",
   "execution_count": 20,
   "metadata": {},
   "outputs": [
    {
     "name": "stdout",
     "output_type": "stream",
     "text": [
      "False\n",
      "False\n"
     ]
    }
   ],
   "source": [
    "print(set1.issubset(set2))  # False\n",
    "print(set1.issuperset(set2))  # False"
   ]
  },
  {
   "cell_type": "markdown",
   "metadata": {},
   "source": [
    "## Frozen Sets (Immutable Sets)"
   ]
  },
  {
   "cell_type": "code",
   "execution_count": 22,
   "metadata": {},
   "outputs": [
    {
     "name": "stdout",
     "output_type": "stream",
     "text": [
      "frozenset({1, 2, 3, 4})\n"
     ]
    }
   ],
   "source": [
    "# Creating a frozen set (Immutable set)\n",
    "frozen = frozenset([1, 2, 3, 4])\n",
    "print(frozen)"
   ]
  },
  {
   "cell_type": "markdown",
   "metadata": {},
   "source": [
    "## Set Comprehension"
   ]
  },
  {
   "cell_type": "code",
   "execution_count": 24,
   "metadata": {},
   "outputs": [
    {
     "name": "stdout",
     "output_type": "stream",
     "text": [
      "{1, 4, 9, 16, 25}\n"
     ]
    }
   ],
   "source": [
    "# Creating a set using comprehension\n",
    "squared_set = {x**2 for x in range(1, 6)}\n",
    "print(squared_set)  # Output: {1, 4, 9, 16, 25}"
   ]
  },
  {
   "cell_type": "markdown",
   "metadata": {},
   "source": [
    "## Performance Considerations"
   ]
  },
  {
   "cell_type": "code",
   "execution_count": 26,
   "metadata": {},
   "outputs": [
    {
     "name": "stdout",
     "output_type": "stream",
     "text": [
      "List lookup time: 0.03299832344055176\n",
      "Set lookup time: 0.0\n"
     ]
    }
   ],
   "source": [
    "import time\n",
    "\n",
    "# Checking lookup performance in list vs set\n",
    "large_list = list(range(1000000))\n",
    "large_set = set(large_list)\n",
    "\n",
    "start = time.time()\n",
    "999999 in large_list  # Slow lookup in list\n",
    "print(\"List lookup time:\", time.time() - start)\n",
    "\n",
    "start = time.time()\n",
    "999999 in large_set  # Fast lookup in set\n",
    "print(\"Set lookup time:\", time.time() - start)"
   ]
  },
  {
   "cell_type": "markdown",
   "metadata": {},
   "source": [
    "### Key Takeaways:\n",
    "- Sets are **unordered collections of unique elements**.\n",
    "- They support **various operations like union, intersection, and difference**.\n",
    "- `frozenset` is an **immutable** version of a set.\n",
    "- `add()`, `remove()`, `discard()` are used for **modifying** sets.\n",
    "- `issubset()`, `issuperset()`, and `isdisjoint()` provide **relationship checks**.\n",
    "- `{}` creates an **empty dictionary**, not a set; use `set()` for an empty set.\n"
   ]
  }
 ],
 "metadata": {
  "kernelspec": {
   "display_name": "Python 3 (ipykernel)",
   "language": "python",
   "name": "python3"
  },
  "language_info": {
   "codemirror_mode": {
    "name": "ipython",
    "version": 3
   },
   "file_extension": ".py",
   "mimetype": "text/x-python",
   "name": "python",
   "nbconvert_exporter": "python",
   "pygments_lexer": "ipython3",
   "version": "3.12.4"
  }
 },
 "nbformat": 4,
 "nbformat_minor": 4
}
