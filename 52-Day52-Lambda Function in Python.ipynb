{
 "cells": [
  {
   "cell_type": "markdown",
   "id": "c33122c5",
   "metadata": {},
   "source": [
    "# Lambda Functions in Python\n",
    "Learn Python lambda functions from basics to advanced with examples and exercises."
   ]
  },
  {
   "cell_type": "markdown",
   "id": "d1fe4b91",
   "metadata": {},
   "source": [
    "## 1. Introduction to Lambda Functions\n",
    "A `lambda` function is a small anonymous function in Python. It can have any number of arguments, but only one expression."
   ]
  },
  {
   "cell_type": "code",
   "execution_count": null,
   "id": "cc85f8c0",
   "metadata": {},
   "outputs": [],
   "source": [
    "add = lambda x, y: x + y\n",
    "print(add(5, 3))"
   ]
  },
  {
   "cell_type": "markdown",
   "id": "57f7c8b3",
   "metadata": {},
   "source": [
    "## 2. Lambda vs Regular Functions"
   ]
  },
  {
   "cell_type": "code",
   "execution_count": null,
   "id": "c1a3fe6e",
   "metadata": {},
   "outputs": [],
   "source": [
    "# Regular function\n",
    "def square(x):\n",
    "    return x * x\n",
    "\n",
    "# Lambda function\n",
    "square_lambda = lambda x: x * x\n",
    "\n",
    "print(square(4))      # Output: 16\n",
    "print(square_lambda(4))  # Output: 16"
   ]
  },
  {
   "cell_type": "markdown",
   "id": "d81c39b4",
   "metadata": {},
   "source": [
    "## 3. Lambda with Built-in Functions"
   ]
  },
  {
   "cell_type": "code",
   "execution_count": null,
   "id": "f16b34ad",
   "metadata": {},
   "outputs": [],
   "source": [
    "# Using lambda with map\n",
    "nums = [1, 2, 3, 4]\n",
    "squared = list(map(lambda x: x**2, nums))\n",
    "print(squared)\n",
    "\n",
    "# Using lambda with filter\n",
    "even = list(filter(lambda x: x % 2 == 0, nums))\n",
    "print(even)\n",
    "\n",
    "# Using lambda with reduce\n",
    "from functools import reduce\n",
    "product = reduce(lambda x, y: x * y, nums)\n",
    "print(product)"
   ]
  },
  {
   "cell_type": "markdown",
   "id": "3f28d5d4",
   "metadata": {},
   "source": [
    "## 4. Lambda with sorted() and Custom Keys"
   ]
  },
  {
   "cell_type": "code",
   "execution_count": null,
   "id": "ce8cae5c",
   "metadata": {},
   "outputs": [],
   "source": [
    "data = [('Alice', 25), ('Bob', 20), ('Charlie', 30)]\n",
    "# Sort by age\n",
    "sorted_data = sorted(data, key=lambda x: x[1])\n",
    "print(sorted_data)"
   ]
  },
  {
   "cell_type": "markdown",
   "id": "6db2d059",
   "metadata": {},
   "source": [
    "## 5. Lambda with Conditional Expressions"
   ]
  },
  {
   "cell_type": "code",
   "execution_count": null,
   "id": "5bfa0a83",
   "metadata": {},
   "outputs": [],
   "source": [
    "# Conditional expression in lambda\n",
    "is_even = lambda x: \"Even\" if x % 2 == 0 else \"Odd\"\n",
    "print(is_even(10))\n",
    "print(is_even(7))"
   ]
  },
  {
   "cell_type": "markdown",
   "id": "ff664b27",
   "metadata": {},
   "source": [
    "## 6. Nested Lambda Functions"
   ]
  },
  {
   "cell_type": "code",
   "execution_count": null,
   "id": "95d90b15",
   "metadata": {},
   "outputs": [],
   "source": [
    "# Nested lambda\n",
    "multiply = lambda x: (lambda y: x * y)\n",
    "double = multiply(2)\n",
    "print(double(5))"
   ]
  },
  {
   "cell_type": "markdown",
   "id": "2facae38",
   "metadata": {},
   "source": [
    "## 7. Real-world Example: Sorting Dictionary List"
   ]
  },
  {
   "cell_type": "code",
   "execution_count": null,
   "id": "e04acfbd",
   "metadata": {},
   "outputs": [],
   "source": [
    "people = [{'name': 'Alice', 'score': 90},\n",
    "           {'name': 'Bob', 'score': 82},\n",
    "           {'name': 'David', 'score': 95}]\n",
    "# Sort by score\n",
    "sorted_people = sorted(people, key=lambda x: x['score'], reverse=True)\n",
    "print(sorted_people)"
   ]
  },
  {
   "cell_type": "markdown",
   "id": "d84b697f",
   "metadata": {},
   "source": [
    "## 8. Limitations and Best Practices\n",
    "- Keep lambda functions short and simple.\n",
    "- Use `def` for complex functions.\n",
    "- Lambda is best used with functions like `map()`, `filter()`, etc."
   ]
  },
  {
   "cell_type": "markdown",
   "id": "f0daf892",
   "metadata": {},
   "source": [
    "## 9. Mini Exercises"
   ]
  },
  {
   "cell_type": "code",
   "execution_count": null,
   "id": "2daecc30",
   "metadata": {},
   "outputs": [],
   "source": [
    "# Exercise 1: Use lambda with map to add 10 to each number in a list\n",
    "nums = [1, 2, 3, 4, 5]\n",
    "# Your code here\n",
    "result = list(map(lambda x: x + 10, nums))\n",
    "print(result)"
   ]
  },
  {
   "cell_type": "code",
   "execution_count": null,
   "id": "62b358a9",
   "metadata": {},
   "outputs": [],
   "source": [
    "# Exercise 2: Filter out names longer than 4 characters\n",
    "names = ['Amy', 'John', 'Christopher', 'Zoe']\n",
    "# Your code here\n",
    "short_names = list(filter(lambda name: len(name) <= 4, names))\n",
    "print(short_names)"
   ]
  }
 ],
 "metadata": {},
 "nbformat": 4,
 "nbformat_minor": 5
}