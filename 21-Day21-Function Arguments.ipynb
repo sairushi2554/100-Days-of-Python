{
 "cells": [
  {
   "cell_type": "markdown",
   "id": "a4792e05-ae95-4dbb-8bb6-cdfbba20f171",
   "metadata": {},
   "source": [
    "## Function Arguments and return statement"
   ]
  },
  {
   "cell_type": "markdown",
   "id": "91cadd5b-6c79-477e-a6a0-9aaf3a5e8cf7",
   "metadata": {},
   "source": [
    "#### 1. Positional Arguments\n",
    "Arguments are matched to parameters based on their position."
   ]
  },
  {
   "cell_type": "code",
   "execution_count": 3,
   "id": "13070d0b-176f-4705-9cfa-cc0235f981d5",
   "metadata": {},
   "outputs": [
    {
     "name": "stdout",
     "output_type": "stream",
     "text": [
      "8\n"
     ]
    }
   ],
   "source": [
    "def add(a, b):\n",
    "    return a + b\n",
    "\n",
    "print(add(5, 3)) "
   ]
  },
  {
   "cell_type": "markdown",
   "id": "ce213d7b-bb5c-440a-81e0-cd6385fb25dd",
   "metadata": {},
   "source": [
    "#### 2. Keyword Arguments\n",
    "Arguments are passed using the parameter name.\n",
    "\n",
    "We can provide arguments with key = value, this way the interpreter recognizes the arguments by the parameter name. Hence, the the order in which the arguments are passed does not matter."
   ]
  },
  {
   "cell_type": "code",
   "execution_count": 5,
   "id": "66ad2c0f-2f3b-4908-b814-5af63c1e6855",
   "metadata": {},
   "outputs": [
    {
     "name": "stdout",
     "output_type": "stream",
     "text": [
      "My name is Hannah and I am 23 years old.\n"
     ]
    }
   ],
   "source": [
    "def introduce(name, age):\n",
    "    return f\"My name is {name} and I am {age} years old.\"\n",
    "\n",
    "print(introduce(age=23, name=\"Hannah\"))"
   ]
  },
  {
   "cell_type": "markdown",
   "id": "427392ce-22a6-4669-9ccb-0bfe999e3ef2",
   "metadata": {},
   "source": [
    "#### 3. Default Parameters\n",
    "Default values can be provided for parameters.\n",
    "\n",
    "We can provide a default value while creating a function. This way the function assumes a default value even if a value is not provided in the function call for that argument."
   ]
  },
  {
   "cell_type": "code",
   "execution_count": 7,
   "id": "7873433c-41b3-4eca-960f-35f280abeea1",
   "metadata": {},
   "outputs": [
    {
     "name": "stdout",
     "output_type": "stream",
     "text": [
      "Hello, Hannah!\n",
      "Hello, Sai!\n"
     ]
    }
   ],
   "source": [
    "def greet(name=\"Hannah\"):\n",
    "    return f\"Hello, {name}!\"\n",
    "\n",
    "print(greet())           \n",
    "print(greet(\"Sai\"))  \n"
   ]
  },
  {
   "cell_type": "markdown",
   "id": "18c4ac12-e8c0-4e5f-bda5-6920c0253fda",
   "metadata": {},
   "source": [
    "#### 4. Variable-Length Arguments\n",
    "Sometimes we may need to pass more arguments than those defined in the actual function. This can be done using variable-length arguments.\n",
    "\n",
    "There are two ways to achieve this:\n",
    "\n",
    "-  a. *args for Arbitrary Positional Arguments"
   ]
  },
  {
   "cell_type": "code",
   "execution_count": 9,
   "id": "b4fb1161-5a6e-48e1-8209-1b7ba2d4c055",
   "metadata": {},
   "outputs": [
    {
     "name": "stdout",
     "output_type": "stream",
     "text": [
      "10\n"
     ]
    }
   ],
   "source": [
    "def sum_numbers(*args):\n",
    "    return sum(args)\n",
    "\n",
    "print(sum_numbers(1, 2, 3, 4))"
   ]
  },
  {
   "cell_type": "markdown",
   "id": "01ba1835-5a10-4d8b-854b-a97be4583411",
   "metadata": {},
   "source": [
    "- b. **kwargs for Arbitrary Keyword Arguments\n",
    "\n",
    "While creating a function, pass ** before the parameter name while defining the function. The function accesses the arguments by processing them in the form of dictionary."
   ]
  },
  {
   "cell_type": "code",
   "execution_count": 11,
   "id": "9d881ee5-ec4c-48d2-867d-746daeb11e76",
   "metadata": {},
   "outputs": [
    {
     "name": "stdout",
     "output_type": "stream",
     "text": [
      "name: Hannah\n",
      "age: 22\n",
      "country: USA\n"
     ]
    }
   ],
   "source": [
    "def print_details(**kwargs):\n",
    "    for key, value in kwargs.items():\n",
    "        print(f\"{key}: {value}\")\n",
    "\n",
    "print_details(name=\"Hannah\", age=22, country=\"USA\")"
   ]
  },
  {
   "cell_type": "markdown",
   "id": "cfdec2b9-6c0a-46bc-a9a4-3d79d86e1138",
   "metadata": {},
   "source": [
    "### `Return` Statement\n",
    "The `return` statement sends a value back to the caller."
   ]
  },
  {
   "cell_type": "code",
   "execution_count": 13,
   "id": "dd55fb4c-0484-4f32-9a73-5bc3ba8d606f",
   "metadata": {},
   "outputs": [
    {
     "name": "stdout",
     "output_type": "stream",
     "text": [
      "16\n"
     ]
    }
   ],
   "source": [
    "def square(num):\n",
    "    return num * num\n",
    "\n",
    "result = square(4)\n",
    "print(result)"
   ]
  },
  {
   "cell_type": "markdown",
   "id": "9cf55750-ed5d-4849-a170-963e323f7510",
   "metadata": {},
   "source": [
    "If no `return` is provided, the function returns None."
   ]
  },
  {
   "cell_type": "markdown",
   "id": "3e5b43f3-8515-49c7-9937-30ed1747f053",
   "metadata": {},
   "source": []
  },
  {
   "cell_type": "markdown",
   "id": "4e9b0151-a41e-4ac8-b674-d46e9622b4b7",
   "metadata": {},
   "source": [
    "#### **Anonymous Functions: `lambda`**\n",
    "`Lambda` functions are small, unnamed functions defined using the `lambda` keyword.\n",
    "```python\n",
    "lambda arguments: expression\r",
    "```\n"
   ]
  },
  {
   "cell_type": "code",
   "execution_count": 17,
   "id": "577d428c-ecd6-46b3-91fc-cc5709af2f32",
   "metadata": {},
   "outputs": [
    {
     "name": "stdout",
     "output_type": "stream",
     "text": [
      "25\n"
     ]
    }
   ],
   "source": [
    "square = lambda x: x * x\n",
    "print(square(5))"
   ]
  },
  {
   "cell_type": "markdown",
   "id": "0b1b0f6e-2252-4d51-92b0-ff76f1c78040",
   "metadata": {},
   "source": [
    "#### Nested Functions\n",
    "Functions defined within other functions."
   ]
  },
  {
   "cell_type": "code",
   "execution_count": 19,
   "id": "4c32c8e8-dd3a-4048-9c65-3f2fee0f0062",
   "metadata": {},
   "outputs": [
    {
     "name": "stdout",
     "output_type": "stream",
     "text": [
      "EMMA\n"
     ]
    }
   ],
   "source": [
    "def outer_function(text):\n",
    "    def inner_function():\n",
    "        return text.upper()\n",
    "    return inner_function()\n",
    "\n",
    "print(outer_function(\"emma\"))"
   ]
  },
  {
   "cell_type": "markdown",
   "id": "a3c09f0b-0a77-4c46-8eec-cf44935e4dc7",
   "metadata": {},
   "source": [
    "#### Closures\n",
    "A closure remembers the variables from its enclosing scope."
   ]
  },
  {
   "cell_type": "code",
   "execution_count": 21,
   "id": "109d5fe5-c9d3-456a-a7bb-eb6b436148ce",
   "metadata": {},
   "outputs": [
    {
     "name": "stdout",
     "output_type": "stream",
     "text": [
      "15\n"
     ]
    }
   ],
   "source": [
    "def multiplier(factor):\n",
    "    def multiply(number):\n",
    "        return number * factor\n",
    "    return multiply\n",
    "\n",
    "double = multiplier(3)\n",
    "print(double(5))"
   ]
  },
  {
   "cell_type": "markdown",
   "id": "32e3f7e8-37ee-48a5-87d9-0f16e95f9385",
   "metadata": {},
   "source": [
    "#### Decorators\n",
    "Decorators are functions that modify the behavior of other functions."
   ]
  },
  {
   "cell_type": "code",
   "execution_count": 23,
   "id": "6e1e1ffd-66d1-4f84-81ea-edf5179b2850",
   "metadata": {},
   "outputs": [
    {
     "name": "stdout",
     "output_type": "stream",
     "text": [
      "Before the function call\n",
      "Chloe!\n",
      "After the function call\n"
     ]
    }
   ],
   "source": [
    "def decorator(func):\n",
    "    def wrapper():\n",
    "        print(\"Before the function call\")\n",
    "        func()\n",
    "        print(\"After the function call\")\n",
    "    return wrapper\n",
    "\n",
    "@decorator\n",
    "def say_hello():\n",
    "    print(\"Chloe!\")\n",
    "\n",
    "say_hello()"
   ]
  },
  {
   "cell_type": "markdown",
   "id": "2389ab34-4878-4b12-9d08-20057a8e8fcc",
   "metadata": {},
   "source": [
    "#### Recursion\n",
    "A function calling itself to solve smaller instances of a problem."
   ]
  },
  {
   "cell_type": "code",
   "execution_count": 25,
   "id": "f16c29a3-8fb5-4ed7-a9bd-738fc13cf4e3",
   "metadata": {},
   "outputs": [
    {
     "name": "stdout",
     "output_type": "stream",
     "text": [
      "120\n"
     ]
    }
   ],
   "source": [
    "def factorial(n):\n",
    "    if n == 0:\n",
    "        return 1\n",
    "    return n * factorial(n - 1)\n",
    "\n",
    "print(factorial(5))"
   ]
  },
  {
   "cell_type": "markdown",
   "id": "96db9bb3-5c97-4100-9ac5-146faf4dfac0",
   "metadata": {},
   "source": [
    "#### Error Handling in Functions\n",
    "Handle exceptions using try, except, and finally blocks."
   ]
  },
  {
   "cell_type": "code",
   "execution_count": 27,
   "id": "defe9e9e-3f4c-4ba4-987f-15c01cdabf58",
   "metadata": {},
   "outputs": [
    {
     "name": "stdout",
     "output_type": "stream",
     "text": [
      "Execution completed.\n",
      "5.0\n",
      "Execution completed.\n",
      "Cannot divide by zero!\n"
     ]
    }
   ],
   "source": [
    "def divide(a, b):\n",
    "    try:\n",
    "        return a / b\n",
    "    except ZeroDivisionError:\n",
    "        return \"Cannot divide by zero!\"\n",
    "    finally:\n",
    "        print(\"Execution completed.\")\n",
    "\n",
    "print(divide(10, 2))  # Output: 5.0\n",
    "print(divide(10, 0))  # Output: Cannot divide by zero!\n"
   ]
  },
  {
   "cell_type": "markdown",
   "id": "60770b6a-437b-450e-a438-a2b1e3954ab7",
   "metadata": {},
   "source": [
    "      "
   ]
  },
  {
   "cell_type": "markdown",
   "id": "6ce8d159-0775-4666-99ea-8de5ac18494e",
   "metadata": {},
   "source": [
    "#### Processing Data"
   ]
  },
  {
   "cell_type": "code",
   "execution_count": 30,
   "id": "082e728b-1f71-426c-94a8-556f95b9adfe",
   "metadata": {},
   "outputs": [
    {
     "name": "stdout",
     "output_type": "stream",
     "text": [
      "[2, 4, 6]\n"
     ]
    }
   ],
   "source": [
    "def process_list(numbers):\n",
    "    return [x * 2 for x in numbers]\n",
    "\n",
    "print(process_list([1, 2, 3]))"
   ]
  },
  {
   "cell_type": "markdown",
   "id": "cd1c0876-7252-41f9-9a57-2b140b6755f2",
   "metadata": {},
   "source": [
    "#### Math Utilities"
   ]
  },
  {
   "cell_type": "code",
   "execution_count": 32,
   "id": "60fce2e7-f086-4b5c-85e3-00b135685f55",
   "metadata": {},
   "outputs": [
    {
     "name": "stdout",
     "output_type": "stream",
     "text": [
      "78.53981633974483\n"
     ]
    }
   ],
   "source": [
    "import math\n",
    "\n",
    "def circle_area(radius):\n",
    "    return math.pi * radius * radius\n",
    "\n",
    "print(circle_area(5))"
   ]
  },
  {
   "cell_type": "markdown",
   "id": "be75e278-de5a-4a42-a761-ec78e7e39ebd",
   "metadata": {},
   "source": [
    "- `Functions` improve modularity, reusability, and readability.\n",
    "- Use default, keyword, and variable-length arguments for flexibility.\n",
    "- Advanced concepts like closures, decorators, and recursion add power to Python's functional capabilities."
   ]
  },
  {
   "cell_type": "code",
   "execution_count": 34,
   "id": "d0794add-94e4-4a52-a33f-6f4e6873cf22",
   "metadata": {},
   "outputs": [
    {
     "name": "stdout",
     "output_type": "stream",
     "text": [
      "a: 1, b: 2, args: (3, 4, 5), c: 20, kwargs: {'d': 30, 'e': 40}\n"
     ]
    }
   ],
   "source": [
    "def function(a, b, *args, c=10, **kwargs):\n",
    "    print(f\"a: {a}, b: {b}, args: {args}, c: {c}, kwargs: {kwargs}\")\n",
    "\n",
    "function(1, 2, 3, 4, 5, c=20, d=30, e=40)\n"
   ]
  },
  {
   "cell_type": "code",
   "execution_count": 35,
   "id": "165285d6-9cf0-4c9c-b0ae-eaa76157e875",
   "metadata": {},
   "outputs": [
    {
     "name": "stdout",
     "output_type": "stream",
     "text": [
      "6\n"
     ]
    }
   ],
   "source": [
    "def add(a, b, c):\n",
    "    return a + b + c\n",
    "\n",
    "numbers = (1, 2, 3)\n",
    "print(add(*numbers))"
   ]
  },
  {
   "cell_type": "code",
   "execution_count": 36,
   "id": "1137b333-c28c-4ab7-b07a-b67aeef97745",
   "metadata": {},
   "outputs": [
    {
     "name": "stdout",
     "output_type": "stream",
     "text": [
      "Chloe is 30 years old.\n"
     ]
    }
   ],
   "source": [
    "def introduce(name, age):\n",
    "    return f\"{name} is {age} years old.\"\n",
    "\n",
    "details = {\"name\": \"Chloe\", \"age\": 30}\n",
    "print(introduce(**details)) "
   ]
  },
  {
   "cell_type": "code",
   "execution_count": 37,
   "id": "496aeaff-4dd2-4e66-9016-0ebf943f5e19",
   "metadata": {},
   "outputs": [
    {
     "name": "stdout",
     "output_type": "stream",
     "text": [
      "15\n"
     ]
    }
   ],
   "source": [
    "def apply_operation(a, b, operation):\n",
    "    return operation(a, b)\n",
    "\n",
    "result = apply_operation(5, 3, lambda x, y: x * y)\n",
    "print(result)"
   ]
  },
  {
   "cell_type": "code",
   "execution_count": 38,
   "id": "691c2c91-917d-4592-9ffb-4d510bd2aaf3",
   "metadata": {},
   "outputs": [
    {
     "name": "stdout",
     "output_type": "stream",
     "text": [
      "10\n"
     ]
    }
   ],
   "source": [
    "from functools import partial\n",
    "\n",
    "def multiply(a, b):\n",
    "    return a * b\n",
    "\n",
    "double = partial(multiply, b=2)\n",
    "print(double(5))"
   ]
  },
  {
   "cell_type": "markdown",
   "id": "d573ddb6-fe05-4c05-8d11-7a7b2a67c92e",
   "metadata": {},
   "source": [
    "    "
   ]
  }
 ],
 "metadata": {
  "kernelspec": {
   "display_name": "Python 3 (ipykernel)",
   "language": "python",
   "name": "python3"
  },
  "language_info": {
   "codemirror_mode": {
    "name": "ipython",
    "version": 3
   },
   "file_extension": ".py",
   "mimetype": "text/x-python",
   "name": "python",
   "nbconvert_exporter": "python",
   "pygments_lexer": "ipython3",
   "version": "3.12.4"
  }
 },
 "nbformat": 4,
 "nbformat_minor": 5
}
