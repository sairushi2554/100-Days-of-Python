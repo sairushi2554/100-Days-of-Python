{
 "cells": [
  {
   "cell_type": "markdown",
   "id": "e42df5b9",
   "metadata": {},
   "source": [
    "# Single Inheritance in Python\n",
    "\n",
    "Inheritance is one of the core concepts of Object-Oriented Programming (OOP). Single inheritance occurs when a child class inherits from only one parent class. This allows the child class to reuse the code from the parent class.\n",
    "\n",
    "In Python, single inheritance is achieved by passing the parent class as a parameter to the definition of the child class.\n"
   ]
  },
  {
   "cell_type": "markdown",
   "id": "efc7fff7",
   "metadata": {},
   "source": [
    "## Syntax of Single Inheritance\n",
    "\n",
    "```python\n",
    "class Parent:\n",
    "    # parent class code\n",
    "\n",
    "class Child(Parent):\n",
    "    # child class code\n",
    "```\n"
   ]
  },
  {
   "cell_type": "code",
   "execution_count": 3,
   "id": "a3c15d23",
   "metadata": {},
   "outputs": [
    {
     "name": "stdout",
     "output_type": "stream",
     "text": [
      "Animal speaks\n",
      "Dog barks\n"
     ]
    }
   ],
   "source": [
    "# Example 1: Simple single inheritance\n",
    "\n",
    "class Animal:\n",
    "    def speak(self):\n",
    "        return \"Animal speaks\"\n",
    "\n",
    "class Dog(Animal):\n",
    "    def bark(self):\n",
    "        return \"Dog barks\"\n",
    "\n",
    "d = Dog()\n",
    "print(d.speak())  # Inherited from Animal\n",
    "print(d.bark())   # Defined in Dog\n"
   ]
  },
  {
   "cell_type": "code",
   "execution_count": 4,
   "id": "d1a44724",
   "metadata": {},
   "outputs": [
    {
     "name": "stdout",
     "output_type": "stream",
     "text": [
      "Name: Alice\n",
      "Roll Number: 101\n"
     ]
    }
   ],
   "source": [
    "# Example 2: Single inheritance with constructors\n",
    "\n",
    "class Person:\n",
    "    def __init__(self, name):\n",
    "        self.name = name\n",
    "\n",
    "    def show(self):\n",
    "        print(\"Name:\", self.name)\n",
    "\n",
    "class Student(Person):\n",
    "    def __init__(self, name, roll):\n",
    "        super().__init__(name)\n",
    "        self.roll = roll\n",
    "\n",
    "    def display(self):\n",
    "        self.show()\n",
    "        print(\"Roll Number:\", self.roll)\n",
    "\n",
    "s = Student(\"Alice\", 101)\n",
    "s.display()\n"
   ]
  },
  {
   "cell_type": "markdown",
   "id": "d7b795f0",
   "metadata": {},
   "source": [
    "## Benefits of Single Inheritance\n",
    "\n",
    "- Code reusability\n",
    "- Easier maintenance\n",
    "- Logical class hierarchy\n",
    "- Reduced redundancy\n"
   ]
  }
 ],
 "metadata": {
  "kernelspec": {
   "display_name": "Python 3 (ipykernel)",
   "language": "python",
   "name": "python3"
  },
  "language_info": {
   "codemirror_mode": {
    "name": "ipython",
    "version": 3
   },
   "file_extension": ".py",
   "mimetype": "text/x-python",
   "name": "python",
   "nbconvert_exporter": "python",
   "pygments_lexer": "ipython3",
   "version": "3.12.4"
  }
 },
 "nbformat": 4,
 "nbformat_minor": 5
}
