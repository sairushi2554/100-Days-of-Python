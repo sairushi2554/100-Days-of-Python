{
 "cells": [
  {
   "cell_type": "markdown",
   "id": "0f93fb37",
   "metadata": {},
   "source": [
    "# Secret Code Language Encoder & Decoder - Keypad Style\n",
    "\n",
    "Python program to encode and decode messages using a keypad-style secret language.\n"
   ]
  },
  {
   "cell_type": "markdown",
   "id": "7793f562",
   "metadata": {},
   "source": [
    "## 📘 What is this Coder?\n",
    "\n",
    "This is a custom message encoder that mimics old mobile keypad input. Each letter is mapped to a digit and a position based on the following layout:\n",
    "\n",
    "```\n",
    "ABC → 2  (A=2-1, B=2-2, C=2-3)\n",
    "DEF → 3  (D=3-1, E=3-2, F=3-3)\n",
    "GHI → 4  (G=4-1, H=4-2, I=4-3)\n",
    "JKL → 5  (J=5-1, K=5-2, L=5-3)\n",
    "MNO → 6  (M=6-1, N=6-2, O=6-3)\n",
    "PQRS → 7 (P=7-1, Q=7-2, R=7-3, S=7-4)\n",
    "TUV → 8  (T=8-1, U=8-2, V=8-3)\n",
    "WXYZ → 9 (W=9-1, X=9-2, Y=9-3, Z=9-4)\n",
    "```\n",
    "\n",
    "Additionally:\n",
    "- **Letters** are encoded as `digit-position`\n",
    "- **Numbers** in the message are reversed"
   ]
  },
  {
   "cell_type": "markdown",
   "id": "92bcc39a",
   "metadata": {},
   "source": [
    "## ⚙️ How it Works\n",
    "\n",
    "### Encoding:\n",
    "1. A dictionary maps letters to keypad codes (`digit-position`).\n",
    "2. For each word:\n",
    "   - Letters are encoded via the dictionary.\n",
    "   - Numbers are reversed.\n",
    "\n",
    "### Decoding:\n",
    "1. Reverse numeric strings directly.\n",
    "2. For letters:\n",
    "   - Split by `:` and map each `digit-position` back to the original letter using a reverse dictionary."
   ]
  },
  {
   "cell_type": "code",
   "execution_count": 4,
   "id": "74882114",
   "metadata": {},
   "outputs": [],
   "source": [
    "# Build both forward and reverse keypad mappings\n",
    "def build_keypad_mappings():\n",
    "    mapping = {\n",
    "        2: 'ABC', 3: 'DEF', 4: 'GHI', 5: 'JKL',\n",
    "        6: 'MNO', 7: 'PQRS', 8: 'TUV', 9: 'WXYZ'\n",
    "    }\n",
    "    letter_to_code = {}\n",
    "    code_to_letter = {}\n",
    "    for digit, letters in mapping.items():\n",
    "        for pos, letter in enumerate(letters, 1):\n",
    "            key = f\"{digit}-{pos}\"\n",
    "            letter_to_code[letter] = key\n",
    "            code_to_letter[key] = letter\n",
    "    return letter_to_code, code_to_letter"
   ]
  },
  {
   "cell_type": "code",
   "execution_count": 5,
   "id": "bbf477b5",
   "metadata": {},
   "outputs": [],
   "source": [
    "# Encode a message\n",
    "def encode_message(message):\n",
    "    letter_to_code, _ = build_keypad_mappings()\n",
    "    encoded = []\n",
    "    for word in message.split():\n",
    "        if word.isnumeric():\n",
    "            encoded.append(word[::-1])\n",
    "        else:\n",
    "            codes = []\n",
    "            for char in word.upper():\n",
    "                if char in letter_to_code:\n",
    "                    codes.append(letter_to_code[char])\n",
    "                else:\n",
    "                    codes.append(char)\n",
    "            encoded.append(\":\".join(codes))\n",
    "    return \" \".join(encoded)"
   ]
  },
  {
   "cell_type": "code",
   "execution_count": 6,
   "id": "ee7eeff2",
   "metadata": {},
   "outputs": [],
   "source": [
    "# Decode a message\n",
    "def decode_message(encoded):\n",
    "    _, code_to_letter = build_keypad_mappings()\n",
    "    decoded = []\n",
    "    for word in encoded.split():\n",
    "        if word.isnumeric():\n",
    "            decoded.append(word[::-1])\n",
    "        else:\n",
    "            letters = []\n",
    "            parts = word.split(\":\")\n",
    "            for part in parts:\n",
    "                if part in code_to_letter:\n",
    "                    letters.append(code_to_letter[part])\n",
    "                else:\n",
    "                    letters.append(part)\n",
    "            decoded.append(\"\".join(letters))\n",
    "    return \" \".join(decoded)"
   ]
  },
  {
   "cell_type": "code",
   "execution_count": 7,
   "id": "fb0cc93c",
   "metadata": {},
   "outputs": [
    {
     "name": "stdout",
     "output_type": "stream",
     "text": [
      "Original: Sai 123\n",
      "Encoded : 7-4:2-1:4-3 321\n",
      "Decoded : SAI 123\n"
     ]
    }
   ],
   "source": [
    "# Try it out\n",
    "message = \"Sai 123\"\n",
    "encoded = encode_message(message)\n",
    "decoded = decode_message(encoded)\n",
    "\n",
    "print(\"Original:\", message)\n",
    "print(\"Encoded :\", encoded)\n",
    "print(\"Decoded :\", decoded)"
   ]
  }
 ],
 "metadata": {
  "kernelspec": {
   "display_name": "Python 3 (ipykernel)",
   "language": "python",
   "name": "python3"
  },
  "language_info": {
   "codemirror_mode": {
    "name": "ipython",
    "version": 3
   },
   "file_extension": ".py",
   "mimetype": "text/x-python",
   "name": "python",
   "nbconvert_exporter": "python",
   "pygments_lexer": "ipython3",
   "version": "3.12.4"
  }
 },
 "nbformat": 4,
 "nbformat_minor": 5
}
