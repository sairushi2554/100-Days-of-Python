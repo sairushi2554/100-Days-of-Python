{
 "cells": [
  {
   "cell_type": "markdown",
   "id": "caaca925",
   "metadata": {},
   "source": [
    "# Getters and Setters in Python\n",
    "\n",
    "In Python, getters and setters are methods used to access and modify the private attributes of a class. These are a part of the encapsulation principle in object-oriented programming."
   ]
  },
  {
   "cell_type": "markdown",
   "id": "52b7480e",
   "metadata": {},
   "source": [
    "## 1. Basic Concept of Getters and Setters\n",
    "\n",
    "Python doesn't have explicit getter and setter methods like some other languages, but you can define them manually."
   ]
  },
  {
   "cell_type": "code",
   "execution_count": 3,
   "id": "723c4578",
   "metadata": {},
   "outputs": [
    {
     "name": "stdout",
     "output_type": "stream",
     "text": [
      "Name: Alice\n",
      "Updated Name: Bob\n"
     ]
    }
   ],
   "source": [
    "# Basic example\n",
    "class Student:\n",
    "    def __init__(self, name):\n",
    "        self._name = name  # Protected attribute\n",
    "\n",
    "    def get_name(self):\n",
    "        return self._name\n",
    "\n",
    "    def set_name(self, name):\n",
    "        self._name = name\n",
    "\n",
    "# Usage\n",
    "s = Student(\"Alice\")\n",
    "print(\"Name:\", s.get_name())\n",
    "s.set_name(\"Bob\")\n",
    "print(\"Updated Name:\", s.get_name())"
   ]
  },
  {
   "cell_type": "markdown",
   "id": "778eb6be",
   "metadata": {},
   "source": [
    "## 2. Using `@property` Decorator\n",
    "\n",
    "Python provides a built-in `@property` decorator to make getter/setter syntax cleaner."
   ]
  },
  {
   "cell_type": "code",
   "execution_count": 5,
   "id": "f7c347f6",
   "metadata": {},
   "outputs": [
    {
     "name": "stdout",
     "output_type": "stream",
     "text": [
      "Name: Alice\n",
      "Updated Name: Bob\n"
     ]
    }
   ],
   "source": [
    "# Example with @property\n",
    "class Student:\n",
    "    def __init__(self, name):\n",
    "        self._name = name\n",
    "\n",
    "    @property\n",
    "    def name(self):\n",
    "        return self._name\n",
    "\n",
    "    @name.setter\n",
    "    def name(self, value):\n",
    "        self._name = value\n",
    "\n",
    "# Usage\n",
    "s = Student(\"Alice\")\n",
    "print(\"Name:\", s.name)\n",
    "s.name = \"Bob\"\n",
    "print(\"Updated Name:\", s.name)"
   ]
  },
  {
   "cell_type": "markdown",
   "id": "4d6b6168",
   "metadata": {},
   "source": [
    "## 3. Advanced: Adding Validation in Setters\n",
    "\n",
    "You can include validation logic in the setter to restrict unwanted values."
   ]
  },
  {
   "cell_type": "code",
   "execution_count": 7,
   "id": "d9139673",
   "metadata": {},
   "outputs": [
    {
     "name": "stdout",
     "output_type": "stream",
     "text": [
      "Age: 20\n",
      "Updated Age: 25\n"
     ]
    }
   ],
   "source": [
    "# Example with validation\n",
    "class Student:\n",
    "    def __init__(self, age):\n",
    "        self._age = None\n",
    "        self.age = age\n",
    "\n",
    "    @property\n",
    "    def age(self):\n",
    "        return self._age\n",
    "\n",
    "    @age.setter\n",
    "    def age(self, value):\n",
    "        if value < 0:\n",
    "            raise ValueError(\"Age cannot be negative.\")\n",
    "        self._age = value\n",
    "\n",
    "# Usage\n",
    "s = Student(20)\n",
    "print(\"Age:\", s.age)\n",
    "s.age = 25\n",
    "print(\"Updated Age:\", s.age)\n",
    "# s.age = -5  # Uncomment to see ValueError"
   ]
  },
  {
   "cell_type": "markdown",
   "id": "3a377f1a",
   "metadata": {},
   "source": [
    "## 4. Best Practices\n",
    "\n",
    "- Use a single underscore (`_`) to indicate protected members.\n",
    "- Use the `@property` decorator to simplify getter/setter access.\n",
    "- Always validate input inside setters when necessary.\n",
    "- Avoid unnecessary use of setters/getters if attributes are meant to be public."
   ]
  }
 ],
 "metadata": {
  "kernelspec": {
   "display_name": "Python 3 (ipykernel)",
   "language": "python",
   "name": "python3"
  },
  "language_info": {
   "codemirror_mode": {
    "name": "ipython",
    "version": 3
   },
   "file_extension": ".py",
   "mimetype": "text/x-python",
   "name": "python",
   "nbconvert_exporter": "python",
   "pygments_lexer": "ipython3",
   "version": "3.12.4"
  }
 },
 "nbformat": 4,
 "nbformat_minor": 5
}
