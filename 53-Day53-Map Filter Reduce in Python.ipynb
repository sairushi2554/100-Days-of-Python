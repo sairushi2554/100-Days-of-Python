{
 "cells": [
  {
   "cell_type": "markdown",
   "id": "9a87b679",
   "metadata": {},
   "source": [
    "\n",
    "# `map()`, `filter()`, and `reduce()` Functions\n",
    "\n"
   ]
  },
  {
   "cell_type": "code",
   "execution_count": 2,
   "id": "53d1985b",
   "metadata": {},
   "outputs": [],
   "source": [
    "from functools import reduce"
   ]
  },
  {
   "cell_type": "markdown",
   "id": "65fcc100",
   "metadata": {},
   "source": [
    "## 1. `map()` Function\n",
    "Applies a function to all items in an input list."
   ]
  },
  {
   "cell_type": "code",
   "execution_count": 4,
   "id": "8418d136",
   "metadata": {},
   "outputs": [
    {
     "name": "stdout",
     "output_type": "stream",
     "text": [
      "[1, 4, 9, 16]\n"
     ]
    }
   ],
   "source": [
    "\n",
    "# Basic Example 1: Square of numbers\n",
    "numbers = [1, 2, 3, 4]\n",
    "squares = list(map(lambda x: x**2, numbers))\n",
    "print(squares)\n"
   ]
  },
  {
   "cell_type": "code",
   "execution_count": 5,
   "id": "c65865c8",
   "metadata": {},
   "outputs": [
    {
     "name": "stdout",
     "output_type": "stream",
     "text": [
      "['HELLO', 'WORLD']\n"
     ]
    }
   ],
   "source": [
    "\n",
    "# Basic Example 2: Convert strings to uppercase\n",
    "words = ['hello', 'world']\n",
    "upper_words = list(map(str.upper, words))\n",
    "print(upper_words)\n"
   ]
  },
  {
   "cell_type": "code",
   "execution_count": 6,
   "id": "fb6d4766",
   "metadata": {},
   "outputs": [
    {
     "name": "stdout",
     "output_type": "stream",
     "text": [
      "[5, 7, 9]\n"
     ]
    }
   ],
   "source": [
    "\n",
    "# Advanced Example: Adding corresponding elements of two lists\n",
    "list1 = [1, 2, 3]\n",
    "list2 = [4, 5, 6]\n",
    "summed = list(map(lambda x, y: x + y, list1, list2))\n",
    "print(summed)\n"
   ]
  },
  {
   "cell_type": "markdown",
   "id": "3b9f3455",
   "metadata": {},
   "source": [
    "## 2. `filter()` Function\n",
    "Filters the items that satisfy a condition."
   ]
  },
  {
   "cell_type": "code",
   "execution_count": 8,
   "id": "a52bb8ac",
   "metadata": {},
   "outputs": [
    {
     "name": "stdout",
     "output_type": "stream",
     "text": [
      "[2, 4, 6]\n"
     ]
    }
   ],
   "source": [
    "\n",
    "# Basic Example 1: Filter even numbers\n",
    "nums = [1, 2, 3, 4, 5, 6]\n",
    "evens = list(filter(lambda x: x % 2 == 0, nums))\n",
    "print(evens)\n"
   ]
  },
  {
   "cell_type": "code",
   "execution_count": 9,
   "id": "afa7f276",
   "metadata": {},
   "outputs": [
    {
     "name": "stdout",
     "output_type": "stream",
     "text": [
      "['data', 'science']\n"
     ]
    }
   ],
   "source": [
    "\n",
    "# Basic Example 2: Filter non-empty strings\n",
    "strings = [\"\", \"data\", \"\", \"science\"]\n",
    "non_empty = list(filter(None, strings))\n",
    "print(non_empty)\n"
   ]
  },
  {
   "cell_type": "code",
   "execution_count": 10,
   "id": "b013a8ad",
   "metadata": {},
   "outputs": [
    {
     "name": "stdout",
     "output_type": "stream",
     "text": [
      "[2, 3, 5, 7, 11, 13, 17, 19]\n"
     ]
    }
   ],
   "source": [
    "\n",
    "# Advanced Example: Filter prime numbers\n",
    "def is_prime(n):\n",
    "    if n < 2: return False\n",
    "    for i in range(2, int(n**0.5)+1):\n",
    "        if n % i == 0: return False\n",
    "    return True\n",
    "\n",
    "nums = list(range(20))\n",
    "primes = list(filter(is_prime, nums))\n",
    "print(primes)\n"
   ]
  },
  {
   "cell_type": "markdown",
   "id": "cd14f142",
   "metadata": {},
   "source": [
    "## 3. `reduce()` Function\n",
    "Performs rolling computation to sequential pairs of items."
   ]
  },
  {
   "cell_type": "code",
   "execution_count": 12,
   "id": "c90c1db0",
   "metadata": {},
   "outputs": [
    {
     "name": "stdout",
     "output_type": "stream",
     "text": [
      "10\n"
     ]
    }
   ],
   "source": [
    "\n",
    "# Basic Example 1: Sum of elements\n",
    "nums = [1, 2, 3, 4]\n",
    "total = reduce(lambda x, y: x + y, nums)\n",
    "print(total)\n"
   ]
  },
  {
   "cell_type": "code",
   "execution_count": 13,
   "id": "88e7b660",
   "metadata": {},
   "outputs": [
    {
     "name": "stdout",
     "output_type": "stream",
     "text": [
      "24\n"
     ]
    }
   ],
   "source": [
    "\n",
    "# Basic Example 2: Product of elements\n",
    "nums = [1, 2, 3, 4]\n",
    "product = reduce(lambda x, y: x * y, nums)\n",
    "print(product)\n"
   ]
  },
  {
   "cell_type": "code",
   "execution_count": 14,
   "id": "556001df",
   "metadata": {},
   "outputs": [
    {
     "name": "stdout",
     "output_type": "stream",
     "text": [
      "10\n"
     ]
    }
   ],
   "source": [
    "\n",
    "# Advanced Example: Find the maximum element\n",
    "nums = [3, 8, 2, 10, 6]\n",
    "max_num = reduce(lambda a, b: a if a > b else b, nums)\n",
    "print(max_num)\n"
   ]
  }
 ],
 "metadata": {
  "kernelspec": {
   "display_name": "Python 3 (ipykernel)",
   "language": "python",
   "name": "python3"
  },
  "language_info": {
   "codemirror_mode": {
    "name": "ipython",
    "version": 3
   },
   "file_extension": ".py",
   "mimetype": "text/x-python",
   "name": "python",
   "nbconvert_exporter": "python",
   "pygments_lexer": "ipython3",
   "version": "3.12.4"
  }
 },
 "nbformat": 4,
 "nbformat_minor": 5
}
