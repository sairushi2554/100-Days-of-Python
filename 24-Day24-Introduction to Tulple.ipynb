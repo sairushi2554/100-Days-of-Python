{
 "cells": [
  {
   "cell_type": "markdown",
   "id": "873fc054-bdc9-4957-ab87-4397f1fb8c15",
   "metadata": {},
   "source": [
    "### Tuple in Python\n",
    "A tuple in Python is an **immutable**, **ordered collection of elements**. It can store multiple data types and allows duplicate values. Tuples are defined using **parentheses ()** and support indexing, slicing, and iteration. Since they are **immutable**, their elements cannot be modified after creation, making them faster and memory-efficient compared to lists."
   ]
  },
  {
   "cell_type": "code",
   "execution_count": 2,
   "id": "6d59009a-89bd-4849-a714-ff8cf8c97fd8",
   "metadata": {},
   "outputs": [
    {
     "name": "stdout",
     "output_type": "stream",
     "text": [
      "hello\n"
     ]
    }
   ],
   "source": [
    "my_tuple = (1, \"hello\", 3.14)\n",
    "print(my_tuple[1])  # Output: hello"
   ]
  },
  {
   "cell_type": "markdown",
   "id": "33d5034d-f221-4d20-894a-eadc24ce06c1",
   "metadata": {},
   "source": [
    "#### To create a single-element tuple, include a trailing comma:"
   ]
  },
  {
   "cell_type": "code",
   "execution_count": 4,
   "id": "589f6d94-51fc-4721-b644-20f4b8e42742",
   "metadata": {},
   "outputs": [
    {
     "name": "stdout",
     "output_type": "stream",
     "text": [
      "<class 'tuple'>\n"
     ]
    }
   ],
   "source": [
    "single_element_tuple = (42,)\n",
    "print(type(single_element_tuple))"
   ]
  },
  {
   "cell_type": "code",
   "execution_count": 5,
   "id": "78305933-8cd3-41ba-b692-154a5c651f1f",
   "metadata": {},
   "outputs": [
    {
     "name": "stdout",
     "output_type": "stream",
     "text": [
      "<class 'int'>\n"
     ]
    }
   ],
   "source": [
    "tpl = (21)  # a single element tuple must have trailing comma\n",
    "print(type(tpl))"
   ]
  },
  {
   "cell_type": "markdown",
   "id": "518668e5-0670-4f6c-bdf9-b68bda3170b7",
   "metadata": {},
   "source": [
    "### Creating a Tuple\n",
    "Empty tuple: Creating an empty tuple\n",
    "- syntax\n",
    "    empty_tuple = ()\n",
    "  \n",
    "**or using the tuple constructor**\n",
    "\n",
    "empty_tuple = `tuple()`"
   ]
  }
 ],
 "metadata": {
  "kernelspec": {
   "display_name": "Python 3 (ipykernel)",
   "language": "python",
   "name": "python3"
  },
  "language_info": {
   "codemirror_mode": {
    "name": "ipython",
    "version": 3
   },
   "file_extension": ".py",
   "mimetype": "text/x-python",
   "name": "python",
   "nbconvert_exporter": "python",
   "pygments_lexer": "ipython3",
   "version": "3.12.4"
  }
 },
 "nbformat": 4,
 "nbformat_minor": 5
}
