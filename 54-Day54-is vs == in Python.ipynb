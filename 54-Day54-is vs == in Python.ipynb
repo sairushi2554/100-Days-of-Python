{
 "cells": [
  {
   "cell_type": "markdown",
   "id": "eb4e23a9",
   "metadata": {},
   "source": [
    "\n",
    "# `is` vs `==` in Python\n",
    "\n",
    "Understanding the difference between `is` and `==` is crucial in Python, especially when dealing with objects, lists, and custom data types.\n",
    "\n",
    "- `==` compares **values** of two variables (do they look the same?).\n",
    "- `is` compares **identities** of two variables (are they the exact same object in memory?).\n"
   ]
  },
  {
   "cell_type": "code",
   "execution_count": 2,
   "id": "5869da75",
   "metadata": {},
   "outputs": [
    {
     "name": "stdout",
     "output_type": "stream",
     "text": [
      "a == b: True\n",
      "a is b: False\n"
     ]
    }
   ],
   "source": [
    "\n",
    "a = [1, 2, 3]\n",
    "b = [1, 2, 3]\n",
    "\n",
    "print(\"a == b:\", a == b)   # True, because the values are the same\n",
    "print(\"a is b:\", a is b)   # False, because they are not the same object in memory\n"
   ]
  },
  {
   "cell_type": "code",
   "execution_count": 3,
   "id": "32276c35",
   "metadata": {},
   "outputs": [
    {
     "name": "stdout",
     "output_type": "stream",
     "text": [
      "id(a): 1921091296896\n",
      "id(b): 1921091296832\n"
     ]
    }
   ],
   "source": [
    "\n",
    "print(\"id(a):\", id(a))\n",
    "print(\"id(b):\", id(b))\n"
   ]
  },
  {
   "cell_type": "code",
   "execution_count": 4,
   "id": "e7b025cc",
   "metadata": {},
   "outputs": [
    {
     "name": "stdout",
     "output_type": "stream",
     "text": [
      "x == y: True\n",
      "x is y: False\n"
     ]
    }
   ],
   "source": [
    "\n",
    "x = 1000\n",
    "y = 1000\n",
    "\n",
    "print(\"x == y:\", x == y)   # True, values are equal\n",
    "print(\"x is y:\", x is y)   # May be False, due to integer caching not applying beyond certain range\n"
   ]
  },
  {
   "cell_type": "code",
   "execution_count": 5,
   "id": "c7ef0b45",
   "metadata": {},
   "outputs": [
    {
     "name": "stdout",
     "output_type": "stream",
     "text": [
      "a == b: True\n",
      "a is b: True\n",
      "s1 == s2: True\n",
      "s1 is s2: True\n"
     ]
    }
   ],
   "source": [
    "\n",
    "a = 10\n",
    "b = 10\n",
    "\n",
    "print(\"a == b:\", a == b)\n",
    "print(\"a is b:\", a is b)   # True due to integer interning\n",
    "\n",
    "s1 = \"hello\"\n",
    "s2 = \"hello\"\n",
    "\n",
    "print(\"s1 == s2:\", s1 == s2)\n",
    "print(\"s1 is s2:\", s1 is s2)   # True due to string interning\n"
   ]
  },
  {
   "cell_type": "code",
   "execution_count": 6,
   "id": "ab6f3012",
   "metadata": {},
   "outputs": [
    {
     "name": "stdout",
     "output_type": "stream",
     "text": [
      "obj1 == obj2: False\n",
      "obj1 is obj2: False\n"
     ]
    }
   ],
   "source": [
    "\n",
    "class MyClass:\n",
    "    def __init__(self, value):\n",
    "        self.value = value\n",
    "\n",
    "obj1 = MyClass(10)\n",
    "obj2 = MyClass(10)\n",
    "\n",
    "print(\"obj1 == obj2:\", obj1 == obj2)  # False, unless __eq__ is defined\n",
    "print(\"obj1 is obj2:\", obj1 is obj2)  # False\n"
   ]
  },
  {
   "cell_type": "code",
   "execution_count": 7,
   "id": "d82d3d88",
   "metadata": {},
   "outputs": [
    {
     "name": "stdout",
     "output_type": "stream",
     "text": [
      "obj1 == obj2: True\n",
      "obj1 is obj2: False\n"
     ]
    }
   ],
   "source": [
    "\n",
    "class MyClass:\n",
    "    def __init__(self, value):\n",
    "        self.value = value\n",
    "\n",
    "    def __eq__(self, other):\n",
    "        return self.value == other.value\n",
    "\n",
    "obj1 = MyClass(10)\n",
    "obj2 = MyClass(10)\n",
    "\n",
    "print(\"obj1 == obj2:\", obj1 == obj2)  # True now\n",
    "print(\"obj1 is obj2:\", obj1 is obj2)  # Still False\n"
   ]
  },
  {
   "cell_type": "markdown",
   "id": "eecb4078",
   "metadata": {},
   "source": [
    "\n",
    "## Summary\n",
    "\n",
    "- Use `==` to compare values.\n",
    "- Use `is` to check object identity.\n",
    "- For custom classes, implement `__eq__` to define equality behavior.\n"
   ]
  }
 ],
 "metadata": {
  "kernelspec": {
   "display_name": "Python 3 (ipykernel)",
   "language": "python",
   "name": "python3"
  },
  "language_info": {
   "codemirror_mode": {
    "name": "ipython",
    "version": 3
   },
   "file_extension": ".py",
   "mimetype": "text/x-python",
   "name": "python",
   "nbconvert_exporter": "python",
   "pygments_lexer": "ipython3",
   "version": "3.12.4"
  }
 },
 "nbformat": 4,
 "nbformat_minor": 5
}
