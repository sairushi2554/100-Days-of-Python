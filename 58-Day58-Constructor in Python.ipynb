{
 "cells": [
  {
   "cell_type": "markdown",
   "id": "9de483f3",
   "metadata": {},
   "source": [
    "# Constructors in Python: From Basic to Advanced"
   ]
  },
  {
   "cell_type": "markdown",
   "id": "399b6e6d",
   "metadata": {},
   "source": [
    "\n",
    "In Python, constructors are special methods used to initialize newly created objects. The most commonly used constructor in Python is the `__init__` method. This notebook will walk you through constructors from basic to advanced usage with explanations and examples.\n"
   ]
  },
  {
   "cell_type": "markdown",
   "id": "769cdcf7",
   "metadata": {},
   "source": [
    "## 1. Basic Constructor"
   ]
  },
  {
   "cell_type": "markdown",
   "id": "b262f5c0",
   "metadata": {},
   "source": [
    "\n",
    "The basic constructor in Python is defined using the `__init__` method. This method is automatically called when a new object is created from a class.\n"
   ]
  },
  {
   "cell_type": "code",
   "execution_count": null,
   "id": "f035bfdd",
   "metadata": {},
   "outputs": [],
   "source": [
    "\n",
    "class Person:\n",
    "    def __init__(self, name, age):\n",
    "        self.name = name\n",
    "        self.age = age\n",
    "\n",
    "# Creating an object\n",
    "person1 = Person(\"Alice\", 30)\n",
    "\n",
    "print(f\"Name: {person1.name}, Age: {person1.age}\")\n"
   ]
  },
  {
   "cell_type": "markdown",
   "id": "deab4432",
   "metadata": {},
   "source": [
    "## 2. Constructor with Default Arguments"
   ]
  },
  {
   "cell_type": "markdown",
   "id": "1adad50e",
   "metadata": {},
   "source": [
    "\n",
    "Python allows you to set default values for constructor arguments.\n"
   ]
  },
  {
   "cell_type": "code",
   "execution_count": null,
   "id": "f4ea3bb7",
   "metadata": {},
   "outputs": [],
   "source": [
    "\n",
    "class Student:\n",
    "    def __init__(self, name=\"Unknown\", grade=\"Not Assigned\"):\n",
    "        self.name = name\n",
    "        self.grade = grade\n",
    "\n",
    "# Creating objects\n",
    "student1 = Student()\n",
    "student2 = Student(\"John\", \"A\")\n",
    "\n",
    "print(f\"Student 1: {student1.name}, Grade: {student1.grade}\")\n",
    "print(f\"Student 2: {student2.name}, Grade: {student2.grade}\")\n"
   ]
  },
  {
   "cell_type": "markdown",
   "id": "d8bd7583",
   "metadata": {},
   "source": [
    "## 3. Emulating Constructor Overloading"
   ]
  },
  {
   "cell_type": "markdown",
   "id": "67a7f363",
   "metadata": {},
   "source": [
    "\n",
    "Python does not support method overloading by default. However, you can emulate it using default arguments or variable-length arguments (`*args`, `**kwargs`).\n"
   ]
  },
  {
   "cell_type": "code",
   "execution_count": null,
   "id": "9a353b5f",
   "metadata": {},
   "outputs": [],
   "source": [
    "\n",
    "class Book:\n",
    "    def __init__(self, *args):\n",
    "        if len(args) == 1:\n",
    "            self.title = args[0]\n",
    "            self.author = \"Unknown\"\n",
    "        elif len(args) == 2:\n",
    "            self.title = args[0]\n",
    "            self.author = args[1]\n",
    "        else:\n",
    "            self.title = \"Untitled\"\n",
    "            self.author = \"Unknown\"\n",
    "\n",
    "book1 = Book(\"Python 101\")\n",
    "book2 = Book(\"Advanced Python\", \"John Doe\")\n",
    "\n",
    "print(f\"Book 1: {book1.title}, Author: {book1.author}\")\n",
    "print(f\"Book 2: {book2.title}, Author: {book2.author}\")\n"
   ]
  },
  {
   "cell_type": "markdown",
   "id": "1a4540ca",
   "metadata": {},
   "source": [
    "## 4. Private Constructor (Using Singleton Pattern)"
   ]
  },
  {
   "cell_type": "markdown",
   "id": "85043c62",
   "metadata": {},
   "source": [
    "\n",
    "Python doesn't support private constructors like Java or C++, but you can achieve similar behavior using design patterns like Singleton.\n"
   ]
  },
  {
   "cell_type": "code",
   "execution_count": null,
   "id": "eccc86cb",
   "metadata": {},
   "outputs": [],
   "source": [
    "\n",
    "class Singleton:\n",
    "    __instance = None\n",
    "\n",
    "    def __new__(cls):\n",
    "        if Singleton.__instance is None:\n",
    "            Singleton.__instance = super(Singleton, cls).__new__(cls)\n",
    "        return Singleton.__instance\n",
    "\n",
    "# Creating multiple objects\n",
    "s1 = Singleton()\n",
    "s2 = Singleton()\n",
    "\n",
    "print(f\"Are both instances the same? {'Yes' if s1 is s2 else 'No'}\")\n"
   ]
  },
  {
   "cell_type": "markdown",
   "id": "f66099b7",
   "metadata": {},
   "source": [
    "## 5. Class Method as Alternative Constructor"
   ]
  },
  {
   "cell_type": "markdown",
   "id": "758fd31f",
   "metadata": {},
   "source": [
    "\n",
    "You can use class methods as alternative constructors to initialize objects in different ways.\n"
   ]
  },
  {
   "cell_type": "code",
   "execution_count": null,
   "id": "9e8a19a0",
   "metadata": {},
   "outputs": [],
   "source": [
    "\n",
    "class Employee:\n",
    "    def __init__(self, name, salary):\n",
    "        self.name = name\n",
    "        self.salary = salary\n",
    "\n",
    "    @classmethod\n",
    "    def from_string(cls, emp_str):\n",
    "        name, salary = emp_str.split(\",\")\n",
    "        return cls(name, int(salary))\n",
    "\n",
    "emp1 = Employee.from_string(\"Alice,70000\")\n",
    "print(f\"Employee: {emp1.name}, Salary: {emp1.salary}\")\n"
   ]
  },
  {
   "cell_type": "markdown",
   "id": "083ea629",
   "metadata": {},
   "source": [
    "## Conclusion"
   ]
  },
  {
   "cell_type": "markdown",
   "id": "f536f005",
   "metadata": {},
   "source": [
    "\n",
    "Constructors in Python are versatile and allow for various ways of initializing objects. From basic initialization to advanced patterns, understanding constructors is essential for effective class design.\n"
   ]
  }
 ],
 "metadata": {},
 "nbformat": 4,
 "nbformat_minor": 5
}
