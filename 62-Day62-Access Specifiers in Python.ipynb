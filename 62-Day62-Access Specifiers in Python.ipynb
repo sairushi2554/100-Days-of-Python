{
 "cells": [
  {
   "cell_type": "markdown",
   "id": "d9bf53b9",
   "metadata": {},
   "source": [
    "# Access Specifiers in Python\n",
    "\n",
    "Access specifiers (also known as access modifiers) define how the members (attributes and methods) of a class can be accessed. Python supports three types of access specifiers:\n",
    "\n",
    "1. Public\n",
    "2. Protected\n",
    "3. Private"
   ]
  },
  {
   "cell_type": "markdown",
   "id": "6d4356ac",
   "metadata": {},
   "source": [
    "## 1. Public Members\n",
    "\n",
    "Public members can be accessed from anywhere inside or outside the class."
   ]
  },
  {
   "cell_type": "code",
   "execution_count": null,
   "id": "89693f86",
   "metadata": {},
   "outputs": [],
   "source": [
    "# Example of public members\n",
    "class MyClass:\n",
    "    def __init__(self):\n",
    "        self.name = \"Public Member\"\n",
    "\n",
    "obj = MyClass()\n",
    "print(obj.name)  # Accessible directly"
   ]
  },
  {
   "cell_type": "markdown",
   "id": "9dbc284a",
   "metadata": {},
   "source": [
    "## 2. Protected Members\n",
    "\n",
    "Protected members are intended to be accessible within the class and its subclasses. They are prefixed with a single underscore `_`."
   ]
  },
  {
   "cell_type": "code",
   "execution_count": null,
   "id": "bb8d51f5",
   "metadata": {},
   "outputs": [],
   "source": [
    "# Example of protected members\n",
    "class MyClass:\n",
    "    def __init__(self):\n",
    "        self._name = \"Protected Member\"\n",
    "\n",
    "class SubClass(MyClass):\n",
    "    def access_protected(self):\n",
    "        print(\"Accessing protected:\", self._name)\n",
    "\n",
    "obj = SubClass()\n",
    "obj.access_protected()\n",
    "print(obj._name)  # Still accessible, but not recommended"
   ]
  },
  {
   "cell_type": "markdown",
   "id": "b39f352c",
   "metadata": {},
   "source": [
    "## 3. Private Members\n",
    "\n",
    "Private members are accessible only within the class and are prefixed with double underscores `__`."
   ]
  },
  {
   "cell_type": "code",
   "execution_count": null,
   "id": "c571335f",
   "metadata": {},
   "outputs": [],
   "source": [
    "# Example of private members\n",
    "class MyClass:\n",
    "    def __init__(self):\n",
    "        self.__name = \"Private Member\"\n",
    "\n",
    "    def access_private(self):\n",
    "        return self.__name\n",
    "\n",
    "obj = MyClass()\n",
    "print(obj.access_private())  # Accessible through class method\n",
    "# print(obj.__name)  # Raises AttributeError\n",
    "\n",
    "# But still accessible using name mangling\n",
    "print(obj._MyClass__name)"
   ]
  },
  {
   "cell_type": "markdown",
   "id": "21dbd11f",
   "metadata": {},
   "source": [
    "## 4. Summary and Best Practices\n",
    "\n",
    "- **Public** (`name`): Use for members meant to be used freely.\n",
    "- **Protected** (`_name`): Use to indicate internal use, but not strictly enforced.\n",
    "- **Private** (`__name`): Use for strict encapsulation.\n",
    "\n",
    "Note: Python does not enforce access restrictions strictly. These are more about conventions."
   ]
  }
 ],
 "metadata": {
  "kernelspec": {
   "display_name": "Python 3 (ipykernel)",
   "language": "python",
   "name": "python3"
  },
  "language_info": {
   "codemirror_mode": {
    "name": "ipython",
    "version": 3
   },
   "file_extension": ".py",
   "mimetype": "text/x-python",
   "name": "python",
   "nbconvert_exporter": "python",
   "pygments_lexer": "ipython3",
   "version": "3.12.4"
  }
 },
 "nbformat": 4,
 "nbformat_minor": 5
}
