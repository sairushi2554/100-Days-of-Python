{
 "cells": [
  {
   "cell_type": "markdown",
   "id": "c17a6c05-9c97-40cd-82e3-9371ebfa887b",
   "metadata": {},
   "source": [
    "# Python List Methods\n",
    "\n",
    "Python provides a variety of **built-in methods** to work with **lists**, making it easier to **add, remove, modify, and manipulate** list elements efficiently. These methods help in performing common list operations such as **sorting, filtering, copying, iterating**, and more.\n",
    "\n",
    "Below is a comprehensive list of commonly used **list methods** in Python, along with their descriptions:\n"
   ]
  },
  {
   "cell_type": "code",
   "execution_count": 2,
   "id": "cafbd955-dcf8-43fe-8568-2db53ddb8737",
   "metadata": {},
   "outputs": [],
   "source": [
    "numbers = [1, 2, 3, 4, 5]  # List of integers\n",
    "fruits = [\"apple\", \"banana\", \"cherry\"]  # List of strings\n",
    "mixed = [1, \"hello\", 3.14, True]  # Mixed data types\n",
    "nested = [[1, 2], [3, 4]]  # Nested list"
   ]
  },
  {
   "cell_type": "markdown",
   "id": "5e13ca90-54fd-43f5-b3cb-99d9c7c75e3e",
   "metadata": {},
   "source": [
    "### Accessing Elements in a List\n",
    "Lists use zero-based indexing."
   ]
  },
  {
   "cell_type": "code",
   "execution_count": 4,
   "id": "29901343-ce69-4fc0-9de4-dcd8e31406eb",
   "metadata": {},
   "outputs": [
    {
     "name": "stdout",
     "output_type": "stream",
     "text": [
      "1\n",
      "cherry\n",
      "3\n"
     ]
    }
   ],
   "source": [
    "print(numbers[0])  # First element: 1\n",
    "print(fruits[-1])  # Last element: \"cherry\"\n",
    "print(nested[1][0])  # Accessing nested list element: 3"
   ]
  },
  {
   "cell_type": "markdown",
   "id": "c4fefc87-607a-470f-9f86-5f31a2fb3746",
   "metadata": {},
   "source": [
    "### `len()` – Get the length of a list\n",
    "The `len()` function returns the total number of elements in a list."
   ]
  },
  {
   "cell_type": "code",
   "execution_count": 6,
   "id": "143ee401-b947-4837-b72d-c92101601b28",
   "metadata": {},
   "outputs": [
    {
     "name": "stdout",
     "output_type": "stream",
     "text": [
      "5\n"
     ]
    }
   ],
   "source": [
    "numbers = [10, 20, 30, 40, 50]\n",
    "print(len(numbers))  # Output: 5"
   ]
  },
  {
   "cell_type": "markdown",
   "id": "6fa6bcc3-8de0-4913-8099-4c583a5c1bdb",
   "metadata": {},
   "source": [
    "### **Negative Indexing** – Access elements from the end of a list\n",
    "Negative indices allow accessing elements from the end of the list."
   ]
  },
  {
   "cell_type": "code",
   "execution_count": 8,
   "id": "f66a7ddd-67ec-489a-965f-d0e8ac6594d2",
   "metadata": {},
   "outputs": [
    {
     "name": "stdout",
     "output_type": "stream",
     "text": [
      "50\n",
      "40\n"
     ]
    }
   ],
   "source": [
    "numbers = [10, 20, 30, 40, 50]\n",
    "print(numbers[-1])  # Output: 50 (last element)\n",
    "print(numbers[-2])  # Output: 40 (second-last element)"
   ]
  },
  {
   "cell_type": "markdown",
   "id": "07037e9a-0541-46f4-800e-91016c19c5c2",
   "metadata": {},
   "source": [
    "### **Negative Slicing** – Extract elements using negative indices\n",
    "Slicing allows retrieving a subset of a list, and negative indices work as well."
   ]
  },
  {
   "cell_type": "code",
   "execution_count": 10,
   "id": "8dc24735-62e8-491f-a4f0-ef09da797b34",
   "metadata": {},
   "outputs": [
    {
     "name": "stdout",
     "output_type": "stream",
     "text": [
      "[30, 40, 50]\n",
      "[10, 20, 30]\n",
      "[50, 40, 30, 20, 10]\n"
     ]
    }
   ],
   "source": [
    "numbers = [10, 20, 30, 40, 50]\n",
    "print(numbers[-3:])   # Output: [30, 40, 50] (last three elements)\n",
    "print(numbers[:-2])   # Output: [10, 20, 30] (excluding last two)\n",
    "print(numbers[::-1])  # Output: [50, 40, 30, 20, 10] (reversed list)"
   ]
  },
  {
   "cell_type": "markdown",
   "id": "17f263b0-f09b-4574-a242-e5d4f8c3fd01",
   "metadata": {},
   "source": [
    "### Modifying a List\n",
    "Lists are mutable, meaning you can change elements."
   ]
  },
  {
   "cell_type": "code",
   "execution_count": 12,
   "id": "8b392140-11c8-4dde-8d19-f94e99ef5ed9",
   "metadata": {},
   "outputs": [
    {
     "name": "stdout",
     "output_type": "stream",
     "text": [
      "[10, 20, 10, 40, 50]\n"
     ]
    }
   ],
   "source": [
    "numbers[2] = 10  # Changing third element\n",
    "print(numbers)  # Output: [1, 2, 10, 4, 5]"
   ]
  },
  {
   "cell_type": "code",
   "execution_count": 13,
   "id": "85809ed6-8766-40c9-8212-a9d056989867",
   "metadata": {},
   "outputs": [
    {
     "name": "stdout",
     "output_type": "stream",
     "text": [
      "[0, 20, 10, 40, 50]\n",
      "[0, 20, 10, 40, 50]\n"
     ]
    }
   ],
   "source": [
    "m = numbers  # here it takes just reference and makes changes to original list also\n",
    "m[0] = 0\n",
    "print(numbers)\n",
    "print(m)   # instead of this we use copy()"
   ]
  },
  {
   "cell_type": "markdown",
   "id": "608c2ca5-e4e7-4e85-9f49-0fbbcb8b7b6f",
   "metadata": {},
   "source": [
    "### 1. `append()` – Add an element to the end of the list"
   ]
  },
  {
   "cell_type": "code",
   "execution_count": 15,
   "id": "841096ed-dfec-41bd-8e4c-cfba8dfb1f31",
   "metadata": {},
   "outputs": [
    {
     "name": "stdout",
     "output_type": "stream",
     "text": [
      "[1, 2, 3, 4]\n"
     ]
    }
   ],
   "source": [
    "numbers = [1, 2, 3]\n",
    "numbers.append(4)\n",
    "print(numbers)  # Output: [1, 2, 3, 4]"
   ]
  },
  {
   "cell_type": "markdown",
   "id": "f4f86bf5-299d-4767-8e4f-d93adaec5ba2",
   "metadata": {},
   "source": [
    "### 2. `insert()` – Insert an element at a specific position"
   ]
  },
  {
   "cell_type": "code",
   "execution_count": 17,
   "id": "487f2b05-1119-4977-82b7-5c86eea25520",
   "metadata": {},
   "outputs": [
    {
     "name": "stdout",
     "output_type": "stream",
     "text": [
      "[1, 99, 2, 3, 4]\n"
     ]
    }
   ],
   "source": [
    "numbers.insert(1, 99)  # Insert 99 at index 1\n",
    "print(numbers)  # Output: [1, 99, 2, 3, 4]"
   ]
  },
  {
   "cell_type": "markdown",
   "id": "91e23588-5e8b-41cd-aa3b-33368d5efdf5",
   "metadata": {},
   "source": [
    "### 3. `remove()` – Remove the first occurrence of a value"
   ]
  },
  {
   "cell_type": "code",
   "execution_count": 19,
   "id": "189191b7-9a02-49f4-8355-291ca7378543",
   "metadata": {},
   "outputs": [
    {
     "name": "stdout",
     "output_type": "stream",
     "text": [
      "[1, 2, 3, 4]\n"
     ]
    }
   ],
   "source": [
    "numbers.remove(99)  # Removes the first occurrence of 99\n",
    "print(numbers)  # Output: [1, 2, 3, 4]"
   ]
  },
  {
   "cell_type": "markdown",
   "id": "c02c51da-34af-4612-b5a7-a379564335b5",
   "metadata": {},
   "source": [
    "### 4. `pop()` – Remove and return an element (default is the last)"
   ]
  },
  {
   "cell_type": "code",
   "execution_count": 21,
   "id": "66bdca22-33da-42bb-8235-c1bbd06a33e0",
   "metadata": {},
   "outputs": [
    {
     "name": "stdout",
     "output_type": "stream",
     "text": [
      "4\n",
      "[1, 2, 3]\n"
     ]
    }
   ],
   "source": [
    "last_element = numbers.pop()\n",
    "print(last_element)  # Output: 4\n",
    "print(numbers)  # Output: [1, 2, 3]"
   ]
  },
  {
   "cell_type": "code",
   "execution_count": 22,
   "id": "f2ed701b-2963-41cd-bf4b-994d3006cca1",
   "metadata": {},
   "outputs": [
    {
     "name": "stdout",
     "output_type": "stream",
     "text": [
      "2\n"
     ]
    }
   ],
   "source": [
    "second_element = numbers.pop(1)  # Remove element at index 1\n",
    "print(second_element)  # Output: 2"
   ]
  },
  {
   "cell_type": "markdown",
   "id": "f1ad9b82-d9eb-4768-8b25-13a8213d21bb",
   "metadata": {},
   "source": [
    "### 5. `count()` – Count occurrences of a value"
   ]
  },
  {
   "cell_type": "code",
   "execution_count": 24,
   "id": "bc5e0db3-f2a6-49da-a978-d5269a04a19c",
   "metadata": {},
   "outputs": [
    {
     "name": "stdout",
     "output_type": "stream",
     "text": [
      "3\n"
     ]
    }
   ],
   "source": [
    "numbers = [1, 2, 3, 2, 2, 4]\n",
    "print(numbers.count(2))  # Output: 3 (2 appears three times)"
   ]
  },
  {
   "cell_type": "markdown",
   "id": "d8fdb9e9-6d94-4c02-acbe-dfedb8309da4",
   "metadata": {},
   "source": [
    "### 6. `index()` – Find the first occurrence index of a value"
   ]
  },
  {
   "cell_type": "code",
   "execution_count": 26,
   "id": "ba9a978b-1fcb-4209-949f-011ccf8090d0",
   "metadata": {},
   "outputs": [
    {
     "name": "stdout",
     "output_type": "stream",
     "text": [
      "2\n"
     ]
    }
   ],
   "source": [
    "print(numbers.index(3))  # Output: 2 (position of first 3)"
   ]
  },
  {
   "cell_type": "code",
   "execution_count": 27,
   "id": "9e418c15-c7e8-4fa0-ae2b-01ce97ecf1e5",
   "metadata": {},
   "outputs": [
    {
     "name": "stdout",
     "output_type": "stream",
     "text": [
      "3\n"
     ]
    }
   ],
   "source": [
    "print(numbers.index(2, 2))  # Find 2 starting from index 2 (Output: 3)"
   ]
  },
  {
   "cell_type": "markdown",
   "id": "c6826b97-a4ae-4017-8f73-1eaac1f400a3",
   "metadata": {},
   "source": [
    "### 7. `sort()` – Sort the list in ascending order"
   ]
  },
  {
   "cell_type": "code",
   "execution_count": 29,
   "id": "091b21d7-23f7-4efc-81f1-411fcb4beb14",
   "metadata": {},
   "outputs": [
    {
     "name": "stdout",
     "output_type": "stream",
     "text": [
      "[1, 2, 2, 2, 3, 4]\n"
     ]
    }
   ],
   "source": [
    "numbers.sort() # reverse = True\n",
    "print(numbers)  # Output: [1, 2, 2, 2, 3, 4]"
   ]
  },
  {
   "cell_type": "markdown",
   "id": "0deaf0ec-7a20-43de-b706-6b8b53fbf85e",
   "metadata": {},
   "source": [
    "### 8. `reverse()` – Reverse the order of elements"
   ]
  },
  {
   "cell_type": "code",
   "execution_count": 31,
   "id": "0b8681b1-0836-43bd-86f5-b5aef15c13fe",
   "metadata": {},
   "outputs": [
    {
     "name": "stdout",
     "output_type": "stream",
     "text": [
      "[4, 3, 2, 2, 2, 1]\n"
     ]
    }
   ],
   "source": [
    "numbers.reverse()\n",
    "print(numbers)  # Output: [4, 3, 2, 2, 2, 1]"
   ]
  },
  {
   "cell_type": "markdown",
   "id": "9ad81372-79ea-406e-b108-9288e6c591ef",
   "metadata": {},
   "source": [
    "### 9. `copy()` – Create a shallow copy of the list"
   ]
  },
  {
   "cell_type": "code",
   "execution_count": 33,
   "id": "d89fd28f-ef5a-4749-bc69-b12db3b0b148",
   "metadata": {},
   "outputs": [
    {
     "name": "stdout",
     "output_type": "stream",
     "text": [
      "[1, 2, 3]\n",
      "[1, 2, 3, 4]\n"
     ]
    }
   ],
   "source": [
    "original = [1, 2, 3]\n",
    "copied = original.copy()\n",
    "copied.append(4)\n",
    "print(original)  # Output: [1, 2, 3] (unchanged)\n",
    "print(copied)  # Output: [1, 2, 3, 4]"
   ]
  },
  {
   "cell_type": "code",
   "execution_count": 34,
   "id": "eaf8cd01-69b4-4daa-b213-46b84260ca67",
   "metadata": {},
   "outputs": [
    {
     "name": "stdout",
     "output_type": "stream",
     "text": [
      "[[1, 2], [3, 4]]\n"
     ]
    }
   ],
   "source": [
    "import copy\n",
    "nested = [[1, 2], [3, 4]]\n",
    "copy1 = copy.deepcopy(nested)  # Deep copy for nested lists\n",
    "print(copy1)"
   ]
  },
  {
   "cell_type": "markdown",
   "id": "c10212b4-ae50-43fa-b0be-6465afa069a2",
   "metadata": {},
   "source": [
    "### 10. `clear()` – Remove all elements from the list"
   ]
  },
  {
   "cell_type": "code",
   "execution_count": 36,
   "id": "9ea58f5e-20e0-4ac9-ae06-37494efebcde",
   "metadata": {},
   "outputs": [
    {
     "name": "stdout",
     "output_type": "stream",
     "text": [
      "[]\n"
     ]
    }
   ],
   "source": [
    "numbers.clear()\n",
    "print(numbers)  # Output: []"
   ]
  },
  {
   "cell_type": "markdown",
   "id": "9d3e49cf-980a-4c6d-b29c-730b0a1d19e4",
   "metadata": {},
   "source": [
    "### 11. `extend()` – Extend a list by adding another iterable"
   ]
  },
  {
   "cell_type": "code",
   "execution_count": 38,
   "id": "6ebdba3c-7485-4141-b66e-9a4dedf4ff68",
   "metadata": {},
   "outputs": [
    {
     "name": "stdout",
     "output_type": "stream",
     "text": [
      "[1, 2, 3, 4, 5, 6]\n"
     ]
    }
   ],
   "source": [
    "list1 = [1, 2, 3]\n",
    "list2 = [4, 5, 6]\n",
    "list1.extend(list2)\n",
    "print(list1)  # Output: [1, 2, 3, 4, 5, 6]\n",
    "\n",
    "# Tip: This is faster than list1 + list2 for large lists."
   ]
  },
  {
   "cell_type": "markdown",
   "id": "c79d9a2c-7bd7-4c73-b40f-c7bf6fdbeb3b",
   "metadata": {},
   "source": [
    "### 12. `del` – Delete elements by index or slice"
   ]
  },
  {
   "cell_type": "code",
   "execution_count": 40,
   "id": "a91feb74-63a7-4926-a89b-9c81b73455a1",
   "metadata": {},
   "outputs": [],
   "source": [
    "# del numbers[1]  # Delete element at index 1\n",
    "# del numbers[:]  # Delete all elements"
   ]
  },
  {
   "cell_type": "markdown",
   "id": "06c17f8f-02c6-44be-9004-dad38a934084",
   "metadata": {},
   "source": [
    "### 13. `list comprehension` – Create lists dynamically"
   ]
  },
  {
   "cell_type": "code",
   "execution_count": 42,
   "id": "8b7df9c1-5176-41db-b36a-520ff425603e",
   "metadata": {},
   "outputs": [
    {
     "name": "stdout",
     "output_type": "stream",
     "text": [
      "[0, 1, 4, 9, 16]\n"
     ]
    }
   ],
   "source": [
    "squares = [x**2 for x in range(5)]\n",
    "print(squares)  # Output: [0, 1, 4, 9, 16]"
   ]
  },
  {
   "cell_type": "code",
   "execution_count": 43,
   "id": "7a5e8f04-3ff1-46d3-88b6-cf4cffec38ac",
   "metadata": {},
   "outputs": [
    {
     "name": "stdout",
     "output_type": "stream",
     "text": [
      "[0, 2, 4, 6, 8]\n"
     ]
    }
   ],
   "source": [
    "evens = [x for x in range(10) if x % 2 == 0]\n",
    "print(evens)  # Output: [0, 2, 4, 6, 8]"
   ]
  },
  {
   "cell_type": "markdown",
   "id": "7c82d6dd-86eb-4128-a999-6e98e533b0f0",
   "metadata": {},
   "source": [
    "### 14. `enumerate()` – Iterate with index and value"
   ]
  },
  {
   "cell_type": "code",
   "execution_count": 45,
   "id": "6d1b05fe-0ade-455c-8333-7a30d63a8437",
   "metadata": {},
   "outputs": [
    {
     "name": "stdout",
     "output_type": "stream",
     "text": [
      "Index 0: apple\n",
      "Index 1: banana\n",
      "Index 2: cherry\n"
     ]
    }
   ],
   "source": [
    "fruits = [\"apple\", \"banana\", \"cherry\"]\n",
    "for index, value in enumerate(fruits):\n",
    "    print(f\"Index {index}: {value}\")"
   ]
  },
  {
   "cell_type": "markdown",
   "id": "35e34e90-9246-4da1-ad37-d7b69f920131",
   "metadata": {},
   "source": [
    "### 15. `zip()` – Combine multiple lists element-wise"
   ]
  },
  {
   "cell_type": "code",
   "execution_count": 47,
   "id": "74434b67-cf3d-4759-b7aa-e9462755221e",
   "metadata": {},
   "outputs": [
    {
     "name": "stdout",
     "output_type": "stream",
     "text": [
      "[('Alice', 25), ('Bob', 30), ('Charlie', 35)]\n"
     ]
    }
   ],
   "source": [
    "names = [\"Alice\", \"Bob\", \"Charlie\"]\n",
    "ages = [25, 30, 35]\n",
    "combined = list(zip(names, ages))\n",
    "print(combined)  # Output: [('Alice', 25), ('Bob', 30), ('Charlie', 35)]"
   ]
  },
  {
   "cell_type": "markdown",
   "id": "97318f15-a7df-413d-97de-7b578eaec225",
   "metadata": {},
   "source": [
    "### 16. `map()` – Apply a function to each element"
   ]
  },
  {
   "cell_type": "code",
   "execution_count": 49,
   "id": "e6137e9f-d287-4200-b1d5-dbf7c6c34e9c",
   "metadata": {},
   "outputs": [
    {
     "name": "stdout",
     "output_type": "stream",
     "text": [
      "[1, 4, 9, 16]\n"
     ]
    }
   ],
   "source": [
    "numbers = [1, 2, 3, 4]\n",
    "squared_numbers = list(map(lambda x: x**2, numbers))\n",
    "print(squared_numbers)  # Output: [1, 4, 9, 16]"
   ]
  },
  {
   "cell_type": "markdown",
   "id": "cbe0da4c-54a4-4832-b5da-3ff30336fddb",
   "metadata": {},
   "source": [
    "### 17. `filter()` – Filter elements based on a condition"
   ]
  },
  {
   "cell_type": "code",
   "execution_count": 51,
   "id": "5cccba1c-cbd3-43d8-a5f7-8b52455cdb33",
   "metadata": {},
   "outputs": [
    {
     "name": "stdout",
     "output_type": "stream",
     "text": [
      "[2, 4, 6]\n"
     ]
    }
   ],
   "source": [
    "numbers = [1, 2, 3, 4, 5, 6]\n",
    "evens = list(filter(lambda x: x % 2 == 0, numbers))\n",
    "print(evens)  # Output: [2, 4, 6]\n"
   ]
  },
  {
   "cell_type": "markdown",
   "id": "8aa356f1-6d18-4305-a0ae-ec20b3b9ec47",
   "metadata": {},
   "source": [
    "### 18.  `any()` & `all()` – Check conditions in a list"
   ]
  },
  {
   "cell_type": "code",
   "execution_count": 53,
   "id": "804f39ed-98d9-4a02-9f44-f842b83e9d0b",
   "metadata": {},
   "outputs": [
    {
     "name": "stdout",
     "output_type": "stream",
     "text": [
      "True\n",
      "False\n"
     ]
    }
   ],
   "source": [
    "nums = [0, 1, 2, 3]\n",
    "print(any(nums))  # True (at least one non-zero)\n",
    "print(all(nums))  # False (not all are non-zero)"
   ]
  },
  {
   "cell_type": "markdown",
   "id": "0e78ad5d-7ffa-4f29-8de8-63f941dc04a5",
   "metadata": {},
   "source": [
    "### 19. `sorted()` – Return a new sorted list without modifying the original"
   ]
  },
  {
   "cell_type": "code",
   "execution_count": 55,
   "id": "38c9e1eb-7007-43de-8245-1944fed874f0",
   "metadata": {},
   "outputs": [
    {
     "name": "stdout",
     "output_type": "stream",
     "text": [
      "[1, 2, 5, 9]\n",
      "[5, 2, 9, 1]\n"
     ]
    }
   ],
   "source": [
    "numbers = [5, 2, 9, 1]\n",
    "new_sorted = sorted(numbers)  # Keeps original unchanged\n",
    "print(new_sorted)  # Output: [1, 2, 5, 9]\n",
    "print(numbers)  # Output: [5, 2, 9, 1]"
   ]
  },
  {
   "cell_type": "markdown",
   "id": "2e7e3541-0996-4bc5-b5bf-7a05fa4258ec",
   "metadata": {},
   "source": [
    "### 20. `reduce()` – Perform a rolling computation (from `functools`)"
   ]
  },
  {
   "cell_type": "code",
   "execution_count": 57,
   "id": "f8362759-b156-4ac3-9cb6-04548f6ecf6a",
   "metadata": {},
   "outputs": [
    {
     "name": "stdout",
     "output_type": "stream",
     "text": [
      "24\n"
     ]
    }
   ],
   "source": [
    "from functools import reduce\n",
    "numbers = [1, 2, 3, 4]\n",
    "product = reduce(lambda x, y: x * y, numbers)\n",
    "print(product)  # Output: 24"
   ]
  },
  {
   "cell_type": "markdown",
   "id": "b653fe59-bc63-4a12-bde6-4380e79e8f28",
   "metadata": {},
   "source": [
    "## Summary of Python List Methods\n",
    "\n",
    "| **Method**        | **Description**                               |\n",
    "|-------------------|---------------------------------------------|\n",
    "| `append()`       | Add item to end                             |\n",
    "| `insert()`       | Insert item at index                        |\n",
    "| `remove()`       | Remove first occurrence of a value          |\n",
    "| `pop()`          | Remove and return element                   |\n",
    "| `count()`        | Count occurrences of a value                |\n",
    "| `index()`        | Get index of first occurrence               |\n",
    "| `sort()`         | Sort list in ascending order                |\n",
    "| `reverse()`      | Reverse the list                            |\n",
    "| `copy()`         | Create a copy of the list                   |\n",
    "| `clear()`        | Remove all elements                         |\n",
    "| `extend()`       | Extend a list by adding another iterable    |\n",
    "| `del`           | Delete element(s) from a list               |\n",
    "| `list comprehension` | Generate lists dynamically            |\n",
    "| `enumerate()`    | Iterate with index and value                |\n",
    "| `zip()`          | Combine multiple lists element-wise         |\n",
    "| `map()`          | Apply a function to each element            |\n",
    "| `filter()`       | Filter elements based on condition          |\n",
    "| `any(), all()`   | Check conditions in a list                  |\n",
    "| `sorted()`       | Return a new sorted list                    |\n",
    "| `reduce()`       | Perform rolling computation                 |\n"
   ]
  },
  {
   "cell_type": "markdown",
   "id": "169bea37-ebd2-4b0f-bcd4-32e40cde15af",
   "metadata": {},
   "source": [
    "   "
   ]
  }
 ],
 "metadata": {
  "kernelspec": {
   "display_name": "Python 3 (ipykernel)",
   "language": "python",
   "name": "python3"
  },
  "language_info": {
   "codemirror_mode": {
    "name": "ipython",
    "version": 3
   },
   "file_extension": ".py",
   "mimetype": "text/x-python",
   "name": "python",
   "nbconvert_exporter": "python",
   "pygments_lexer": "ipython3",
   "version": "3.12.4"
  }
 },
 "nbformat": 4,
 "nbformat_minor": 5
}
