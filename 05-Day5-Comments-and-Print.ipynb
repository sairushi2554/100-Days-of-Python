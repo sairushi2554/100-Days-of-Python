{
 "cells": [
  {
   "cell_type": "markdown",
   "id": "fde5825a-1983-436e-a5ad-1f0c92cd90a9",
   "metadata": {},
   "source": [
    "## Python Comments"
   ]
  },
  {
   "cell_type": "markdown",
   "id": "737980be-dacc-4985-b87c-d4bb6d1215cd",
   "metadata": {},
   "source": [
    "Today we will talk about Comments, Escape Sequences and little bit more about print statement in Python. We will also throw some light on Escape Sequences"
   ]
  },
  {
   "cell_type": "markdown",
   "id": "3e9f3e8c-57ee-4c5f-970d-8a659d8c96dc",
   "metadata": {},
   "source": [
    "A comment is a part of the coding file that the programmer does not want to execute, rather the programmer uses it to either explain a block of code or to avoid the execution of a specific part of code while testing."
   ]
  },
  {
   "cell_type": "markdown",
   "id": "6ae3d48c-e089-423a-b52f-ccf622b87070",
   "metadata": {},
   "source": [
    "### Single-Line Comments:\n",
    "To write a comment just add a ‘#’ at the start of the line."
   ]
  },
  {
   "cell_type": "code",
   "execution_count": 5,
   "id": "fa8292e7-10ec-4f41-8119-8362d7246bab",
   "metadata": {},
   "outputs": [
    {
     "name": "stdout",
     "output_type": "stream",
     "text": [
      "This is a print statement.\n"
     ]
    }
   ],
   "source": [
    "#This is a 'Single-Line Comment'\n",
    "print(\"This is a print statement.\")"
   ]
  },
  {
   "cell_type": "code",
   "execution_count": 6,
   "id": "69bafef1-7918-4718-96d1-e2d777a3c296",
   "metadata": {},
   "outputs": [
    {
     "name": "stdout",
     "output_type": "stream",
     "text": [
      "Hello World !!!\n"
     ]
    }
   ],
   "source": [
    "print(\"Hello World !!!\") #Printing Hello World"
   ]
  },
  {
   "cell_type": "code",
   "execution_count": 7,
   "id": "a9a4bedd-8268-4e61-9483-da656fedcba4",
   "metadata": {},
   "outputs": [
    {
     "name": "stdout",
     "output_type": "stream",
     "text": [
      "Python Program\n"
     ]
    }
   ],
   "source": [
    "print(\"Python Program\")\n",
    "#print(\"Python Program\")"
   ]
  },
  {
   "cell_type": "markdown",
   "id": "4815d354-1efc-43cd-8ef8-1644eb3f572d",
   "metadata": {},
   "source": [
    "### Multi-Line Comments:\n",
    "To write multi-line comments you can use ‘#’ at each line or you can use the multiline string."
   ]
  },
  {
   "cell_type": "code",
   "execution_count": 9,
   "id": "644e75ba-de27-4c24-830d-d69122452a6d",
   "metadata": {},
   "outputs": [
    {
     "name": "stdout",
     "output_type": "stream",
     "text": [
      "p is greater than 5.\n"
     ]
    }
   ],
   "source": [
    "#It will execute a block of code if a specified condition is true.\n",
    "#If the condition is false then it will execute another block of code.\n",
    "p = 7\n",
    "if (p > 5):\n",
    "    print(\"p is greater than 5.\")\n",
    "else:\n",
    "    print(\"p is not greater than 5.\")"
   ]
  },
  {
   "cell_type": "markdown",
   "id": "f10c49f4-57db-4119-881e-00eae7807e75",
   "metadata": {},
   "source": [
    "-  #### The use of multiline string."
   ]
  },
  {
   "cell_type": "code",
   "execution_count": 11,
   "id": "abc1c231-db83-4e4f-8368-4f6924d6f8a3",
   "metadata": {},
   "outputs": [
    {
     "name": "stdout",
     "output_type": "stream",
     "text": [
      "p is greater than 5.\n"
     ]
    }
   ],
   "source": [
    "\"\"\"This is an if-else statement.\n",
    "It will execute a block of code if a specified condition is true.\n",
    "If the condition is false then it will execute another block of code.\"\"\"\n",
    "p = 17\n",
    "if (p > 5):\n",
    "    print(\"p is greater than 5.\")\n",
    "else:\n",
    "    print(\"p is not greater than 5.\")"
   ]
  },
  {
   "cell_type": "markdown",
   "id": "13b200c6-da0f-4703-887e-da60b8186f7c",
   "metadata": {},
   "source": [
    "### Escape Sequence Characters\n",
    "To insert characters that cannot be directly used in a string, we use an escape sequence character.\n",
    "\n",
    "An escape sequence character is a backslash `\\` followed by the character you want to insert.\n",
    "\n",
    "An example of a character that cannot be directly used in a string is a double quote inside a string that is surrounded by double\n"
   ]
  },
  {
   "cell_type": "code",
   "execution_count": 13,
   "id": "cb48062d-000a-42c4-8e92-2db5f76090f3",
   "metadata": {},
   "outputs": [
    {
     "name": "stdout",
     "output_type": "stream",
     "text": [
      "This will \" execute\n"
     ]
    }
   ],
   "source": [
    "# print(\"This doesnt \"execute\")\n",
    "print(\"This will \\\" execute\")"
   ]
  },
  {
   "cell_type": "markdown",
   "id": "8fdd2ddb-e85a-4d76-9800-11d985443220",
   "metadata": {},
   "source": [
    "#### More on Print statement\n",
    "The syntax of a print statement looks something like this:\n",
    "\n",
    "`print(object(s), sep=separator, end=end, file=file, flush=flush)`"
   ]
  },
  {
   "cell_type": "markdown",
   "id": "c0bcda61-f89f-4fa8-bb2b-c2d03b8daf9b",
   "metadata": {},
   "source": [
    "#### Other Parameters of Print Statement\n",
    "1. object(s): Any object, and as many as you like. Will be converted to string before printed\n",
    "2. sep='separator': Specify how to separate the objects, if there is more than one. Default is `' '`\n",
    "3. end='end': Specify what to print at the end. Default is `'\\n'` (line feed)\n",
    "4. file: An object with a write method. Default is `sys.stdout`\n",
    "\n",
    "Parameters 2 to 4 are optional"
   ]
  },
  {
   "cell_type": "markdown",
   "id": "3245c1f9-efe5-440a-8f25-a939c6c49efe",
   "metadata": {},
   "source": [
    "    "
   ]
  },
  {
   "cell_type": "code",
   "execution_count": 17,
   "id": "02b51a99",
   "metadata": {},
   "outputs": [
    {
     "name": "stdout",
     "output_type": "stream",
     "text": [
      "I am Sairushi Gadakh from India \n",
      "and I am a IAF officer serving my country right now.\n",
      " \"Jai Hind\" \n"
     ]
    }
   ],
   "source": [
    "print(\"I am Sairushi Gadakh from India \\nand I am a IAF officer serving my country right now.\\n \\\"Jai Hind\\\" \") # Escape sequence character"
   ]
  },
  {
   "cell_type": "code",
   "execution_count": 18,
   "id": "e95b3ea6",
   "metadata": {},
   "outputs": [],
   "source": [
    "# print all"
   ]
  },
  {
   "cell_type": "code",
   "execution_count": 19,
   "id": "4865be33",
   "metadata": {},
   "outputs": [
    {
     "name": "stdout",
     "output_type": "stream",
     "text": [
      "I am Sairushi Gadakh from \"India\" \n",
      "and I am a IAF officer serving my country right now.\n"
     ]
    }
   ],
   "source": [
    "print(\"I am Sairushi Gadakh from \\\"India\\\" \\nand I am a IAF officer serving my country right now.\") "
   ]
  },
  {
   "cell_type": "code",
   "execution_count": 20,
   "id": "c1b7ee93",
   "metadata": {},
   "outputs": [
    {
     "name": "stdout",
     "output_type": "stream",
     "text": [
      "I am Sairushi Gadakh from 'India' \n",
      "and I am a IAF officer serving my country right now.\n"
     ]
    }
   ],
   "source": [
    "print(\"I am Sairushi Gadakh from \\'India\\' \\nand I am a IAF officer serving my country right now.\") "
   ]
  },
  {
   "cell_type": "code",
   "execution_count": 21,
   "id": "ea200122",
   "metadata": {},
   "outputs": [
    {
     "name": "stdout",
     "output_type": "stream",
     "text": [
      "wow 3 1000\n"
     ]
    }
   ],
   "source": [
    "print('wow',3,1000)"
   ]
  },
  {
   "cell_type": "code",
   "execution_count": 22,
   "id": "7910b48e",
   "metadata": {},
   "outputs": [
    {
     "name": "stdout",
     "output_type": "stream",
     "text": [
      "wow!3!1000\n"
     ]
    }
   ],
   "source": [
    "print('wow',3,1000,sep='!')"
   ]
  },
  {
   "cell_type": "code",
   "execution_count": 23,
   "id": "72cfa7e2",
   "metadata": {},
   "outputs": [
    {
     "name": "stdout",
     "output_type": "stream",
     "text": [
      "wow!3!1000hahaha\n"
     ]
    }
   ],
   "source": [
    "print('wow',3,1000,sep='!',end=\"hahaha\\n\")"
   ]
  },
  {
   "cell_type": "code",
   "execution_count": 24,
   "id": "4368a752",
   "metadata": {},
   "outputs": [
    {
     "name": "stdout",
     "output_type": "stream",
     "text": [
      "JAI SHREE RAM\n"
     ]
    }
   ],
   "source": [
    "print('JAI SHREE RAM')"
   ]
  },
  {
   "cell_type": "code",
   "execution_count": 25,
   "id": "c3bd0811",
   "metadata": {},
   "outputs": [
    {
     "name": "stdout",
     "output_type": "stream",
     "text": [
      "I want to visit 12 \"Jyotirlinga\".\n"
     ]
    }
   ],
   "source": [
    "print(\"I want to visit 12 \\\"Jyotirlinga\\\".\")"
   ]
  },
  {
   "cell_type": "code",
   "execution_count": null,
   "id": "cfedf98f-9945-4f0e-b1e5-d50ed937a70b",
   "metadata": {},
   "outputs": [],
   "source": []
  },
  {
   "cell_type": "code",
   "execution_count": 26,
   "id": "a5c37044-625f-4fdf-b3b6-092cd7325747",
   "metadata": {},
   "outputs": [
    {
     "name": "stdout",
     "output_type": "stream",
     "text": [
      " Twinkle, twinkle, little star,\n",
      "How I wonder what you are!\n",
      "Up above the world so high,\n",
      "Like a diamond in the sky.\n",
      "\n",
      "When the blazing sun is gone,\n",
      "When he nothing shines upon,\n",
      "Then you show your little light,\n",
      "Twinkle, twinkle, all the night.\n",
      "\n",
      "Then the trav'ller in the dark,\n",
      "Thanks you for your tiny spark,\n",
      "He could not see which way to go,\n",
      "If you did not twinkle so.\n",
      "\n",
      "In the dark blue sky you keep,\n",
      "And often thro' my curtains peep,\n",
      "For you never shut your eye,\n",
      "Till the sun is in the sky.\n",
      "\n",
      "'Tis your bright and tiny spark,\n",
      "Lights the trav'ller in the dark:\n",
      "Tho' I know not what you are,\n",
      "Twinkle, twinkle, little star.\n"
     ]
    }
   ],
   "source": [
    "print(''' Twinkle, twinkle, little star,\n",
    "How I wonder what you are!\n",
    "Up above the world so high,\n",
    "Like a diamond in the sky.\n",
    "\n",
    "When the blazing sun is gone,\n",
    "When he nothing shines upon,\n",
    "Then you show your little light,\n",
    "Twinkle, twinkle, all the night.\n",
    "\n",
    "Then the trav'ller in the dark,\n",
    "Thanks you for your tiny spark,\n",
    "He could not see which way to go,\n",
    "If you did not twinkle so.\n",
    "\n",
    "In the dark blue sky you keep,\n",
    "And often thro' my curtains peep,\n",
    "For you never shut your eye,\n",
    "Till the sun is in the sky.\n",
    "\n",
    "'Tis your bright and tiny spark,\n",
    "Lights the trav'ller in the dark:\n",
    "Tho' I know not what you are,\n",
    "Twinkle, twinkle, little star.''')"
   ]
  }
 ],
 "metadata": {
  "kernelspec": {
   "display_name": "Python 3 (ipykernel)",
   "language": "python",
   "name": "python3"
  },
  "language_info": {
   "codemirror_mode": {
    "name": "ipython",
    "version": 3
   },
   "file_extension": ".py",
   "mimetype": "text/x-python",
   "name": "python",
   "nbconvert_exporter": "python",
   "pygments_lexer": "ipython3",
   "version": "3.12.4"
  }
 },
 "nbformat": 4,
 "nbformat_minor": 5
}
