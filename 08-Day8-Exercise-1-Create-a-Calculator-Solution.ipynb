{
 "cells": [
  {
   "cell_type": "code",
   "execution_count": 1,
   "id": "efa0cf35-e182-4dc6-966e-037d8de44a29",
   "metadata": {},
   "outputs": [
    {
     "name": "stdout",
     "output_type": "stream",
     "text": [
      "The value of 50 + 3 is:  53\n",
      "The value of 50 - 3 is:  47\n",
      "The value of 50 * 3 is:  150\n",
      "The value of 50 / 3 is:  16.666666666666668\n"
     ]
    }
   ],
   "source": [
    "a = 50\n",
    "b = 3\n",
    "\n",
    "print(\"The value of\", a, \"+\", 3, \"is: \", a + b)\n",
    "print(\"The value of\", a, \"-\", 3, \"is: \", a - b)\n",
    "print(\"The value of\", a, \"*\", 3, \"is: \", a * b)\n",
    "print(\"The value of\", a, \"/\", 3, \"is: \", a / b)"
   ]
  },
  {
   "cell_type": "markdown",
   "id": "69b58186-e13d-49e6-9fce-fb6efb093c37",
   "metadata": {},
   "source": [
    "       "
   ]
  },
  {
   "cell_type": "code",
   "execution_count": 3,
   "id": "3e46626d-a4cb-4932-ae9e-58969585a75d",
   "metadata": {},
   "outputs": [
    {
     "name": "stdout",
     "output_type": "stream",
     "text": [
      "********************CALCULATOR********************\n",
      "\n",
      "\n"
     ]
    }
   ],
   "source": [
    "print('********************CALCULATOR********************')\n",
    "print('\\n')"
   ]
  },
  {
   "cell_type": "code",
   "execution_count": 4,
   "id": "0b5de81f-2010-432d-a1e3-c9c096d5ecad",
   "metadata": {},
   "outputs": [
    {
     "name": "stdin",
     "output_type": "stream",
     "text": [
      "Enter the first number : 81\n"
     ]
    }
   ],
   "source": [
    "number_1=float(input('Enter the first number :'))"
   ]
  },
  {
   "cell_type": "code",
   "execution_count": 5,
   "id": "28fc3d26-a426-4189-abb7-5fb7b252a937",
   "metadata": {},
   "outputs": [
    {
     "name": "stdin",
     "output_type": "stream",
     "text": [
      "Enter the second number : 18\n"
     ]
    }
   ],
   "source": [
    "number_2=float(input('Enter the second number :'))"
   ]
  },
  {
   "cell_type": "code",
   "execution_count": 6,
   "id": "1d380490-0fb1-4a76-a1a6-47a09bd4d315",
   "metadata": {},
   "outputs": [
    {
     "name": "stdout",
     "output_type": "stream",
     "text": [
      "Enter + for Addition\n",
      "Enter - for Substraction\n",
      "Enter * for Multiplication\n",
      "Enter / for Division\n",
      "\n"
     ]
    }
   ],
   "source": [
    "print(\"Enter + for Addition\\nEnter - for Substraction\\nEnter * for Multiplication\\nEnter / for Division\\n\")"
   ]
  },
  {
   "cell_type": "code",
   "execution_count": 7,
   "id": "aae5151c-ce3d-467c-b68f-3dc8c97e6bb2",
   "metadata": {},
   "outputs": [
    {
     "name": "stdin",
     "output_type": "stream",
     "text": [
      "Enter Operation : *\n"
     ]
    }
   ],
   "source": [
    "Entered_operation=str(input('Enter Operation :'))"
   ]
  },
  {
   "cell_type": "code",
   "execution_count": 8,
   "id": "a09c0bd7-1b60-4f63-9647-8bd4d2e1a437",
   "metadata": {},
   "outputs": [
    {
     "name": "stdout",
     "output_type": "stream",
     "text": [
      "Multiplication of your first and second number is : 1458.0\n"
     ]
    }
   ],
   "source": [
    "if Entered_operation == '+' :\n",
    "    print('Addition of your first and second number is :',number_1+number_2)\n",
    "elif  Entered_operation == '-' :\n",
    "    print('Substraction of your first and second number is :',number_1-number_2)\n",
    "elif Entered_operation == '*' :\n",
    "    print('Multiplication of your first and second number is :',number_1*number_2)\n",
    "elif Entered_operation == '/' :\n",
    "    print('Division of your first and second number is :',number_1/number_2)\n",
    "else :\n",
    "    print('Invalid Number Entered.')"
   ]
  },
  {
   "cell_type": "markdown",
   "id": "de5acc96-9ba4-4d0c-aed8-73d0cacae4e8",
   "metadata": {},
   "source": [
    "   "
   ]
  }
 ],
 "metadata": {
  "kernelspec": {
   "display_name": "Python 3 (ipykernel)",
   "language": "python",
   "name": "python3"
  },
  "language_info": {
   "codemirror_mode": {
    "name": "ipython",
    "version": 3
   },
   "file_extension": ".py",
   "mimetype": "text/x-python",
   "name": "python",
   "nbconvert_exporter": "python",
   "pygments_lexer": "ipython3",
   "version": "3.12.4"
  }
 },
 "nbformat": 4,
 "nbformat_minor": 5
}
